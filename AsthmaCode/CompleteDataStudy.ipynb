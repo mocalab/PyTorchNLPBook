{
 "cells": [
  {
   "cell_type": "code",
   "execution_count": 3,
   "metadata": {
    "tags": []
   },
   "outputs": [],
   "source": [
    "from  LibraryFunctions import *\n",
    "\n",
    "#from fhir.resources.patient import Patient\n",
    "import pandas as pd \n",
    "import numpy as np \n",
    "import os \n",
    "import re \n",
    "import matplotlib.pyplot as plt \n",
    "import utils \n",
    "import json \n",
    "import seaborn as sns\n",
    "\n",
    "import csv\n",
    "\n",
    "from sklearn.model_selection import train_test_split \n",
    "from sklearn.ensemble import RandomForestClassifier \n",
    "from sklearn.metrics import accuracy_score \n",
    "from sklearn.ensemble import RandomForestRegressor \n",
    "from sklearn.metrics import mean_squared_error\n",
    "\n",
    "from gensim.models import Word2Vec \n",
    "from nltk.tokenize import word_tokenize\n",
    "\n",
    "from sklearn.preprocessing import OneHotEncoder\n",
    "\n",
    "import warnings \n",
    "warnings.filterwarnings(\"ignore\")\n",
    "\n",
    "from collections import Counter \n",
    "import pickle\n",
    "\n",
    "#Data over sampling , augmentation libraries\n",
    "#from imblearn.over_sampling import SMOTE #from imblearn.over_sampling import BorderlineSMOTE #from imblearn.over_sampling import ADASYN\n",
    "\n",
    "import itertools\n",
    "\n",
    "import seaborn as sns \n",
    "from itertools import combinations \n",
    "from collections import defaultdict \n",
    "from sklearn.metrics import confusion_matrix"
   ]
  },
  {
   "cell_type": "code",
   "execution_count": 4,
   "metadata": {
    "tags": []
   },
   "outputs": [],
   "source": [
    "import torch\n",
    "import numpy as np"
   ]
  },
  {
   "cell_type": "code",
   "execution_count": 5,
   "metadata": {
    "tags": []
   },
   "outputs": [],
   "source": [
    "from sklearn.linear_model import LogisticRegression\n",
    "import statsmodels.api as sm"
   ]
  },
  {
   "cell_type": "code",
   "execution_count": 6,
   "metadata": {
    "tags": []
   },
   "outputs": [],
   "source": [
    "from docx import Document\n",
    "from docx.shared import Inches\n",
    "#from docx.enum.text import WD_PA\n"
   ]
  },
  {
   "cell_type": "code",
   "execution_count": 8,
   "metadata": {
    "tags": []
   },
   "outputs": [
    {
     "data": {
      "text/plain": [
       "<docx.text.paragraph.Paragraph at 0x37620d550>"
      ]
     },
     "execution_count": 8,
     "metadata": {},
     "output_type": "execute_result"
    }
   ],
   "source": [
    "# Create a new Word document or open an existing one\n",
    "document = Document()\n",
    "\n",
    "title = document.add_heading('Disparity  in Asthma Treatment', level=1)\n",
    "document.add_page_break()\n",
    "#doc = Document('Report.docx')"
   ]
  },
  {
   "cell_type": "code",
   "execution_count": 6,
   "metadata": {
    "tags": []
   },
   "outputs": [],
   "source": [
    "#Add a picture to a word document\n",
    "def addPicture(fileName,figureNum, figureTitle):\n",
    "    doc.add_picture(fileName, width=Inches(8))\n",
    "    last_paragraph = doc.paragraphs[-1] \n",
    "    last_paragraph.alignment = WD_PARAGRAPH_ALIGNMENT.CENTER\n",
    "\n",
    "    # Add caption\n",
    "    caption = doc.add_paragraph(f'Figure {figureNum} :{figureTitle}')\n",
    "    caption.alignment = WD_PARAGRAPH_ALIGNMENT.CENTER\n",
    "    "
   ]
  },
  {
   "cell_type": "code",
   "execution_count": 10,
   "metadata": {
    "tags": []
   },
   "outputs": [],
   "source": [
    "#add a table to a word document\n",
    "def doctable(data, tabletitle, labels):\n",
    "    from docx import Document\n",
    "    import pandas as pd\n",
    "    #document = Document()\n",
    "\n",
    "    data = pd.DataFrame(data)  # My input data is in the 2D list form\n",
    "    document.add_heading(tabletitle)\n",
    "    \n",
    "    data = data.round(decimals=1)\n",
    "\n",
    "    t = document.add_table(data.shape[0]+1, data.shape[1]+1)\n",
    "    t.style = 'TableGrid'\n",
    "    # add the header rows.\n",
    "    for j in range(data.shape[-1]+1):\n",
    "        t.cell(0,j).text = str(labels[j])\n",
    "    \n",
    "    # add the rest of the data frame\n",
    "    for i in range(data.shape[0]):\n",
    "        t.cell(i+1,0).text = str(data.index[i])\n",
    "        for j in range(data.shape[-1]):\n",
    "            t.cell(i+1,j+1).text = str(data.values[i,j])\n",
    "    document.add_page_break()\n",
    "    \n",
    "                \n",
    "    "
   ]
  },
  {
   "cell_type": "code",
   "execution_count": 11,
   "metadata": {
    "tags": []
   },
   "outputs": [],
   "source": [
    "#DataFolder='C:\\\\Users\\\\mbagci\\\\Desktop\\\\DataSet\\\\'\n",
    "DataFolder='../AsthmaData/'\n",
    "#DataFolder=r'C:\\Users\\yozturk\\Documents\\AsthmaEHRData\\\\'\n",
    "#DataFolder='/Users/yozturk/yozturk@sdsu.edu - Google Drive/Shared drives/AstmaEHRData/DataSet/'"
   ]
  },
  {
   "cell_type": "code",
   "execution_count": 13,
   "metadata": {
    "tags": []
   },
   "outputs": [],
   "source": [
    "# FLAGS \n",
    "\n",
    "# if the code will be run for the first time Flag should be true\n",
    "First_Run=True\n"
   ]
  },
  {
   "cell_type": "code",
   "execution_count": 15,
   "metadata": {
    "tags": []
   },
   "outputs": [
    {
     "name": "stdout",
     "output_type": "stream",
     "text": [
      "../AsthmaData/EXPORT_MEDICATIONS.json\n",
      "\n",
      "\n",
      "../AsthmaData/EXPORT_VITALS.json\n",
      "\n",
      "\n",
      "../AsthmaData/EXPORT_DIAGNOSES.json\n",
      "\n",
      "\n",
      "../AsthmaData/EXPORT_LABS.json\n",
      "\n",
      "\n",
      "../AsthmaData/EXPORT_ENCOUNTERS.json\n",
      "\n",
      "\n",
      "../AsthmaData/EXPORT_PROCEDURES.json\n",
      "\n",
      "\n",
      "../AsthmaData/EXPORT_HHSFINANCIALDATA.json\n",
      "\n",
      "\n",
      "../AsthmaData/EXPORT_DEMOGRAPHICS.json\n",
      "\n",
      "\n"
     ]
    }
   ],
   "source": [
    "if First_Run:\n",
    "    # Get a list of file names in the 'DataFolder' directory\n",
    "    List_File_Names = os.listdir(DataFolder)\n",
    "\n",
    "    # Define a list of file types to categorize the data\n",
    "    file_types = ['MEDICATIONS', 'VITALS', 'DIAGNOSES', 'LABS', 'ENCOUNTERS', 'PROCEDURES', 'HHSFINANCIALDATA', 'DEMOGRAPHICS']\n",
    "\n",
    "    # Define a list of column names for each file type\n",
    "    Column_list = [\n",
    "        ['PATIENTHASHMRN', 'MEDDATEDIFFNO', 'GENERICNAME', 'MEDNAME', 'PHARMACEUTICALCLASS', 'THERAPEUTICCLASS'],\n",
    "        ['PATIENTHASHMRN', 'VITALDATEDIFFNO', 'UNIT', 'VALUE', 'VALUETYPE', 'VITALNAME'],\n",
    "        ['PATIENTHASHMRN', 'ENCDATEDIFFNO', 'ENCOUNTERHASHKEY', 'CHRONIC', 'ICD10CODE', 'ICD10DESCRIPTION', 'ISPRIMARY'],\n",
    "        ['PATIENTHASHMRN', 'LABDATEDIFFNO', 'LAB_NAME', 'ORDERINGDEPTSPECIALTY', 'RESULTNUMERICVALUE', 'RESULTSTATUS', 'RESULTUNIT', 'RESULTVALUE', 'SOURCETYPE'],\n",
    "        #['PATIENTHASHMRN', 'LABDATEDIFFNO', 'LAB_NAME', 'ORDERINGDEPTSPECIALTY', 'RESULTNUMERICVALUE', 'RESULTSTATUS', 'RESULTUNIT', 'RESULTVALUE', 'SOURCETYPE'],\n",
    "        ['PATIENTHASHMRN', 'ENCDATEDIFFNO', 'ENCOUNTERHASHKEY', 'ADMISSIONTYPE', 'DEPTLOCATION', 'DEPTSPECIALTY', 'TYPE', 'VISITTYPE', 'ADMITDEPTSPECIALTY'],\n",
    "        ['PATIENTHASHMRN', 'PROCDATEDIFFNO', 'CODESET', 'PROCEDURECODE', 'PROCEDURENAME', 'QUANTITY', 'TYPE'],\n",
    "        ['PATIENTHASHMRN', 'MEDIANINCOME', 'ASTHMAHOSPRATE', 'FINANCIALCLASS', 'HHSREGION', 'POPULATION'],\n",
    "        ['PATIENTHASHMRN', 'AGE', 'ETHNICITY', 'MARITALSTATUS', 'RACE', 'SEX', 'SMOKINGSTATUS', 'STATUS']\n",
    "\n",
    "\n",
    "    ]\n",
    "\n",
    "    # Iterate over the file types and process the corresponding files\n",
    "    for i, type in enumerate(file_types):\n",
    "        # Filter files based on the current file type\n",
    "        Files = [x for x in List_File_Names if type in x]\n",
    "\n",
    "        # Initialize an empty list to store DataFrames\n",
    "        df_list = []\n",
    "\n",
    "        # Iterate over the filtered files\n",
    "        for ii, name in enumerate(Files):\n",
    "            file = DataFolder + name\n",
    "            print(file)\n",
    "            if ii == 0:\n",
    "                exec('df_' + type + \" = read_json_to_df(file)\")\n",
    "            exec('df_' + type + \" = read_json_to_df(file)\")\n",
    "            exec('df_' + type + ' = df_' + type + '.reindex(Column_list[i], axis=1)')\n",
    "\n",
    "            # Find the index of the column with \"DATE\" in its name\n",
    "            index_with_date = next((i for i, s in enumerate(Column_list[i]) if \"DATE\" in s), None)\n",
    "\n",
    "            # If a column with \"DATE\" exists, rename it to \"DATE_DIF\"\n",
    "            if \"DATE\" in str(Column_list[i]):\n",
    "                exec('df_' + type + '.rename(columns={\"' + str(Column_list[i][index_with_date]) + '\": \"DATE_DIF\"}, inplace=True)')\n",
    "\n",
    "            # Append the processed DataFrame to the list\n",
    "            exec('df_list.append(df_' + type + ')')\n",
    "\n",
    "        # Concatenate the DataFrames in the list to create a single DataFrame for the current file type\n",
    "        exec('df_' + type + '= pd.concat(df_list, axis=0)')\n",
    "\n",
    "    # The code generates DataFrames for each file type and concatenates them.\n",
    "\n",
    "    #df_MEDICATIONS, df_VITALS, df_DIAGNOSES, df_LABS,df_ENCOUNTERS, df_PROCEDURES, df_HHSFINANCIALDATA, df_DEMOGRAPHICS'"
   ]
  },
  {
   "cell_type": "code",
   "execution_count": 11,
   "metadata": {
    "tags": []
   },
   "outputs": [],
   "source": [
    "if First_Run:\n",
    "    df_MEDICATIONS.to_csv(DataFolder+'df_MEDICATIONS.csv')\n",
    "    df_VITALS.to_csv(DataFolder+'df_VITALS.csv')\n",
    "    df_DIAGNOSES.to_csv(DataFolder+'df_DIAGNOSES.csv')\n",
    "    df_LABS.to_csv(DataFolder+'df_LABS.csv')\n",
    "    df_ENCOUNTERS.to_csv(DataFolder+'df_ENCOUNTERS.csv')\n",
    "    df_PROCEDURES.to_csv(DataFolder+'df_PROCEDURES.csv')\n",
    "    df_HHSFINANCIALDATA.to_csv(DataFolder+'df_HHSFINANCIALDATA.csv')\n",
    "    df_DEMOGRAPHICS.to_csv(DataFolder+'df_DEMOGRAPHICS.csv')\n",
    "    \n",
    "else:\n",
    "    df_MEDICATIONS     =pd.read_csv(DataFolder+'df_MEDICATIONS.csv')\n",
    "    df_DIAGNOSES       =pd.read_csv(DataFolder+'df_DIAGNOSES.csv')\n",
    "    df_LABS            =pd.read_csv(DataFolder+'df_LABS.csv')\n",
    "    df_ENCOUNTERS      =pd.read_csv(DataFolder+'df_ENCOUNTERS.csv')\n",
    "    df_HHSFINANCIALDATA=pd.read_csv(DataFolder+'df_HHSFINANCIALDATA.csv')\n",
    "    df_DEMOGRAPHICS    =pd.read_csv(DataFolder+'df_DEMOGRAPHICS.csv')\n",
    "    df_PROCEDURES      =pd.read_csv(DataFolder+'df_PROCEDURES.csv')\n",
    "    df_VITALS          =pd.read_csv(DataFolder+'df_VITALS.csv')\n",
    "    "
   ]
  },
  {
   "cell_type": "code",
   "execution_count": 16,
   "metadata": {
    "tags": []
   },
   "outputs": [
    {
     "name": "stdout",
     "output_type": "stream",
     "text": [
      "                                            PATIENTHASHMRN  \\\n",
      "0        a22939fe5ab2274e3027fc1f8b06ed62f3bcdc89f6e631...   \n",
      "1        ed8a8344ef79c6fc4e7185e678cc93dca1159b51524b81...   \n",
      "2        f297d34271e9bd97bb0a458b77b8dc252b74af99d9bb2e...   \n",
      "3        415fef0c2ee20d7d639f405da0b929d8fca8b0b6a35e69...   \n",
      "4        2e6d6dd0868b8ac9b6e406a26ae81b816c6dbdd4e38f94...   \n",
      "...                                                    ...   \n",
      "1499338  3b6893088bf024559c43dd4ba426a2d6119f642d29e868...   \n",
      "1499339  2a14c717d623c597d0dc9e61e2c291cbc8e5c1d721f910...   \n",
      "1499340  8bfb40ab6a3c70344ab086e267d43f2e8b9071d8599f29...   \n",
      "1499341  1bf261dd7bc5a61524ad25e3b722256189bf2b1c6bf702...   \n",
      "1499342  710c7273c5fc41862f7ab141aaa4ee8ff8dab7f90ea236...   \n",
      "\n",
      "                                          ENCOUNTERHASHKEY  ENCDATEDIFFNO  \\\n",
      "0        8d12f885ad41c16e0eb9ab4f4b92503b39c22e3bad1779...        28208.0   \n",
      "1        a80a14b7f2512ed64dd1505f3dc769f4465d0e2633b476...        28162.0   \n",
      "2        9de0fa32f5e77df51ca732221e2165b85aba5b0c871006...        27634.0   \n",
      "3        90227da1c64d3046eb327503003795cca97b416a830fd6...        27735.0   \n",
      "4        c3273b2830977772e92c19d373b77936a53e9718ba882e...        28236.0   \n",
      "...                                                    ...            ...   \n",
      "1499338  965d57aa6d6012e09d8078dc4162d826f736102dd8d59b...        27356.0   \n",
      "1499339  6df09bd639f3a1bc3cd8fc235bebdafe5205a616e761d7...        27080.0   \n",
      "1499340  09072c1179fe82de865738206dabeee6a37e48e3aa4c75...        27019.0   \n",
      "1499341  c902ec081208ab43c804c00d13d4042d205f02caf7a601...        27433.0   \n",
      "1499342  c8d82ff40bd42e5f29e2bc73490db16d61900c46012b5b...        27144.0   \n",
      "\n",
      "         NOTE_KEY                                  DEIDENTIFIED_TEXT  \n",
      "0        44704662  Subjective     Chief Complaint(s)  No chief co...  \n",
      "1        43478578  NEW HRT FEMALE   Chief Complaint(s)  Menopausa...  \n",
      "2        30468907  Chief Complaint(s)  Chief Complaint   Patient ...  \n",
      "3        32876431                      UA order placed.,Pt notified.  \n",
      "4        45329000  Test Result Update    0 Test results-      - N...  \n",
      "...           ...                                                ...  \n",
      "1499338  24100157  REASON FOR VISIT: Urinary Tract Infection (x2 ...  \n",
      "1499339   4568394  Addended by: <DOCTOR> on: <DATE> 03:11 PM     ...  \n",
      "1499340   9385967                             Carrier 13 is ordered.  \n",
      "1499341  21525585  <HOSPITAL> Brain Injury Program  <STREET>  Enc...  \n",
      "1499342   6809714  Sp with pt and results NIPT were given, <PATIE...  \n",
      "\n",
      "[1499343 rows x 5 columns]\n"
     ]
    }
   ],
   "source": [
    "import os\n",
    "import pandas as pd\n",
    "import json\n",
    "\n",
    "# Define the folder containing the JSON files\n",
    "DataFolder = \"../AsthmaData/\"\n",
    "\n",
    "# List all files in the directory starting with \"NOTE\" and ending with \".json\"\n",
    "files = [file for file in os.listdir(DataFolder) if file.startswith(\"NOTE\") and file.endswith(\".json\")]\n",
    "\n",
    "# Initialize an empty list to store data from all files\n",
    "data_frames = []\n",
    "\n",
    "# Iterate through each file and read the content\n",
    "for file in files:\n",
    "    location = os.path.join(DataFolder, file)\n",
    "    with open(location, encoding='utf-8-sig') as f:\n",
    "        data = f.readlines()\n",
    "    # Convert each file's content into a DataFrame and append to the list\n",
    "    df = pd.DataFrame([json.loads(line) for line in data])\n",
    "    data_frames.append(df)\n",
    "\n",
    "# Combine all the DataFrames into a single DataFrame\n",
    "df_NOTES = pd.concat(data_frames, ignore_index=True)\n",
    "\n",
    "# Display or use the combined DataFrame\n",
    "print(df_NOTES)"
   ]
  },
  {
   "cell_type": "code",
   "execution_count": 13,
   "metadata": {
    "tags": []
   },
   "outputs": [
    {
     "data": {
      "text/plain": [
       "Index(['PATIENTHASHMRN', 'DATE_DIF', 'ENCOUNTERHASHKEY', 'ADMISSIONTYPE',\n",
       "       'DEPTLOCATION', 'DEPTSPECIALTY', 'TYPE', 'VISITTYPE',\n",
       "       'ADMITDEPTSPECIALTY'],\n",
       "      dtype='object')"
      ]
     },
     "execution_count": 13,
     "metadata": {},
     "output_type": "execute_result"
    }
   ],
   "source": [
    "df_ENCOUNTERS.columns"
   ]
  },
  {
   "cell_type": "code",
   "execution_count": 21,
   "metadata": {
    "tags": []
   },
   "outputs": [],
   "source": [
    "#Merge encounters and Notes \n",
    "df_ENCNOTES = pd.merge(df_ENCOUNTERS, df_NOTES, on=['PATIENTHASHMRN', 'ENCOUNTERHASHKEY'], how='inner')\n"
   ]
  },
  {
   "cell_type": "code",
   "execution_count": 22,
   "metadata": {
    "tags": []
   },
   "outputs": [
    {
     "data": {
      "text/html": [
       "<div>\n",
       "<style scoped>\n",
       "    .dataframe tbody tr th:only-of-type {\n",
       "        vertical-align: middle;\n",
       "    }\n",
       "\n",
       "    .dataframe tbody tr th {\n",
       "        vertical-align: top;\n",
       "    }\n",
       "\n",
       "    .dataframe thead th {\n",
       "        text-align: right;\n",
       "    }\n",
       "</style>\n",
       "<table border=\"1\" class=\"dataframe\">\n",
       "  <thead>\n",
       "    <tr style=\"text-align: right;\">\n",
       "      <th></th>\n",
       "      <th>PATIENTHASHMRN</th>\n",
       "      <th>DATE_DIF</th>\n",
       "      <th>ENCOUNTERHASHKEY</th>\n",
       "      <th>ADMISSIONTYPE</th>\n",
       "      <th>DEPTLOCATION</th>\n",
       "      <th>DEPTSPECIALTY</th>\n",
       "      <th>TYPE</th>\n",
       "      <th>VISITTYPE</th>\n",
       "      <th>ADMITDEPTSPECIALTY</th>\n",
       "      <th>ENCDATEDIFFNO</th>\n",
       "      <th>NOTE_KEY</th>\n",
       "      <th>DEIDENTIFIED_TEXT</th>\n",
       "    </tr>\n",
       "  </thead>\n",
       "  <tbody>\n",
       "    <tr>\n",
       "      <th>0</th>\n",
       "      <td>5ad92b595e7f465adbbb1c73bc52061d5c8f9b96e5e195...</td>\n",
       "      <td>26928</td>\n",
       "      <td>b1edf80b95f31b45c69a9746d2625debef8da76e225ae5...</td>\n",
       "      <td>ELECTIVE</td>\n",
       "      <td>Scripps Green Hospital</td>\n",
       "      <td>*Unspecified</td>\n",
       "      <td>Hospital Encounter</td>\n",
       "      <td>*Unspecified</td>\n",
       "      <td>*Unspecified</td>\n",
       "      <td>26928.0</td>\n",
       "      <td>9540556</td>\n",
       "      <td>H&amp;P reviewed., The patient was examined and th...</td>\n",
       "    </tr>\n",
       "    <tr>\n",
       "      <th>1</th>\n",
       "      <td>5ad92b595e7f465adbbb1c73bc52061d5c8f9b96e5e195...</td>\n",
       "      <td>26928</td>\n",
       "      <td>b1edf80b95f31b45c69a9746d2625debef8da76e225ae5...</td>\n",
       "      <td>ELECTIVE</td>\n",
       "      <td>Scripps Green Hospital</td>\n",
       "      <td>*Unspecified</td>\n",
       "      <td>Hospital Encounter</td>\n",
       "      <td>*Unspecified</td>\n",
       "      <td>*Unspecified</td>\n",
       "      <td>26928.0</td>\n",
       "      <td>11747265</td>\n",
       "      <td>VASCULAR SURGERY OPERATIVE NOTE      SURGEON: ...</td>\n",
       "    </tr>\n",
       "    <tr>\n",
       "      <th>2</th>\n",
       "      <td>5ad92b595e7f465adbbb1c73bc52061d5c8f9b96e5e195...</td>\n",
       "      <td>26928</td>\n",
       "      <td>b1edf80b95f31b45c69a9746d2625debef8da76e225ae5...</td>\n",
       "      <td>ELECTIVE</td>\n",
       "      <td>Scripps Green Hospital</td>\n",
       "      <td>*Unspecified</td>\n",
       "      <td>Hospital Encounter</td>\n",
       "      <td>*Unspecified</td>\n",
       "      <td>*Unspecified</td>\n",
       "      <td>26928.0</td>\n",
       "      <td>10905579</td>\n",
       "      <td>Pt seen &lt;STATE&gt; ICU &lt;DATE&gt; around 1830.,Pt ext...</td>\n",
       "    </tr>\n",
       "    <tr>\n",
       "      <th>3</th>\n",
       "      <td>5ad92b595e7f465adbbb1c73bc52061d5c8f9b96e5e195...</td>\n",
       "      <td>26928</td>\n",
       "      <td>b1edf80b95f31b45c69a9746d2625debef8da76e225ae5...</td>\n",
       "      <td>ELECTIVE</td>\n",
       "      <td>Scripps Green Hospital</td>\n",
       "      <td>*Unspecified</td>\n",
       "      <td>Hospital Encounter</td>\n",
       "      <td>*Unspecified</td>\n",
       "      <td>*Unspecified</td>\n",
       "      <td>26928.0</td>\n",
       "      <td>11517919</td>\n",
       "      <td>CARDIOLOGY - INPATIENT -  CONSULTATION     PAT...</td>\n",
       "    </tr>\n",
       "    <tr>\n",
       "      <th>4</th>\n",
       "      <td>5ad92b595e7f465adbbb1c73bc52061d5c8f9b96e5e195...</td>\n",
       "      <td>26928</td>\n",
       "      <td>b1edf80b95f31b45c69a9746d2625debef8da76e225ae5...</td>\n",
       "      <td>ELECTIVE</td>\n",
       "      <td>Scripps Green Hospital</td>\n",
       "      <td>*Unspecified</td>\n",
       "      <td>Hospital Encounter</td>\n",
       "      <td>*Unspecified</td>\n",
       "      <td>*Unspecified</td>\n",
       "      <td>26928.0</td>\n",
       "      <td>11509770</td>\n",
       "      <td>H&amp;P reviewed., The patient was examined and th...</td>\n",
       "    </tr>\n",
       "    <tr>\n",
       "      <th>...</th>\n",
       "      <td>...</td>\n",
       "      <td>...</td>\n",
       "      <td>...</td>\n",
       "      <td>...</td>\n",
       "      <td>...</td>\n",
       "      <td>...</td>\n",
       "      <td>...</td>\n",
       "      <td>...</td>\n",
       "      <td>...</td>\n",
       "      <td>...</td>\n",
       "      <td>...</td>\n",
       "      <td>...</td>\n",
       "    </tr>\n",
       "    <tr>\n",
       "      <th>1300439</th>\n",
       "      <td>966b341acf9fa3648e26af6b0dea77a09f127a06642249...</td>\n",
       "      <td>26940</td>\n",
       "      <td>df4d3b09369e71901a26949387b8c8c3e4e884c7cc5260...</td>\n",
       "      <td>*Not Applicable</td>\n",
       "      <td>SC Carmel Valley Loc</td>\n",
       "      <td>Pediatrics</td>\n",
       "      <td>Office Visit</td>\n",
       "      <td>PED WELL CHILD VISIT EXTENDED</td>\n",
       "      <td>None</td>\n",
       "      <td>26940.0</td>\n",
       "      <td>12324659</td>\n",
       "      <td>Chief Complaint(s)  Well Child (16yr wcc)     ...</td>\n",
       "    </tr>\n",
       "    <tr>\n",
       "      <th>1300440</th>\n",
       "      <td>966b341acf9fa3648e26af6b0dea77a09f127a06642249...</td>\n",
       "      <td>26940</td>\n",
       "      <td>df4d3b09369e71901a26949387b8c8c3e4e884c7cc5260...</td>\n",
       "      <td>*Not Applicable</td>\n",
       "      <td>SC Carmel Valley Loc</td>\n",
       "      <td>Pediatrics</td>\n",
       "      <td>Office Visit</td>\n",
       "      <td>PED WELL CHILD VISIT EXTENDED</td>\n",
       "      <td>None</td>\n",
       "      <td>26940.0</td>\n",
       "      <td>12869067</td>\n",
       "      <td>Staying Healthy &lt;STATE&gt;   (Teens, &lt;AGE&gt;-&lt;AGE&gt; ...</td>\n",
       "    </tr>\n",
       "    <tr>\n",
       "      <th>1300441</th>\n",
       "      <td>d5c7e835433495b72c99695354e3af1c2e601e8eb38c9f...</td>\n",
       "      <td>27095</td>\n",
       "      <td>e3b9995c56660a72045e050a8721c6e67cb6939ab7dec4...</td>\n",
       "      <td>*Not Applicable</td>\n",
       "      <td>SC Carmel Valley Loc</td>\n",
       "      <td>Internal Medicine</td>\n",
       "      <td>Telephone</td>\n",
       "      <td>*Unspecified</td>\n",
       "      <td>None</td>\n",
       "      <td>27095.0</td>\n",
       "      <td>6729835</td>\n",
       "      <td>Rx for Xanax #10 has been sent in for her.,  P...</td>\n",
       "    </tr>\n",
       "    <tr>\n",
       "      <th>1300442</th>\n",
       "      <td>91b89c048f3f56c3d6562d9dc86c49c852be69e06861ac...</td>\n",
       "      <td>28221</td>\n",
       "      <td>e0dc64559ef1bd08d228c56c66d58e7cba6d236e6651ac...</td>\n",
       "      <td>*Not Applicable</td>\n",
       "      <td>CO Oceanside Mission Ave Loc</td>\n",
       "      <td>Family Medicine</td>\n",
       "      <td>Telephone</td>\n",
       "      <td>*Unspecified</td>\n",
       "      <td>None</td>\n",
       "      <td>28221.0</td>\n",
       "      <td>45034666</td>\n",
       "      <td>----- Message from &lt;DOCTOR&gt;, MD sent at &lt;DATE&gt;...</td>\n",
       "    </tr>\n",
       "    <tr>\n",
       "      <th>1300443</th>\n",
       "      <td>91b89c048f3f56c3d6562d9dc86c49c852be69e06861ac...</td>\n",
       "      <td>28221</td>\n",
       "      <td>e0dc64559ef1bd08d228c56c66d58e7cba6d236e6651ac...</td>\n",
       "      <td>*Not Applicable</td>\n",
       "      <td>CO Oceanside Mission Ave Loc</td>\n",
       "      <td>Family Medicine</td>\n",
       "      <td>Telephone</td>\n",
       "      <td>*Unspecified</td>\n",
       "      <td>None</td>\n",
       "      <td>28221.0</td>\n",
       "      <td>45034666</td>\n",
       "      <td>----- Message from &lt;DOCTOR&gt;, MD sent at &lt;DATE&gt;...</td>\n",
       "    </tr>\n",
       "  </tbody>\n",
       "</table>\n",
       "<p>1300444 rows × 12 columns</p>\n",
       "</div>"
      ],
      "text/plain": [
       "                                            PATIENTHASHMRN  DATE_DIF  \\\n",
       "0        5ad92b595e7f465adbbb1c73bc52061d5c8f9b96e5e195...     26928   \n",
       "1        5ad92b595e7f465adbbb1c73bc52061d5c8f9b96e5e195...     26928   \n",
       "2        5ad92b595e7f465adbbb1c73bc52061d5c8f9b96e5e195...     26928   \n",
       "3        5ad92b595e7f465adbbb1c73bc52061d5c8f9b96e5e195...     26928   \n",
       "4        5ad92b595e7f465adbbb1c73bc52061d5c8f9b96e5e195...     26928   \n",
       "...                                                    ...       ...   \n",
       "1300439  966b341acf9fa3648e26af6b0dea77a09f127a06642249...     26940   \n",
       "1300440  966b341acf9fa3648e26af6b0dea77a09f127a06642249...     26940   \n",
       "1300441  d5c7e835433495b72c99695354e3af1c2e601e8eb38c9f...     27095   \n",
       "1300442  91b89c048f3f56c3d6562d9dc86c49c852be69e06861ac...     28221   \n",
       "1300443  91b89c048f3f56c3d6562d9dc86c49c852be69e06861ac...     28221   \n",
       "\n",
       "                                          ENCOUNTERHASHKEY    ADMISSIONTYPE  \\\n",
       "0        b1edf80b95f31b45c69a9746d2625debef8da76e225ae5...         ELECTIVE   \n",
       "1        b1edf80b95f31b45c69a9746d2625debef8da76e225ae5...         ELECTIVE   \n",
       "2        b1edf80b95f31b45c69a9746d2625debef8da76e225ae5...         ELECTIVE   \n",
       "3        b1edf80b95f31b45c69a9746d2625debef8da76e225ae5...         ELECTIVE   \n",
       "4        b1edf80b95f31b45c69a9746d2625debef8da76e225ae5...         ELECTIVE   \n",
       "...                                                    ...              ...   \n",
       "1300439  df4d3b09369e71901a26949387b8c8c3e4e884c7cc5260...  *Not Applicable   \n",
       "1300440  df4d3b09369e71901a26949387b8c8c3e4e884c7cc5260...  *Not Applicable   \n",
       "1300441  e3b9995c56660a72045e050a8721c6e67cb6939ab7dec4...  *Not Applicable   \n",
       "1300442  e0dc64559ef1bd08d228c56c66d58e7cba6d236e6651ac...  *Not Applicable   \n",
       "1300443  e0dc64559ef1bd08d228c56c66d58e7cba6d236e6651ac...  *Not Applicable   \n",
       "\n",
       "                         DEPTLOCATION      DEPTSPECIALTY                TYPE  \\\n",
       "0              Scripps Green Hospital       *Unspecified  Hospital Encounter   \n",
       "1              Scripps Green Hospital       *Unspecified  Hospital Encounter   \n",
       "2              Scripps Green Hospital       *Unspecified  Hospital Encounter   \n",
       "3              Scripps Green Hospital       *Unspecified  Hospital Encounter   \n",
       "4              Scripps Green Hospital       *Unspecified  Hospital Encounter   \n",
       "...                               ...                ...                 ...   \n",
       "1300439          SC Carmel Valley Loc         Pediatrics        Office Visit   \n",
       "1300440          SC Carmel Valley Loc         Pediatrics        Office Visit   \n",
       "1300441          SC Carmel Valley Loc  Internal Medicine           Telephone   \n",
       "1300442  CO Oceanside Mission Ave Loc    Family Medicine           Telephone   \n",
       "1300443  CO Oceanside Mission Ave Loc    Family Medicine           Telephone   \n",
       "\n",
       "                             VISITTYPE ADMITDEPTSPECIALTY  ENCDATEDIFFNO  \\\n",
       "0                         *Unspecified       *Unspecified        26928.0   \n",
       "1                         *Unspecified       *Unspecified        26928.0   \n",
       "2                         *Unspecified       *Unspecified        26928.0   \n",
       "3                         *Unspecified       *Unspecified        26928.0   \n",
       "4                         *Unspecified       *Unspecified        26928.0   \n",
       "...                                ...                ...            ...   \n",
       "1300439  PED WELL CHILD VISIT EXTENDED               None        26940.0   \n",
       "1300440  PED WELL CHILD VISIT EXTENDED               None        26940.0   \n",
       "1300441                   *Unspecified               None        27095.0   \n",
       "1300442                   *Unspecified               None        28221.0   \n",
       "1300443                   *Unspecified               None        28221.0   \n",
       "\n",
       "         NOTE_KEY                                  DEIDENTIFIED_TEXT  \n",
       "0         9540556  H&P reviewed., The patient was examined and th...  \n",
       "1        11747265  VASCULAR SURGERY OPERATIVE NOTE      SURGEON: ...  \n",
       "2        10905579  Pt seen <STATE> ICU <DATE> around 1830.,Pt ext...  \n",
       "3        11517919  CARDIOLOGY - INPATIENT -  CONSULTATION     PAT...  \n",
       "4        11509770  H&P reviewed., The patient was examined and th...  \n",
       "...           ...                                                ...  \n",
       "1300439  12324659  Chief Complaint(s)  Well Child (16yr wcc)     ...  \n",
       "1300440  12869067  Staying Healthy <STATE>   (Teens, <AGE>-<AGE> ...  \n",
       "1300441   6729835  Rx for Xanax #10 has been sent in for her.,  P...  \n",
       "1300442  45034666  ----- Message from <DOCTOR>, MD sent at <DATE>...  \n",
       "1300443  45034666  ----- Message from <DOCTOR>, MD sent at <DATE>...  \n",
       "\n",
       "[1300444 rows x 12 columns]"
      ]
     },
     "execution_count": 22,
     "metadata": {},
     "output_type": "execute_result"
    }
   ],
   "source": [
    "df_ENCNOTES"
   ]
  },
  {
   "cell_type": "code",
   "execution_count": 23,
   "metadata": {
    "tags": []
   },
   "outputs": [],
   "source": [
    "df_HHSFINANCIALDATA['HHSREGION'] = df_HHSFINANCIALDATA['HHSREGION'].replace('0', np.nan)\n",
    "df_HHSFINANCIALDATA['HHSREGION'] = df_HHSFINANCIALDATA['HHSREGION'].fillna('Other')\n",
    "\n",
    "df_HHSFINANCIALDATA['HHSREGION'] = df_HHSFINANCIALDATA['HHSREGION'].replace({\n",
    "    'NORTH COASTAL': 'North Coastal',\n",
    "    'NORTH CENTRAL': 'North Central',\n",
    "    'NORTH INLAND': 'North Inland',\n",
    "    'CENTRAL': 'Central',\n",
    "    'EAST': 'East',\n",
    "    'SOUTH': 'South'\n",
    "})"
   ]
  },
  {
   "cell_type": "code",
   "execution_count": null,
   "metadata": {},
   "outputs": [],
   "source": []
  },
  {
   "cell_type": "code",
   "execution_count": 24,
   "metadata": {
    "tags": []
   },
   "outputs": [
    {
     "data": {
      "text/plain": [
       "Counter({'North Coastal': 8870,\n",
       "         'North Central': 6262,\n",
       "         'North Inland': 5944,\n",
       "         'Other': 3207,\n",
       "         'Central': 2690,\n",
       "         'East': 2447,\n",
       "         'South': 2375})"
      ]
     },
     "execution_count": 24,
     "metadata": {},
     "output_type": "execute_result"
    }
   ],
   "source": [
    "Counter(df_HHSFINANCIALDATA['HHSREGION'])"
   ]
  },
  {
   "cell_type": "code",
   "execution_count": 25,
   "metadata": {
    "tags": []
   },
   "outputs": [
    {
     "data": {
      "text/plain": [
       "['Hospital Encounter',\n",
       " 'Patient Message',\n",
       " 'External Face to Face',\n",
       " 'Appointment',\n",
       " 'Telephone',\n",
       " 'Office Visit',\n",
       " 'Treatment',\n",
       " 'E-Visit',\n",
       " 'Consult',\n",
       " 'Telemedicine',\n",
       " 'Patient Outreach',\n",
       " 'E-Consult',\n",
       " 'Medication Management',\n",
       " 'Evaluation']"
      ]
     },
     "execution_count": 25,
     "metadata": {},
     "output_type": "execute_result"
    }
   ],
   "source": [
    "list(df_ENCOUNTERS.TYPE.unique())"
   ]
  },
  {
   "cell_type": "code",
   "execution_count": 26,
   "metadata": {
    "tags": []
   },
   "outputs": [],
   "source": [
    "EncounterTypes = [\n",
    "    'Hospital Encounter',\n",
    "    'Patient Message',\n",
    "    'External Face to Face',\n",
    "    'Appointment',\n",
    "    'Telephone',\n",
    "    'Office Visit',\n",
    "    #'History',\n",
    "    'Treatment',\n",
    "    #'Ancillary Procedure',\n",
    "    'E-Visit',\n",
    "    #'Initial Prenatal',\n",
    "    #'Procedure visit',\n",
    "    'Consult',\n",
    "    #'Nurse Triage',\n",
    "    'Telemedicine',\n",
    "    #'Prep for Case',\n",
    "    #'Immunization',\n",
    "    #'Patient Self-Triage',\n",
    "    'Patient Outreach',\n",
    "    #'Surgery',\n",
    "    #'Ultrasound Visit',\n",
    "    #'Postpartum Visit',\n",
    "    #'Nurse Only',\n",
    "    'E-Consult',\n",
    "    'Medication Management',\n",
    "    'Evaluation'\n",
    "    #'Medicare Advantage Annual Assessment Outreach',\n",
    "    #'Device Check (In Clinic)',\n",
    "    #'Lactation Encounter',\n",
    "    #'SNF Visit',\n",
    "    #'HCC BPA Review'\n",
    "]\n",
    "\n",
    "df_ENCOUNTERS = df_ENCOUNTERS[df_ENCOUNTERS.TYPE.isin(EncounterTypes)]\n",
    "df_ENCNOTES = df_ENCNOTES[df_ENCNOTES.TYPE.isin(EncounterTypes)]\n",
    "\n"
   ]
  },
  {
   "cell_type": "code",
   "execution_count": 27,
   "metadata": {
    "tags": []
   },
   "outputs": [],
   "source": [
    "df_DEMOGRAPHICS['AGE_RANGE'] = 'Other'\n",
    "\n",
    "# Define function to determine age range\n",
    "def determine_age_range(age):\n",
    "    if age < 17:\n",
    "        return '6-17'\n",
    "    elif age < 30:\n",
    "        return '18-30'\n",
    "    elif age < 40:\n",
    "        return '31-40'\n",
    "    elif age < 50:\n",
    "        return '41-50'\n",
    "    elif age < 63:\n",
    "        return '51-63'\n",
    "    else:\n",
    "        return '64+'\n",
    "\n",
    "# Apply the function to create the age range for each row\n",
    "df_DEMOGRAPHICS['AGE_RANGE'] = df_DEMOGRAPHICS['AGE'].apply(determine_age_range)\n"
   ]
  },
  {
   "cell_type": "code",
   "execution_count": 21,
   "metadata": {
    "tags": []
   },
   "outputs": [
    {
     "data": {
      "text/plain": [
       "<docx.text.run.Run at 0x3f9b61510>"
      ]
     },
     "execution_count": 21,
     "metadata": {},
     "output_type": "execute_result"
    }
   ],
   "source": [
    "p1=document.add_paragraph(\"The total number of patients:\")\n",
    "l=df_DEMOGRAPHICS.shape[0]\n",
    "p1.add_run(str(l))"
   ]
  },
  {
   "cell_type": "code",
   "execution_count": 30,
   "metadata": {
    "tags": []
   },
   "outputs": [],
   "source": [
    "# Define income categories and corresponding labels\n",
    "income_categories = [\n",
    "    (0,68200,' Very Low'), \n",
    "    (68201, 100000, 'Low'),\n",
    "    (100000, 140000, 'Median'),\n",
    "    (140001, 180000, 'High'),\n",
    "    (180001, float('inf'),'Very High')\n",
    "\n",
    "]\n",
    "\n",
    "\n",
    "# Create a new column 'INCOME_CATEGORY' with default value 'Unknown'\n",
    "df_HHSFINANCIALDATA['INCOME_CATEGORY'] = 'Unknown'\n",
    "\n",
    "# Define function to categorize median income\n",
    "def categorize_income(income):\n",
    "    for min_income, max_income, category in income_categories:\n",
    "        if min_income <= income <= max_income:\n",
    "            return category\n",
    "    return 'Unknown'\n",
    "\n",
    "# Apply the function to create income categories for each row\n",
    "df_HHSFINANCIALDATA['INCOME_CATEGORY'] = df_HHSFINANCIALDATA['MEDIANINCOME'].apply(categorize_income)\n"
   ]
  },
  {
   "cell_type": "code",
   "execution_count": 31,
   "metadata": {
    "tags": []
   },
   "outputs": [],
   "source": [
    "\n",
    "replacements = {\n",
    "    'Basophils %': 'Basophils',\n",
    "    'Eosinophils %': 'Eosinophils',\n",
    "    'Immunoglobulin IgE':'IgE',\n",
    "    '_': ' '\n",
    "}\n",
    "\n",
    "# Implement the replacments dictionary to lab_name values \n",
    "for old, new in replacements.items():\n",
    "    df_LABS['LAB_NAME'] = df_LABS['LAB_NAME'].replace(old, new, regex=True)"
   ]
  },
  {
   "cell_type": "code",
   "execution_count": null,
   "metadata": {},
   "outputs": [],
   "source": []
  },
  {
   "cell_type": "code",
   "execution_count": 24,
   "metadata": {
    "tags": []
   },
   "outputs": [],
   "source": [
    "#Merge Demographocs and Financial Data \n",
    "df_FINDEMOG = pd.merge(df_HHSFINANCIALDATA, df_DEMOGRAPHICS, on='PATIENTHASHMRN', how='left')\n",
    "\n",
    "df_FINDEMOG['MEDIANINCOME'] = df_FINDEMOG['MEDIANINCOME'].fillna(0)\n",
    "df_FINDEMOG['HHSREGION'] = df_FINDEMOG['HHSREGION'].replace('0', 'Other')\n",
    "df_FINDEMOG['HHSREGION'] = df_FINDEMOG['HHSREGION'].fillna('Other')\n",
    "df_FINDEMOG['RACE'] = df_FINDEMOG['RACE'].fillna('Other')\n",
    "df_FINDEMOG['ETHNICITY'] = df_FINDEMOG['ETHNICITY'].fillna('Other')\n"
   ]
  },
  {
   "cell_type": "code",
   "execution_count": 25,
   "metadata": {
    "tags": []
   },
   "outputs": [],
   "source": [
    "#Update RACE field by reducing the RACE categories and adding Hispanic  -- Combine Race and Ethinicity in one metric\n",
    "mapping = {'White':'White', 'Black or African American':'Black', 'Other':'Other', 'Asian':'Asian', 'Unknown':'Other','Decline to Answer':'Other', 'Native Hawaiian or Other Pacific Islander':'Other','American Indian or Alaskan Native':'Other'}\n",
    "df_FINDEMOG['RACE'] = df_FINDEMOG['RACE'].map(mapping).fillna(df_FINDEMOG['RACE'])\n",
    "df_FINDEMOG.loc[df_FINDEMOG['ETHNICITY']== 'Hispanic or Latino or Spanish Origin', 'RACE'] = 'Hispanic'\n",
    "df_FINDEMOG['RACE'] = df_FINDEMOG['RACE'].fillna('Other')\n"
   ]
  },
  {
   "cell_type": "code",
   "execution_count": 26,
   "metadata": {
    "tags": []
   },
   "outputs": [],
   "source": [
    "df_DIAGNOSES.columns\n",
    "prim = df_DIAGNOSES[df_DIAGNOSES.ISPRIMARY == 1]"
   ]
  },
  {
   "cell_type": "code",
   "execution_count": 27,
   "metadata": {
    "tags": []
   },
   "outputs": [],
   "source": [
    "#Counter(prim.ICD10CODE)"
   ]
  },
  {
   "cell_type": "code",
   "execution_count": 28,
   "metadata": {},
   "outputs": [],
   "source": [
    "asthma_dia = ['J45.20', 'J45.21', 'J45.30', 'J45.31', 'J45.32', 'J45.40', 'J45.41', 'J45.42', 'J45.50', 'J45.51', 'J45.52']#,'J45.901','J45.902','J45.909','J45.991','J82.83' ]\n"
   ]
  },
  {
   "cell_type": "code",
   "execution_count": 29,
   "metadata": {
    "tags": []
   },
   "outputs": [
    {
     "data": {
      "text/plain": [
       "Index(['PATIENTHASHMRN', 'DATE_DIF', 'ENCOUNTERHASHKEY', 'CHRONIC',\n",
       "       'ICD10CODE', 'ICD10DESCRIPTION', 'ISPRIMARY'],\n",
       "      dtype='object')"
      ]
     },
     "execution_count": 29,
     "metadata": {},
     "output_type": "execute_result"
    }
   ],
   "source": [
    "df_DIAGNOSES.columns"
   ]
  },
  {
   "cell_type": "code",
   "execution_count": 30,
   "metadata": {
    "tags": []
   },
   "outputs": [],
   "source": [
    "df_DIAGNOSESPrimary = df_DIAGNOSES[df_DIAGNOSES.ISPRIMARY == 1]"
   ]
  },
  {
   "cell_type": "code",
   "execution_count": 31,
   "metadata": {
    "tags": []
   },
   "outputs": [
    {
     "name": "stdout",
     "output_type": "stream",
     "text": [
      "                                           PATIENTHASHMRN  DATE_DIF  ICD10CODE\n",
      "0       0002986a8d5bb31d7197d99edd2e554d3996c22bd5ffe5...     26975          1\n",
      "1       0002986a8d5bb31d7197d99edd2e554d3996c22bd5ffe5...     27153          1\n",
      "2       0002986a8d5bb31d7197d99edd2e554d3996c22bd5ffe5...     27166          1\n",
      "3       0002986a8d5bb31d7197d99edd2e554d3996c22bd5ffe5...     27249          1\n",
      "4       0002986a8d5bb31d7197d99edd2e554d3996c22bd5ffe5...     27350          1\n",
      "...                                                   ...       ...        ...\n",
      "499526  ffff87ad48c1cda9f6218149a9935c14f532b207f57cfd...     27922          1\n",
      "499527  ffff87ad48c1cda9f6218149a9935c14f532b207f57cfd...     27936          1\n",
      "499528  ffff87ad48c1cda9f6218149a9935c14f532b207f57cfd...     27971          1\n",
      "499529  ffff87ad48c1cda9f6218149a9935c14f532b207f57cfd...     28508          1\n",
      "499530  ffff87ad48c1cda9f6218149a9935c14f532b207f57cfd...     28611          1\n",
      "\n",
      "[499531 rows x 3 columns]\n"
     ]
    }
   ],
   "source": [
    "df_DIAGNOSES.columns\n",
    "\n",
    "# Step 1: Group by 'PATIENTHASHMRN' and 'DATE_DIF' and count the unique ICD10CODEs for each group\n",
    "icd_counts = df_DIAGNOSESPrimary.groupby(['PATIENTHASHMRN', 'DATE_DIF'])['ICD10CODE'].nunique().reset_index()\n",
    "\n",
    "# Step 2: Filter to find groups with more than two unique ICD10CODEs\n",
    "patients_with_multiple_icd = icd_counts[icd_counts['ICD10CODE'] > 0]\n",
    "\n",
    "# Step 3: Merge back with the original DataFrame to get the complete details of these encounters\n",
    "result = pd.merge(df_DIAGNOSESPrimary, patients_with_multiple_icd[['PATIENTHASHMRN', 'DATE_DIF']], \n",
    "                  on=['PATIENTHASHMRN', 'DATE_DIF'], how='inner')\n",
    "\n",
    "# Display the result\n",
    "print(patients_with_multiple_icd)"
   ]
  },
  {
   "cell_type": "code",
   "execution_count": 32,
   "metadata": {
    "tags": []
   },
   "outputs": [],
   "source": [
    "df_DIAGNOSESPrimary = df_DIAGNOSESPrimary[df_DIAGNOSESPrimary.ICD10CODE.isin(asthma_dia)]"
   ]
  },
  {
   "cell_type": "code",
   "execution_count": 33,
   "metadata": {
    "tags": []
   },
   "outputs": [],
   "source": [
    "# Step 4: Combine ICD10CODEs on the same day for each patient as a list (joined as a string)\n",
    "combined_icd = df_DIAGNOSESPrimary.groupby(['PATIENTHASHMRN', 'DATE_DIF'])['ICD10CODE'].apply(lambda x: ', '.join(x)).reset_index()\n",
    "combined_icd = combined_icd.rename(columns={'ICD10CODE': 'ICD10CODE_Combined'})\n",
    "\n",
    "# Merge this back with the original filtered DataFrame to add the combined ICD10CODE list as a new column\n",
    "result_with_combined = pd.merge(result, combined_icd, on=['PATIENTHASHMRN', 'DATE_DIF'], how='inner')\n",
    "\n",
    "# Drop duplicate columns and keep only the necessary information\n",
    "result_with_combined = result_with_combined[['PATIENTHASHMRN', 'DATE_DIF', 'ICD10CODE_Combined']].drop_duplicates()\n",
    "\n",
    "# Display the resulting DataFrame with the combined ICD10CODE list\n",
    "result_with_combined.to_excel('investigate.xlsx')"
   ]
  },
  {
   "cell_type": "code",
   "execution_count": 34,
   "metadata": {
    "tags": []
   },
   "outputs": [],
   "source": [
    "df_DIAGNOSES = df_DIAGNOSESPrimary"
   ]
  },
  {
   "cell_type": "code",
   "execution_count": 35,
   "metadata": {
    "tags": []
   },
   "outputs": [
    {
     "data": {
      "text/plain": [
       "<docx.text.run.Run at 0x470bc6c90>"
      ]
     },
     "execution_count": 35,
     "metadata": {},
     "output_type": "execute_result"
    }
   ],
   "source": [
    "# Define a list of asthma diagnoses ICD10 codes\n",
    "asthma_dia = ['J45.20', 'J45.21', 'J45.30', 'J45.31', 'J45.32', 'J45.40', 'J45.41', 'J45.42', 'J45.50', 'J45.51', 'J45.52']#,'J45.901','J45.902','J45.909','J45.991','J82.83' ]\n",
    "# Filter df_DIAGNOSES for asthma diagnoses  \n",
    "visitedForASTHMA = df_DIAGNOSES[df_DIAGNOSES['ICD10CODE'].isin(asthma_dia)].PATIENTHASHMRN.unique()\n",
    "# Filter to keep only patients that visited the hospotal and received an asthma diagnoses\n",
    "df_FINDEMOG = df_FINDEMOG[df_FINDEMOG['PATIENTHASHMRN'].isin(visitedForASTHMA)]\n",
    "\n",
    "\n",
    "#df_FINDEMOG = df_FINDEMOG[df_FINDEMOG['PATIENTHASHMRN'].isin(candidatePatientList)]\n",
    "\n",
    "\n",
    "p1=document.add_paragraph(\" The number of patients visited the hospital for an asthma diagnoses:\")\n",
    "l=df_FINDEMOG.shape[0]\n",
    "p1.add_run(str(l))"
   ]
  },
  {
   "cell_type": "code",
   "execution_count": 36,
   "metadata": {
    "tags": []
   },
   "outputs": [],
   "source": [
    "mapping = {'Commercial':'Commercial', 'Managed Care':'Managed Care', 'Medi-Cal':'Medi-Cal', 'Medi-Cal Managed Care':'Medi-Cal','Self-Pay':'Self-Pay', 'Tricare':'Tricare','Medicare':'Medicare', 'Worker\\'s Comp':'Other','Medicare HMO/PPO':'Medicare'}\n",
    "df_FINDEMOG['FINANCIALCLASS'] = df_FINDEMOG['FINANCIALCLASS'].map(mapping).fillna(df_FINDEMOG['FINANCIALCLASS'])\n",
    "df_FINDEMOG['FINANCIALCLASS'] = df_FINDEMOG['FINANCIALCLASS'].fillna('Other')"
   ]
  },
  {
   "cell_type": "code",
   "execution_count": 38,
   "metadata": {
    "tags": []
   },
   "outputs": [
    {
     "data": {
      "text/plain": [
       "Counter({1: 17567})"
      ]
     },
     "execution_count": 38,
     "metadata": {},
     "output_type": "execute_result"
    }
   ],
   "source": [
    "Counter(df_DIAGNOSES.ISPRIMARY)"
   ]
  },
  {
   "cell_type": "code",
   "execution_count": 39,
   "metadata": {
    "tags": []
   },
   "outputs": [],
   "source": [
    "\n",
    "# Filter df_DIAGNOSES for asthma diagnoses and select relevant columns\n",
    "df_DIAGASTHMA = df_DIAGNOSES[df_DIAGNOSES['ICD10CODE'].isin(asthma_dia)]\n",
    "\n",
    "# Extract the last two characters from the ICD10CODE and convert to int as Plot_sev\n",
    "df_DIAGASTHMA[\"ICDSeverity\"] = df_DIAGASTHMA['ICD10CODE'].dropna().str[-2:].astype(int)"
   ]
  },
  {
   "cell_type": "code",
   "execution_count": 40,
   "metadata": {
    "tags": []
   },
   "outputs": [
    {
     "data": {
      "text/plain": [
       "1056       J45.31\n",
       "1623       J45.52\n",
       "3009       J45.20\n",
       "3437       J45.41\n",
       "3439       J45.41\n",
       "            ...  \n",
       "1776051    J45.41\n",
       "1776052    J45.41\n",
       "1776056    J45.41\n",
       "1776363    J45.41\n",
       "1778149    J45.41\n",
       "Name: ICD10CODE, Length: 17567, dtype: object"
      ]
     },
     "execution_count": 40,
     "metadata": {},
     "output_type": "execute_result"
    }
   ],
   "source": [
    "df_DIAGASTHMA.ICD10CODE"
   ]
  },
  {
   "cell_type": "code",
   "execution_count": 41,
   "metadata": {
    "tags": []
   },
   "outputs": [],
   "source": [
    "dermatologyDIAGNOSES = df_DIAGNOSES[df_DIAGNOSES['ICD10CODE'].str.startswith('L20', na=False)]\n",
    "DermatologyPatients = dermatologyDIAGNOSES.PATIENTHASHMRN.unique()\n",
    "\n",
    "\n",
    "\n",
    "nasalPolipsDIAGNOSES = df_DIAGNOSES[df_DIAGNOSES['ICD10CODE'].str.startswith('J33', na=False)]\n",
    "NasalPolipsPatients = nasalPolipsDIAGNOSES.PATIENTHASHMRN.unique()\n"
   ]
  },
  {
   "cell_type": "code",
   "execution_count": 42,
   "metadata": {
    "tags": []
   },
   "outputs": [],
   "source": [
    "DermatologyPatients = list(DermatologyPatients)"
   ]
  },
  {
   "cell_type": "code",
   "execution_count": 43,
   "metadata": {
    "tags": []
   },
   "outputs": [],
   "source": [
    "NasalPolipsPatients = list(NasalPolipsPatients)\n"
   ]
  },
  {
   "cell_type": "code",
   "execution_count": 44,
   "metadata": {
    "tags": []
   },
   "outputs": [],
   "source": [
    "# Get unique patients with J45 and L20 conditions\n",
    "j45_patients = set(df_DIAGNOSES[df_DIAGNOSES['ICD10CODE'].str.startswith('J45', na=False)]['PATIENTHASHMRN'])\n",
    "l20_patients = set(df_DIAGNOSES[df_DIAGNOSES['ICD10CODE'].str.startswith('L20', na=False)]['PATIENTHASHMRN'])\n",
    "\n",
    "# Find the intersection of patients with both J45 and L20 conditions\n",
    "patients_with_both = j45_patients.intersection(l20_patients)\n",
    "\n",
    "L45L20Diagnoses = df_DIAGNOSES[df_DIAGNOSES['ICD10CODE'].str.startswith(('L20', 'J45'), na=False)]\n"
   ]
  },
  {
   "cell_type": "code",
   "execution_count": 45,
   "metadata": {
    "tags": []
   },
   "outputs": [
    {
     "data": {
      "text/plain": [
       "Index(['PATIENTHASHMRN', 'DATE_DIF', 'ENCOUNTERHASHKEY', 'CHRONIC',\n",
       "       'ICD10CODE', 'ICD10DESCRIPTION', 'ISPRIMARY'],\n",
       "      dtype='object')"
      ]
     },
     "execution_count": 45,
     "metadata": {},
     "output_type": "execute_result"
    }
   ],
   "source": [
    "L45L20Diagnoses.columns"
   ]
  },
  {
   "cell_type": "code",
   "execution_count": 46,
   "metadata": {
    "tags": []
   },
   "outputs": [],
   "source": [
    "#  Identify duplicates based on Patient MRN, Date and ICD10code\n",
    "duplicates = df_DIAGASTHMA.duplicated(subset=['PATIENTHASHMRN', 'DATE_DIF','ICD10CODE'], keep=False)\n",
    "# Filter out the duplicates\n",
    "duplicate_records = df_DIAGASTHMA[duplicates]\n",
    "duplicate_records_to_drop = duplicate_records[duplicate_records['CHRONIC'] == 0.0]\n",
    "#Keep records with Chronic condition \n",
    "#df_DIAGASTHMA = pd.concat([df_DIAGASTHMA, duplicate_records_to_drop]).drop_duplicates(keep=False)\n",
    "df_DIAGASTHMA = df_DIAGASTHMA.drop(duplicate_records_to_drop.index)\n",
    "\n"
   ]
  },
  {
   "cell_type": "code",
   "execution_count": 47,
   "metadata": {
    "tags": []
   },
   "outputs": [],
   "source": [
    "duplicates = df_DIAGASTHMA.duplicated(subset=['PATIENTHASHMRN', 'DATE_DIF'], keep=False)\n",
    "# Filter out the duplicates\n",
    "duplicate_records = df_DIAGASTHMA[duplicates]\n",
    "\n",
    "# Sort by 'ICDSeverity' in descending order and drop duplicates\n",
    "duplicate_records_sorted = duplicate_records.sort_values(by='ICDSeverity', ascending=False)\n",
    "duplicate_records_kept = duplicate_records_sorted.drop_duplicates(subset=['PATIENTHASHMRN', 'DATE_DIF'])\n",
    "\n",
    "# Remove these duplicates from the original DataFrame\n",
    "df_cleaned = pd.concat([df_DIAGASTHMA.drop(duplicate_records.index), duplicate_records_kept]).sort_index()\n",
    "df_DIAGASTHMA = pd.concat([df_cleaned, duplicate_records_kept]).sort_index()\n"
   ]
  },
  {
   "cell_type": "code",
   "execution_count": 48,
   "metadata": {
    "tags": []
   },
   "outputs": [],
   "source": [
    "document.add_paragraph(\"All diagnosis not relevant to asthma removed \\n\")\n",
    "document.add_paragraph(\"Duplicate diagnosis on the same day whether the same ICD10 code or not removed \\n\")\n",
    "\n",
    "#Combine diagnoses with Procedures\n",
    "df_DIAGPROC = pd.merge(df_DIAGASTHMA,df_PROCEDURES, on=['PATIENTHASHMRN','DATE_DIF'],how ='left')\n",
    "#include only those raws that are related to diagnoses"
   ]
  },
  {
   "cell_type": "code",
   "execution_count": 49,
   "metadata": {
    "tags": []
   },
   "outputs": [
    {
     "data": {
      "text/html": [
       "<div>\n",
       "<style scoped>\n",
       "    .dataframe tbody tr th:only-of-type {\n",
       "        vertical-align: middle;\n",
       "    }\n",
       "\n",
       "    .dataframe tbody tr th {\n",
       "        vertical-align: top;\n",
       "    }\n",
       "\n",
       "    .dataframe thead th {\n",
       "        text-align: right;\n",
       "    }\n",
       "</style>\n",
       "<table border=\"1\" class=\"dataframe\">\n",
       "  <thead>\n",
       "    <tr style=\"text-align: right;\">\n",
       "      <th></th>\n",
       "      <th>PATIENTHASHMRN</th>\n",
       "      <th>DATE_DIF</th>\n",
       "      <th>ENCOUNTERHASHKEY</th>\n",
       "      <th>CHRONIC</th>\n",
       "      <th>ICD10CODE</th>\n",
       "      <th>ICD10DESCRIPTION</th>\n",
       "      <th>ISPRIMARY</th>\n",
       "      <th>ICDSeverity</th>\n",
       "      <th>CODESET</th>\n",
       "      <th>PROCEDURECODE</th>\n",
       "      <th>PROCEDURENAME</th>\n",
       "      <th>QUANTITY</th>\n",
       "      <th>TYPE</th>\n",
       "    </tr>\n",
       "  </thead>\n",
       "  <tbody>\n",
       "    <tr>\n",
       "      <th>0</th>\n",
       "      <td>8f5fca5d4040ad07dc16a08928cc7b249a9ead8193c1f1...</td>\n",
       "      <td>28529</td>\n",
       "      <td>a794546888d5ad5a6469fb08c064b3a0ba6509e6508979...</td>\n",
       "      <td>0.0</td>\n",
       "      <td>J45.31</td>\n",
       "      <td>Mild persistent asthma with (acute) exacerbation</td>\n",
       "      <td>1</td>\n",
       "      <td>31</td>\n",
       "      <td>CPT(R)</td>\n",
       "      <td>99213</td>\n",
       "      <td>Established patient office or other outpatient...</td>\n",
       "      <td>NaN</td>\n",
       "      <td>Level of Service</td>\n",
       "    </tr>\n",
       "    <tr>\n",
       "      <th>1</th>\n",
       "      <td>8f5fca5d4040ad07dc16a08928cc7b249a9ead8193c1f1...</td>\n",
       "      <td>28529</td>\n",
       "      <td>a794546888d5ad5a6469fb08c064b3a0ba6509e6508979...</td>\n",
       "      <td>0.0</td>\n",
       "      <td>J45.31</td>\n",
       "      <td>Mild persistent asthma with (acute) exacerbation</td>\n",
       "      <td>1</td>\n",
       "      <td>31</td>\n",
       "      <td>HCPCS</td>\n",
       "      <td>J7611</td>\n",
       "      <td>Albuterol non-comp con</td>\n",
       "      <td>1.0</td>\n",
       "      <td>Outgoing Claim Procedure</td>\n",
       "    </tr>\n",
       "    <tr>\n",
       "      <th>2</th>\n",
       "      <td>8f5fca5d4040ad07dc16a08928cc7b249a9ead8193c1f1...</td>\n",
       "      <td>28529</td>\n",
       "      <td>a794546888d5ad5a6469fb08c064b3a0ba6509e6508979...</td>\n",
       "      <td>0.0</td>\n",
       "      <td>J45.31</td>\n",
       "      <td>Mild persistent asthma with (acute) exacerbation</td>\n",
       "      <td>1</td>\n",
       "      <td>31</td>\n",
       "      <td>CPT(R)</td>\n",
       "      <td>94640</td>\n",
       "      <td>Respiratory inhaled pressure or nonpressure tr...</td>\n",
       "      <td>1.0</td>\n",
       "      <td>Outgoing Claim Procedure</td>\n",
       "    </tr>\n",
       "    <tr>\n",
       "      <th>3</th>\n",
       "      <td>8f5fca5d4040ad07dc16a08928cc7b249a9ead8193c1f1...</td>\n",
       "      <td>28529</td>\n",
       "      <td>a794546888d5ad5a6469fb08c064b3a0ba6509e6508979...</td>\n",
       "      <td>0.0</td>\n",
       "      <td>J45.31</td>\n",
       "      <td>Mild persistent asthma with (acute) exacerbation</td>\n",
       "      <td>1</td>\n",
       "      <td>31</td>\n",
       "      <td>Custom</td>\n",
       "      <td>71046</td>\n",
       "      <td>X-ray chest 2 views with pa/ap and lateral</td>\n",
       "      <td>1.0</td>\n",
       "      <td>General Procedure</td>\n",
       "    </tr>\n",
       "    <tr>\n",
       "      <th>4</th>\n",
       "      <td>8f5fca5d4040ad07dc16a08928cc7b249a9ead8193c1f1...</td>\n",
       "      <td>28529</td>\n",
       "      <td>a794546888d5ad5a6469fb08c064b3a0ba6509e6508979...</td>\n",
       "      <td>0.0</td>\n",
       "      <td>J45.31</td>\n",
       "      <td>Mild persistent asthma with (acute) exacerbation</td>\n",
       "      <td>1</td>\n",
       "      <td>31</td>\n",
       "      <td>CPT(R)</td>\n",
       "      <td>99203</td>\n",
       "      <td>New patient office or other outpatient visit, ...</td>\n",
       "      <td>1.0</td>\n",
       "      <td>Outgoing Claim Procedure</td>\n",
       "    </tr>\n",
       "    <tr>\n",
       "      <th>...</th>\n",
       "      <td>...</td>\n",
       "      <td>...</td>\n",
       "      <td>...</td>\n",
       "      <td>...</td>\n",
       "      <td>...</td>\n",
       "      <td>...</td>\n",
       "      <td>...</td>\n",
       "      <td>...</td>\n",
       "      <td>...</td>\n",
       "      <td>...</td>\n",
       "      <td>...</td>\n",
       "      <td>...</td>\n",
       "      <td>...</td>\n",
       "    </tr>\n",
       "    <tr>\n",
       "      <th>89252</th>\n",
       "      <td>43050f57d9841220a3b1b95119e787cbd4dc129530aeff...</td>\n",
       "      <td>28142</td>\n",
       "      <td>73c3a007231ef71cb6d75a0f373347f9fe7a50cd0150dc...</td>\n",
       "      <td>0.0</td>\n",
       "      <td>J45.41</td>\n",
       "      <td>Moderate persistent asthma with (acute) exacer...</td>\n",
       "      <td>1</td>\n",
       "      <td>41</td>\n",
       "      <td>CPT(R)</td>\n",
       "      <td>99214</td>\n",
       "      <td>Established patient office or other outpatient...</td>\n",
       "      <td>1.0</td>\n",
       "      <td>Outgoing Claim Procedure</td>\n",
       "    </tr>\n",
       "    <tr>\n",
       "      <th>89253</th>\n",
       "      <td>43050f57d9841220a3b1b95119e787cbd4dc129530aeff...</td>\n",
       "      <td>28142</td>\n",
       "      <td>73c3a007231ef71cb6d75a0f373347f9fe7a50cd0150dc...</td>\n",
       "      <td>0.0</td>\n",
       "      <td>J45.41</td>\n",
       "      <td>Moderate persistent asthma with (acute) exacer...</td>\n",
       "      <td>1</td>\n",
       "      <td>41</td>\n",
       "      <td>CPT(R)</td>\n",
       "      <td>99214</td>\n",
       "      <td>Established patient office or other outpatient...</td>\n",
       "      <td>NaN</td>\n",
       "      <td>Level of Service</td>\n",
       "    </tr>\n",
       "    <tr>\n",
       "      <th>89254</th>\n",
       "      <td>c4b9a6278fadfca12c014467c621870ba01a4a238b4b1e...</td>\n",
       "      <td>28033</td>\n",
       "      <td>be1d4508305eca4f93b92675ff17e9c457304ea79226b0...</td>\n",
       "      <td>0.0</td>\n",
       "      <td>J45.41</td>\n",
       "      <td>Moderate persistent asthma with (acute) exacer...</td>\n",
       "      <td>1</td>\n",
       "      <td>41</td>\n",
       "      <td>NaN</td>\n",
       "      <td>NaN</td>\n",
       "      <td>NaN</td>\n",
       "      <td>NaN</td>\n",
       "      <td>NaN</td>\n",
       "    </tr>\n",
       "    <tr>\n",
       "      <th>89255</th>\n",
       "      <td>f94907183a2709889f8e5500eb7bd15885f0742c1b1667...</td>\n",
       "      <td>27668</td>\n",
       "      <td>2d6a7b3bd79d5091dd17b0ca90fb0bf50e6671c1721880...</td>\n",
       "      <td>0.0</td>\n",
       "      <td>J45.41</td>\n",
       "      <td>Moderate persistent asthma with (acute) exacer...</td>\n",
       "      <td>1</td>\n",
       "      <td>41</td>\n",
       "      <td>CPT(R)</td>\n",
       "      <td>99214</td>\n",
       "      <td>Established patient office or other outpatient...</td>\n",
       "      <td>1.0</td>\n",
       "      <td>External Claim Procedure</td>\n",
       "    </tr>\n",
       "    <tr>\n",
       "      <th>89256</th>\n",
       "      <td>f94907183a2709889f8e5500eb7bd15885f0742c1b1667...</td>\n",
       "      <td>27668</td>\n",
       "      <td>2d6a7b3bd79d5091dd17b0ca90fb0bf50e6671c1721880...</td>\n",
       "      <td>0.0</td>\n",
       "      <td>J45.41</td>\n",
       "      <td>Moderate persistent asthma with (acute) exacer...</td>\n",
       "      <td>1</td>\n",
       "      <td>41</td>\n",
       "      <td>CPT(R)</td>\n",
       "      <td>99214</td>\n",
       "      <td>Established patient office or other outpatient...</td>\n",
       "      <td>NaN</td>\n",
       "      <td>Level of Service</td>\n",
       "    </tr>\n",
       "  </tbody>\n",
       "</table>\n",
       "<p>89257 rows × 13 columns</p>\n",
       "</div>"
      ],
      "text/plain": [
       "                                          PATIENTHASHMRN  DATE_DIF  \\\n",
       "0      8f5fca5d4040ad07dc16a08928cc7b249a9ead8193c1f1...     28529   \n",
       "1      8f5fca5d4040ad07dc16a08928cc7b249a9ead8193c1f1...     28529   \n",
       "2      8f5fca5d4040ad07dc16a08928cc7b249a9ead8193c1f1...     28529   \n",
       "3      8f5fca5d4040ad07dc16a08928cc7b249a9ead8193c1f1...     28529   \n",
       "4      8f5fca5d4040ad07dc16a08928cc7b249a9ead8193c1f1...     28529   \n",
       "...                                                  ...       ...   \n",
       "89252  43050f57d9841220a3b1b95119e787cbd4dc129530aeff...     28142   \n",
       "89253  43050f57d9841220a3b1b95119e787cbd4dc129530aeff...     28142   \n",
       "89254  c4b9a6278fadfca12c014467c621870ba01a4a238b4b1e...     28033   \n",
       "89255  f94907183a2709889f8e5500eb7bd15885f0742c1b1667...     27668   \n",
       "89256  f94907183a2709889f8e5500eb7bd15885f0742c1b1667...     27668   \n",
       "\n",
       "                                        ENCOUNTERHASHKEY  CHRONIC ICD10CODE  \\\n",
       "0      a794546888d5ad5a6469fb08c064b3a0ba6509e6508979...      0.0    J45.31   \n",
       "1      a794546888d5ad5a6469fb08c064b3a0ba6509e6508979...      0.0    J45.31   \n",
       "2      a794546888d5ad5a6469fb08c064b3a0ba6509e6508979...      0.0    J45.31   \n",
       "3      a794546888d5ad5a6469fb08c064b3a0ba6509e6508979...      0.0    J45.31   \n",
       "4      a794546888d5ad5a6469fb08c064b3a0ba6509e6508979...      0.0    J45.31   \n",
       "...                                                  ...      ...       ...   \n",
       "89252  73c3a007231ef71cb6d75a0f373347f9fe7a50cd0150dc...      0.0    J45.41   \n",
       "89253  73c3a007231ef71cb6d75a0f373347f9fe7a50cd0150dc...      0.0    J45.41   \n",
       "89254  be1d4508305eca4f93b92675ff17e9c457304ea79226b0...      0.0    J45.41   \n",
       "89255  2d6a7b3bd79d5091dd17b0ca90fb0bf50e6671c1721880...      0.0    J45.41   \n",
       "89256  2d6a7b3bd79d5091dd17b0ca90fb0bf50e6671c1721880...      0.0    J45.41   \n",
       "\n",
       "                                        ICD10DESCRIPTION  ISPRIMARY  \\\n",
       "0       Mild persistent asthma with (acute) exacerbation          1   \n",
       "1       Mild persistent asthma with (acute) exacerbation          1   \n",
       "2       Mild persistent asthma with (acute) exacerbation          1   \n",
       "3       Mild persistent asthma with (acute) exacerbation          1   \n",
       "4       Mild persistent asthma with (acute) exacerbation          1   \n",
       "...                                                  ...        ...   \n",
       "89252  Moderate persistent asthma with (acute) exacer...          1   \n",
       "89253  Moderate persistent asthma with (acute) exacer...          1   \n",
       "89254  Moderate persistent asthma with (acute) exacer...          1   \n",
       "89255  Moderate persistent asthma with (acute) exacer...          1   \n",
       "89256  Moderate persistent asthma with (acute) exacer...          1   \n",
       "\n",
       "       ICDSeverity CODESET PROCEDURECODE  \\\n",
       "0               31  CPT(R)         99213   \n",
       "1               31   HCPCS         J7611   \n",
       "2               31  CPT(R)         94640   \n",
       "3               31  Custom         71046   \n",
       "4               31  CPT(R)         99203   \n",
       "...            ...     ...           ...   \n",
       "89252           41  CPT(R)         99214   \n",
       "89253           41  CPT(R)         99214   \n",
       "89254           41     NaN           NaN   \n",
       "89255           41  CPT(R)         99214   \n",
       "89256           41  CPT(R)         99214   \n",
       "\n",
       "                                           PROCEDURENAME  QUANTITY  \\\n",
       "0      Established patient office or other outpatient...       NaN   \n",
       "1                                 Albuterol non-comp con       1.0   \n",
       "2      Respiratory inhaled pressure or nonpressure tr...       1.0   \n",
       "3             X-ray chest 2 views with pa/ap and lateral       1.0   \n",
       "4      New patient office or other outpatient visit, ...       1.0   \n",
       "...                                                  ...       ...   \n",
       "89252  Established patient office or other outpatient...       1.0   \n",
       "89253  Established patient office or other outpatient...       NaN   \n",
       "89254                                                NaN       NaN   \n",
       "89255  Established patient office or other outpatient...       1.0   \n",
       "89256  Established patient office or other outpatient...       NaN   \n",
       "\n",
       "                           TYPE  \n",
       "0              Level of Service  \n",
       "1      Outgoing Claim Procedure  \n",
       "2      Outgoing Claim Procedure  \n",
       "3             General Procedure  \n",
       "4      Outgoing Claim Procedure  \n",
       "...                         ...  \n",
       "89252  Outgoing Claim Procedure  \n",
       "89253          Level of Service  \n",
       "89254                       NaN  \n",
       "89255  External Claim Procedure  \n",
       "89256          Level of Service  \n",
       "\n",
       "[89257 rows x 13 columns]"
      ]
     },
     "execution_count": 49,
     "metadata": {},
     "output_type": "execute_result"
    }
   ],
   "source": [
    "df_DIAGPROC"
   ]
  },
  {
   "cell_type": "code",
   "execution_count": 50,
   "metadata": {
    "tags": []
   },
   "outputs": [],
   "source": [
    "# Group by 'PATIENTHASHMRN', 'DATE_DIF', and 'ICD10CODE'\n",
    "# We would like to group the procedures related to an individual diagnosis on a particular day\n",
    "grouped = df_DIAGPROC.groupby(['PATIENTHASHMRN', 'DATE_DIF', 'ICD10CODE'])\n",
    "\n",
    "# Aggregate procedure codes into a list for each diagnoses \n",
    "aggregated = grouped.agg(ProcedureList=('PROCEDURECODE', lambda x: list(x)),\n",
    "                         ProcedureNames=('PROCEDURENAME', lambda x: list(x)),\n",
    "                         EncounterCode=('ENCOUNTERHASHKEY', lambda x: x.iloc[0] if len(x) > 0 else None),\n",
    "                         ProcedureTypes =('TYPE',  lambda x: list(x)),\n",
    "                         ProcedureCount=('PROCEDURECODE', 'count')).reset_index()\n",
    "\n",
    "aggregated.columns = ['PATIENTHASHMRN', 'DATE_DIF', 'ICD10CODE', 'ProcedureList', 'ProcedureNames','EncounterCode','ProcedureTypes','ProcedureCount']\n",
    "\n",
    "df_DIAGPROCunique = df_DIAGPROC.drop_duplicates(subset=['PATIENTHASHMRN', 'DATE_DIF', 'ICD10CODE'])\n",
    "\n",
    "\n",
    "df_DIAGPROC = pd.merge(df_DIAGPROCunique, aggregated, on=['PATIENTHASHMRN', 'DATE_DIF', 'ICD10CODE'], how='left')\n",
    "# df_DIAGPROC now contains new columns with the list of procedure codes, Procedure names and Procedure types for each patient\n"
   ]
  },
  {
   "cell_type": "code",
   "execution_count": 51,
   "metadata": {
    "tags": []
   },
   "outputs": [
    {
     "data": {
      "text/plain": [
       "Index(['PATIENTHASHMRN', 'DATE_DIF', 'ENCOUNTERHASHKEY', 'CHRONIC',\n",
       "       'ICD10CODE', 'ICD10DESCRIPTION', 'ISPRIMARY', 'ICDSeverity', 'CODESET',\n",
       "       'PROCEDURECODE', 'PROCEDURENAME', 'QUANTITY', 'TYPE', 'ProcedureList',\n",
       "       'ProcedureNames', 'EncounterCode', 'ProcedureTypes', 'ProcedureCount'],\n",
       "      dtype='object')"
      ]
     },
     "execution_count": 51,
     "metadata": {},
     "output_type": "execute_result"
    }
   ],
   "source": [
    "df_DIAGPROC.columns"
   ]
  },
  {
   "cell_type": "code",
   "execution_count": 52,
   "metadata": {
    "tags": []
   },
   "outputs": [],
   "source": [
    "#Drop unneeded columns since they are replicated in the lists \n",
    "df_DIAGPROC = df_DIAGPROC.drop(['PROCEDURECODE','CODESET','QUANTITY','ENCOUNTERHASHKEY','PROCEDURENAME','TYPE'], axis=1)\n"
   ]
  },
  {
   "cell_type": "code",
   "execution_count": 53,
   "metadata": {
    "tags": []
   },
   "outputs": [],
   "source": [
    "# Drop duplicates based on 'PATIENTHASHMRN', 'DATE_DIF', and 'ICD10CODE'\n",
    "df_DIAGPROC= df_DIAGPROC.drop_duplicates(subset=['PATIENTHASHMRN','DATE_DIF', 'ICD10CODE'])\n"
   ]
  },
  {
   "cell_type": "code",
   "execution_count": 54,
   "metadata": {
    "tags": []
   },
   "outputs": [],
   "source": [
    "df_DIAGPROC['CHRONIC'] = df_DIAGPROC['CHRONIC'].fillna(0.0)\n",
    "#df_DIAGPROC = df_DIAGPROC.dropna()\n"
   ]
  },
  {
   "cell_type": "code",
   "execution_count": 55,
   "metadata": {
    "tags": []
   },
   "outputs": [],
   "source": [
    "#locate entried with NaN values \n",
    "nan_df_DIAGPROC = df_DIAGPROC[df_DIAGPROC.isnull().any(axis=1)]\n"
   ]
  },
  {
   "cell_type": "code",
   "execution_count": 56,
   "metadata": {
    "tags": []
   },
   "outputs": [],
   "source": [
    "df_DIAGPROC = df_DIAGPROC.rename(columns={'EncounterCode': 'ENCOUNTERHASHKEY'})\n"
   ]
  },
  {
   "cell_type": "code",
   "execution_count": 57,
   "metadata": {
    "tags": []
   },
   "outputs": [],
   "source": [
    "df_DIAGPROC_FINDEMOG = pd.merge(df_DIAGPROC, df_FINDEMOG, on='PATIENTHASHMRN', how='left')\n",
    "\n"
   ]
  },
  {
   "cell_type": "code",
   "execution_count": 58,
   "metadata": {
    "tags": []
   },
   "outputs": [],
   "source": [
    "df_DIAGPROC_FINDEMOG_ENC = pd.merge(df_DIAGPROC_FINDEMOG, df_ENCOUNTERS, on='ENCOUNTERHASHKEY', how='inner')\n",
    "df_DIAGPROC_FINDEMOG_ENCNOTE = pd.merge(df_DIAGPROC_FINDEMOG, df_ENCNOTES, on='ENCOUNTERHASHKEY', how='inner')\n"
   ]
  },
  {
   "cell_type": "code",
   "execution_count": 59,
   "metadata": {
    "tags": []
   },
   "outputs": [
    {
     "data": {
      "text/plain": [
       "Index(['CHRONIC', 'ICD10CODE', 'ICD10DESCRIPTION', 'ISPRIMARY', 'ICDSeverity',\n",
       "       'ProcedureList', 'ProcedureNames', 'ENCOUNTERHASHKEY', 'ProcedureTypes',\n",
       "       'ProcedureCount', 'MEDIANINCOME', 'ASTHMAHOSPRATE', 'FINANCIALCLASS',\n",
       "       'HHSREGION', 'POPULATION', 'INCOME_CATEGORY', 'AGE', 'ETHNICITY',\n",
       "       'MARITALSTATUS', 'RACE', 'SEX', 'SMOKINGSTATUS', 'STATUS', 'AGE_RANGE',\n",
       "       'PATIENTHASHMRN', 'DATE_DIF', 'ADMISSIONTYPE', 'DEPTLOCATION',\n",
       "       'DEPTSPECIALTY', 'TYPE', 'VISITTYPE', 'ADMITDEPTSPECIALTY'],\n",
       "      dtype='object')"
      ]
     },
     "execution_count": 59,
     "metadata": {},
     "output_type": "execute_result"
    }
   ],
   "source": [
    "# Remove columns starting with \"Unnamed\"\n",
    "df_DIAGPROC_FINDEMOG_ENC = df_DIAGPROC_FINDEMOG_ENC.loc[:, ~df_DIAGPROC_FINDEMOG_ENC.columns.str.startswith('Unnamed')]\n",
    "\n",
    "# Remove columns ending with \"_x\"\n",
    "df_DIAGPROC_FINDEMOG_ENC = df_DIAGPROC_FINDEMOG_ENC.loc[:, ~df_DIAGPROC_FINDEMOG_ENC.columns.str.endswith('_x')]\n",
    "\n",
    "# Rename columns ending with \"_y\" by removing the \"_y\"\n",
    "df_DIAGPROC_FINDEMOG_ENC.columns = df_DIAGPROC_FINDEMOG_ENC.columns.str.replace('_y$', '', regex=True)\n",
    "\n",
    "# Display the updated DataFrame columns\n",
    "df_DIAGPROC_FINDEMOG_ENC.columns"
   ]
  },
  {
   "cell_type": "code",
   "execution_count": 61,
   "metadata": {
    "tags": []
   },
   "outputs": [
    {
     "data": {
      "text/html": [
       "<div>\n",
       "<style scoped>\n",
       "    .dataframe tbody tr th:only-of-type {\n",
       "        vertical-align: middle;\n",
       "    }\n",
       "\n",
       "    .dataframe tbody tr th {\n",
       "        vertical-align: top;\n",
       "    }\n",
       "\n",
       "    .dataframe thead th {\n",
       "        text-align: right;\n",
       "    }\n",
       "</style>\n",
       "<table border=\"1\" class=\"dataframe\">\n",
       "  <thead>\n",
       "    <tr style=\"text-align: right;\">\n",
       "      <th></th>\n",
       "      <th>PATIENTHASHMRN_x</th>\n",
       "      <th>DATE_DIF_x</th>\n",
       "      <th>CHRONIC</th>\n",
       "      <th>ICD10CODE</th>\n",
       "      <th>ICD10DESCRIPTION</th>\n",
       "      <th>ISPRIMARY</th>\n",
       "      <th>ICDSeverity</th>\n",
       "      <th>ProcedureList</th>\n",
       "      <th>ProcedureNames</th>\n",
       "      <th>ENCOUNTERHASHKEY</th>\n",
       "      <th>...</th>\n",
       "      <th>DATE_DIF_y</th>\n",
       "      <th>ADMISSIONTYPE</th>\n",
       "      <th>DEPTLOCATION</th>\n",
       "      <th>DEPTSPECIALTY</th>\n",
       "      <th>TYPE</th>\n",
       "      <th>VISITTYPE</th>\n",
       "      <th>ADMITDEPTSPECIALTY</th>\n",
       "      <th>ENCDATEDIFFNO</th>\n",
       "      <th>NOTE_KEY</th>\n",
       "      <th>DEIDENTIFIED_TEXT</th>\n",
       "    </tr>\n",
       "  </thead>\n",
       "  <tbody>\n",
       "    <tr>\n",
       "      <th>0</th>\n",
       "      <td>da41d397381cad64f4a0445289a32ce5310415d32d4220...</td>\n",
       "      <td>27738</td>\n",
       "      <td>0.0</td>\n",
       "      <td>J45.52</td>\n",
       "      <td>Severe persistent asthma with status asthmaticus</td>\n",
       "      <td>1</td>\n",
       "      <td>52</td>\n",
       "      <td>[94729, PFT40, 94726, 94060, 99214, 99214, 307...</td>\n",
       "      <td>[Measurement of lung diffusing capacity, SPIRO...</td>\n",
       "      <td>f032ea10aef8698e74eabfc6f9391ed8a456507a195fbe...</td>\n",
       "      <td>...</td>\n",
       "      <td>27738</td>\n",
       "      <td>*Not Applicable</td>\n",
       "      <td>SC AMP Loc</td>\n",
       "      <td>Pulmonology</td>\n",
       "      <td>Office Visit</td>\n",
       "      <td>OFFICE VISIT</td>\n",
       "      <td>None</td>\n",
       "      <td>27738.0</td>\n",
       "      <td>32912778</td>\n",
       "      <td>Subjective     Chief Complaint(s)  Follow-up  ...</td>\n",
       "    </tr>\n",
       "    <tr>\n",
       "      <th>1</th>\n",
       "      <td>da41d397381cad64f4a0445289a32ce5310415d32d4220...</td>\n",
       "      <td>27738</td>\n",
       "      <td>0.0</td>\n",
       "      <td>J45.52</td>\n",
       "      <td>Severe persistent asthma with status asthmaticus</td>\n",
       "      <td>1</td>\n",
       "      <td>52</td>\n",
       "      <td>[94729, PFT40, 94726, 94060, 99214, 99214, 307...</td>\n",
       "      <td>[Measurement of lung diffusing capacity, SPIRO...</td>\n",
       "      <td>f032ea10aef8698e74eabfc6f9391ed8a456507a195fbe...</td>\n",
       "      <td>...</td>\n",
       "      <td>27738</td>\n",
       "      <td>*Not Applicable</td>\n",
       "      <td>SC AMP Loc</td>\n",
       "      <td>Pulmonology</td>\n",
       "      <td>Office Visit</td>\n",
       "      <td>OFFICE VISIT</td>\n",
       "      <td>None</td>\n",
       "      <td>27738.0</td>\n",
       "      <td>32912778</td>\n",
       "      <td>Subjective     Chief Complaint(s)  Follow-up  ...</td>\n",
       "    </tr>\n",
       "    <tr>\n",
       "      <th>2</th>\n",
       "      <td>ac407917e23e91644223c6de3950bdfb5e630a71416084...</td>\n",
       "      <td>27173</td>\n",
       "      <td>0.0</td>\n",
       "      <td>J45.41</td>\n",
       "      <td>Moderate persistent asthma with (acute) exacer...</td>\n",
       "      <td>1</td>\n",
       "      <td>41</td>\n",
       "      <td>[nan]</td>\n",
       "      <td>[nan]</td>\n",
       "      <td>9ab627cb193ad1be25353b3b6394a180639f5ed3b55f51...</td>\n",
       "      <td>...</td>\n",
       "      <td>27173</td>\n",
       "      <td>*Not Applicable</td>\n",
       "      <td>SC Encinitas Loc</td>\n",
       "      <td>Family Medicine</td>\n",
       "      <td>Patient Message</td>\n",
       "      <td>*Unspecified</td>\n",
       "      <td>None</td>\n",
       "      <td>27173.0</td>\n",
       "      <td>3777868</td>\n",
       "      <td>From: &lt;PATIENT&gt;  To: &lt;DOCTOR&gt;, NP  Sent: &lt;DATE...</td>\n",
       "    </tr>\n",
       "    <tr>\n",
       "      <th>3</th>\n",
       "      <td>25ceef6b66b1bb72bcda5c7b2ad9c28f8d83e10bebeec3...</td>\n",
       "      <td>27521</td>\n",
       "      <td>0.0</td>\n",
       "      <td>J45.52</td>\n",
       "      <td>Severe persistent asthma with status asthmaticus</td>\n",
       "      <td>1</td>\n",
       "      <td>52</td>\n",
       "      <td>[99213, 99213, 3008F]</td>\n",
       "      <td>[Established patient office or other outpatien...</td>\n",
       "      <td>192f8417008d1419a1d435dbbdb97533d3b07ebd963f11...</td>\n",
       "      <td>...</td>\n",
       "      <td>27521</td>\n",
       "      <td>*Not Applicable</td>\n",
       "      <td>CO Hillcrest Loc</td>\n",
       "      <td>Family Medicine</td>\n",
       "      <td>Office Visit</td>\n",
       "      <td>OFFICE VISIT</td>\n",
       "      <td>None</td>\n",
       "      <td>27521.0</td>\n",
       "      <td>28043019</td>\n",
       "      <td>Subjective     Chief Complaint(s)  Cough and S...</td>\n",
       "    </tr>\n",
       "    <tr>\n",
       "      <th>4</th>\n",
       "      <td>da41d397381cad64f4a0445289a32ce5310415d32d4220...</td>\n",
       "      <td>27864</td>\n",
       "      <td>0.0</td>\n",
       "      <td>J45.52</td>\n",
       "      <td>Severe persistent asthma with status asthmaticus</td>\n",
       "      <td>1</td>\n",
       "      <td>52</td>\n",
       "      <td>[LAB17, 71045, LAB10659, 90121, 71045, 71045, ...</td>\n",
       "      <td>[COMPREHENSIVE METABOLIC PANEL, X-ray portable...</td>\n",
       "      <td>5281054df8856c60c3af52d8d1aa985c00f7ff382f6922...</td>\n",
       "      <td>...</td>\n",
       "      <td>27864</td>\n",
       "      <td>*Not Applicable</td>\n",
       "      <td>SC AMP Loc</td>\n",
       "      <td>Pulmonology</td>\n",
       "      <td>Telemedicine</td>\n",
       "      <td>VIDEO VISIT</td>\n",
       "      <td>None</td>\n",
       "      <td>27864.0</td>\n",
       "      <td>36050256</td>\n",
       "      <td>Subjective     Chief Complaint(s)  Follow-up  ...</td>\n",
       "    </tr>\n",
       "    <tr>\n",
       "      <th>...</th>\n",
       "      <td>...</td>\n",
       "      <td>...</td>\n",
       "      <td>...</td>\n",
       "      <td>...</td>\n",
       "      <td>...</td>\n",
       "      <td>...</td>\n",
       "      <td>...</td>\n",
       "      <td>...</td>\n",
       "      <td>...</td>\n",
       "      <td>...</td>\n",
       "      <td>...</td>\n",
       "      <td>...</td>\n",
       "      <td>...</td>\n",
       "      <td>...</td>\n",
       "      <td>...</td>\n",
       "      <td>...</td>\n",
       "      <td>...</td>\n",
       "      <td>...</td>\n",
       "      <td>...</td>\n",
       "      <td>...</td>\n",
       "      <td>...</td>\n",
       "    </tr>\n",
       "    <tr>\n",
       "      <th>28383</th>\n",
       "      <td>f94907183a2709889f8e5500eb7bd15885f0742c1b1667...</td>\n",
       "      <td>27668</td>\n",
       "      <td>0.0</td>\n",
       "      <td>J45.41</td>\n",
       "      <td>Moderate persistent asthma with (acute) exacer...</td>\n",
       "      <td>1</td>\n",
       "      <td>41</td>\n",
       "      <td>[99214, 99214]</td>\n",
       "      <td>[Established patient office or other outpatien...</td>\n",
       "      <td>2d6a7b3bd79d5091dd17b0ca90fb0bf50e6671c1721880...</td>\n",
       "      <td>...</td>\n",
       "      <td>27668</td>\n",
       "      <td>*Not Applicable</td>\n",
       "      <td>CO Hillcrest Loc</td>\n",
       "      <td>Family Medicine</td>\n",
       "      <td>Telemedicine</td>\n",
       "      <td>VIDEO VISIT</td>\n",
       "      <td>None</td>\n",
       "      <td>27668.0</td>\n",
       "      <td>31215874</td>\n",
       "      <td>As discussed during your visit, your asthma me...</td>\n",
       "    </tr>\n",
       "    <tr>\n",
       "      <th>28384</th>\n",
       "      <td>f94907183a2709889f8e5500eb7bd15885f0742c1b1667...</td>\n",
       "      <td>27668</td>\n",
       "      <td>0.0</td>\n",
       "      <td>J45.41</td>\n",
       "      <td>Moderate persistent asthma with (acute) exacer...</td>\n",
       "      <td>1</td>\n",
       "      <td>41</td>\n",
       "      <td>[99214, 99214]</td>\n",
       "      <td>[Established patient office or other outpatien...</td>\n",
       "      <td>2d6a7b3bd79d5091dd17b0ca90fb0bf50e6671c1721880...</td>\n",
       "      <td>...</td>\n",
       "      <td>27668</td>\n",
       "      <td>*Not Applicable</td>\n",
       "      <td>CO Hillcrest Loc</td>\n",
       "      <td>Family Medicine</td>\n",
       "      <td>Telemedicine</td>\n",
       "      <td>VIDEO VISIT</td>\n",
       "      <td>None</td>\n",
       "      <td>27668.0</td>\n",
       "      <td>31352227</td>\n",
       "      <td>Patient would likely benefit from hormone test...</td>\n",
       "    </tr>\n",
       "    <tr>\n",
       "      <th>28385</th>\n",
       "      <td>f94907183a2709889f8e5500eb7bd15885f0742c1b1667...</td>\n",
       "      <td>27668</td>\n",
       "      <td>0.0</td>\n",
       "      <td>J45.41</td>\n",
       "      <td>Moderate persistent asthma with (acute) exacer...</td>\n",
       "      <td>1</td>\n",
       "      <td>41</td>\n",
       "      <td>[99214, 99214]</td>\n",
       "      <td>[Established patient office or other outpatien...</td>\n",
       "      <td>2d6a7b3bd79d5091dd17b0ca90fb0bf50e6671c1721880...</td>\n",
       "      <td>...</td>\n",
       "      <td>27668</td>\n",
       "      <td>*Not Applicable</td>\n",
       "      <td>CO Hillcrest Loc</td>\n",
       "      <td>Family Medicine</td>\n",
       "      <td>Telemedicine</td>\n",
       "      <td>VIDEO VISIT</td>\n",
       "      <td>None</td>\n",
       "      <td>27668.0</td>\n",
       "      <td>31341840</td>\n",
       "      <td>Provider is comfortable refilling Concerta for...</td>\n",
       "    </tr>\n",
       "    <tr>\n",
       "      <th>28386</th>\n",
       "      <td>f94907183a2709889f8e5500eb7bd15885f0742c1b1667...</td>\n",
       "      <td>27668</td>\n",
       "      <td>0.0</td>\n",
       "      <td>J45.41</td>\n",
       "      <td>Moderate persistent asthma with (acute) exacer...</td>\n",
       "      <td>1</td>\n",
       "      <td>41</td>\n",
       "      <td>[99214, 99214]</td>\n",
       "      <td>[Established patient office or other outpatien...</td>\n",
       "      <td>2d6a7b3bd79d5091dd17b0ca90fb0bf50e6671c1721880...</td>\n",
       "      <td>...</td>\n",
       "      <td>27668</td>\n",
       "      <td>*Not Applicable</td>\n",
       "      <td>CO Hillcrest Loc</td>\n",
       "      <td>Family Medicine</td>\n",
       "      <td>Telemedicine</td>\n",
       "      <td>VIDEO VISIT</td>\n",
       "      <td>None</td>\n",
       "      <td>27668.0</td>\n",
       "      <td>31346587</td>\n",
       "      <td>Patient reports last Pap &lt;DATE&gt; at outside pro...</td>\n",
       "    </tr>\n",
       "    <tr>\n",
       "      <th>28387</th>\n",
       "      <td>f94907183a2709889f8e5500eb7bd15885f0742c1b1667...</td>\n",
       "      <td>27668</td>\n",
       "      <td>0.0</td>\n",
       "      <td>J45.41</td>\n",
       "      <td>Moderate persistent asthma with (acute) exacer...</td>\n",
       "      <td>1</td>\n",
       "      <td>41</td>\n",
       "      <td>[99214, 99214]</td>\n",
       "      <td>[Established patient office or other outpatien...</td>\n",
       "      <td>2d6a7b3bd79d5091dd17b0ca90fb0bf50e6671c1721880...</td>\n",
       "      <td>...</td>\n",
       "      <td>27668</td>\n",
       "      <td>*Not Applicable</td>\n",
       "      <td>CO Hillcrest Loc</td>\n",
       "      <td>Family Medicine</td>\n",
       "      <td>Telemedicine</td>\n",
       "      <td>VIDEO VISIT</td>\n",
       "      <td>None</td>\n",
       "      <td>27668.0</td>\n",
       "      <td>31344514</td>\n",
       "      <td>PROGRESS NOTE            PATIENT: &lt;SQL_REPLACE...</td>\n",
       "    </tr>\n",
       "  </tbody>\n",
       "</table>\n",
       "<p>28388 rows × 37 columns</p>\n",
       "</div>"
      ],
      "text/plain": [
       "                                        PATIENTHASHMRN_x  DATE_DIF_x  CHRONIC  \\\n",
       "0      da41d397381cad64f4a0445289a32ce5310415d32d4220...       27738      0.0   \n",
       "1      da41d397381cad64f4a0445289a32ce5310415d32d4220...       27738      0.0   \n",
       "2      ac407917e23e91644223c6de3950bdfb5e630a71416084...       27173      0.0   \n",
       "3      25ceef6b66b1bb72bcda5c7b2ad9c28f8d83e10bebeec3...       27521      0.0   \n",
       "4      da41d397381cad64f4a0445289a32ce5310415d32d4220...       27864      0.0   \n",
       "...                                                  ...         ...      ...   \n",
       "28383  f94907183a2709889f8e5500eb7bd15885f0742c1b1667...       27668      0.0   \n",
       "28384  f94907183a2709889f8e5500eb7bd15885f0742c1b1667...       27668      0.0   \n",
       "28385  f94907183a2709889f8e5500eb7bd15885f0742c1b1667...       27668      0.0   \n",
       "28386  f94907183a2709889f8e5500eb7bd15885f0742c1b1667...       27668      0.0   \n",
       "28387  f94907183a2709889f8e5500eb7bd15885f0742c1b1667...       27668      0.0   \n",
       "\n",
       "      ICD10CODE                                   ICD10DESCRIPTION  ISPRIMARY  \\\n",
       "0        J45.52   Severe persistent asthma with status asthmaticus          1   \n",
       "1        J45.52   Severe persistent asthma with status asthmaticus          1   \n",
       "2        J45.41  Moderate persistent asthma with (acute) exacer...          1   \n",
       "3        J45.52   Severe persistent asthma with status asthmaticus          1   \n",
       "4        J45.52   Severe persistent asthma with status asthmaticus          1   \n",
       "...         ...                                                ...        ...   \n",
       "28383    J45.41  Moderate persistent asthma with (acute) exacer...          1   \n",
       "28384    J45.41  Moderate persistent asthma with (acute) exacer...          1   \n",
       "28385    J45.41  Moderate persistent asthma with (acute) exacer...          1   \n",
       "28386    J45.41  Moderate persistent asthma with (acute) exacer...          1   \n",
       "28387    J45.41  Moderate persistent asthma with (acute) exacer...          1   \n",
       "\n",
       "       ICDSeverity                                      ProcedureList  \\\n",
       "0               52  [94729, PFT40, 94726, 94060, 99214, 99214, 307...   \n",
       "1               52  [94729, PFT40, 94726, 94060, 99214, 99214, 307...   \n",
       "2               41                                              [nan]   \n",
       "3               52                              [99213, 99213, 3008F]   \n",
       "4               52  [LAB17, 71045, LAB10659, 90121, 71045, 71045, ...   \n",
       "...            ...                                                ...   \n",
       "28383           41                                     [99214, 99214]   \n",
       "28384           41                                     [99214, 99214]   \n",
       "28385           41                                     [99214, 99214]   \n",
       "28386           41                                     [99214, 99214]   \n",
       "28387           41                                     [99214, 99214]   \n",
       "\n",
       "                                          ProcedureNames  \\\n",
       "0      [Measurement of lung diffusing capacity, SPIRO...   \n",
       "1      [Measurement of lung diffusing capacity, SPIRO...   \n",
       "2                                                  [nan]   \n",
       "3      [Established patient office or other outpatien...   \n",
       "4      [COMPREHENSIVE METABOLIC PANEL, X-ray portable...   \n",
       "...                                                  ...   \n",
       "28383  [Established patient office or other outpatien...   \n",
       "28384  [Established patient office or other outpatien...   \n",
       "28385  [Established patient office or other outpatien...   \n",
       "28386  [Established patient office or other outpatien...   \n",
       "28387  [Established patient office or other outpatien...   \n",
       "\n",
       "                                        ENCOUNTERHASHKEY  ... DATE_DIF_y  \\\n",
       "0      f032ea10aef8698e74eabfc6f9391ed8a456507a195fbe...  ...      27738   \n",
       "1      f032ea10aef8698e74eabfc6f9391ed8a456507a195fbe...  ...      27738   \n",
       "2      9ab627cb193ad1be25353b3b6394a180639f5ed3b55f51...  ...      27173   \n",
       "3      192f8417008d1419a1d435dbbdb97533d3b07ebd963f11...  ...      27521   \n",
       "4      5281054df8856c60c3af52d8d1aa985c00f7ff382f6922...  ...      27864   \n",
       "...                                                  ...  ...        ...   \n",
       "28383  2d6a7b3bd79d5091dd17b0ca90fb0bf50e6671c1721880...  ...      27668   \n",
       "28384  2d6a7b3bd79d5091dd17b0ca90fb0bf50e6671c1721880...  ...      27668   \n",
       "28385  2d6a7b3bd79d5091dd17b0ca90fb0bf50e6671c1721880...  ...      27668   \n",
       "28386  2d6a7b3bd79d5091dd17b0ca90fb0bf50e6671c1721880...  ...      27668   \n",
       "28387  2d6a7b3bd79d5091dd17b0ca90fb0bf50e6671c1721880...  ...      27668   \n",
       "\n",
       "         ADMISSIONTYPE      DEPTLOCATION    DEPTSPECIALTY             TYPE  \\\n",
       "0      *Not Applicable        SC AMP Loc      Pulmonology     Office Visit   \n",
       "1      *Not Applicable        SC AMP Loc      Pulmonology     Office Visit   \n",
       "2      *Not Applicable  SC Encinitas Loc  Family Medicine  Patient Message   \n",
       "3      *Not Applicable  CO Hillcrest Loc  Family Medicine     Office Visit   \n",
       "4      *Not Applicable        SC AMP Loc      Pulmonology     Telemedicine   \n",
       "...                ...               ...              ...              ...   \n",
       "28383  *Not Applicable  CO Hillcrest Loc  Family Medicine     Telemedicine   \n",
       "28384  *Not Applicable  CO Hillcrest Loc  Family Medicine     Telemedicine   \n",
       "28385  *Not Applicable  CO Hillcrest Loc  Family Medicine     Telemedicine   \n",
       "28386  *Not Applicable  CO Hillcrest Loc  Family Medicine     Telemedicine   \n",
       "28387  *Not Applicable  CO Hillcrest Loc  Family Medicine     Telemedicine   \n",
       "\n",
       "          VISITTYPE  ADMITDEPTSPECIALTY ENCDATEDIFFNO  NOTE_KEY  \\\n",
       "0      OFFICE VISIT                None       27738.0  32912778   \n",
       "1      OFFICE VISIT                None       27738.0  32912778   \n",
       "2      *Unspecified                None       27173.0   3777868   \n",
       "3      OFFICE VISIT                None       27521.0  28043019   \n",
       "4       VIDEO VISIT                None       27864.0  36050256   \n",
       "...             ...                 ...           ...       ...   \n",
       "28383   VIDEO VISIT                None       27668.0  31215874   \n",
       "28384   VIDEO VISIT                None       27668.0  31352227   \n",
       "28385   VIDEO VISIT                None       27668.0  31341840   \n",
       "28386   VIDEO VISIT                None       27668.0  31346587   \n",
       "28387   VIDEO VISIT                None       27668.0  31344514   \n",
       "\n",
       "                                       DEIDENTIFIED_TEXT  \n",
       "0      Subjective     Chief Complaint(s)  Follow-up  ...  \n",
       "1      Subjective     Chief Complaint(s)  Follow-up  ...  \n",
       "2      From: <PATIENT>  To: <DOCTOR>, NP  Sent: <DATE...  \n",
       "3      Subjective     Chief Complaint(s)  Cough and S...  \n",
       "4      Subjective     Chief Complaint(s)  Follow-up  ...  \n",
       "...                                                  ...  \n",
       "28383  As discussed during your visit, your asthma me...  \n",
       "28384  Patient would likely benefit from hormone test...  \n",
       "28385  Provider is comfortable refilling Concerta for...  \n",
       "28386  Patient reports last Pap <DATE> at outside pro...  \n",
       "28387  PROGRESS NOTE            PATIENT: <SQL_REPLACE...  \n",
       "\n",
       "[28388 rows x 37 columns]"
      ]
     },
     "execution_count": 61,
     "metadata": {},
     "output_type": "execute_result"
    }
   ],
   "source": [
    "df_DIAGPROC_FINDEMOG_ENCNOTE"
   ]
  },
  {
   "cell_type": "code",
   "execution_count": null,
   "metadata": {
    "tags": []
   },
   "outputs": [],
   "source": [
    "#Remove all diagnises  by departments unrelated such as orthopedy \n",
    "Counter(df_DIAGPROC_FINDEMOG_ENC['DEPTSPECIALTY'])\n",
    "#checkcodes = df_DIAGPROC_FINDEMOG_ENC[df_DIAGPROC_FINDEMOG_ENC['DEPTSPECIALTY'] =='Orthopaedic Surgery']"
   ]
  },
  {
   "cell_type": "code",
   "execution_count": null,
   "metadata": {
    "tags": []
   },
   "outputs": [],
   "source": [
    "DepartmentRelevant = [\n",
    "    'Family Medicine',\n",
    "    'Internal Medicine',\n",
    "    #'Pediatrics',\n",
    "    'Allergy and Immunology',\n",
    "    'Pulmonology',\n",
    "    'Urgent Care',\n",
    "    'Emergency Medicine']\n",
    "    #'Sleep Medicine']\n",
    "\n",
    "df_DIAGPROC_FINDEMOG_ENC = df_DIAGPROC_FINDEMOG_ENC[df_DIAGPROC_FINDEMOG_ENC['DEPTSPECIALTY'].isin(DepartmentRelevant)]\n",
    "\n",
    "#df_DIAGPROC_FINDEMOG_ENC.loc[~df_DIAGPROC_FINDEMOG_ENC['DEPTSPECIALTY'].isin(DepartmentRelevant), 'DEPTSPECIALTY'] = 'Other'\n",
    "df_DIAGPROC_FINDEMOG_ENCFiltered = df_DIAGPROC_FINDEMOG_ENC#[df_DIAGPROC_FINDEMOG_ENC['DEPTSPECIALTY'].isin(DepartmentRelevant)]"
   ]
  },
  {
   "cell_type": "code",
   "execution_count": null,
   "metadata": {
    "tags": []
   },
   "outputs": [],
   "source": [
    "df_DIAGPROC_FINDEMOG_ENC.columns\n"
   ]
  },
  {
   "cell_type": "code",
   "execution_count": null,
   "metadata": {
    "tags": []
   },
   "outputs": [],
   "source": [
    "import pandas as pd\n",
    "import matplotlib.pyplot as plt\n",
    "import seaborn as sns\n",
    "from docx import Document\n",
    "from docx.shared import Inches\n",
    "\n",
    "# Step 1: Create a Count column if it doesn't already exist\n",
    "df_summary = df_DIAGPROC_FINDEMOG_ENC.groupby(['DEPTSPECIALTY', 'ICD10CODE']).size().reset_index(name='Count')\n",
    "\n",
    "# Step 2: Calculate the total number of patients for each ICD10 code\n",
    "total_counts_by_code = df_summary.groupby('ICD10CODE')['Count'].transform('sum')\n",
    "\n",
    "# Step 3: Calculate the percentage of patients with each ICD10 code visiting each department specialty\n",
    "df_summary['Percentage'] = (df_summary['Count'] / total_counts_by_code) * 100\n",
    "\n",
    "# Step 4: Pivot the summary table to prepare for the heatmap\n",
    "heatmap_data = df_summary.pivot(index='DEPTSPECIALTY', columns='ICD10CODE', values='Count').fillna(0)\n",
    "percentage_data = df_summary.pivot(index='DEPTSPECIALTY', columns='ICD10CODE', values='Percentage').fillna(0)\n",
    "\n",
    "# Step 5: Create a formatted annotation DataFrame showing both percentage and count\n",
    "annot_data = heatmap_data.astype(int).astype(str) + \"\\n(\" + percentage_data.round(2).astype(str) + \"%)\"\n",
    "\n",
    "# Step 6: Create the heatmap with combined annotations\n",
    "plt.figure(figsize=(12, 8))\n",
    "ax=sns.heatmap(\n",
    "    heatmap_data,\n",
    "    annot=annot_data,  # Custom annotations\n",
    "    fmt='',  # Allows string-based annotations\n",
    "    cmap='Blues',\n",
    "    cbar_kws={'label': 'Number of Patients'},\n",
    "    annot_kws={'fontsize': 12}  # Set annotation font size\n",
    ")\n",
    "\n",
    "# Customize the color bar label font size\n",
    "cbar = ax.collections[0].colorbar  # Access the color bar\n",
    "cbar.ax.yaxis.label.set_size(12)  # Set the font size of the color bar label\n",
    "cbar.ax.tick_params(labelsize=12)  # Adjust font size for color bar ticks\n",
    "\n",
    "\n",
    "# Customize font sizes for labels and title\n",
    "plt.xlabel('ICD10Code', fontsize=12)\n",
    "plt.ylabel('Department Specialty', fontsize=12)\n",
    "plt.xticks(rotation=90, fontsize=12)  # Rotate x-axis labels and set font size\n",
    "plt.yticks(rotation=0,fontsize=12)  # Set y-axis label font size\n",
    "plt.title('Patients with Each ICD10 Code Visiting Each Department Specialty (Counts and Percentages)', fontsize=16)\n",
    "\n",
    "# Save the plot as an image\n",
    "plt.savefig('temp.png', bbox_inches='tight')\n",
    "\n",
    "# Step 8: Add the heatmap to a Word document\n",
    "#document = Document()\n",
    "document.add_heading('Patient Data Analysis', level=1)\n",
    "document.add_picture('temp.png', width=Inches(5))\n",
    "document.add_paragraph('Patients with Each ICD10 Code Visiting Each Department Specialty (Counts and Percentages)')\n",
    "\n",
    "# Save the Word document#\n",
    "#document.save('Patient_Analysis_Report.docx')\n",
    "\n",
    "# Step 9: Show the plot\n",
    "plt.show()"
   ]
  },
  {
   "cell_type": "code",
   "execution_count": null,
   "metadata": {
    "tags": []
   },
   "outputs": [],
   "source": [
    "df_DIAGPROC_FINDEMOG_ENC.columns"
   ]
  },
  {
   "cell_type": "code",
   "execution_count": null,
   "metadata": {
    "tags": []
   },
   "outputs": [],
   "source": [
    "import pandas as pd\n",
    "\n",
    "# Assuming df_DIAGPROC_FINDEMOG_ENCFiltered is your DataFrame\n",
    "# and 'PATIENTHASHMRN_x' is the patient identifier, 'DATE_DIF_x' is the date of diagnosis, and 'ICD10CODE' is the diagnosis code.\n",
    "\n",
    "# Step 1: Group by patient ID and date, and count the number of diagnoses\n",
    "diagnosis_count = df_DIAGPROC_FINDEMOG_ENCFiltered.groupby(['PATIENTHASHMRN', 'DATE_DIF']).size().reset_index(name='DiagnosisCount')\n",
    "\n",
    "# Step 2: Filter for records where the DiagnosisCount is greater than 1\n",
    "multiple_diagnoses = diagnosis_count[diagnosis_count['DiagnosisCount'] > 1]\n",
    "\n",
    "# Step 3: Merge with the original DataFrame to get full details of these diagnoses\n",
    "patients_with_multiple_diagnoses = df_DIAGPROC_FINDEMOG_ENCFiltered.merge(\n",
    "    multiple_diagnoses[['PATIENTHASHMRN', 'DATE_DIF']],\n",
    "    on=['PATIENTHASHMRN', 'DATE_DIF'],\n",
    "    how='inner'\n",
    ")\n",
    "\n",
    "# Display the result\n",
    "patients_with_multiple_diagnoses"
   ]
  },
  {
   "cell_type": "code",
   "execution_count": null,
   "metadata": {
    "tags": []
   },
   "outputs": [],
   "source": [
    "# Step 1: Group by 'ICD10CODE' and 'ICD10DESCRIPTION', counting unique patients\n",
    "patient_counts = df_DIAGPROC_FINDEMOG_ENC.groupby(['ICD10CODE', 'ICD10DESCRIPTION'])['PATIENTHASHMRN'].count().reset_index(name='Number_of_Patients')\n",
    "\n",
    "# Step 2: Display the resulting table\n",
    "print(patient_counts)  # You can replace this with other display methods like patient_counts.head() or exporting to a file\n",
    "patient_counts.to_csv('ICD10_patient_counts.csv', index=False)\n",
    "\n",
    "document.add_paragraph(\"Number of Visits, ICD 10 codes and Department Specialities\")\n",
    "doctable(patient_counts,\" Department Specialities and Patients Seen\",['index','ICD10 Code ','ICD10 Description', 'Number of Visits'])\n"
   ]
  },
  {
   "cell_type": "code",
   "execution_count": null,
   "metadata": {
    "tags": []
   },
   "outputs": [],
   "source": []
  },
  {
   "cell_type": "code",
   "execution_count": null,
   "metadata": {
    "tags": []
   },
   "outputs": [],
   "source": [
    "df_DIAGPROC_FINDEMOG_ENCFiltered.columns"
   ]
  },
  {
   "cell_type": "code",
   "execution_count": null,
   "metadata": {
    "tags": []
   },
   "outputs": [],
   "source": [
    "# Get unique patients\n",
    "unique_patients = df_DIAGPROC_FINDEMOG_ENCFiltered['PATIENTHASHMRN'].unique()\n",
    "\n",
    "# If you wish to see the number of unique patients\n",
    "number_of_unique_patients = len(unique_patients)\n",
    "\n",
    "print(f\"Number of unique patients: {number_of_unique_patients}\")\n",
    "p=document.add_paragraph(\"The number of unique patients with a diagnosis by a relevant department is :\")\n",
    "p.add_run(str(number_of_unique_patients))\n",
    "p.add_run(\"The patients that received an asthma related visit to the doctor --\")\n",
    "# If you want to see the list of unique patient IDs, you can print 'unique_patients' but be cautious with large datasets\n",
    "# print(unique_patients)\n"
   ]
  },
  {
   "cell_type": "code",
   "execution_count": null,
   "metadata": {
    "tags": []
   },
   "outputs": [],
   "source": [
    "#copy the data back from the master\n",
    "#df_DIAGPROC_FINDEMOG_ENCFiltered = df_DIAGPROC_FINDEMOG_ENCFiltered_copy\n",
    "\n",
    "#replace ICD10 codes for Astma sub penotypes with do not care\n",
    "# Define the replacement dictionary\n",
    "\n",
    "replacement_dict = {\n",
    "    'J45.20': 'J45.2x', 'J45.21': 'J45.2x',\n",
    "    'J45.30': 'J45.3x', 'J45.31': 'J45.3x', 'J45.32': 'J45.3x',\n",
    "    'J45.40': 'J45.4x', 'J45.41': 'J45.4x', 'J45.42': 'J45.4x',\n",
    "    'J45.50': 'J45.5x', 'J45.51': 'J45.5x', 'J45.52': 'J45.5x'\n",
    "}\n",
    "\n",
    "# Apply the replacements\n",
    "df_DIAGPROC_FINDEMOG_ENCFiltered['ICD10CODE'] = df_DIAGPROC_FINDEMOG_ENCFiltered['ICD10CODE'].replace(replacement_dict)\n",
    "\n",
    "num_unique_patients = df_DIAGPROC_FINDEMOG_ENCFiltered['PATIENTHASHMRN'].count()\n",
    "patient_visits = df_DIAGPROC_FINDEMOG_ENCFiltered.groupby('PATIENTHASHMRN').size().reset_index(name='Visit_Count')\n",
    "\n",
    "icd_codes_list = df_DIAGPROC_FINDEMOG_ENCFiltered.groupby('PATIENTHASHMRN')['ICD10CODE'].apply(list).reset_index(name='ICD10CODEs')\n",
    "dept_specialty_list = df_DIAGPROC_FINDEMOG_ENCFiltered.groupby(['PATIENTHASHMRN', 'ICD10CODE'])['DEPTSPECIALTY'].apply(list).reset_index(name='DEPTSPECIALTYs')\n",
    "\n",
    "patient_visits = pd.merge(patient_visits, icd_codes_list, on='PATIENTHASHMRN', how='left')\n",
    "patient_visits_department = pd.merge(patient_visits, dept_specialty_list, on='PATIENTHASHMRN', how='left')\n",
    "\n",
    "patient_visits_department=patient_visits_department.drop('ICD10CODE',axis=1)\n",
    "\n",
    "#print(\"Summary DataFrame:\")\n",
    "#print(patient_visits)\n",
    "\n",
    "# Merging both DataFrames on 'PATIENTHASHMRN'\n",
    "merged_df = pd.merge(icd_codes_list, dept_specialty_list, on='PATIENTHASHMRN', how='left')\n",
    "\n",
    "# Creating a pivot table\n",
    "pivot_table = pd.pivot_table(df_DIAGPROC_FINDEMOG_ENCFiltered, index='DEPTSPECIALTY', columns='ICD10CODE', aggfunc='size', fill_value=0)\n",
    "\n",
    "document.add_paragraph(\"Matrix of DEPTSPECIALTY versus ICD10CODES:\")\n",
    "print(pivot_table)\n",
    "doctable(pivot_table,\" Department Specialities and Patients Seen\",['Department Speciality','J45.2x', 'J45.3x', 'J45.4x', 'J45.5x'])\n"
   ]
  },
  {
   "cell_type": "code",
   "execution_count": null,
   "metadata": {
    "tags": []
   },
   "outputs": [],
   "source": [
    "Counter(df_DIAGPROC_FINDEMOG_ENCFiltered['ICD10CODE'])"
   ]
  },
  {
   "cell_type": "code",
   "execution_count": null,
   "metadata": {
    "tags": []
   },
   "outputs": [],
   "source": [
    "\n",
    "#Drop duplicates to generate statistics  for these patients  only for demographics purposes\n",
    "df_DIAGPROC_FINDEMOG_ENCFiltered_Unique= df_DIAGPROC_FINDEMOG_ENCFiltered.drop_duplicates(subset=['PATIENTHASHMRN'])\n",
    "\n",
    "# Count the number of patients for each ethnicity\n",
    "ethnicity_counts = df_DIAGPROC_FINDEMOG_ENCFiltered_Unique['RACE'].value_counts()\n",
    "\n",
    "# Calculate the percentage of patients for each ethnicity\n",
    "ethnicity_percentage = df_DIAGPROC_FINDEMOG_ENCFiltered_Unique['RACE'].value_counts(normalize=True) * 100\n",
    "\n",
    "# Create a summary DataFrame to neatly display counts and percentages\n",
    "ethnicity_summary = pd.DataFrame({\n",
    "    'Number of Patients': ethnicity_counts,\n",
    "    'Percentage': ethnicity_percentage\n",
    "})\n",
    "\n",
    "# Optional: format the 'Percentage' column to round to 2 decimal places and add the '%' sign\n",
    "ethnicity_summary['Percentage'] = ethnicity_summary['Percentage'].map('{:.2f}%'.format)\n",
    "\n",
    "# Display the summary\n",
    "print(ethnicity_summary)\n",
    "doctable(ethnicity_summary,\"Ethnicity Statistics\",['Ethnicity','Number of Patients', 'Percentage'])\n",
    "                                                                                           \n",
    "                                                                                           \n",
    "# Count the number of patients for each ethnicity\n",
    "race_counts = df_DIAGPROC_FINDEMOG_ENCFiltered_Unique['RACE'].value_counts()\n",
    "\n",
    "# Calculate the percentage of patients for each ethnicity\n",
    "race_percentage = df_DIAGPROC_FINDEMOG_ENCFiltered_Unique['RACE'].value_counts(normalize=True) * 100\n",
    "\n",
    "# Create a summary DataFrame to neatly display counts and percentages\n",
    "race_summary = pd.DataFrame({\n",
    "    'Number of Patients': race_counts,\n",
    "    'Percentage': race_percentage\n",
    "})\n",
    "\n",
    "# Optional: format the 'Percentage' column to round to 2 decimal places and add the '%' sign\n",
    "race_summary['Percentage'] = race_summary['Percentage'].map('{:.2f}%'.format)\n",
    "\n",
    "# Display the summary\n",
    "print(race_summary)\n",
    "doctable(race_summary,\"Race Statistics\",['Race','Number of Patients', 'Percentage'])\n",
    "\n",
    "# Count the number of patients for each ethnicity\n",
    "incomecat_counts = df_DIAGPROC_FINDEMOG_ENCFiltered_Unique['INCOME_CATEGORY'].value_counts()\n",
    "\n",
    "# Calculate the percentage of patients for each ethnicity\n",
    "incomecat_percentage = df_DIAGPROC_FINDEMOG_ENCFiltered_Unique['INCOME_CATEGORY'].value_counts(normalize=True) * 100\n",
    "\n",
    "# Create a summary DataFrame to neatly display counts and percentages\n",
    "incomecat_summary = pd.DataFrame({\n",
    "    'Number of Patients': incomecat_counts,\n",
    "    'Percentage': incomecat_percentage\n",
    "})\n",
    "\n",
    "# Optional: format the 'Percentage' column to round to 2 decimal places and add the '%' sign\n",
    "incomecat_summary['Percentage'] = incomecat_summary['Percentage'].map('{:.2f}%'.format)\n",
    "\n",
    "# Display the summary\n",
    "print(incomecat_summary)\n",
    "doctable(incomecat_summary,\"Income Category Statistics\",['Income Category','Number of Patients', 'Percentage'])\n",
    "                                                                                           "
   ]
  },
  {
   "cell_type": "code",
   "execution_count": null,
   "metadata": {
    "tags": []
   },
   "outputs": [],
   "source": [
    "# Only patients with Asthma diagnoses in  during the data collection period are considered\n",
    "patientMRNforAsthmaPatients = df_FINDEMOG.PATIENTHASHMRN.unique()\n",
    "df_MEDICATIONS = df_MEDICATIONS[df_MEDICATIONS['PATIENTHASHMRN'].isin(patientMRNforAsthmaPatients)]"
   ]
  },
  {
   "cell_type": "code",
   "execution_count": null,
   "metadata": {
    "tags": []
   },
   "outputs": [],
   "source": [
    "# Medication's classes assigned as Severity \n",
    "Severe_Med_list=['GLUCOCORTICOIDS', #3\n",
    "                 'INTERLEUKIN-5 (IL-5) ANTAGONISTS, MAB', # 3 GSk\n",
    "                 'INTERLEUKIN-5(IL-5) RECEPTOR ALPHA ANTAGONIST, MAB', #3\n",
    "                 'MONOCLONAL ANTIBODIES TO IMMUNOGLOBULIN E (IGE)',#3\n",
    "                 'INTERLEUKIN-4(IL-4) RECEPTOR ALPHA ANTAGONIST, MAB',#3\n",
    "                 'THYMIC STROMAL LYMPHOPOIETIN (TSLP) INHIBITORS' #3\n",
    "                ]\n",
    "\n",
    "Moderate_Med_list=[\n",
    "                'BETA-ADRENERGIC AND ANTICHOLINERGIC COMBO, INHALED',# 2 Moderate  does include stereoid\n",
    "                'BETA-ADRENERGIC AND GLUCOCORTICOID COMBO, INHALED', # 2 Moderate\n",
    "                'BETA-ADRENERGIC-ANTICHOLINERGIC-GLUCOCORT, INHALED' # 2 Moderate\n",
    "                ]\n",
    "\n",
    "Mild_Med_list=[ 'GLUCOCORTICOIDS, ORALLY INHALED', # 1 \n",
    "                'GENERAL BRONCHODILATOR AGENTS',  #1 \n",
    "                'BETA-ADRENERGIC AGENTS', #1\n",
    "                'BETA-ADRENERGIC AGENTS, INHALED, SHORT ACTING',#1\n",
    "                'ANTICHOLINERGICS, ORALLY INHALED SHORT ACTING',#1\n",
    "                'BETA-ADRENERGIC AGENTS, INHALED, ULTRA-LONG ACTING', #1 \n",
    "                'BETA-ADRENERGIC AGENTS, ORALLY INHALED,LONG ACTING', #1 \n",
    "                'ANTICHOLINERGICS, ORALLY INHALED LONG ,ACTING'#  1 \n",
    "                ]\n",
    "\n",
    "Soft_Med_list=[\n",
    "                '5-LIPOXYGENASE INHIBITORS',# X Mild  0.5 \n",
    "                'LEUKOTRIENE RECEPTOR ANTAGONISTS', # X mild 0.5 \n",
    "                'MAST CELL STABILIZERS, ORALLY INHALED', #0.25 \n",
    "                'PHOSPHODIESTERASE-4 (PDE4) INHIBITORS' # 0.5\n",
    "                ]      \n",
    "\n",
    "def Medic_Severe(cell):\n",
    "    if any(val in str(cell) for val in Severe_Med_list) == True:\n",
    "        return 3.0\n",
    "    elif any(val in str(cell) for val in Moderate_Med_list) == True:\n",
    "        return 2.0\n",
    "    elif any(val in str(cell) for val in Mild_Med_list) == True:\n",
    "        return 1.0\n",
    "    elif any(val in str(cell) for val in Soft_Med_list) == True:\n",
    "        return 0.5\n",
    "    else:\n",
    "        return 0.0 \n",
    "    \n",
    "# Create Severity columns and note severity level of medicines\n",
    "df_MEDICATIONS['MedicationSeverity']=df_MEDICATIONS['PHARMACEUTICALCLASS'].apply(Medic_Severe)\n",
    "\n",
    "paragraph = document.add_paragraph('The patient data reported in this section is the patients that has been prescribed oral stereoids or biological medications')\n",
    "paragraph.add_run(' two new variables addes to the data, medication severity is an indicator of the patients use  medications classified as class 3 which includes oral stereoid and biological medictions')\n",
    "paragraph.add_run(' the second variable named as patientseverity indicates whether the patient has been prescribed two or more doses of oral stereoids within a window if  6 months')\n",
    "\n"
   ]
  },
  {
   "cell_type": "code",
   "execution_count": null,
   "metadata": {
    "tags": []
   },
   "outputs": [],
   "source": [
    "comboinhalers = df_MEDICATIONS[\n",
    "    (df_MEDICATIONS['PHARMACEUTICALCLASS'] == 'BETA-ADRENERGIC AND GLUCOCORTICOID COMBO, INHALED') |\n",
    "    (df_MEDICATIONS['PHARMACEUTICALCLASS'] =='BETA-ADRENERGIC-ANTICHOLINERGIC-GLUCOCORT, INHALED')\n",
    "]"
   ]
  },
  {
   "cell_type": "code",
   "execution_count": null,
   "metadata": {
    "tags": []
   },
   "outputs": [],
   "source": [
    "Biologicals =[   'INTERLEUKIN-5 (IL-5) ANTAGONISTS, MAB', # 3 GSk\n",
    "                 'INTERLEUKIN-5(IL-5) RECEPTOR ALPHA ANTAGONIST, MAB', #3\n",
    "                 'MONOCLONAL ANTIBODIES TO IMMUNOGLOBULIN E (IGE)',#3\n",
    "                 'INTERLEUKIN-4(IL-4) RECEPTOR ALPHA ANTAGONIST, MAB',#3\n",
    "                 'THYMIC STROMAL LYMPHOPOIETIN (TSLP) INHIBITORS' #3\n",
    "                ]\n"
   ]
  },
  {
   "cell_type": "code",
   "execution_count": null,
   "metadata": {
    "tags": []
   },
   "outputs": [],
   "source": [
    "BIOLOGICALS = df_MEDICATIONS[df_MEDICATIONS['PHARMACEUTICALCLASS'].isin(Biologicals)].MEDNAME.unique()\n",
    "BIOLOGICALPresc= df_MEDICATIONS[df_MEDICATIONS['PHARMACEUTICALCLASS'].isin(Biologicals)]"
   ]
  },
  {
   "cell_type": "code",
   "execution_count": null,
   "metadata": {
    "tags": []
   },
   "outputs": [],
   "source": [
    "BIOLOGICALPresc"
   ]
  },
  {
   "cell_type": "code",
   "execution_count": null,
   "metadata": {
    "tags": []
   },
   "outputs": [],
   "source": [
    "COMBOINHALERS = list(comboinhalers.MEDNAME.unique())"
   ]
  },
  {
   "cell_type": "code",
   "execution_count": null,
   "metadata": {
    "tags": []
   },
   "outputs": [],
   "source": [
    "COMBOINHALERS"
   ]
  },
  {
   "cell_type": "code",
   "execution_count": null,
   "metadata": {
    "tags": []
   },
   "outputs": [],
   "source": [
    "COMBOINHALERS\n",
    "# Convert the list to a DataFrame\n",
    "df = pd.DataFrame(COMBOINHALERS, columns=['inhaledmedications'])\n",
    "\n",
    "# Write the DataFrame to an Excel file\n",
    "df.to_excel('comboinhales.xlsx', index=False)"
   ]
  },
  {
   "cell_type": "code",
   "execution_count": null,
   "metadata": {
    "tags": []
   },
   "outputs": [],
   "source": [
    "GLUCOCORTICOIDSPresc = df_MEDICATIONS[df_MEDICATIONS['PHARMACEUTICALCLASS'] == 'GLUCOCORTICOIDS']"
   ]
  },
  {
   "cell_type": "code",
   "execution_count": null,
   "metadata": {
    "tags": []
   },
   "outputs": [],
   "source": [
    "GLUCOCORTICOIDS = sorted(list(GLUCOCORTICOIDSPresc.MEDNAME.unique()))"
   ]
  },
  {
   "cell_type": "code",
   "execution_count": null,
   "metadata": {
    "tags": []
   },
   "outputs": [],
   "source": [
    "GLUCOCORTICOIDS"
   ]
  },
  {
   "cell_type": "code",
   "execution_count": null,
   "metadata": {
    "tags": []
   },
   "outputs": [],
   "source": [
    "glococorticoidsOrallyInhaled = df_MEDICATIONS[df_MEDICATIONS['PHARMACEUTICALCLASS'].str.strip().str.contains('GLUCOCORTICOIDS, ORALLY INHALED',case=False, na=False, regex=True)]\n",
    "GLUCOCORTICOIDSORALLYINHALED = sorted(list(glococorticoidsOrallyInhaled.MEDNAME.unique()))\n",
    "\n"
   ]
  },
  {
   "cell_type": "code",
   "execution_count": null,
   "metadata": {
    "tags": []
   },
   "outputs": [],
   "source": [
    "# Convert the list to a DataFrame\n",
    "df = pd.DataFrame(GLUCOCORTICOIDSORALLYINHALED, columns=['inhaledmedications'])\n",
    "\n",
    "# Write the DataFrame to an Excel file\n",
    "df.to_excel('inhaled.xlsx', index=False)"
   ]
  },
  {
   "cell_type": "code",
   "execution_count": null,
   "metadata": {
    "tags": []
   },
   "outputs": [],
   "source": [
    "Counter(glococorticoidsOrallyInhaled.MEDNAME)"
   ]
  },
  {
   "cell_type": "code",
   "execution_count": null,
   "metadata": {
    "tags": []
   },
   "outputs": [],
   "source": [
    "GLUCOCORTICOIDSORALLYINHALED"
   ]
  },
  {
   "cell_type": "code",
   "execution_count": null,
   "metadata": {
    "tags": []
   },
   "outputs": [],
   "source": [
    "OralInhalerContollers = df_MEDICATIONS[\n",
    "    (df_MEDICATIONS['PHARMACEUTICALCLASS'] == 'GENERAL BRONCHODILATOR AGENTS')| \n",
    "    (df_MEDICATIONS['PHARMACEUTICALCLASS'] =='BETA-ADRENERGIC AGENTS')|\n",
    "    (df_MEDICATIONS['PHARMACEUTICALCLASS'] =='BETA-ADRENERGIC AGENTS, INHALED, SHORT ACTING')|\n",
    "    (df_MEDICATIONS['PHARMACEUTICALCLASS'] =='ANTICHOLINERGICS, ORALLY INHALED SHORT ACTING')|\n",
    "    (df_MEDICATIONS['PHARMACEUTICALCLASS'] =='BETA-ADRENERGIC AGENTS, INHALED, ULTRA-LONG ACTING')| \n",
    "    (df_MEDICATIONS['PHARMACEUTICALCLASS'] =='BETA-ADRENERGIC AGENTS, ORALLY INHALED,LONG ACTING')| \n",
    "    (df_MEDICATIONS['PHARMACEUTICALCLASS'] =='ANTICHOLINERGICS, ORALLY INHALED LONG ,ACTING')|\n",
    "    (df_MEDICATIONS['PHARMACEUTICALCLASS'] =='BETA-ADRENERGIC AND ANTICHOLINERGIC COMBO, INHALED')\n",
    "    \n",
    "\n",
    "]\n",
    "CONTROLLERINHALERS = sorted(list(OralInhalerContollers.MEDNAME.unique()))"
   ]
  },
  {
   "cell_type": "code",
   "execution_count": null,
   "metadata": {
    "tags": []
   },
   "outputs": [],
   "source": [
    "CONTROLLERINHALERS\n",
    "# Convert the list to a DataFrame\n",
    "df = pd.DataFrame(CONTROLLERINHALERS, columns=['inhaledmedications'])\n",
    "\n",
    "# Write the DataFrame to an Excel file\n",
    "df.to_excel('controllerinhales.xlsx', index=False)"
   ]
  },
  {
   "cell_type": "code",
   "execution_count": null,
   "metadata": {
    "tags": []
   },
   "outputs": [],
   "source": []
  },
  {
   "cell_type": "code",
   "execution_count": null,
   "metadata": {
    "tags": []
   },
   "outputs": [],
   "source": [
    "GLUCOCORTICOIDS"
   ]
  },
  {
   "cell_type": "code",
   "execution_count": null,
   "metadata": {
    "tags": []
   },
   "outputs": [],
   "source": [
    "#Filter out all medications  and remove medications with severity 0,  these are medications that are not relevant to Asthma treatment\n",
    "df_MEDICATIONS = df_MEDICATIONS[df_MEDICATIONS.MedicationSeverity != 0]\n",
    "# the medication database now contains only medications prescribed for Asthma"
   ]
  },
  {
   "cell_type": "code",
   "execution_count": null,
   "metadata": {
    "tags": []
   },
   "outputs": [],
   "source": [
    "df_MEDICATIONS['c']=0\n",
    "\n",
    "def check_InhalerStatus(medication_list, grup1, grup2, grup3):\n",
    "    # Convert groups to sets for efficient lookup\n",
    "    grup1_set = set(grup1)\n",
    "    grup2_set = set(grup2)\n",
    "    grup3_set = set(grup3)\n",
    "\n",
    "    # Check if there is a medication in GRUP 1 and a separate medication in GRUP 2\n",
    "    in_grup1 = any(medication in grup1_set for medication in medication_list)\n",
    "    in_grup2 = any(medication in grup2_set for medication in medication_list)\n",
    "\n",
    "    if in_grup1 and in_grup2:\n",
    "        return 1  # Return 1 if a medication is in GRUP 1 and another is in GRUP 2\n",
    "    \n",
    "    # Check if any medication is in GRUP 3\n",
    "    in_grup3 = any(medication in grup3_set for medication in medication_list)\n",
    "    if in_grup3:\n",
    "        return 1  # Return 1 if a match is found in GRUP 3\n",
    "    \n",
    "    return 0\n",
    "\n",
    "\n",
    "\n",
    "df_MEDICATIONS['InhalerController']=0\n",
    "\n",
    "for mrn in df_MEDICATIONS['PATIENTHASHMRN'].unique():\n",
    "    # Extract the relevant rows for this MRN\n",
    "    group = df_MEDICATIONS[df_MEDICATIONS['PATIENTHASHMRN'] == mrn]\n",
    "    medications = group['MEDNAME'].sort_values()\n",
    "\n",
    "    oralInhalerStatus = check_InhalerStatus(medications,GLUCOCORTICOIDSORALLYINHALED,CONTROLLERINHALERS,COMBOINHALERS)\n",
    "    \n",
    "    df_MEDICATIONS.loc[df_MEDICATIONS['PATIENTHASHMRN'] == mrn, 'InhalerController'] = oralInhalerStatus\n",
    "    "
   ]
  },
  {
   "cell_type": "code",
   "execution_count": null,
   "metadata": {
    "tags": []
   },
   "outputs": [],
   "source": [
    "patientsonBiologicals = df_MEDICATIONS[df_MEDICATIONS['MEDNAME'].isin(BIOLOGICALS)].PATIENTHASHMRN.unique()\n"
   ]
  },
  {
   "cell_type": "code",
   "execution_count": null,
   "metadata": {
    "tags": []
   },
   "outputs": [],
   "source": [
    "patientsonBiologicals"
   ]
  },
  {
   "cell_type": "code",
   "execution_count": null,
   "metadata": {
    "tags": []
   },
   "outputs": [],
   "source": [
    "#Determine the patient list who has been prescribed an orally inhaled corticosteroid -- \n",
    "#Severe asthma will be determined based on the medications precribed\n",
    "\n",
    "# controller medications, one of which includes a medium or high dose glucosteroid inhaler\n",
    "# Uncontrolled despite being prescribed these medications, which typically means more than 1 oral steroid course\n",
    "\n",
    "df_MEDICATIONSOrallyInhaled = df_MEDICATIONS[df_MEDICATIONS['InhalerController'] == 1]\n",
    "PatientsOralInhal = df_MEDICATIONSOrallyInhaled.PATIENTHASHMRN.unique()\n",
    "#Patient list who has been prescribed an orally inhaled corticosteroid has been determined\n",
    "\n",
    "glucocorticoids = ['GLUCOCORTICOIDS']\n",
    "\n",
    "# Assign the Severe medications to dataframe \n",
    "# Patients that were prescribed  Oral Corticosteroids \n",
    "df_Severe_med = df_MEDICATIONS[df_MEDICATIONS['PHARMACEUTICALCLASS'].isin(glucocorticoids)]\n",
    "\n",
    "#df_Severe_med=df_Severe_med[df_Severe_med['PHARMACEUTICALCLASS'].isin(Severe_Med_list)]\n",
    "\n",
    "\n",
    "df_Severe_med['PatientSeverity']=0.0\n",
    "\n",
    "\n",
    "df_Severe_med.sort_values(by=['PATIENTHASHMRN', 'DATE_DIF'], inplace=True)\n",
    "\n",
    "p1 = document.add_paragraph(\" Patient severity is decided based on the  number of oral steroid prescritions within 12 months.  if the patient received two or more oral stereoid prescriptons during a 6 month\")\n",
    "p1.add_run(\"period and at least 10 days apart between steroid prescriptions, the patient is classified as severe, otherwise the patient is classified as not severe based on oral steroid episodes\")\n",
    "\n",
    "p2 = document.add_paragraph(\"Medication Severity is decided based on the type of the medications.  All oral and injectable stereoids and biologicals are classified as severe medications\")\n",
    "\n",
    "\n",
    "# Function to determine if a patient is a SeverePatient\n",
    "def check_severity(severity_1_dates):\n",
    "    retVal = 0\n",
    "    last_occurance = {}\n",
    "    event_in_180_days = False\n",
    "    \n",
    "    # Check if there are enough dates to compare\n",
    "    if len(severity_1_dates) < 2:\n",
    "        return retVal  # Not enough events to compare\n",
    "    \n",
    "    # Iterate through the list of dates\n",
    "    for i in range(len(severity_1_dates) - 1):\n",
    "        date_difference = severity_1_dates.iloc[i + 1] - severity_1_dates.iloc[i]\n",
    "        \n",
    "        # Check if the time difference is between 10 and 365 days\n",
    "        if 10 < date_difference <= 365:\n",
    "            if 'OCS' in last_occurance:\n",
    "                last_date_diff = severity_1_dates.iloc[i + 1] - last_occurance['OCS']\n",
    "                \n",
    "                # Check if an OCS event occurred within the last 365 days\n",
    "                if last_date_diff < 365:\n",
    "                    last_occurance['OCS'] = severity_1_dates.iloc[i + 1]\n",
    "                    event_in_180_days = True\n",
    "                    retVal += 1  # Increment the severity counter\n",
    "            else:\n",
    "                # Record the first occurrence of an OCS event\n",
    "                last_occurance['OCS'] = severity_1_dates.iloc[i + 1]\n",
    "    \n",
    "    # Return the result based on whether events occurred in 180 days\n",
    "    if event_in_180_days:\n",
    "        return retVal  # Number of severe events detected\n",
    "    else:\n",
    "        return 0  # No severe event in the timeframe\n",
    "\n",
    "for mrn in df_Severe_med['PATIENTHASHMRN'].unique():\n",
    "    # Extract the relevant rows for this MRN\n",
    "    group = df_Severe_med[df_Severe_med['PATIENTHASHMRN'] == mrn]\n",
    "\n",
    "    # Filter for severity 3 medications and sort\n",
    "    #severity_1_dates = group[group['MedicationSeverity'] == 3.0]['DATE_DIF'].sort_values()\n",
    "    severity_1_dates = group['DATE_DIF'].sort_values()\n",
    "   \n",
    "   \n",
    "    # Check for severity and update the DataFrame\n",
    "    severity_status = check_severity(severity_1_dates)\n",
    "    \n",
    "    #print(severity_status)\n",
    "    df_Severe_med.loc[df_Severe_med['PATIENTHASHMRN'] == mrn, 'PatientSeverity'] = severity_status\n",
    "    \n",
    "    # Set patient Severity to a binary value of 0 or 1 \n",
    "\n",
    "df_Severe_med.loc[df_Severe_med['PatientSeverity'] == 1.0, 'PatientSeverity'] = 0.0\n",
    "# If at least two dose of stereoids within 6 months\n",
    "df_Severe_med.loc[df_Severe_med['PatientSeverity'] > 1.0, 'PatientSeverity'] = 1.0\n",
    "df_Severe_med['PatientSeverity'] = df_Severe_med['PatientSeverity'].fillna(0)"
   ]
  },
  {
   "cell_type": "code",
   "execution_count": null,
   "metadata": {
    "tags": []
   },
   "outputs": [],
   "source": [
    "len(patientsonBiologicals)\n"
   ]
  },
  {
   "cell_type": "code",
   "execution_count": null,
   "metadata": {
    "tags": []
   },
   "outputs": [],
   "source": [
    "import csv\n",
    "severeCandidatePatients = df_Severe_med[df_Severe_med['PatientSeverity'] == 1 ].PATIENTHASHMRN.unique()\n",
    "severePatientList  = df_Severe_med[df_Severe_med['PatientSeverity'] ==1 ].PATIENTHASHMRN.unique()\n",
    "\n",
    "# Specify the CSV file name\n",
    "file_name = 'uncontrolled.csv'\n",
    "\n",
    "# Open the file in write mode ('w') and create a csv.writer object\n",
    "with open(file_name, mode='w', newline='') as file:\n",
    "    writer = csv.writer(file)\n",
    "\n",
    "    # Write each item in the list as a separate row\n",
    "    for item in severePatientList:\n",
    "        writer.writerow([item])  # Note the item is wrapped in a list\n",
    "        \n",
    "        \n",
    "\n",
    "# Open the file in write mode ('w') and create a csv.writer object\n",
    "with open('severeCandidate.csv', mode='w', newline='') as file:\n",
    "    writer = csv.writer(file)\n",
    "\n",
    "    # Write each item in the list as a separate row\n",
    "    for item in severeCandidatePatients:\n",
    "        writer.writerow([item])  # Note the item is wrapped in a list\n"
   ]
  },
  {
   "cell_type": "code",
   "execution_count": null,
   "metadata": {},
   "outputs": [],
   "source": []
  },
  {
   "cell_type": "code",
   "execution_count": null,
   "metadata": {
    "tags": []
   },
   "outputs": [],
   "source": [
    "#df_FINDEMOG.loc[df_FINDEMOG['PATIENTHASHMRN'].isin(severePatientList), 'Uncontrolled'] = 1\n",
    "\n",
    "df_FINDEMOG['SeverityCandidate']= 0\n",
    "df_FINDEMOG.loc[df_FINDEMOG['PATIENTHASHMRN'].isin(severeCandidatePatients), 'SeverityCandidate'] = 1\n",
    "\n",
    "df_FINDEMOG['onOralInhaledController']= 0\n",
    "df_FINDEMOG.loc[df_FINDEMOG['PATIENTHASHMRN'].isin(PatientsOralInhal), 'onOralInhaledController'] = 1\n",
    "\n",
    "df_FINDEMOG['Uncontrolled'] = 0\n",
    "df_FINDEMOG['Uncontrolled'] = df_FINDEMOG.apply(\n",
    "    lambda row: 1 if row['SeverityCandidate'] == 1 and row['onOralInhaledController'] == 1 else 0, \n",
    "    axis=1\n",
    ")\n",
    "\n",
    "df_FINDEMOG['onBiological']= 0\n",
    "df_FINDEMOG.loc[df_FINDEMOG['PATIENTHASHMRN'].isin(patientsonBiologicals), 'onBiological'] = 1\n",
    "\n"
   ]
  },
  {
   "cell_type": "code",
   "execution_count": null,
   "metadata": {
    "tags": []
   },
   "outputs": [],
   "source": [
    "Counter(df_FINDEMOG.onOralInhaledController)"
   ]
  },
  {
   "cell_type": "code",
   "execution_count": null,
   "metadata": {
    "tags": []
   },
   "outputs": [],
   "source": [
    "# Filter for patients who are both Uncontrolled and onBiological\n",
    "uncontrolled_on_biological_counts = df_FINDEMOG[(df_FINDEMOG['Uncontrolled'] == True) & (df_FINDEMOG['onBiological'] == True)].groupby('HHSREGION').size().reset_index(name='Number of Patients Uncontrolled & onBiological')\n",
    "\n",
    "# Pivot to create a single-row table format with races as columns\n",
    "uncontrolled_on_biological_table = uncontrolled_on_biological_counts.set_index('HHSREGION').T\n",
    "\n",
    "# Display the resulting table\n",
    "print(uncontrolled_on_biological_table)"
   ]
  },
  {
   "cell_type": "code",
   "execution_count": null,
   "metadata": {
    "tags": []
   },
   "outputs": [],
   "source": [
    "df_FINDEMOG.columns"
   ]
  },
  {
   "cell_type": "code",
   "execution_count": null,
   "metadata": {
    "tags": []
   },
   "outputs": [],
   "source": [
    "# Calculate the number of patients onBiological for each race\n",
    "on_biological_counts = df_FINDEMOG[df_FINDEMOG['Uncontrolled'] == True].groupby('RACE').size().reset_index(name='Number of Patients onBiological')\n",
    "\n",
    "# Pivot to create a single-row table format with races as columns\n",
    "on_biological_table = on_biological_counts.set_index('RACE').T\n",
    "\n",
    "# Display the resulting table\n",
    "print(on_biological_table)"
   ]
  },
  {
   "cell_type": "code",
   "execution_count": null,
   "metadata": {
    "tags": []
   },
   "outputs": [],
   "source": [
    "df_FINDEMOG"
   ]
  },
  {
   "cell_type": "code",
   "execution_count": null,
   "metadata": {
    "tags": []
   },
   "outputs": [],
   "source": [
    "InhalerControlledPatients = df_FINDEMOG[df_FINDEMOG.SeverityCandidate == 1]\n",
    "\n",
    "# Calculate the percentage of patients on biological treatment for each race\n",
    "# Calculate the total population for each race\n",
    "total_population = df_FINDEMOG[\"RACE\"].value_counts(normalize=True) * 100  # Percentage of each race in the population\n",
    "\n",
    "# Calculate the percentage on biological for each race\n",
    "# Filter for biological users\n",
    "biological_users = df_FINDEMOG[df_FINDEMOG[\"onBiological\"] == 1]\n",
    "\n",
    "# Total biological users\n",
    "total_biological_users = len(biological_users)\n",
    "\n",
    "# Percentage of each race among biological users\n",
    "percentage_on_biological = biological_users[\"RACE\"].value_counts(normalize=True) * 100\n",
    "\n",
    "\n",
    "# Align indexes for calculation\n",
    "total_population = total_population[percentage_on_biological.index]\n",
    "\n",
    "# Calculate the Disparity Index\n",
    "disparity_index = percentage_on_biological / total_population\n",
    "\n",
    "# Combine results into a DataFrame\n",
    "results = pd.DataFrame({\n",
    "    \"Race\": percentage_on_biological.index,\n",
    "    \"Percentage on Biological\": percentage_on_biological.values,\n",
    "    \"Percentage in Population\": total_population.values,\n",
    "    \"Disparity Index\": disparity_index.values\n",
    "})\n",
    "\n",
    "# Display the results\n",
    "print(results)"
   ]
  },
  {
   "cell_type": "code",
   "execution_count": null,
   "metadata": {
    "tags": []
   },
   "outputs": [],
   "source": [
    "df_FINDEMOG.columns"
   ]
  },
  {
   "cell_type": "code",
   "execution_count": null,
   "metadata": {
    "tags": []
   },
   "outputs": [],
   "source": [
    "import pandas as pd\n",
    "import numpy as np\n",
    "import matplotlib.pyplot as plt\n",
    "\n",
    "\n",
    "# Calculate Total Population Percentage by Race\n",
    "total_population_percentage = df_FINDEMOG[\"RACE\"].value_counts(normalize=True) * 100\n",
    "\n",
    "# Filter for biological users\n",
    "biological_users = df_FINDEMOG[df_FINDEMOG[\"onBiological\"] == 1]\n",
    "\n",
    "# Calculate Percentage on Biological for Each Race\n",
    "percentage_on_biological = biological_users[\"RACE\"].value_counts(normalize=True) * 100\n",
    "\n",
    "# Align indexes for consistent comparison\n",
    "total_population_percentage = total_population_percentage[percentage_on_biological.index]\n",
    "\n",
    "# Calculate Disparity Index\n",
    "disparity_index = percentage_on_biological / total_population_percentage\n",
    "\n",
    "# Combine results into a DataFrame\n",
    "results = pd.DataFrame({\n",
    "    \"Race\": percentage_on_biological.index,\n",
    "    \"Percentage on Biological\": percentage_on_biological.values,\n",
    "    \"Percentage in Population\": total_population_percentage.values,\n",
    "    \"Disparity Index\": disparity_index.values\n",
    "})\n",
    "\n",
    "# Plotting\n",
    "fig, ax1 = plt.subplots(figsize=(10, 6))\n",
    "x = np.arange(len(results[\"Race\"]))\n",
    "bar_width = 0.35\n",
    "\n",
    "# Bar plots for percentages\n",
    "bars_population = ax1.bar(x - bar_width / 2, results[\"Percentage in Population\"], bar_width, label=\"Percentage in Population\", color='blue')\n",
    "bars_biological = ax1.bar(x + bar_width / 2, results[\"Percentage on Biological\"], bar_width, label=\"Percentage on Biological\", color='orange')\n",
    "\n",
    "# Setting labels and titles\n",
    "ax1.set_xlabel(\"\")\n",
    "ax1.set_ylabel(\"Percentage (%)\", fontsize=14)\n",
    "ax1.set_title(\"Comparison of Population Percentage, Biological Usage, and Disparity Index\", fontsize=16)\n",
    "ax1.set_xticks(x)\n",
    "ax1.set_xticklabels(results[\"Race\"], fontsize=14)\n",
    "#ax1.legend(loc=\"upper left\")\n",
    "\n",
    "# Add data values above the bars\n",
    "for bar in bars_population:\n",
    "    ax1.annotate(f'{bar.get_height():.1f}%', \n",
    "                 xy=(bar.get_x() + bar.get_width() / 2, bar.get_height()), \n",
    "                 xytext=(0, 5),  # Offset for text\n",
    "                 textcoords=\"offset points\", \n",
    "                 ha='center', va='bottom', fontsize=12)\n",
    "\n",
    "for bar in bars_biological:\n",
    "    ax1.annotate(f'{bar.get_height():.1f}%', \n",
    "                 xy=(bar.get_x() + bar.get_width() / 2, bar.get_height()), \n",
    "                 xytext=(0, 5), \n",
    "                 textcoords=\"offset points\", \n",
    "                 ha='center', va='bottom', fontsize=12)\n",
    "\n",
    "# Secondary axis for Disparity Index\n",
    "ax2 = ax1.twinx()\n",
    "disparity_points = ax2.scatter(x, results[\"Disparity Index\"], color='red', label=\"Disparity Index\", s=100, zorder=5)\n",
    "ax2.set_ylabel(\"Disparity Index\", fontsize=14)\n",
    "ax2.axhline(1, color='red', linestyle='--', linewidth=1, label=\"No Disparity\")\n",
    "\n",
    "# Annotate disparity index values\n",
    "for i, val in enumerate(results[\"Disparity Index\"]):\n",
    "    ax2.annotate(f'{val:.2f}', \n",
    "                 (x[i], val), \n",
    "                 textcoords=\"offset points\", \n",
    "                 xytext=(0, 5), \n",
    "                 ha='center', va='bottom', fontsize=12, color='red')\n",
    "\n",
    "# Add combined legend\n",
    "fig.legend(loc=\"upper right\", bbox_to_anchor=(0.94, 0.9), fontsize=12, frameon=True)\n",
    "# Adjust layout and show plot\n",
    "plt.tight_layout()\n",
    "plt.show()\n",
    "\n",
    "# Save results to a CSV file\n",
    "results.to_csv(\"biological_disparity_analysis.csv\", index=False)"
   ]
  },
  {
   "cell_type": "code",
   "execution_count": null,
   "metadata": {
    "tags": []
   },
   "outputs": [],
   "source": [
    "InhalerControlledPatients = df_FINDEMOG[df_FINDEMOG.SeverityCandidate == 1]\n",
    "\n",
    "UncontrolledPatients = df_FINDEMOG[(df_FINDEMOG['SeverityCandidate'] == 1) & (df_FINDEMOG['onOralInhaledController'] == 1)]\n",
    "\n",
    "# Display the new DataFrame\n",
    "print(\"Filtered DataFrame:\")\n",
    "UncontrolledPatients\n",
    "InhalerPatients =  df_FINDEMOG[df_FINDEMOG['onOralInhaledController'] == 1]\n",
    "InhalerPatients\n",
    "UncontrolledNoInhaler =  df_FINDEMOG[(df_FINDEMOG['SeverityCandidate'] == 1) & (df_FINDEMOG['onOralInhaledController'] == 0)]\n",
    "UncontrolledNoInhaler\n",
    "\n",
    "InhalerPatients =  df_FINDEMOG[df_FINDEMOG['onOralInhaledController'] == 1]\n",
    "InhalerPatients\n",
    "UncontrolledNoInhaler =  df_FINDEMOG[(df_FINDEMOG['SeverityCandidate'] == 1) & (df_FINDEMOG['onOralInhaledController'] == 0)]\n",
    "UncontrolledNoInhaler\n",
    "uncontrolledpatientsNames = UncontrolledPatients.PATIENTHASHMRN.unique()\n",
    "inhalerControlledPatientNames = InhalerPatients.PATIENTHASHMRN.unique()\n",
    "stereoidNoInhalerPatientNames =  UncontrolledNoInhaler.PATIENTHASHMRN.unique()\n"
   ]
  },
  {
   "cell_type": "code",
   "execution_count": null,
   "metadata": {
    "tags": []
   },
   "outputs": [],
   "source": [
    "# Calculate the total population for each race\n",
    "total_population = InhalerControlledPatients[\"FINANCIALCLASS\"].value_counts(normalize=True) * 100  # Percentage of each race in the population\n",
    "\n",
    "# Filter for patients not on biological treatment\n",
    "non_biological_users = InhalerControlledPatients[InhalerControlledPatients[\"onBiological\"] == 0]\n",
    "\n",
    "# Total non-biological users\n",
    "total_non_biological_users = len(non_biological_users)\n",
    "\n",
    "# Percentage of each race among non-biological users\n",
    "percentage_not_on_biological = non_biological_users[\"FINANCIALCLASS\"].value_counts(normalize=True) * 100\n",
    "\n",
    "# Align indexes for calculation\n",
    "total_population = total_population[percentage_not_on_biological.index]\n",
    "\n",
    "# Calculate the Disparity Index\n",
    "disparity_index = percentage_not_on_biological / total_population\n",
    "\n",
    "# Combine results into a DataFrame\n",
    "results = pd.DataFrame({\n",
    "    \"Race\": percentage_not_on_biological.index,\n",
    "    \"Percentage Not on Biological\": percentage_not_on_biological.values,\n",
    "    \"Percentage in Population\": total_population.values,\n",
    "    \"Disparity Index\": disparity_index.values\n",
    "})\n",
    "\n",
    "# Display the results\n",
    "print(results)"
   ]
  },
  {
   "cell_type": "code",
   "execution_count": null,
   "metadata": {
    "tags": []
   },
   "outputs": [],
   "source": [
    "# Calculate the total population for each race\n",
    "total_population = InhalerControlledPatients[\"RACE\"].value_counts(normalize=True) * 100  # Percentage of each race in the population\n",
    "\n",
    "# Filter for patients NOT on biological treatment\n",
    "non_biological_users = InhalerControlledPatients[InhalerControlledPatients[\"onBiological\"] == 0]\n",
    "\n",
    "# Total non-biological users\n",
    "total_non_biological_users = len(non_biological_users)\n",
    "\n",
    "# Percentage of each race among non-biological users\n",
    "percentage_not_on_biological = non_biological_users[\"RACE\"].value_counts(normalize=True) * 100\n",
    "\n",
    "# Reindex total_population to match percentage_not_on_biological indices\n",
    "percentage_not_on_biological = percentage_not_on_biological.reindex(total_population.index, fill_value=0)\n",
    "\n",
    "# Calculate the Disparity Index\n",
    "disparity_index = percentage_not_on_biological / total_population\n",
    "\n",
    "# Combine results into a DataFrame\n",
    "results = pd.DataFrame({\n",
    "    \"Race\": percentage_not_on_biological.index,\n",
    "    \"Percentage Not on Biological\": percentage_not_on_biological.values,\n",
    "    \"Percentage in Population\": total_population.values,\n",
    "    \"Disparity Index\": disparity_index.values\n",
    "})\n",
    "\n",
    "# Display the results\n",
    "print(results)"
   ]
  },
  {
   "cell_type": "code",
   "execution_count": null,
   "metadata": {
    "tags": []
   },
   "outputs": [],
   "source": [
    "import matplotlib.pyplot as plt\n",
    "\n",
    "# Total counts for onBiological and not onBiological\n",
    "biological_counts = df_FINDEMOG[df_FINDEMOG[\"onBiological\"] == 1][\"RACE\"].value_counts()\n",
    "non_biological_counts = df_FINDEMOG[df_FINDEMOG[\"onBiological\"] == 0][\"RACE\"].value_counts()\n",
    "\n",
    "# Normalize to percentages\n",
    "total_population = df_FINDEMOG[\"RACE\"].value_counts(normalize=True) * 100\n",
    "percentage_on_biological = biological_counts / biological_counts.sum() * 100\n",
    "percentage_not_on_biological = non_biological_counts / non_biological_counts.sum() * 100\n",
    "\n",
    "# Align for comparison\n",
    "percentage_on_biological = percentage_on_biological.reindex(total_population.index, fill_value=0)\n",
    "percentage_not_on_biological = percentage_not_on_biological.reindex(total_population.index, fill_value=0)\n",
    "\n",
    "# Disparity Index calculation\n",
    "disparity_index_on = percentage_on_biological / total_population\n",
    "disparity_index_not_on = percentage_not_on_biological / total_population\n",
    "\n",
    "# Combine results into a DataFrame\n",
    "results = pd.DataFrame({\n",
    "    \"Race\": total_population.index,\n",
    "    \"Percentage on Biological\": percentage_on_biological.values,\n",
    "    \"Percentage Not on Biological\": percentage_not_on_biological.values,\n",
    "    \"Percentage in Population\": total_population.values,\n",
    "    \"Disparity Index (On Biological)\": disparity_index_on.values,\n",
    "    \"Disparity Index (Not on Biological)\": disparity_index_not_on.values\n",
    "})\n",
    "\n",
    "# Display the results\n",
    "print(results)\n",
    "\n",
    "# Visualization of Disparity Index\n",
    "results.set_index(\"Race\")[[\"Disparity Index (On Biological)\", \"Disparity Index (Not on Biological)\"]].plot(kind=\"bar\", figsize=(10, 6))\n",
    "plt.axhline(1, color=\"red\", linestyle=\"--\", label=\"Parity (Disparity Index = 1)\")\n",
    "plt.title(\"Disparity Index for On and Not On Biological Treatment by Race\")\n",
    "plt.ylabel(\"Disparity Index\")\n",
    "plt.xlabel(\"Race\")\n",
    "plt.legend()\n",
    "plt.show()"
   ]
  },
  {
   "cell_type": "code",
   "execution_count": null,
   "metadata": {
    "tags": []
   },
   "outputs": [],
   "source": [
    "Counter(df_FINDEMOG['onOralInhaledController'])\n"
   ]
  },
  {
   "cell_type": "code",
   "execution_count": null,
   "metadata": {
    "tags": []
   },
   "outputs": [],
   "source": [
    "Counter(df_FINDEMOG['Uncontrolled'])\n"
   ]
  },
  {
   "cell_type": "code",
   "execution_count": null,
   "metadata": {
    "tags": []
   },
   "outputs": [],
   "source": [
    "Counter(df_FINDEMOG['SeverityCandidate'])\n"
   ]
  },
  {
   "cell_type": "code",
   "execution_count": null,
   "metadata": {
    "tags": []
   },
   "outputs": [],
   "source": [
    "\n",
    "# Create a summary DataFrame\n",
    "summary = pd.crosstab(index=[df_FINDEMOG['onOralInhaledController']],columns=df_FINDEMOG['SeverityCandidate'])\n",
    "\n",
    "plt.figure(figsize=(10, 7))\n",
    "sns.heatmap(summary, annot=True, fmt='d', cmap='YlGnBu', cbar=True)\n",
    "plt.title('Heatmap of Binary Variables')\n",
    "plt.xlabel('Two or more Episodes of Systemic Corticosteroids in a Year ')\n",
    "plt.ylabel('On high dose inhaled corticosteroids plus a second controller')\n",
    "plt.show()"
   ]
  },
  {
   "cell_type": "code",
   "execution_count": null,
   "metadata": {
    "tags": []
   },
   "outputs": [],
   "source": [
    "import numpy as np\n",
    "\n",
    "# Step 1: Create the crosstab with counts\n",
    "summary = pd.crosstab(index=df_FINDEMOG['onOralInhaledController'], columns=df_FINDEMOG['SeverityCandidate'])\n",
    "\n",
    "# Step 2: Calculate percentages (row-wise or column-wise based on your preference)\n",
    "# Here I'm calculating percentages relative to the entire table:\n",
    "summary_percent = summary / summary.sum().sum() * 100  # Entire table percentage\n",
    "\n",
    "# Optionally, you can calculate percentages row-wise or column-wise as needed:\n",
    "# Row-wise percentage: summary_percent = summary.div(summary.sum(axis=1), axis=0) * 100\n",
    "# Column-wise percentage: summary_percent = summary.div(summary.sum(axis=0), axis=1) * 100\n",
    "\n",
    "# Step 3: Create annotations with counts and percentages\n",
    "annotations = np.empty_like(summary).astype(str)\n",
    "\n",
    "for i in range(summary.shape[0]):\n",
    "    for j in range(summary.shape[1]):\n",
    "        annotations[i, j] = f'{summary.iloc[i, j]}\\n({summary_percent.iloc[i, j]:.1f}%)'\n",
    "\n",
    "# Step 4: Plot the heatmap with both counts and percentages\n",
    "plt.figure(figsize=(10, 7))\n",
    "sns.heatmap(summary, annot=annotations, fmt='', cmap='YlGnBu', cbar=True)\n",
    "\n",
    "# Add titles and labels\n",
    "#plt.title('Heatmap of Binary Variables with Counts and Percentages')\n",
    "plt.xlabel('Two or more Episodes of Systemic Corticosteroids in a Year')\n",
    "plt.ylabel('On high dose inhaled corticosteroids plus a second controller')\n",
    "\n",
    "# Show the plot\n",
    "plt.show()"
   ]
  },
  {
   "cell_type": "code",
   "execution_count": null,
   "metadata": {
    "tags": []
   },
   "outputs": [],
   "source": [
    "from scipy.stats import norm\n",
    "from scipy.stats import chi2_contingency\n",
    "\n",
    "\n",
    "def populationProportions(DataFrame,field, title, fieldnames):\n",
    "    # Ensure 'Uncontrolled' is numeric\n",
    "    DataFrame['Uncontrolled'] = pd.to_numeric(DataFrame['Uncontrolled'], errors='coerce')\n",
    "\n",
    "    # Group by ethnicity and count controlled/uncontrolled\n",
    "    ethnicity_controlled_count = DataFrame.groupby(field)['Uncontrolled'].value_counts().unstack(fill_value=0)\n",
    "    \n",
    "    # Convert counts to float for division\n",
    "    total_counts_per_ethnicity = DataFrame[field].value_counts().astype(float)\n",
    "    ethnicity_controlled_count = ethnicity_controlled_count.astype(float)\n",
    "\n",
    "    # Z-score for 95% confidence\n",
    "    Z = norm.ppf(0.975)\n",
    "\n",
    "    # Function to calculate confidence interval\n",
    "    def calculate_ci(n, x):\n",
    "        p = x / n\n",
    "        SE = np.sqrt(p * (1 - p) / n)\n",
    "        lower_bound = p - Z * SE\n",
    "        upper_bound = p + Z * SE\n",
    "        return (lower_bound * 100, upper_bound * 100)  # Convert bounds to percentages\n",
    "\n",
    "    # Calculate confidence intervals\n",
    "    ci_controlled = ethnicity_controlled_count.apply(lambda row: calculate_ci(total_counts_per_ethnicity[row.name], row[0]), axis=1)\n",
    "    ci_uncontrolled = ethnicity_controlled_count.apply(lambda row: calculate_ci(total_counts_per_ethnicity[row.name], row[1]), axis=1)\n",
    "\n",
    "    # Perform Chi-square test\n",
    "    chi2, p, dof, expected = chi2_contingency(ethnicity_controlled_count)\n",
    "    chi2_result = pd.DataFrame({\n",
    "        'Chi-square statistic': [chi2],\n",
    "        'p-value': [p]\n",
    "    })\n",
    "\n",
    "    # Create summary DataFrame with CIs included\n",
    "    ethnicity_summary = pd.DataFrame({\n",
    "        'Number of Patients': total_counts_per_ethnicity,\n",
    "        'Controlled Percentage': ((ethnicity_controlled_count[0] / total_counts_per_ethnicity) * 100).map('{:.2f}%'.format),\n",
    "        'Uncontrolled Percentage': ((ethnicity_controlled_count[1] / total_counts_per_ethnicity) * 100).map('{:.2f}%'.format),\n",
    "        'CI Controlled (%)': ci_controlled.map(lambda x: f\"{x[0]:.2f}% to {x[1]:.2f}%\"),\n",
    "        'CI Uncontrolled (%)': ci_uncontrolled.map(lambda x: f\"{x[0]:.2f}% to {x[1]:.2f}%\")\n",
    "    })\n",
    "\n",
    "    doctable(ethnicity_summary,title,fieldnames)\n",
    "\n",
    "    print(\"Chi-square Test Results:\", field)\n",
    "    print(chi2_result)\n",
    "    print(\"\\nEthnicity Summary:\")\n",
    "    print(ethnicity_summary)\n",
    "\n",
    "    p1 = document.add_paragraph(\"Chi-square Test Results:\")\n",
    "    p1.add_run(field)\n",
    "    p1.add_run(str(chi2_result))\n",
    "    \n",
    "    \n",
    "    \n",
    "# Call the function with appropriate parameters\n",
    "    \n",
    "populationProportions(df_FINDEMOG,'RACE','Race and Ethnicity Statistics',['Race','Number of Patients', 'Controlled Percentage','Uncontrolled Percentage','CI Controlled (%)',' CI Uncontrolled (%)' ])\n",
    "populationProportions(df_FINDEMOG,'INCOME_CATEGORY','Income Category Statistics',['Income Category','Number of Patients', 'Controlled Percentage','Uncontrolled Percentage','CI Controlled (%)',' CI Uncontrolled (%)' ])\n",
    "populationProportions(df_FINDEMOG,'SEX','Gender Statistics',['Sex','Number of Patients','Controlled Percentage','Uncontrolled Percentage','CI Controlled (%)',' CI Uncontrolled (%)' ])\n",
    "populationProportions(df_FINDEMOG,'AGE_RANGE','Age Statistics',['AGE_RANGE','Number of Patients', 'Controlled Percentage','Uncontrolled Percentage','CI Controlled (%)',' CI Uncontrolled (%)' ])\n",
    "populationProportions(df_FINDEMOG,'HHSREGION','Health Service region Statistics',['HHSREGION','Number of Patients', 'Controlled Percentage','Uncontrolled Percentage','CI Controlled (%)',' CI Uncontrolled (%) '])\n",
    "populationProportions(df_FINDEMOG,'FINANCIALCLASS','Insurance Status Statistics',['FINANCIAL CLASS','Number of Patients', 'Controlled Percentage','Uncontrolled Percentage','CI Controlled (%)',' CI Uncontrolled (%) '])\n"
   ]
  },
  {
   "cell_type": "code",
   "execution_count": null,
   "metadata": {
    "tags": []
   },
   "outputs": [],
   "source": [
    "df_LABS.columns"
   ]
  },
  {
   "cell_type": "code",
   "execution_count": null,
   "metadata": {
    "tags": []
   },
   "outputs": [],
   "source": [
    "from scipy.stats import chi2_contingency\n",
    "import numpy as np\n",
    "import pandas as pd\n",
    "\n",
    "def populationProportionsByGroup(DataFrame, field, title, fieldnames):\n",
    "    # Ensure 'Uncontrolled' is numeric\n",
    "    DataFrame['Uncontrolled'] = pd.to_numeric(DataFrame['Uncontrolled'], errors='coerce')\n",
    "\n",
    "    # Step 1: Create a crosstab that counts controlled (0) and uncontrolled (1) patients for each demographic group\n",
    "    group_controlled_uncontrolled = pd.crosstab(DataFrame[field], DataFrame['Uncontrolled'], normalize='columns') * 100\n",
    "\n",
    "    # Step 2: Calculate the number of patients in each group (for reporting purposes)\n",
    "    total_patients_per_group = DataFrame[field].value_counts()\n",
    "\n",
    "    # Step 3: Perform Chi-square test\n",
    "    chi2, p, dof, expected = chi2_contingency(pd.crosstab(DataFrame[field], DataFrame['Uncontrolled']))\n",
    "\n",
    "    # Step 4: Calculate Odds Ratios for each group (compared to all other groups combined)\n",
    "    raw_counts = pd.crosstab(DataFrame[field], DataFrame['Uncontrolled'])  # Get raw counts for OR calculation\n",
    "    odds_ratios = []\n",
    "    for group in raw_counts.index:\n",
    "        a = raw_counts.loc[group, 1]  # Uncontrolled in the group\n",
    "        b = raw_counts.loc[group, 0]  # Controlled in the group\n",
    "        c = raw_counts[1].sum() - a  # Uncontrolled in all other groups\n",
    "        d = raw_counts[0].sum() - b  # Controlled in all other groups\n",
    "        \n",
    "        # Ensure no divisions by zero\n",
    "        if b == 0 or d == 0:\n",
    "            odds_ratio = np.nan  # Undefined odds ratio\n",
    "        else:\n",
    "            odds_ratio = (a / b) / (c / d)\n",
    "        \n",
    "        odds_ratios.append(odds_ratio)\n",
    "\n",
    "    # Step 5: Create a summary DataFrame\n",
    "    group_summary = pd.DataFrame({\n",
    "        'Number of Patients': total_patients_per_group,\n",
    "        'Percentage in Controlled (%)': group_controlled_uncontrolled[0].map('{:.2f}%'.format),\n",
    "        'Percentage in Uncontrolled (%)': group_controlled_uncontrolled[1].map('{:.2f}%'.format),\n",
    "        'Odds Ratio': odds_ratios\n",
    "    })\n",
    "    \n",
    "    \n",
    "    doctable(group_summary,title,fieldnames)\n",
    "\n",
    "    # Step 6: Display the summary and the chi-square test results\n",
    "    print(f\"\\nChi-square Test Results for {field}:\")\n",
    "    print(f\"Chi-square Statistic: {chi2:.4f}\")\n",
    "    print(f\"p-value: {p:.4f}\\n\")\n",
    "\n",
    "    print(f\"\\n{title} Summary:\")\n",
    "    print(group_summary)\n",
    "        \n",
    "    p1 = document.add_paragraph(\"Chi-square Test Results:\")\n",
    "    p1.add_run(field)\n",
    "    p1.add_run(str(chi2))\n",
    "    \n",
    "\n",
    "# Call the function with appropriate parameters\n",
    "populationProportionsByGroup(df_FINDEMOG, 'RACE', 'Race and Ethnicity Statistics',\n",
    "                             ['Race', 'Number of Patients', 'Percentage in Controlled', 'Percentage in Uncontrolled', 'Odds Ratio'])\n",
    "\n",
    "populationProportionsByGroup(df_FINDEMOG, 'AGE_RANGE', 'Age Statistics',\n",
    "                             ['Age Range', 'Number of Patients', 'Percentage in Controlled', 'Percentage in Uncontrolled', 'Odds Ratio'])\n",
    "\n",
    "populationProportionsByGroup(df_FINDEMOG, 'INCOME_CATEGORY', 'Income Category Statistics',\n",
    "                             ['Income Category', 'Number of Patients', 'Percentage in Controlled', 'Percentage in Uncontrolled', 'Odds Ratio'])\n",
    "\n",
    "populationProportionsByGroup(df_FINDEMOG, 'SEX', 'Gender Statistics',\n",
    "                             ['Sex', 'Number of Patients', 'Percentage in Controlled', 'Percentage in Uncontrolled', 'Odds Ratio'])\n",
    "\n",
    "populationProportionsByGroup(df_FINDEMOG, 'HHSREGION', 'Health Services Region Statistics',\n",
    "                             ['HHSREGION', 'Number of Patients', 'Percentage in Controlled', 'Percentage in Uncontrolled', 'Odds Ratio'])\n",
    "\n",
    "populationProportionsByGroup(df_FINDEMOG, 'FINANCIALCLASS', 'Insurance Status Statistics',\n",
    "                             ['FINAL CLASS', 'Number of Patients', 'Percentage in Controlled', 'Percentage in Uncontrolled', 'Odds Ratio'])"
   ]
  },
  {
   "cell_type": "code",
   "execution_count": null,
   "metadata": {
    "tags": []
   },
   "outputs": [],
   "source": [
    "    \n",
    "populationProportions(InhalerPatients,'RACE','Race and Ethnicity Statistics',['Race','Number of Patients', 'Controlled Percentage','Uncontrolled Percentage','CI Controlled (%)',' CI Uncontrolled (%)' ])\n",
    "populationProportions(InhalerPatients,'INCOME_CATEGORY','Income Category Statistics',['Income Category','Number of Patients', 'Controlled Percentage','Uncontrolled Percentage','CI Controlled (%)',' CI Uncontrolled (%)' ])\n",
    "populationProportions(InhalerPatients,'SEX','Gender Statistics',['Sex','Number of Patients','Controlled Percentage','Uncontrolled Percentage','CI Controlled (%)',' CI Uncontrolled (%)' ])\n",
    "populationProportions(InhalerPatients,'AGE_RANGE','Age Statistics',['AGE_RANGE','Number of Patients', 'Controlled Percentage','Uncontrolled Percentage','CI Controlled (%)',' CI Uncontrolled (%)' ])\n",
    "populationProportions(InhalerPatients,'HHSREGION','Health Service region Statistics',['HHSREGION','Number of Patients', 'Controlled Percentage','Uncontrolled Percentage','CI Controlled (%)',' CI Uncontrolled (%) '])\n",
    "populationProportions(InhalerPatients,'FINANCIALCLASS','Insurance Status Statistics',['FINANCIAL CLASS','Number of Patients', 'Controlled Percentage','Uncontrolled Percentage','CI Controlled (%)',' CI Uncontrolled (%) '])\n"
   ]
  },
  {
   "cell_type": "code",
   "execution_count": null,
   "metadata": {
    "tags": []
   },
   "outputs": [],
   "source": [
    "# Call the function with appropriate parameters\n",
    "populationProportionsByGroup(InhalerPatients, 'RACE', 'Race and Ethnicity Statistics',\n",
    "                             ['Race', 'Number of Patients', 'Percentage in Controlled', 'Percentage in Uncontrolled', 'Odds Ratio'])\n",
    "\n",
    "populationProportionsByGroup(InhalerPatients, 'AGE_RANGE', 'Age Statistics',\n",
    "                             ['Age Range', 'Number of Patients', 'Percentage in Controlled', 'Percentage in Uncontrolled', 'Odds Ratio'])\n",
    "\n",
    "populationProportionsByGroup(InhalerPatients, 'INCOME_CATEGORY', 'Income Category Statistics',\n",
    "                             ['Income Category', 'Number of Patients', 'Percentage in Controlled', 'Percentage in Uncontrolled', 'Odds Ratio'])\n",
    "\n",
    "populationProportionsByGroup(InhalerPatients, 'SEX', 'Gender Statistics',\n",
    "                             ['Sex', 'Number of Patients', 'Percentage in Controlled', 'Percentage in Uncontrolled', 'Odds Ratio'])\n",
    "\n",
    "populationProportionsByGroup(InhalerPatients, 'HHSREGION', 'Health Services Region Statistics',\n",
    "                             ['HHSREGION', 'Number of Patients', 'Percentage in Controlled', 'Percentage in Uncontrolled', 'Odds Ratio'])\n",
    "\n",
    "populationProportionsByGroup(InhalerPatients, 'FINANCIALCLASS', 'Insurance Status Statistics',\n",
    "                             ['FINAL CLASS', 'Number of Patients', 'Percentage in Controlled', 'Percentage in Uncontrolled', 'Odds Ratio'])"
   ]
  },
  {
   "cell_type": "code",
   "execution_count": null,
   "metadata": {},
   "outputs": [],
   "source": [
    "df_FINDEMOG"
   ]
  },
  {
   "cell_type": "code",
   "execution_count": null,
   "metadata": {
    "tags": []
   },
   "outputs": [],
   "source": [
    "df_FINDEMOG.PATIENTHASHMRN.nunique()\n",
    "\n"
   ]
  },
  {
   "cell_type": "code",
   "execution_count": null,
   "metadata": {
    "tags": []
   },
   "outputs": [],
   "source": [
    "import pandas as pd\n",
    "import statsmodels.api as sm\n",
    "\n",
    "DataFrame = df_FINDEMOG\n",
    "\n",
    "# Initialize a DataFrame to store the results\n",
    "odds_ratios = pd.DataFrame(columns=['Race', 'Odds_Ratio', 'Lower_CI', 'Upper_CI', 'Controlled_Percentage', 'Uncontrolled_Percentage'])\n",
    "\n",
    "# Get a list of all races\n",
    "all_races = DataFrame['RACE'].unique()\n",
    "\n",
    "# Loop through each race to compute the odds ratio and percentages\n",
    "for race in all_races:\n",
    "    # Filter data for the current race and other races\n",
    "    race_data = DataFrame[DataFrame['RACE'] == race]\n",
    "    other_races_data = DataFrame[DataFrame['RACE'] != race]\n",
    "\n",
    "    # Count the number of controlled and uncontrolled cases\n",
    "    race_controlled_count = race_data['Uncontrolled'].value_counts().get(0, 0)\n",
    "    race_uncontrolled_count = race_data['Uncontrolled'].value_counts().get(1, 0)\n",
    "    total_race_cases = race_controlled_count + race_uncontrolled_count\n",
    "\n",
    "    # Calculate percentages\n",
    "    controlled_percentage = (race_controlled_count / total_race_cases) * 100 if total_race_cases != 0 else 0\n",
    "    uncontrolled_percentage = (race_uncontrolled_count / total_race_cases) * 100 if total_race_cases != 0 else 0\n",
    "    \n",
    "    # Build the contingency table for odds ratio calculation\n",
    "    contingency_table = pd.DataFrame({\n",
    "        'Controlled': [race_controlled_count, other_races_data['Uncontrolled'].value_counts().get(0, 0)],\n",
    "        'Uncontrolled': [race_uncontrolled_count, other_races_data['Uncontrolled'].value_counts().get(1, 0)]\n",
    "    }, index=[race, 'Other Races'])\n",
    "    \n",
    "    # Calculate the odds ratio with a 95% confidence interval\n",
    "    if contingency_table.shape == (2, 2):  # Ensure valid 2x2 table\n",
    "        table = sm.stats.Table2x2(contingency_table.values)  # Create a 2x2 table\n",
    "        odds_ratio = table.oddsratio\n",
    "        lower_ci, upper_ci = table.oddsratio_confint(alpha=0.05)\n",
    "    else:\n",
    "        odds_ratio, lower_ci, upper_ci = 'Invalid table', 'N/A', 'N/A'\n",
    "    \n",
    "    # Store the results using pd.concat\n",
    "    new_row = pd.DataFrame({\n",
    "        'Race': [race],\n",
    "        'Odds_Ratio': [odds_ratio],\n",
    "        'Lower_CI': [lower_ci],\n",
    "        'Upper_CI': [upper_ci],\n",
    "        'Controlled_Percentage': [controlled_percentage],\n",
    "        'Uncontrolled_Percentage': [uncontrolled_percentage]\n",
    "    })\n",
    "    odds_ratios = pd.concat([odds_ratios, new_row], ignore_index=True)\n",
    "\n",
    "# Display the results\n",
    "print(odds_ratios)\n"
   ]
  },
  {
   "cell_type": "code",
   "execution_count": null,
   "metadata": {
    "tags": []
   },
   "outputs": [],
   "source": [
    "import matplotlib.pyplot as plt\n",
    "import seaborn as sns\n",
    "\n",
    "\n",
    "fig, ax1 = plt.subplots(figsize=(10, 6))\n",
    "\n",
    "# Bar plot for controlled and uncontrolled percentages\n",
    "sns.barplot(x='Race', y='Controlled_Percentage', data=odds_ratios, color='blue', label='Controlled', ax=ax1)\n",
    "sns.barplot(x='Race', y='Uncontrolled_Percentage', data=odds_ratios, color='red', alpha=0.6, label='Uncontrolled', ax=ax1)\n",
    "ax1.set_ylabel('Percentage')\n",
    "\n",
    "# Line plot for odds ratios\n",
    "ax2 = ax1.twinx()\n",
    "sns.lineplot(x='Race', y='Odds_Ratio', data=odds_ratios, marker='o', sort=False, ax=ax2)\n",
    "ax2.set_ylabel('Odds Ratio')\n",
    "\n",
    "fig.legend(loc='upper right', bbox_to_anchor=(1.15, 1))\n",
    "plt.title('Control Status by Race with Odds Ratios')\n",
    "plt.show()\n"
   ]
  },
  {
   "cell_type": "code",
   "execution_count": null,
   "metadata": {
    "tags": []
   },
   "outputs": [],
   "source": [
    "def uncontrolledStats(field, title, fieldnames):\n",
    "    \n",
    "    # Set font size globally for the plot\n",
    "    plt.rcParams.update({'font.size': 14})\n",
    "    \n",
    "        # Ensure the figure background is white\n",
    "    #plt.rcParams['axes.facecolor'] = 'none'  # Set axis background\n",
    "    #plt.rcParams['figure.facecolor'] = 'none'  # Set figure background\n",
    "    race_counts = df_FINDEMOG.groupby(['Uncontrolled', field]).size()\n",
    "    total_counts = race_counts.groupby('Uncontrolled').sum()\n",
    "    race_percentages = (race_counts.unstack().div(total_counts, axis=0) * 100).stack().reset_index(name='Percentage')\n",
    "    race_percentages.columns = ['Control Status', field, 'Percentage']\n",
    "\n",
    "    # Pivot and calculate stats\n",
    "    pivot_table = race_percentages.pivot(index=field, columns='Control Status', values='Percentage')\n",
    "    pivot_table.columns = ['Controlled Percentage', 'Uncontrolled Percentage']\n",
    "      \n",
    "    # Here, ensure 'total' is derived from actual data\n",
    "    total = df_FINDEMOG[field].count()\n",
    "\n",
    "    # Calculate Odds for Controlled and Uncontrolled\n",
    "    pivot_table['Odds_Controlled'] = pivot_table['Controlled Percentage'] / (100 - pivot_table['Controlled Percentage'])\n",
    "    pivot_table['Odds_Uncontrolled'] = pivot_table['Uncontrolled Percentage'] / (100 - pivot_table['Uncontrolled Percentage'])\n",
    "\n",
    "    # Calculate Odds Ratios for being uncontrolled vs. controlled\n",
    "    pivot_table['Odds_Ratio'] = pivot_table['Odds_Uncontrolled'] / pivot_table['Odds_Controlled']\n",
    "\n",
    "    # Convert the percentages back to counts to get the original numbers for a and b\n",
    "    pivot_table['a'] = pivot_table['Controlled Percentage'] * total / 100\n",
    "    pivot_table['b'] = pivot_table['Uncontrolled Percentage'] * total / 100\n",
    "\n",
    "    # Calculate the standard error of the log of the odds ratio\n",
    "    pivot_table['SE_log_OR'] = np.sqrt(1/pivot_table['a'] + 1/pivot_table['b'] + \n",
    "                                       1/(total - pivot_table['a']) + 1/(total - pivot_table['b']))\n",
    "\n",
    "    # Calculate the confidence intervals\n",
    "    pivot_table['lower_CI'] = np.exp(np.log(pivot_table['Odds_Ratio']) - 1.96 * pivot_table['SE_log_OR'])\n",
    "    pivot_table['upper_CI'] = np.exp(np.log(pivot_table['Odds_Ratio']) + 1.96 * pivot_table['SE_log_OR'])\n",
    "\n",
    "    # Output the final table with CIs\n",
    "    print(pivot_table[['Controlled Percentage', 'Uncontrolled Percentage', 'Odds_Controlled', 'Odds_Uncontrolled', 'Odds_Ratio', 'lower_CI', 'upper_CI']])\n",
    "\n",
    "    # Reset index for easier plotting\n",
    "    custom_order = fieldnames\n",
    "    \n",
    "    if (field == 'INCOME_CATEGORY') :\n",
    "        pivot_table = pivot_table.drop('Unknown', axis=0)\n",
    "    else:\n",
    "        if (field != 'AGE_RANGE'):\n",
    "            pivot_table = pivot_table.drop('Other', axis=0)\n",
    "    \n",
    "    \n",
    "    pivot_table = pivot_table.reindex(custom_order)\n",
    "\n",
    "    plot_data = pivot_table.reset_index()\n",
    "\n",
    "\n",
    "    fig, ax1 = plt.subplots(figsize=(7,5))\n",
    "\n",
    "    # Bar plot for percentages\n",
    "    pivot_table[['Controlled Percentage', 'Uncontrolled Percentage']].plot(kind='bar', ax=ax1)\n",
    "   # Add annotations to the existing plot\n",
    "    for container in ax1.containers:\n",
    "        for bar in container:\n",
    "            # Get bar height\n",
    "            height = bar.get_height()\n",
    "            if height > 0:  # Annotate only if height is greater than 0\n",
    "                ax1.text(\n",
    "                    bar.get_x() + bar.get_width() / 2,  # Center of the bar\n",
    "                    height / 2 ,  # Slightly above the bar\n",
    "                    f'{height:.1f}%',  # Format value as percentage\n",
    "                    ha='center',  # Center alignment\n",
    "                    va='center',  # Bottom alignment\n",
    "                    fontsize=14,  # Font size\n",
    "                    rotation=90  # Rotate text to vertical\n",
    "\n",
    "                )\n",
    "    ax1.set_ylabel('Percentage', fontsize=14)\n",
    "#    ax1.set_title('Control Status and Odds Ratios by Race')\n",
    "    ax1.tick_params(axis='x',labelsize=14, rotation=45)\n",
    "    ax1.tick_params(axis='y',labelsize=14)\n",
    "\n",
    "    ax1.set_xlabel('')  # Remove x-axis title\n",
    "    ax1.legend(['Controlled Percentage', 'Uncontrolled Percentage'], loc='upper left', fontsize=12)  # Increased font size\n",
    "    \n",
    "    \n",
    "    #ax1.grid(False)\n",
    "\n",
    "\n",
    "\n",
    "    # Second y-axis for the odds ratios\n",
    "    ax2 = ax1.twinx()\n",
    "    sns.lineplot(data=plot_data, x=field, y='Odds_Ratio', marker='o', ax=ax2, color='red')\n",
    "    ax2.set_ylabel('Odds Ratio', fontsize=14)\n",
    "\n",
    "    # Add error bars manually for the odds ratios\n",
    "    ax2.errorbar(x=plot_data[field], y=plot_data['Odds_Ratio'], \n",
    "                 yerr=[plot_data['Odds_Ratio'] - plot_data['lower_CI'], plot_data['upper_CI'] - plot_data['Odds_Ratio']],\n",
    "                 fmt='none', c='red', capsize=6)\n",
    "    \n",
    "    ax2.set_xlabel('')  # Remove x-axis title\n",
    "    ax2.tick_params(axis='y',labelsize=14)\n",
    "\n",
    "\n",
    "    \n",
    "    ax2.grid(False)\n",
    "    \n",
    "    plt.tight_layout()\n",
    "    \n",
    "    image_path = \"plot.png\"\n",
    "    plt.tight_layout()\n",
    "    plt.savefig(image_path, dpi=300)\n",
    "    document.add_picture(image_path, width=Inches(7))  # Adjust width as needed\n",
    "\n",
    "    plt.show()\n",
    "\n",
    "uncontrolledStats('SEX', \"Sex\", ['Female','Male'])\n",
    "uncontrolledStats('INCOME_CATEGORY', \"Income Category\", ['Very Low', 'Low', 'Median', 'High', 'Very High'])\n",
    "#uncontrolledStats('INCOME_CATEGORY', \"Income Category\", ['Low', 'Median', 'High', 'Very High'])\n",
    "\n",
    "uncontrolledStats('RACE', \"Race\", ['Asian','Black', 'Hispanic', 'White'])\n",
    "uncontrolledStats('FINANCIALCLASS','Financial Class ', ['Commercial', 'Managed Care', 'Medi-Cal', 'Self-Pay', 'Tricare','Medicare'])\n",
    "uncontrolledStats('AGE_RANGE','Age Range ', ['6-17','18-30','31-40','41-50','51-63','64+'])\n",
    "\n"
   ]
  },
  {
   "cell_type": "code",
   "execution_count": null,
   "metadata": {
    "tags": []
   },
   "outputs": [],
   "source": [
    "df_FINDEMOG.FINANCIALCLASS.unique()\n"
   ]
  },
  {
   "cell_type": "code",
   "execution_count": null,
   "metadata": {
    "tags": []
   },
   "outputs": [],
   "source": [
    "mapping = {'Commercial':'Commercial', 'Managed Care':'Managed Care', 'Medi-Cal':'Medi-Cal', 'Medi-Cal Managed Care':'Medi-Cal','Self-Pay':'Self-Pay', 'Tricare':'Tricare','Medicare':'Medicare', 'Worker\\'s Comp':'Other','Medicare HMO/PPO':'Medicare'}\n",
    "df_FINDEMOG['FINANCIALCLASS'] = df_FINDEMOG['FINANCIALCLASS'].map(mapping).fillna(df_FINDEMOG['FINANCIALCLASS'])\n",
    "df_FINDEMOG['FINANCIALCLASS'] = df_FINDEMOG['FINANCIALCLASS'].fillna('Other')"
   ]
  },
  {
   "cell_type": "code",
   "execution_count": null,
   "metadata": {},
   "outputs": [],
   "source": [
    "df_FINDEMOG.columns"
   ]
  },
  {
   "cell_type": "code",
   "execution_count": null,
   "metadata": {
    "tags": []
   },
   "outputs": [],
   "source": [
    "#df_FINDEMOG=df_FINDEMOG.drop('Unnamed: 0_y',axis=1)\n",
    "#df_FINDEMOG=df_FINDEMOG.drop('Unnamed: 0_x',axis=1)"
   ]
  },
  {
   "cell_type": "code",
   "execution_count": null,
   "metadata": {
    "tags": []
   },
   "outputs": [],
   "source": [
    "# Logistic_list_dummies=['RACE','SEX','AGE_RANGE','INCOME_CATEGORY','FINANCIALCLASS','Uncontrolled']\n",
    "# df_LOGISTIC_DUMM=pd.get_dummies(In[Logistic_list_dummies], drop_first=False)\n",
    "# X=df_LOGISTIC_DUMM.drop('Uncontrolled',axis=1)\n",
    "# Y=df_LOGISTIC_DUMM['Uncontrolled']\n",
    "\n",
    "# X_train, X_test, y_train, y_test = train_test_split(X, Y, test_size=0.39, random_state=42)\n",
    "\n",
    "# # Initialize the Logistic Regression model\n",
    "# model = LogisticRegression(solver='liblinear')  # Using 'liblinear' solver as it's good for small datasets and binary classification.\n",
    "\n",
    "# # Train the model\n",
    "# model.fit(X_train, y_train)\n",
    "\n",
    "# # Coefficients\n",
    "# coefficients = model.coef_[0]\n",
    "# intercept = model.intercept_[0]\n",
    "\n",
    "# # Calculate the standard errors of the coefficients\n",
    "# # Covariance matrix of the parameter estimates\n",
    "# covariance_matrix = np.linalg.inv(np.dot(X_train.T, X_train))\n",
    "# standard_errors = np.sqrt(np.diag(covariance_matrix))\n",
    "\n",
    "# # Compute the 95% Confidence Intervals for the coefficients\n",
    "# z = 1.96  # z-score for 95% CI\n",
    "# lower_bounds = coefficients - z * standard_errors\n",
    "# upper_bounds = coefficients + z * standard_errors\n",
    "\n",
    "# # Compute the 95% CI for the Odds Ratios\n",
    "# lower_bounds_or = np.exp(lower_bounds)\n",
    "# upper_bounds_or = np.exp(upper_bounds)\n",
    "\n",
    "# # Print results\n",
    "# # print(\"Intercept:\", intercept)\n",
    "# # print(\"Coefficients:\", coefficients)\n",
    "# # print(\"Odds Ratios:\", np.exp(coefficients))\n",
    "# # print(\"95% CI for Coefficients:\", list(zip(lower_bounds, upper_bounds)))\n",
    "# # print(\"95% CI for Odds Ratios:\", list(zip(lower_bounds_or, upper_bounds_or)))\n",
    "# merged_data = pd.DataFrame({\n",
    "#     'Variable':X.columns,\n",
    "#     'OR': np.exp(coefficients),\n",
    "#     '2.5%': lower_bounds_or,\n",
    "#     '97.5%': upper_bounds_or\n",
    "# })\n",
    "\n",
    "# # Save the DataFrame to a CSV file\n",
    "# merged_data"
   ]
  },
  {
   "cell_type": "code",
   "execution_count": null,
   "metadata": {
    "tags": []
   },
   "outputs": [],
   "source": [
    "# # Identify indices of NaN values in standard errors\n",
    "# nan_indices = np.where(np.isnan(std_err))[0]\n",
    "\n",
    "# # Identify corresponding variable names\n",
    "# problematic_vars = X_train_reduced.columns[nan_indices]\n",
    "\n",
    "# print(f\"Variables with NaN in standard errors: {problematic_vars}\")\n",
    "\n",
    "# # Optionally, remove these variables and refit the model\n",
    "# if len(problematic_vars) > 0:\n",
    "#     X_train_reduced = X_train_reduced.drop(columns=problematic_vars)\n",
    "#     X_train_sm_reduced = sm.add_constant(np.asarray(X_train_reduced, dtype=float))\n",
    "\n",
    "#     # Refit the model after removing problematic variables\n",
    "#     logit_model_reduced = sm.Logit(y_train_np, X_train_sm_reduced)\n",
    "#     result_reduced = logit_model_reduced.fit_regularized(method='l1', maxiter=500)\n",
    "\n",
    "#     # Recalculate statistics\n",
    "#     coef_reduced = result_reduced.params\n",
    "#     std_err = result_reduced.bse\n",
    "#     p_values = result_reduced.pvalues\n",
    "#     conf_int = result_reduced.conf_int()\n",
    "\n",
    "#     print(\"Model refitted after removing problematic variables.\")\n",
    "\n",
    "#     # Ensure everything is the same length before creating the DataFrame\n",
    "#     assert len(coef_reduced) == len(std_err) == len(p_values) == len(conf_int), \"Mismatch in lengths!\"\n",
    "\n",
    "#     # Compile into a DataFrame\n",
    "#     result_df = pd.DataFrame({\n",
    "#         'Coefficient': coef_reduced,\n",
    "#         'Std Error': std_err,\n",
    "#         'P-Value': p_values,\n",
    "#         'Conf. Interval Lower': conf_int[0],\n",
    "#         'Conf. Interval Upper': conf_int[1],\n",
    "#         'OR': np.exp(coef_reduced)\n",
    "#     })\n",
    "\n",
    "#     print(\"Final Model results after removing problematic variables:\")\n",
    "#     print(result_df)\n",
    "# else:\n",
    "#     print(\"No variables were found with NaN in standard errors.\")\n"
   ]
  },
  {
   "cell_type": "code",
   "execution_count": null,
   "metadata": {
    "tags": []
   },
   "outputs": [],
   "source": [
    "# groups_dummies = ['RACE', 'SEX', 'AGE_RANGE', 'INCOME_CATEGORY', 'FINANCIALCLASS']\n",
    "# references = {\n",
    "#     'RACE_White': 'RACE', \n",
    "#     'SEX_Female': 'SEX', \n",
    "#     'AGE_RANGE_18-30': 'AGE_RANGE',\n",
    "#     'INCOME_CATEGORY_Low': 'INCOME_CATEGORY',\n",
    "#     'FINANCIALCLASS_Commercial': 'FINANCIALCLASS'\n",
    "# }\n",
    "\n",
    "# referenced_df = pd.DataFrame(columns=merged_data.columns)\n",
    "\n",
    "# for ref, cat in references.items():\n",
    "#     # Filter rows based on category\n",
    "#     small_df = merged_data[merged_data['Variable'].str.contains(cat)].copy()\n",
    "\n",
    "#     # Get reference number (OR) for the reference variable\n",
    "#     ref_num = small_df.loc[small_df['Variable'] == ref, 'OR'].values[0]\n",
    "\n",
    "#     # Normalize the OR, 2.5%, and 97.5% by the reference number\n",
    "#     for col in ['OR', '2.5%', '97.5%']:\n",
    "#         small_df[col] = small_df[col] / ref_num\n",
    "\n",
    "#     # Append to the referenced_df\n",
    "#     referenced_df = pd.concat([referenced_df, small_df], ignore_index=True)\n",
    "\n",
    "# print(referenced_df)"
   ]
  },
  {
   "cell_type": "code",
   "execution_count": null,
   "metadata": {
    "tags": []
   },
   "outputs": [],
   "source": [
    "# Variable= ['Race    ',\n",
    "#             'Asian', 'Black', 'Hispanic', 'Other', 'White',\n",
    "#             'Sex    ',\n",
    "#            'Female', 'Male', 'Other', \n",
    "#            'Age    ',\n",
    "#            '18-30', '31-40', '41-50', '51-63', '6-17', '64+',\n",
    "#            'Income    ',\n",
    "#            'Very Low','High', 'Low', 'Median', 'Unknown', 'Very High',\n",
    "#            'Insurance    ',\n",
    "#            'Commercial', 'Managed Care','Medi-Cal', 'Medicare', 'Other', 'Self-Pay', 'Tricare']\n",
    "# sub_group_names=['RACE','SEX','AGE','INCOME','FINANCIALCLASS']\n",
    "# referenced_df = referenced_df.drop(index=referenced_df[referenced_df['Variable'].str.contains('Other')].index)\n"
   ]
  },
  {
   "cell_type": "code",
   "execution_count": null,
   "metadata": {
    "tags": []
   },
   "outputs": [],
   "source": [
    "# for x in sub_group_names:\n",
    "#     sub_group=referenced_df[referenced_df['Variable'].str.contains(x)]\n",
    "#     length_sub=len(sub_group)\n",
    "\n",
    "#     fig, ax = plt.subplots(figsize=(5,length_sub-1 ))\n",
    "#     i=0\n",
    "    \n",
    "#     for _, row in sub_group.iterrows():\n",
    "#         if row['OR'] == 1:\n",
    "#             # Draw a square if OR is 1\n",
    "#             ax.plot(row['OR'], length_sub-(i+1), 's', color='blue', markersize=12)\n",
    "#         else:\n",
    "#             # Draw error bars with a point for other values\n",
    "#             ax.errorbar(row['OR'],  length_sub-(i+1), xerr=[[row['OR'] - row['2.5%']], [row['97.5%'] - row['OR']]],\n",
    "#                         fmt='o', color='red', ecolor='black', capsize=3, markersize=5)\n",
    "#         i=i+1\n",
    "#     ax.plot(1, length_sub, 's', color='blue', markersize=0)\n",
    "\n",
    "#     ytic=list(sub_group['Variable'][::-1])\n",
    "#     ytic_cleaned = [var.replace(x+'_', ' ') for var in ytic]\n",
    "#     ytic_cleaned=ytic_cleaned+[x+':']\n",
    "#       # Reverse the order for y-axis labels\n",
    "#     plt.yticks(range(1+len(sub_group)), ytic_cleaned, fontsize=14)\n",
    "#     plt.xticks( fontsize=14)"
   ]
  },
  {
   "cell_type": "code",
   "execution_count": null,
   "metadata": {
    "tags": []
   },
   "outputs": [],
   "source": [
    "#document=Document()"
   ]
  },
  {
   "cell_type": "code",
   "execution_count": null,
   "metadata": {
    "tags": []
   },
   "outputs": [],
   "source": [
    "def boxPlot(field1,field2, DataFrame, xlabel, ylabel,  title):\n",
    "    sns.set(font_scale=1)\n",
    "    plt.figure()\n",
    "    sns.boxplot(x=field1, y=field2, data=DataFrame, palette='Blues')\n",
    "\n",
    "    #plt.title(title)\n",
    "    plt.ylabel(ylabel)\n",
    "    plt.xlabel('')\n",
    "    plt.xticks(rotation=45,ha='right',fontsize=12)  # Rotate x-axis labels for better readability\n",
    "    plt.yticks(fontsize=12)  # Rotate x-axis labels for better readability\n",
    "    \n",
    "    plt.tight_layout()\n",
    "   \n",
    "    plt.savefig('temp.png', bbox_inches='tight')\n",
    "    document.add_picture('temp.png')\n",
    "    paragraph = document.add_paragraph(title)\n",
    "    #plt.show()"
   ]
  },
  {
   "cell_type": "code",
   "execution_count": null,
   "metadata": {
    "tags": []
   },
   "outputs": [],
   "source": [
    "def violinPlot(field1,field2, DataFrame, xlabel, ylabel,  title):\n",
    "    sns.set(font_scale=1)\n",
    "    plt.figure(figsize=(7, 5))\n",
    "    sns.violinplot(x=field1, y=field2, data=DataFrame, palette='Blues')\n",
    "\n",
    "    #plt.title(title)\n",
    "    plt.ylabel(ylabel,fontsize=14)\n",
    "    plt.yticks(fontsize=14)\n",
    "    #plt.xlabel('HHS Regions')\n",
    "    plt.xlabel('')\n",
    "\n",
    "    plt.xticks(rotation=45,ha='right',fontsize=14)  # Rotate x-axis labels for better readability\n",
    "    plt.tight_layout()\n",
    "    \n",
    "    plt.savefig('temp.png', bbox_inches='tight')\n",
    "    document.add_picture('temp.png', width=Inches(7))\n",
    "    paragraph = document.add_paragraph(title)\n",
    "    \n",
    "    #plt.show()"
   ]
  },
  {
   "cell_type": "code",
   "execution_count": null,
   "metadata": {
    "tags": []
   },
   "outputs": [],
   "source": [
    "def printQuartiles(field1,field2, DataFrame, title, labels):\n",
    "    quartiles = DataFrame.groupby(field1)[field2].quantile([0.25, 0.5, 0.75]).unstack()\n",
    "    mean = DataFrame.groupby(field1)[field2].mean()\n",
    "    maximum = DataFrame.groupby(field1)[field2].max()\n",
    "    #minimum = df_FINDEMOG.groupby('HHSREGION')['MEDIANINCOME'].min()\n",
    "\n",
    "    # Combine statistics into a single DataFrame\n",
    "    count = DataFrame[field1].value_counts()\n",
    "\n",
    "    # Combine statistics into a single DataFrame\n",
    "    stats = pd.concat([quartiles, mean, maximum, count], axis=1)\n",
    "    stats.columns = ['25th Quartile', 'Median', '75th Quartile', 'Mean', 'Maximum', 'Count']\n",
    "\n",
    "    print(stats)\n",
    "\n",
    "    doctable(stats,title, labels)"
   ]
  },
  {
   "cell_type": "code",
   "execution_count": null,
   "metadata": {
    "tags": []
   },
   "outputs": [],
   "source": [
    "df_FINDEMOGFiltered = df_FINDEMOG[df_FINDEMOG['HHSREGION'] != 'Other']\n",
    "printQuartiles('HHSREGION', 'MEDIANINCOME', df_FINDEMOGFiltered, \"Median Income Statistics for Each District in the Database\",['District','25th Quartile', 'Median', '75th Quartile', 'Mean', 'Maximum', 'Number of Patients'])\n",
    "boxPlot('HHSREGION', 'MEDIANINCOME',df_FINDEMOGFiltered, '', 'Median Income',\" Median Income versus HHSREGION\") \n",
    "violinPlot('HHSREGION', 'MEDIANINCOME',df_FINDEMOGFiltered, '', 'Median Income',\" Median Income versus HHSREGION\") "
   ]
  },
  {
   "cell_type": "code",
   "execution_count": null,
   "metadata": {
    "tags": []
   },
   "outputs": [],
   "source": [
    "df_FINDEMOGFiltered = df_FINDEMOG[df_FINDEMOG['FINANCIALCLASS'] != 'Other']\n",
    "\n",
    "printQuartiles('FINANCIALCLASS', 'MEDIANINCOME', df_FINDEMOGFiltered, \"Median Income Statistics for Each Insurance Class in the Database\",['District','25th Quartile', 'Median', '75th Quartile', 'Mean', 'Maximum', 'Number of Patients'])\n",
    "boxPlot('FINANCIALCLASS', 'MEDIANINCOME',df_FINDEMOGFiltered, '', 'Median Income',\" Median Income versus Insurance Status\") \n",
    "violinPlot('FINANCIALCLASS', 'MEDIANINCOME',df_FINDEMOGFiltered, '', 'Median Income',\" Median Income versus Insurance Status\") "
   ]
  },
  {
   "cell_type": "code",
   "execution_count": null,
   "metadata": {
    "tags": []
   },
   "outputs": [],
   "source": [
    "printQuartiles('RACE', 'MEDIANINCOME', df_FINDEMOG, \"Median Income Statistics for Each District in the Database\",['District','25th Quartile', 'Median', '75th Quartile', 'Mean', 'Maximum', 'Number of Patients'])\n",
    "boxPlot('RACE', 'MEDIANINCOME',df_FINDEMOG, '', 'Median Income',\" Median Income versus RACE\") \n",
    "violinPlot('RACE', 'MEDIANINCOME',df_FINDEMOG, '', 'Median Income',\" Median Income versus RACE\") "
   ]
  },
  {
   "cell_type": "code",
   "execution_count": null,
   "metadata": {
    "tags": []
   },
   "outputs": [],
   "source": [
    "printQuartiles('SEX', 'MEDIANINCOME', df_FINDEMOG, \"Median Income Statistics for Each District in the Database\",['District','25th Quartile', 'Median', '75th Quartile', 'Mean', 'Maximum', 'Number of Patients'])\n",
    "boxPlot('SEX', 'MEDIANINCOME',df_FINDEMOG, '', 'Median Income',\" Median Income versus SEX\") \n",
    "violinPlot('SEX', 'MEDIANINCOME',df_FINDEMOG, '', 'Median Income',\" Median Income versus SEX\") "
   ]
  },
  {
   "cell_type": "code",
   "execution_count": null,
   "metadata": {},
   "outputs": [],
   "source": []
  },
  {
   "cell_type": "code",
   "execution_count": null,
   "metadata": {
    "tags": []
   },
   "outputs": [],
   "source": [
    "printQuartiles('FINANCIALCLASS', 'MEDIANINCOME', df_FINDEMOG, \"Median Income Statistics for each Insurance in the Database\",['District','25th Quartile', 'Median', '75th Quartile', 'Mean', 'Maximum', 'Number of Patients'])\n",
    "boxPlot('FINANCIALCLASS', 'MEDIANINCOME',df_FINDEMOG, '', 'Median Income',\" Median Income versus Insurance\") \n",
    "violinPlot('FINANCIALCLASS', 'MEDIANINCOME',df_FINDEMOG, '', 'Median Income',\" Median Income versus Insurance\") "
   ]
  },
  {
   "cell_type": "code",
   "execution_count": null,
   "metadata": {
    "tags": []
   },
   "outputs": [],
   "source": [
    "#document.save(\"Simple.docx\")"
   ]
  },
  {
   "cell_type": "code",
   "execution_count": null,
   "metadata": {
    "tags": []
   },
   "outputs": [],
   "source": [
    "#df_DIAGPROC=df_DIAGPROC.drop('Unnamed: 0_y',axis=1)\n",
    "#df_DIAGPROC=df_DIAGPROC.drop('Unnamed: 0_x',axis=1)\n"
   ]
  },
  {
   "cell_type": "code",
   "execution_count": null,
   "metadata": {
    "tags": []
   },
   "outputs": [],
   "source": [
    "#df_DIAGPROC_FINDEMOG_ENCFiltered = df_DIAGPROC_FINDEMOG_ENC[df_DIAGPROC_FINDEMOG_ENC['DEPTSPECIALTY'].isin(DepartmentRelevant)]"
   ]
  },
  {
   "cell_type": "code",
   "execution_count": null,
   "metadata": {
    "tags": []
   },
   "outputs": [],
   "source": [
    "df_DIAGPROC_FINDEMOG_ENCFiltered"
   ]
  },
  {
   "cell_type": "code",
   "execution_count": null,
   "metadata": {
    "tags": []
   },
   "outputs": [],
   "source": [
    "#make a copy of the procedures  and encounters for further analysis \n",
    "df_DIAGPROC_FINDEMOG_ENCFiltered_copy = df_DIAGPROC_FINDEMOG_ENCFiltered\n"
   ]
  },
  {
   "cell_type": "code",
   "execution_count": null,
   "metadata": {
    "tags": []
   },
   "outputs": [],
   "source": [
    "#copy the data back from the master\n",
    "df_DIAGPROC_FINDEMOG_ENCFiltered = df_DIAGPROC_FINDEMOG_ENCFiltered_copy\n",
    "\n",
    "#replace ICD10 codes for Astma sub penotypes with do not care\n",
    "df_DIAGPROC_FINDEMOG_ENCFiltered['ICD10CODE'] = df_DIAGPROC_FINDEMOG_ENCFiltered['ICD10CODE'].replace({'J45.20': 'J45.2x', 'J45.21': 'J45.2x'})\n",
    "df_DIAGPROC_FINDEMOG_ENCFiltered['ICD10CODE'] = df_DIAGPROC_FINDEMOG_ENCFiltered['ICD10CODE'].replace({'J45.30': 'J45.3x', 'J45.31': 'J45.3x', 'J45.32': 'J45.3x'})\n",
    "df_DIAGPROC_FINDEMOG_ENCFiltered['ICD10CODE'] = df_DIAGPROC_FINDEMOG_ENCFiltered['ICD10CODE'].replace({'J45.40': 'J45.4x', 'J45.41': 'J45.4x', 'J45.42': 'J45.4x'})\n",
    "df_DIAGPROC_FINDEMOG_ENCFiltered['ICD10CODE'] = df_DIAGPROC_FINDEMOG_ENCFiltered['ICD10CODE'].replace({'J45.50': 'J45.5x', 'J45.51': 'J45.5x', 'J45.52': 'J45.5x'})\n",
    "\n",
    "\n",
    "num_unique_patients = df_DIAGPROC_FINDEMOG_ENCFiltered['PATIENTHASHMRN'].nunique()\n",
    "patient_visits = df_DIAGPROC_FINDEMOG_ENCFiltered.groupby('PATIENTHASHMRN').size().reset_index(name='Visit_Count')\n",
    "\n",
    "icd_codes_list = df_DIAGPROC_FINDEMOG_ENCFiltered.groupby('PATIENTHASHMRN')['ICD10CODE'].apply(list).reset_index(name='ICD10CODEs')\n",
    "dept_specialty_list = df_DIAGPROC_FINDEMOG_ENCFiltered.groupby(['PATIENTHASHMRN', 'ICD10CODE'])['DEPTSPECIALTY'].apply(list).reset_index(name='DEPTSPECIALTYs')\n",
    "\n",
    "patient_visits = pd.merge(patient_visits, icd_codes_list, on='PATIENTHASHMRN', how='left')\n",
    "patient_visits_department = pd.merge(patient_visits, dept_specialty_list, on='PATIENTHASHMRN', how='left')\n",
    "\n",
    "patient_visits_department=patient_visits_department.drop('ICD10CODE',axis=1)\n",
    "\n",
    "#print(\"Summary DataFrame:\")\n",
    "#print(patient_visits)\n",
    "\n",
    "# Merging both DataFrames on 'PATIENTHASHMRN'\n",
    "merged_df = pd.merge(icd_codes_list, dept_specialty_list, on='PATIENTHASHMRN', how='left')\n",
    "\n",
    "# Creating a pivot table\n",
    "pivot_table = pd.pivot_table(df_DIAGPROC_FINDEMOG_ENCFiltered, index='DEPTSPECIALTY', columns='ICD10CODE', aggfunc='size', fill_value=0)\n",
    "\n",
    "document.add_paragraph(\"Matrix of DEPTSPECIALTY versus ICD10CODES:\")\n",
    "print(pivot_table)\n",
    "doctable(pivot_table,\" Department Specialities and Patients Seen\",['Department Speciality','J45.2x', 'J45.3x', 'J45.4x', 'J45.5x'])\n"
   ]
  },
  {
   "cell_type": "code",
   "execution_count": null,
   "metadata": {
    "tags": []
   },
   "outputs": [],
   "source": [
    "#Filter for visits to Emergency Medicine\n",
    "emergency_visits = df_DIAGPROC_FINDEMOG_ENCFiltered[df_DIAGPROC_FINDEMOG_ENCFiltered['DEPTSPECIALTY'] == 'Emergency Medicine']\n",
    "total_emergency_visits = emergency_visits.groupby('PATIENTHASHMRN').size()\n",
    "\n",
    "# Convert the Series to a DataFrame and give the column a name\n",
    "total_emergency_visits_df = total_emergency_visits.reset_index(name='Total Emergency Visits')\n",
    "\n",
    "\n",
    "#Identify unique MRNs from these visits\n",
    "unique_mrn_emergency = emergency_visits['PATIENTHASHMRN'].unique()\n",
    "\n",
    "# Filter original DataFrame for these MRNs to find visits to other departments\n",
    "emergency_dept_visits = df_DIAGPROC_FINDEMOG_ENCFiltered[df_DIAGPROC_FINDEMOG_ENCFiltered['PATIENTHASHMRN'].isin(unique_mrn_emergency)]\n",
    "                                                     #& (df_DIAGPROC_FINDEMOG_ENCFiltered['DEPTSPECIALTY'] != 'Emergency Medicine')]\n",
    "\n",
    "#Count visits to each department for these MRNs\n",
    "visits_count = emergency_dept_visits.groupby(['PATIENTHASHMRN', 'DEPTSPECIALTY']).size().reset_index(name='Visits')\n",
    "\n",
    "department_visits_count = emergency_dept_visits.groupby(['DEPTSPECIALTY']).size().reset_index(name='Visits')\n",
    "\n",
    "# The departments and number of time visited by patients who visited emergency services\n",
    "dept_visits_matrix = emergency_dept_visits.pivot_table(index='PATIENTHASHMRN', columns='DEPTSPECIALTY', aggfunc='size', fill_value=0)\n",
    "\n",
    "dept_visits_matrix = dept_visits_matrix.merge(total_emergency_visits_df, how='left', left_index=True, right_on='PATIENTHASHMRN')\n",
    "\n",
    "# Set PATIENTHASHMRN back as the index if it's been reset due to the merge\n",
    "dept_visits_matrix.set_index('PATIENTHASHMRN', inplace=True)\n",
    "\n",
    "# Fill NaN values that might have occurred if there are patients with no emergency visits recorded\n",
    "dept_visits_matrix['Total Emergency Visits'].fillna(0, inplace=True)\n",
    "\n",
    "# Convert the 'Total Emergency Visits' column to integers to clean up the data presentation\n",
    "dept_visits_matrix['Total Emergency Visits'] = dept_visits_matrix['Total Emergency Visits'].astype(int)\n",
    "\n",
    "dept_visits_matrix = dept_visits_matrix.sort_values(by='Total Emergency Visits', ascending=False)\n",
    "\n",
    "# Reset the index to turn the index (PATIENTHASHMRN) into a column\n",
    "dept_visits_matrix = dept_visits_matrix.reset_index()\n",
    "\n",
    "emergency_dept_visits_matrix = pd.merge(dept_visits_matrix, df_FINDEMOG, on='PATIENTHASHMRN', how='inner')\n",
    "\n",
    "\n",
    "\n"
   ]
  },
  {
   "cell_type": "code",
   "execution_count": null,
   "metadata": {
    "tags": []
   },
   "outputs": [],
   "source": [
    "emergency_dept_visits_matrix"
   ]
  },
  {
   "cell_type": "code",
   "execution_count": null,
   "metadata": {
    "tags": []
   },
   "outputs": [],
   "source": [
    "department_visits_count.to_csv(\"departmentVisitCounts.csv\")"
   ]
  },
  {
   "cell_type": "code",
   "execution_count": null,
   "metadata": {
    "tags": []
   },
   "outputs": [],
   "source": [
    "dept_visits_matrix.to_csv(\"emergencyVisit.csv\")"
   ]
  },
  {
   "cell_type": "code",
   "execution_count": null,
   "metadata": {
    "tags": []
   },
   "outputs": [],
   "source": [
    "#Filter for visits to Emergency Medicine\n",
    "emergency_visits = df_DIAGPROC_FINDEMOG_ENCFiltered[df_DIAGPROC_FINDEMOG_ENCFiltered['DEPTSPECIALTY'] == 'Emergency Medicine']\n",
    "total_emergency_visits = emergency_visits.groupby('PATIENTHASHMRN').size()\n",
    "\n",
    "# Convert the Series to a DataFrame and give the column a name\n",
    "total_emergency_visits_df = total_emergency_visits.reset_index(name='Total Emergency Visits')\n",
    "\n",
    "\n",
    "#Identify unique MRNs from these visits\n",
    "unique_mrn_emergency = emergency_visits['PATIENTHASHMRN'].unique()\n",
    "\n",
    "# Filter original DataFrame for these MRNs to find visits to other departments\n",
    "other_dept_visits = df_DIAGPROC_FINDEMOG_ENCFiltered[df_DIAGPROC_FINDEMOG_ENCFiltered['PATIENTHASHMRN'].isin(unique_mrn_emergency)& (df_DIAGPROC_FINDEMOG_ENCFiltered['DEPTSPECIALTY'] != 'Emergency Medicine')]\n",
    "\n",
    "#Count visits to each department for these MRNs\n",
    "visits_count = other_dept_visits.groupby(['PATIENTHASHMRN', 'DEPTSPECIALTY']).size().reset_index(name='Visits')\n",
    "\n",
    "detailed_visits_count = other_dept_visits.groupby(['PATIENTHASHMRN', 'DEPTSPECIALTY']).size().reset_index(name='Visits')\n",
    "\n",
    "# The departments and number of time visited by patients who visited emergency services\n",
    "dept_visits_matrix = other_dept_visits.pivot_table(index='PATIENTHASHMRN', columns='DEPTSPECIALTY', aggfunc='size', fill_value=0)\n",
    "\n",
    "dept_visits_matrix = dept_visits_matrix.merge(total_emergency_visits_df, how='left', left_index=True, right_on='PATIENTHASHMRN')\n",
    "\n",
    "# Set PATIENTHASHMRN back as the index if it's been reset due to the merge\n",
    "dept_visits_matrix.set_index('PATIENTHASHMRN', inplace=True)\n",
    "\n",
    "# Fill NaN values that might have occurred if there are patients with no emergency visits recorded\n",
    "dept_visits_matrix['Total Emergency Visits'].fillna(0, inplace=True)\n",
    "\n",
    "# Convert the 'Total Emergency Visits' column to integers to clean up the data presentation\n",
    "dept_visits_matrix['Total Emergency Visits'] = dept_visits_matrix['Total Emergency Visits'].astype(int)\n",
    "\n",
    "dept_visits_matrix = dept_visits_matrix.sort_values(by='Total Emergency Visits', ascending=False)\n",
    "\n",
    "# Reset the index to turn the index (PATIENTHASHMRN) into a column\n",
    "dept_visits_matrix = dept_visits_matrix.reset_index()\n",
    "\n",
    "other_dept_visits_matrix = pd.merge(dept_visits_matrix, df_FINDEMOG, on='PATIENTHASHMRN', how='inner')\n"
   ]
  },
  {
   "cell_type": "code",
   "execution_count": null,
   "metadata": {},
   "outputs": [],
   "source": [
    "other_dept_visits_matrix"
   ]
  },
  {
   "cell_type": "code",
   "execution_count": null,
   "metadata": {
    "tags": []
   },
   "outputs": [],
   "source": [
    "tempList = other_dept_visits_matrix.PATIENTHASHMRN\n",
    "Onlyemergency_dept_visits_matrix = emergency_dept_visits_matrix[~emergency_dept_visits_matrix['PATIENTHASHMRN'].isin(tempList)]\n",
    "                                                                "
   ]
  },
  {
   "cell_type": "code",
   "execution_count": null,
   "metadata": {
    "tags": []
   },
   "outputs": [],
   "source": [
    "other_dept_visits_matrix.to_csv('otherdepartmentVisits.csv')\n",
    "emergency_dept_visits_matrix.to_csv('EmergencyDepartmentVisits.csv')\n",
    "Onlyemergency_dept_visits_matrix.to_csv('OnlyEmergencyDepartmentVisits.csv')\n",
    "\n",
    "p1 = document.add_paragraph(\"The total number of patients seen by emergency department : \")\n",
    "p1.add_run(str(len(emergency_dept_visits_matrix)))\n",
    "\n",
    "p2 = document.add_paragraph(\"The number of patients seen by only emergency department.  These patients only accessed medical services through emergency Services :\")\n",
    "p2.add_run(str(len(Onlyemergency_dept_visits_matrix)))\n",
    "\n",
    "p3 = document.add_paragraph(\"The number of patients seen by  emergency department but also by other departments :\")\n",
    "p3.add_run(str(len(other_dept_visits_matrix)))\n"
   ]
  },
  {
   "cell_type": "code",
   "execution_count": null,
   "metadata": {
    "tags": []
   },
   "outputs": [],
   "source": [
    "Onlyemergency_dept_visits_matrix.columns"
   ]
  },
  {
   "cell_type": "code",
   "execution_count": null,
   "metadata": {
    "tags": []
   },
   "outputs": [],
   "source": [
    "document = Document()\n",
    "# Group by FINANCIALCLASS and Total Emergency Visits, then count the patients\n",
    "sns.set(font_scale=1.1)    \n",
    "financialclass_category_order =['Medi-Cal Managed Care','Medi-Cal','Commercial','Self-Pay','Medicare HMO/PPO','Medicare','Tricare','Managed Care','Worker\\'s Comp','Other']\n",
    "\n",
    "patient_counts = Onlyemergency_dept_visits_matrix.groupby(['FINANCIALCLASS', 'Total Emergency Visits']).size().reset_index(name='Patient_Count')\n",
    "patient_counts['FINANCIALCLASS'] = pd.Categorical(patient_counts['FINANCIALCLASS'], categories=financialclass_category_order, ordered=True)\n",
    "\n",
    "#bubble_plot = sns.scatterplot(data=patient_counts, y='Total Emergency Visits', x='FINANCIALCLASS', size='Patient_Count', sizes=(30, 500), alpha=0.8, legend=False)\n",
    "patient_matrix = patient_counts.pivot(index='FINANCIALCLASS', columns='Total Emergency Visits', values='Patient_Count').fillna(0)\n",
    "\n",
    "## Calculate column-wise percentages\n",
    "column_totals = patient_matrix.sum(axis=0)  # Sum each column\n",
    "percent_matrix = patient_matrix.div(column_totals, axis=1) * 100  # Calculate percentage for each cell\n",
    "\n",
    "# Create annotation text showing both counts and percentages\n",
    "annotations = patient_matrix.applymap(int).astype(str) + \"\\n(\" + percent_matrix.round(1).astype(str) + \"%)\"\n",
    "\n",
    "plt.figure(figsize=(6, 4))\n",
    "sns.heatmap(\n",
    "    patient_matrix,\n",
    "    annot=annotations,\n",
    "    fmt=\"\",\n",
    "    cmap='YlGnBu',\n",
    "    linewidths=0.5,\n",
    "    cbar_kws={'label': 'Patient Count'},\n",
    "    annot_kws={\"size\": 10}  # Adjust annotation font size\n",
    ")\n",
    "\n",
    "#plt.title('Total Emergency Visits vs. Financial Class - Only for patients visiting emergency service')\n",
    "plt.ylabel('Financial Class (Insurance)')\n",
    "#plt.xlabel('Financial Class')\n",
    "plt.xlabel('Total of  Emergency Visits')\n",
    "plt.grid(True)  # Add grid for better readability\n",
    "\n",
    "# Adjusting y-axis labels for better readability if necessary\n",
    "plt.xticks(rotation=45, ha='right')\n",
    "plt.savefig('temp.png', bbox_inches='tight')\n",
    "\n",
    "\n",
    "document.add_picture('temp.png', width=Inches(6))\n",
    "document.add_paragraph(\"Figure XX:Financial Class versus Total Emergency Visits (For Patients visited only Emergency Services)\")\n",
    "\n",
    "plt.show()\n",
    "# Pivot the patient_counts DataFrame to create the matrix\n",
    "patient_matrix = patient_counts.pivot(index='FINANCIALCLASS', columns='Total Emergency Visits', values='Patient_Count').fillna(0)\n",
    "doctable(patient_matrix, \"Financial Class versus Total Emergency Visits (For Patients visited only Emergency Services) \",['Financial Class','1','2', '3', '4', '5', '6', '8', '9', '12', '14'])\n",
    "\n",
    "\n",
    "# Display the resulting matrix\n",
    "print(patient_matrix)"
   ]
  },
  {
   "cell_type": "code",
   "execution_count": null,
   "metadata": {
    "tags": []
   },
   "outputs": [],
   "source": [
    "patient_matrix"
   ]
  },
  {
   "cell_type": "code",
   "execution_count": null,
   "metadata": {
    "tags": []
   },
   "outputs": [],
   "source": [
    "# Group by FINANCIALCLASS and Total Emergency Visits, then count the patients\n",
    "sns.set(font_scale=1.1)   \n",
    "income_category_order = [' Very Low', 'Low', 'Median','High', 'Very High', 'Unknown']\n",
    "#income_category_order = [ 'Low', 'Median','High', 'Very High', 'Unknown']\n",
    "\n",
    "patient_counts = Onlyemergency_dept_visits_matrix.groupby(['INCOME_CATEGORY', 'Total Emergency Visits']).size().reset_index(name='Patient_Count')\n",
    "\n",
    "# Convert INCOME_CATEGORY to a categorical type with a defined order\n",
    "patient_counts['INCOME_CATEGORY'] = pd.Categorical(patient_counts['INCOME_CATEGORY'], categories=income_category_order, ordered=True)\n",
    "\n",
    "\n",
    "#bubble_plot = sns.scatterplot(data=patient_counts, y='Total Emergency Visits', x='INCOME_CATEGORY', size='Patient_Count', sizes=(30, 500), alpha=0.8, legend=False)\n",
    "\n",
    "# Create the pivot table for the heatmap\n",
    "patient_matrix = patient_counts.pivot(index='INCOME_CATEGORY', columns='Total Emergency Visits', values='Patient_Count').fillna(0)\n",
    "\n",
    "## Calculate column-wise percentages\n",
    "column_totals = patient_matrix.sum(axis=0)  # Sum each column\n",
    "percent_matrix = patient_matrix.div(column_totals, axis=1) * 100  # Calculate percentage for each cell\n",
    "\n",
    "# Create annotation text showing both counts and percentages\n",
    "annotations = patient_matrix.applymap(int).astype(str) + \"\\n(\" + percent_matrix.round(1).astype(str) + \"%)\"\n",
    "\n",
    "plt.figure(figsize=(6, 4))\n",
    "sns.heatmap(\n",
    "    patient_matrix,\n",
    "    annot=annotations,\n",
    "    fmt=\"\",\n",
    "    cmap='YlGnBu',\n",
    "    linewidths=0.5,\n",
    "    cbar_kws={'label': 'Patient Count'},\n",
    "    annot_kws={\"size\": 10}  # Adjust annotation font size\n",
    ")\n",
    "#plt.title('Total Emergency Visits vs. Income Category')\n",
    "plt.xlabel('Total Emergency Visits')\n",
    "#plt.xlabel('Income Category')\n",
    "plt.ylabel('Income Category')\n",
    "\n",
    "plt.grid(True)  # Add grid for better readability\n",
    "\n",
    "# Adjusting y-axis labels for better readability if necessary\n",
    "plt.xticks(rotation=45, ha='right')\n",
    "plt.savefig('temp.png', bbox_inches='tight')\n",
    "\n",
    "document.add_picture('temp.png', width=Inches(6))\n",
    "document.add_paragraph(\"Figure XX:Income Category versus Total Emergency Visits (For Patients visited only Emergency Services)\")\n",
    "\n",
    "plt.show()\n",
    "\n",
    "# Pivot the patient_counts DataFrame to create the matrix\n",
    "patient_matrix = patient_counts.pivot(index='INCOME_CATEGORY', columns='Total Emergency Visits', values='Patient_Count').fillna(0)\n",
    "doctable(patient_matrix, \"Income Category versus Total Emergency Visits (For Patients visited only Emergency Services)\",['Income Category','1','2', '3', '4', '5', '6', '8', '9', '12', '14'])\n",
    "\n",
    "# Display the resulting matrix\n",
    "print(patient_matrix)"
   ]
  },
  {
   "cell_type": "code",
   "execution_count": null,
   "metadata": {
    "tags": []
   },
   "outputs": [],
   "source": [
    "Onlyemergency_dept_visits_matrix.columns"
   ]
  },
  {
   "cell_type": "code",
   "execution_count": null,
   "metadata": {
    "tags": []
   },
   "outputs": [],
   "source": [
    "Onlyemergency_dept_visits_matrix"
   ]
  },
  {
   "cell_type": "code",
   "execution_count": null,
   "metadata": {
    "tags": []
   },
   "outputs": [],
   "source": [
    "#patient_counts_check = patientRecordswithOnlyEmergencyVisit.groupby(['PATIENTHASHMRN', 'Total Emergency Visits']).size().reset_index(name='Patient_Count')\n"
   ]
  },
  {
   "cell_type": "code",
   "execution_count": null,
   "metadata": {
    "tags": []
   },
   "outputs": [],
   "source": [
    "#patientRecordswithOnlyEmergencyVisit.columns"
   ]
  },
  {
   "cell_type": "code",
   "execution_count": null,
   "metadata": {
    "tags": []
   },
   "outputs": [],
   "source": [
    "# Group by 'PATIENTHASHMRN' and 'ICD10CODE', then count the size of each group\n",
    "patientswithOnlyEmergencyVisit = Onlyemergency_dept_visits_matrix.PATIENTHASHMRN\n",
    "patientRecordswithOnlyEmergencyVisit = df_DIAGPROC_FINDEMOG_ENCFiltered[df_DIAGPROC_FINDEMOG_ENCFiltered['PATIENTHASHMRN'].isin(patientswithOnlyEmergencyVisit)]\n",
    "patientRecordswithOnlyEmergencyVisit = patientRecordswithOnlyEmergencyVisit.merge(Onlyemergency_dept_visits_matrix[['PATIENTHASHMRN', 'Total Emergency Visits']], on='PATIENTHASHMRN', how='left')\n",
    "\n",
    "\n",
    "# Define the priority order for ICD10Code\n",
    "priority_order = ['J45.5x', 'J45.4x', 'J45.3x', 'J45.2x']\n",
    "\n",
    "# Create a mapping dictionary to assign a rank to each ICD10Code\n",
    "priority_map = {code: rank for rank, code in enumerate(priority_order)}\n",
    "\n",
    "# Assign a priority rank to each record based on ICD10Code\n",
    "patientRecordswithOnlyEmergencyVisit['PriorityRank'] = patientRecordswithOnlyEmergencyVisit['ICD10CODE'].map(priority_map)\n",
    "\n",
    "# For records where ICD10Code is not in the priority list, assign a high rank\n",
    "patientRecordswithOnlyEmergencyVisit['PriorityRank'] = patientRecordswithOnlyEmergencyVisit['PriorityRank'].fillna(len(priority_order))\n",
    "\n",
    "# Sort the DataFrame by patient ID and PriorityRank, and keep the first record for each patient\n",
    "deduplicated_df = (\n",
    "    patientRecordswithOnlyEmergencyVisit.sort_values(by=['PATIENTHASHMRN', 'PriorityRank'])\n",
    "    .drop_duplicates(subset=['PATIENTHASHMRN'], keep='first')\n",
    "    .drop(columns=['PriorityRank'])  # Remove the PriorityRank column if not needed\n",
    ")\n",
    "\n",
    "\n",
    "patientRecordswithOnlyEmergencyVisit = deduplicated_df\n",
    "\n",
    "patientRecordswithOnlyEmergencyVisit.to_excel('yikil.xlsx')\n",
    "\n",
    "\n",
    "# Group by FINANCIALCLASS and Total Emergency Visits, then count the patients\n",
    "sns.set(font_scale=1.1)   \n",
    "\n",
    "ICD10_category_order = ['J45.5x','J45.4x','J45.3x','J45.2x']\n",
    "\n",
    "# Group by FINANCIALCLASS and Total Emergency Visits, then count the patients\n",
    "sns.set(font_scale=1.1)   \n",
    "#income_category_order = [ 'Low', 'Median','High', 'Very High', 'Unknown']\n",
    "\n",
    "patient_counts = patientRecordswithOnlyEmergencyVisit.groupby(['ICD10CODE', 'Total Emergency Visits']).size().reset_index(name='Patient_Count')\n",
    "# Convert INCOME_CATEGORY to a categorical type with a defined order\n",
    "patient_counts['ICD10CODE'] = pd.Categorical(patient_counts['ICD10CODE'], categories=ICD10_category_order, ordered=True)\n",
    "\n",
    "\n",
    "#bubble_plot = sns.scatterplot(data=patient_counts, y='Total Emergency Visits', x='INCOME_CATEGORY', size='Patient_Count', sizes=(30, 500), alpha=0.8, legend=False)\n",
    "\n",
    "# Create the pivot table for the heatmap\n",
    "patient_matrix = patient_counts.pivot(index='ICD10CODE', columns='Total Emergency Visits', values='Patient_Count').fillna(0)\n",
    "\n",
    "## Calculate column-wise percentages\n",
    "column_totals = patient_matrix.sum(axis=0)  # Sum each column\n",
    "percent_matrix = patient_matrix.div(column_totals, axis=1) * 100  # Calculate percentage for each cell\n",
    "\n",
    "# Create annotation text showing both counts and percentages\n",
    "annotations = patient_matrix.applymap(int).astype(str) + \"\\n(\" + percent_matrix.round(1).astype(str) + \"%)\"\n",
    "\n",
    "plt.figure(figsize=(6, 4))\n",
    "sns.heatmap(\n",
    "    patient_matrix,\n",
    "    annot=annotations,\n",
    "    fmt=\"\",\n",
    "    cmap='YlGnBu',\n",
    "    linewidths=0.5,\n",
    "    cbar_kws={'label': 'Patient Count'},\n",
    "    annot_kws={\"size\": 10}  # Adjust annotation font size\n",
    ")\n",
    "#plt.title('Total Emergency Visits vs. Income Category')\n",
    "plt.xlabel('Total Emergency Visits')\n",
    "#plt.xlabel('Income Category')\n",
    "plt.ylabel('ICD10 Code')\n",
    "\n",
    "plt.grid(True)  # Add grid for better readability\n",
    "\n",
    "# Adjusting y-axis labels for better readability if necessary\n",
    "plt.xticks(rotation=45, ha='right')\n",
    "plt.savefig('temp.png', bbox_inches='tight')\n",
    "\n",
    "document.add_picture('temp.png', width=Inches(6))\n",
    "document.add_paragraph(\"Figure XX:ICD10 Code for Diagnoses versus Total Emergency Visits (For Patients visited only Emergency Services)\")\n",
    "\n",
    "plt.show()\n",
    "\n",
    "# Pivot the patient_counts DataFrame to create the matrix\n",
    "patient_matrix = patient_counts.pivot(index='ICD10CODE', columns='Total Emergency Visits', values='Patient_Count').fillna(0)\n",
    "doctable(patient_matrix, \"Figure XX:ICD10 Code for Diagnosesversus Total Emergency Visits (For Patients visited only Emergency Services)\",['Income Category','1','2', '3', '4', '5', '6', '8', '9', '12', '14'])\n",
    "\n",
    "# Display the resulting matrix\n",
    "print(patient_matrix)\n",
    "\n",
    "\n"
   ]
  },
  {
   "cell_type": "code",
   "execution_count": null,
   "metadata": {
    "tags": []
   },
   "outputs": [],
   "source": [
    "Onlyemergency_dept_visits_matrix"
   ]
  },
  {
   "cell_type": "code",
   "execution_count": null,
   "metadata": {
    "tags": []
   },
   "outputs": [],
   "source": [
    "# Group by FINANCIALCLASS and Total Emergency Visits, then count the patients\n",
    "sns.set(font_scale=1.1)   \n",
    "\n",
    "HHSRegion_category_order = ['South', 'Central', 'East','North Coastal', 'North Central', 'North Inland','Other']\n",
    "\n",
    "# Group by FINANCIALCLASS and Total Emergency Visits, then count the patients\n",
    "sns.set(font_scale=1)   \n",
    "#income_category_order = [ 'Low', 'Median','High', 'Very High', 'Unknown']\n",
    "\n",
    "patient_counts = Onlyemergency_dept_visits_matrix.groupby(['HHSREGION', 'Total Emergency Visits']).size().reset_index(name='Patient_Count')\n",
    "# Convert INCOME_CATEGORY to a categorical type with a defined order\n",
    "patient_counts['HHSREGION'] = pd.Categorical(patient_counts['HHSREGION'], categories=HHSRegion_category_order, ordered=True)\n",
    "\n",
    "\n",
    "#bubble_plot = sns.scatterplot(data=patient_counts, y='Total Emergency Visits', x='INCOME_CATEGORY', size='Patient_Count', sizes=(30, 500), alpha=0.8, legend=False)\n",
    "\n",
    "# Create the pivot table for the heatmap\n",
    "patient_matrix = patient_counts.pivot(index='HHSREGION', columns='Total Emergency Visits', values='Patient_Count').fillna(0)\n",
    "\n",
    "## Calculate column-wise percentages\n",
    "column_totals = patient_matrix.sum(axis=0)  # Sum each column\n",
    "percent_matrix = patient_matrix.div(column_totals, axis=1) * 100  # Calculate percentage for each cell\n",
    "\n",
    "# Create annotation text showing both counts and percentages\n",
    "annotations = patient_matrix.applymap(int).astype(str) + \"\\n(\" + percent_matrix.round(1).astype(str) + \"%)\"\n",
    "\n",
    "plt.figure(figsize=(6, 4))\n",
    "sns.heatmap(\n",
    "    patient_matrix,\n",
    "    annot=annotations,\n",
    "    fmt=\"\",\n",
    "    cmap='YlGnBu',\n",
    "    linewidths=0.5,\n",
    "    cbar_kws={'label': 'Patient Count'},\n",
    "    annot_kws={\"size\": 10}  # Adjust annotation font size\n",
    ")\n",
    "#plt.title('Total Emergency Visits vs. Income Category')\n",
    "plt.xlabel('Total Emergency Visits')\n",
    "#plt.xlabel('Income Category')\n",
    "plt.ylabel('Health Services Region')\n",
    "\n",
    "plt.grid(True)  # Add grid for better readability\n",
    "\n",
    "# Adjusting y-axis labels for better readability if necessary\n",
    "plt.xticks(rotation=45, ha='right')\n",
    "plt.savefig('temp.png', bbox_inches='tight')\n",
    "\n",
    "document.add_picture('temp.png', width=Inches(6))\n",
    "document.add_paragraph(\"Figure XX:Health Services Region  versus Total Emergency Visits (For Patients visited only Emergency Services)\")\n",
    "\n",
    "plt.show()\n",
    "\n",
    "# Pivot the patient_counts DataFrame to create the matrix\n",
    "patient_matrix = patient_counts.pivot(index='HHSREGION', columns='Total Emergency Visits', values='Patient_Count').fillna(0)\n",
    "doctable(patient_matrix, \"Health Services Region  versus Total Emergency Visits (For Patients visited only Emergency Services)\",['Income Category','1','2', '3', '4', '5', '6', '8', '9', '12', '14'])\n",
    "\n",
    "# Display the resulting matrix\n",
    "print(patient_matrix)\n",
    "\n",
    "\n",
    "\n",
    "\n",
    "\n",
    "\n",
    "\n",
    "\n"
   ]
  },
  {
   "cell_type": "code",
   "execution_count": null,
   "metadata": {
    "tags": []
   },
   "outputs": [],
   "source": [
    "patientRecordswithOnlyEmergencyVisit.columns"
   ]
  },
  {
   "cell_type": "code",
   "execution_count": null,
   "metadata": {},
   "outputs": [],
   "source": []
  },
  {
   "cell_type": "code",
   "execution_count": null,
   "metadata": {
    "tags": []
   },
   "outputs": [],
   "source": [
    "#emergency_visits_df = df_DIAGPROC_FINDEMOG_ENCFiltered[df_DIAGPROC_FINDEMOG_ENCFiltered['DEPTSPECIALTY'] == 'Emergency Medicine']\n",
    "emergency_visits_df =patientRecordswithOnlyEmergencyVisit\n",
    "\n",
    "# Step 2 and 3: Group by Ethnicity and Race, and count visits\n",
    "Emergencyvisits_counts = emergency_visits_df.groupby(['RACE']).size().reset_index(name='Visits')\n",
    "\n",
    "# Step 4: Calculate total emergency department visits\n",
    "total_emergency_visits = Emergencyvisits_counts['Visits'].sum()\n",
    "\n",
    "# Step 5: Calculate percentages\n",
    "Emergencyvisits_counts['Percentage'] = (Emergencyvisits_counts['Visits'] / total_emergency_visits) * 100\n",
    "\n",
    "\n",
    "\n",
    "# Step 1 and 2: Group by Race and count entries\n",
    "visit_counts = df_DIAGPROC_FINDEMOG_ENCFiltered_Unique.groupby('RACE').size().reset_index(name='Count')\n",
    "\n",
    "# Step 3: Calculate total entries in the dataset\n",
    "total_entries = visit_counts['Count'].sum()\n",
    "\n",
    "# Step 4: Calculate percentages\n",
    "visit_counts['Percentage'] = (visit_counts['Count'] / total_entries) * 100\n",
    "\n",
    "doctable(Emergencyvisits_counts, \"Race stats of patients who visited only emergency for access to medical care\",['index','Race','Count','Percentage'])\n",
    "doctable(visit_counts, \"Race stats of patients\",['index','Race','Count','Percentage'])\n",
    "\n",
    "\n",
    "print(Emergencyvisits_counts)\n",
    "print(visit_counts)\n",
    "\n"
   ]
  },
  {
   "cell_type": "code",
   "execution_count": null,
   "metadata": {
    "tags": []
   },
   "outputs": [],
   "source": [
    "#emergency_visits_df = df_DIAGPROC_FINDEMOG_ENCFiltered[df_DIAGPROC_FINDEMOG_ENCFiltered['DEPTSPECIALTY'] == 'Emergency Medicine']\n",
    "emergency_visits_df =patientRecordswithOnlyEmergencyVisit\n",
    "\n",
    "# Step 2 and 3: Group by Ethnicity and Race, and count visits\n",
    "Emergencyvisits_counts = emergency_visits_df.groupby(['ETHNICITY']).size().reset_index(name='Visits')\n",
    "\n",
    "# Step 4: Calculate total emergency department visits\n",
    "total_emergency_visits = Emergencyvisits_counts['Visits'].sum()\n",
    "\n",
    "# Step 5: Calculate percentages\n",
    "Emergencyvisits_counts['Percentage'] = (Emergencyvisits_counts['Visits'] / total_emergency_visits) * 100\n",
    "\n",
    "\n",
    "\n",
    "# Step 1 and 2: Group by Race and count entries\n",
    "visit_counts = df_DIAGPROC_FINDEMOG_ENCFiltered_Unique.groupby('ETHNICITY').size().reset_index(name='Count')\n",
    "\n",
    "# Step 3: Calculate total entries in the dataset\n",
    "total_entries = visit_counts['Count'].sum()\n",
    "\n",
    "# Step 4: Calculate percentages\n",
    "visit_counts['Percentage'] = (visit_counts['Count'] / total_entries) * 100\n",
    "\n",
    "doctable(Emergencyvisits_counts, \"Ethnicity stats of patients who visited only emergency for access to medical care\",['index','Ethnicity','Count','Percentage'])\n",
    "doctable(visit_counts, \"Ethnicity stats of patients\",['index','Ethnicity','Count','Percentage'])\n",
    "\n",
    "\n",
    "print(Emergencyvisits_counts)\n",
    "print(visit_counts)\n",
    "\n"
   ]
  },
  {
   "cell_type": "code",
   "execution_count": null,
   "metadata": {
    "tags": []
   },
   "outputs": [],
   "source": [
    "#emergency_visits_df = df_DIAGPROC_FINDEMOG_ENCFiltered[df_DIAGPROC_FINDEMOG_ENCFiltered['DEPTSPECIALTY'] == 'Emergency Medicine']\n",
    "emergency_visits_df =patientRecordswithOnlyEmergencyVisit\n",
    "\n",
    "# Step 2 and 3: Group by Ethnicity and Race, and count visits\n",
    "Emergencyvisits_counts = emergency_visits_df.groupby(['INCOME_CATEGORY']).size().reset_index(name='Visits')\n",
    "\n",
    "# Step 4: Calculate total emergency department visits\n",
    "total_emergency_visits = Emergencyvisits_counts['Visits'].sum()\n",
    "\n",
    "# Step 5: Calculate percentages\n",
    "Emergencyvisits_counts['Percentage'] = (Emergencyvisits_counts['Visits'] / total_emergency_visits) * 100\n",
    "\n",
    "\n",
    "\n",
    "# Step 1 and 2: Group by Race and count entries\n",
    "visit_counts = df_DIAGPROC_FINDEMOG_ENCFiltered_Unique.groupby('INCOME_CATEGORY').size().reset_index(name='Count')\n",
    "\n",
    "# Step 3: Calculate total entries in the dataset\n",
    "total_entries = visit_counts['Count'].sum()\n",
    "\n",
    "# Step 4: Calculate percentages\n",
    "visit_counts['Percentage'] = (visit_counts['Count'] / total_entries) * 100\n",
    "\n",
    "doctable(Emergencyvisits_counts, \"INCOME_CATEGORY stats of patients who visited only emergency for access to medical care\",['index','INCOME_CATEGORY','Count','Percentage'])\n",
    "doctable(visit_counts, \"INCOME_CATEGORY stats of patients\",['index','INCOME_CATEGORY','Count','Percentage'])\n",
    "\n",
    "\n",
    "print(Emergencyvisits_counts)\n",
    "print(visit_counts)\n",
    "\n"
   ]
  },
  {
   "cell_type": "code",
   "execution_count": null,
   "metadata": {
    "tags": []
   },
   "outputs": [],
   "source": [
    "\n",
    "patient_counts = df_DIAGPROC_FINDEMOG_ENCFiltered_Unique.groupby(['DEPTLOCATION', 'INCOME_CATEGORY']).size().reset_index(name='PatientCount')\n",
    "\n",
    "# Assuming 'df_DIAGPROC_FINDEMOG_ENCFilter' is your filtered DataFrame\n",
    "\n",
    "# Step 1: Aggregate the data to count the number of patients for each combination of HHSREGION and INCOME_CATEGORY\n",
    "# This step remains the same.\n",
    "\n",
    "# Step 2: Correctly pivot the data using pivot_table method\n",
    "pivot_table = df_DIAGPROC_FINDEMOG_ENCFiltered_Unique.pivot_table(index='DEPTLOCATION', columns='INCOME_CATEGORY', aggfunc='size', fill_value=0)\n",
    "\n",
    "# Step 3: Create the heatmap with the corrected pivot table\n",
    "plt.figure(figsize=(10, 8))\n",
    "sns.heatmap(pivot_table, annot=True, fmt=\"d\", cmap=\"YlGnBu\", linewidths=1,\n",
    "            annot_kws={\"size\": 8})  # Adjusting font size here\n",
    "#plt.title('Patient Counts by Income Category and Facility Used', fontsize=8)\n",
    "plt.ylabel('Facility Region', fontsize=6)\n",
    "#plt.xlabel('Income Category', fontsize=6)\n",
    "plt.xlabel('')\n",
    "\n",
    "plt.xticks(fontsize=8)  # Adjusting x-axis label font sizes\n",
    "plt.yticks(fontsize=8)  # Adjusting y-axis label font sizes\n",
    "plt.tight_layout()\n",
    "plt.savefig('temp.png', bbox_inches='tight')\n",
    "\n",
    "document.add_picture('temp.png', width=Inches(6))\n",
    "document.add_paragraph(\"Figure XX:Patient Counts by Income Category and  Health Facility Used  \")\n",
    "\n",
    "plt.show()\n"
   ]
  },
  {
   "cell_type": "code",
   "execution_count": null,
   "metadata": {
    "tags": []
   },
   "outputs": [],
   "source": [
    "sns.set_context(\"paper\", font_scale=0.8)\n",
    "# Step 1: Aggregate the data to count the number of patients for each combination of HHSREGION and INCOME_CATEGORY\n",
    "patient_counts = df_DIAGPROC_FINDEMOG_ENCFiltered_Unique.groupby(['HHSREGION', 'INCOME_CATEGORY']).size().reset_index(name='PatientCount')\n",
    "\n",
    "# First, create a pivot table with counts\n",
    "pivot_counts = df_DIAGPROC_FINDEMOG_ENCFiltered_Unique.pivot_table(index='HHSREGION', columns='INCOME_CATEGORY', aggfunc='size', fill_value=0)\n",
    "\n",
    "# Calculate column totals\n",
    "column_totals = pivot_counts.sum(axis=0)\n",
    "\n",
    "# Convert counts to percentages of each column total\n",
    "pivot_percentages_column = (pivot_counts.div(column_totals, axis=1)) * 100\n",
    "\n",
    "# Plotting\n",
    "plt.figure(figsize=(10, 8))\n",
    "sns.heatmap(pivot_percentages_column, annot=True, fmt=\".2f\", cmap=\"YlGnBu\", linewidths=.5)\n",
    "#plt.title('Percentage of Patients within Each Income Category by HHS Region', fontweight='bold', fontsize=8)\n",
    "plt.ylabel('HHS Region', fontsize=8)\n",
    "#plt.xlabel('Income Category',fontsize=8)\n",
    "plt.xlabel('')\n",
    "\n",
    "plt.savefig('temp.png', bbox_inches='tight')\n",
    "\n",
    "document.add_picture('temp.png', width=Inches(6))\n",
    "document.add_paragraph(\"Figure XX:Percentage of Patients within Each Income Category by  HHSREGION    \")\n",
    "\n",
    "plt.show()\n",
    "\n",
    "doctable(pivot_counts, \"HHS Region stats of patients\",['HHSREGION',' reg1', 'reg2', 'reg3', 'reg4', 'reg5','reg6'])\n"
   ]
  },
  {
   "cell_type": "code",
   "execution_count": null,
   "metadata": {
    "tags": []
   },
   "outputs": [],
   "source": [
    "sns.set_context(\"paper\", font_scale=0.8)\n",
    "# Step 1: Aggregate the data to count the number of patients for each combination of HHSREGION and INCOME_CATEGORY\n",
    "patient_counts = df_DIAGPROC_FINDEMOG_ENCFiltered_Unique.groupby(['ETHNICITY', 'HHSREGION']).size().reset_index(name='PatientCount')\n",
    "\n",
    "# First, create a pivot table with counts\n",
    "pivot_counts = df_DIAGPROC_FINDEMOG_ENCFiltered_Unique.pivot_table(index='HHSREGION', columns='ETHNICITY', aggfunc='size', fill_value=0)\n",
    "\n",
    "# Calculate column totals\n",
    "column_totals = pivot_counts.sum(axis=0)\n",
    "\n",
    "# Convert counts to percentages of each column total\n",
    "pivot_percentages_column = (pivot_counts.div(column_totals, axis=1)) * 100\n",
    "\n",
    "# Plotting\n",
    "plt.figure(figsize=(10, 8))\n",
    "sns.heatmap(pivot_percentages_column, annot=True, fmt=\".2f\", cmap=\"YlGnBu\", linewidths=.5)\n",
    "#plt.title('Percentage of Patients in each HHSRegion versus Ethnicity', fontweight='bold', fontsize=8)\n",
    "plt.ylabel('HHS Region', fontsize=8)\n",
    "#plt.xlabel('RACE',fontsize=8)\n",
    "plt.xlabel('')\n",
    "\n",
    "plt.savefig('temp.png', bbox_inches='tight')\n",
    "\n",
    "document.add_picture('temp.png', width=Inches(6))\n",
    "document.add_paragraph(\"Figure XX:Percentage of Patients in each HHSRegion versus Ethnicity   \")\n",
    "\n",
    "plt.show()"
   ]
  },
  {
   "cell_type": "code",
   "execution_count": null,
   "metadata": {
    "tags": []
   },
   "outputs": [],
   "source": [
    "sns.set_context(\"paper\", font_scale=0.8)\n",
    "# Step 1: Aggregate the data to count the number of patients for each combination of HHSREGION and INCOME_CATEGORY\n",
    "patient_counts = df_DIAGPROC_FINDEMOG_ENCFiltered_Unique.groupby(['HHSREGION','RACE']).size().reset_index(name='PatientCount')\n",
    "\n",
    "# First, create a pivot table with counts\n",
    "pivot_counts = df_DIAGPROC_FINDEMOG_ENCFiltered_Unique.pivot_table(index='HHSREGION', columns='RACE', aggfunc='size', fill_value=0)\n",
    "\n",
    "# Calculate column totals\n",
    "column_totals = pivot_counts.sum(axis=0)\n",
    "\n",
    "# Convert counts to percentages of each column total\n",
    "pivot_percentages_column = (pivot_counts.div(column_totals, axis=1)) * 100\n",
    "\n",
    "# Plotting\n",
    "plt.figure(figsize=(10, 8))\n",
    "sns.heatmap(pivot_percentages_column, annot=True, fmt=\".2f\", cmap=\"YlGnBu\", linewidths=.5)\n",
    "#plt.title('Percentage of Patients in each HHSRegion versus Race', fontweight='bold', fontsize=8)\n",
    "plt.ylabel('HHS Region', fontsize=8)\n",
    "#plt.xlabel('RACE',fontsize=8)\n",
    "plt.xlabel('')\n",
    "\n",
    "plt.savefig('temp.png', bbox_inches='tight')\n",
    "\n",
    "\n",
    "document.add_picture('temp.png', width=Inches(6))\n",
    "document.add_paragraph(\"Figure XX:Percentage of Patients in each HHSRegion versus Race   \")\n",
    "\n",
    "plt.show()"
   ]
  },
  {
   "cell_type": "code",
   "execution_count": null,
   "metadata": {
    "tags": []
   },
   "outputs": [],
   "source": [
    "fsize = 14\n",
    "width = 7\n",
    "height = 5\n",
    "\n",
    "#Calucate Odds Radio and Disparity Index\n",
    "df_DIAGPROC_FINDEMOG_ENCFiltered['IsEmergencyVisit'] = df_DIAGPROC_FINDEMOG_ENCFiltered['DEPTSPECIALTY'] == 'Emergency Medicine'\n",
    "\n",
    "def calculate_index_of_disparity(Category, df):\n",
    "\n",
    "    # Step 1: Filter the data for emergency visits\n",
    "    emergency_visits = df[df['IsEmergencyVisit'] == 1]\n",
    "\n",
    "    # Step 2: Calculate the total number of emergency visits for each race\n",
    "    visits_by_race = emergency_visits.groupby(Category).agg(\n",
    "        EDVisits=pd.NamedAgg(column='IsEmergencyVisit', aggfunc='sum')\n",
    "    ).reset_index()\n",
    "\n",
    "    # Step 3: Calculate the proportion of emergency visits for each race\n",
    "    total_ed_visits = visits_by_race['EDVisits'].sum()\n",
    "    visits_by_race['EDVisitProportion'] = visits_by_race['EDVisits'] / total_ed_visits\n",
    "\n",
    "    # Step 4: Calculate the overall average proportion of emergency visits\n",
    "    overall_average = visits_by_race['EDVisitProportion'].mean()\n",
    "\n",
    "    # Step 5: Calculate the absolute deviation from the average for each race\n",
    "    visits_by_race['AbsoluteDeviation'] = abs((visits_by_race['EDVisitProportion'] - overall_average) / overall_average)\n",
    "\n",
    "    # Step 6: Calculate the Index of Disparity\n",
    "    index_of_disparity = (visits_by_race['AbsoluteDeviation'].mean()) * 100\n",
    "\n",
    "    return index_of_disparity\n",
    "\n",
    "\n",
    "def EmergencyVisitsPerCategory(Category):\n",
    "    # Step 2: Calculate Total and Emergency Visits by Ethnicity\n",
    "    visits_by_Category = df_DIAGPROC_FINDEMOG_ENCFiltered.groupby(Category).agg(\n",
    "        TotalVisits=pd.NamedAgg(column='IsEmergencyVisit', aggfunc='count'),\n",
    "        EDVisits=pd.NamedAgg(column='IsEmergencyVisit', aggfunc='sum')\n",
    "    ).reset_index()\n",
    "\n",
    "    # Step 3: Calculate Odds for Each Race\n",
    "    visits_by_Category['NonEDVisits'] = visits_by_Category['TotalVisits'] - visits_by_Category['EDVisits']\n",
    "    visits_by_Category['Odds'] = visits_by_Category['EDVisits'] / visits_by_Category['NonEDVisits']\n",
    "\n",
    "    # Step 4: Calculate Total Population and ED Visits Proportion for Disparity Index\n",
    "    total_population = visits_by_Category['TotalVisits'].sum()\n",
    "    total_ed_visits = visits_by_Category['EDVisits'].sum()\n",
    "\n",
    "    visits_by_Category['PopulationProportion'] = visits_by_Category['TotalVisits'] / total_population\n",
    "    visits_by_Category['EDVisitsProportion'] = visits_by_Category['EDVisits'] / total_ed_visits\n",
    "\n",
    "    # Step 5: Calculate Disparity Index for Each Race\n",
    "    visits_by_Category['DisparityIndex'] = visits_by_Category['EDVisitsProportion'] / visits_by_Category['PopulationProportion']\n",
    "\n",
    "    # Note: Calculating Odds Ratio (OR) for each race against all others directly is less straightforward\n",
    "    # because it involves comparing each race to the aggregation of all others.\n",
    "    # For simplicity, we calculate Odds and Disparity Index, which already provide significant insights.\n",
    "    visits_by_Category['AbsoluteDifference'] = abs(visits_by_Category['EDVisitsProportion'] - visits_by_Category['PopulationProportion'])\n",
    "        \n",
    "    # Step 4: Sum the absolute differences and divide by 2\n",
    "    index_of_dissimilarity = (visits_by_Category['AbsoluteDifference'].sum() / 2) * 100  # Convert to percentage\n",
    "      \n",
    "    \n",
    "    # Step 5: Calculate Disparity Index for Each Race\n",
    "    \n",
    "    \n",
    "    index_of_disparity = calculate_index_of_disparity(Category, df_DIAGPROC_FINDEMOG_ENCFiltered)\n",
    "    \n",
    "    paragraph = document.add_paragraph('index of dissimilarity :')\n",
    "    paragraph.add_run(f\"{index_of_dissimilarity:.4f}%\")\n",
    "    paragraph = document.add_paragraph('index of disparity :')\n",
    "    paragraph.add_run(f\"{index_of_disparity:.4f}%\")\n",
    "\n",
    "    print('index of dissimilarity :',index_of_dissimilarity, '\\n index of disparity :',index_of_disparity, )\n",
    "\n",
    "    \n",
    "    # Display the final DataFrame\n",
    "    visits_by_Category[[Category, 'Odds', 'DisparityIndex']]\n",
    "\n",
    "    visits_by_Category = visits_by_Category.sort_values(by='PopulationProportion', ascending=True)\n",
    "    \n",
    "    # Step 2: Compute cumulative proportions\n",
    "    visits_by_Category['CumulativePopulation'] = visits_by_Category['PopulationProportion'].cumsum()\n",
    "    visits_by_Category['CumulativeEDVisits'] = visits_by_Category['EDVisitsProportion'].cumsum()\n",
    "\n",
    "    concentration_curve_x = visits_by_Category['CumulativePopulation']\n",
    "    concentration_curve_y = visits_by_Category['CumulativeEDVisits']\n",
    "    \n",
    "    print(visits_by_Category)\n",
    "\n",
    "    # Step 4: Plot the Concentration Curve\n",
    "    plt.figure(figsize=(width,height))\n",
    "    plt.plot(concentration_curve_x, concentration_curve_y, label='Concentration Curve', marker='o', linestyle='-')\n",
    "    plt.plot([0, 1], [0, 1], color='k', linestyle='--', label='Line of Equality')  # Diagonal line representing perfect equality\n",
    "    #plt.xlabel('Cumulative Proportion of Population')\n",
    "    plt.xlabel('')\n",
    "    plt.grid(False)  # Completely turn off the grid\n",
    "    plt.ylabel('Emergency Visit Cumulative %',fontsize=fsize)\n",
    "    #plt.title('Concentration Curve for Emergency Visits by '+ Category)\n",
    "    plt.legend(fontsize=fsize)\n",
    "    plt.grid(True)\n",
    "    plt.xticks(fontsize=fsize)\n",
    "    plt.yticks(fontsize=fsize)\n",
    "    #plt.savefig('temp.png')    \n",
    "\n",
    "    plt.savefig('temp.png', bbox_inches='tight')\n",
    "    plt.show()\n",
    "\n",
    "    document.add_picture('temp.png', width=Inches(width))\n",
    "    \n",
    "    paragraph =document.add_paragraph(\"Figure XX:Concentration Curve for Emergency Visits by \")\n",
    "    paragraph.add_run(Category)\n",
    "\n",
    "    visits_by_Category['PercentageEmergencyVisits'] = (visits_by_Category['EDVisits'] / visits_by_Category['TotalVisits']) * 100\n",
    "\n",
    "     # Calculate the maximum Disparity Index\n",
    "    maximum_disparity = visits_by_Category['DisparityIndex'].max()\n",
    "\n",
    "    # Print the data to be plotted\n",
    "    print(\"Visit by category\")\n",
    "    print(visits_by_Category)\n",
    "\n",
    "    # Plotting\n",
    "    fig, ax1 = plt.subplots(figsize=(width,height))\n",
    "\n",
    "    # Plot the bar chart for Percentage of Emergency Visits\n",
    "    sns.barplot(x=Category, y='PercentageEmergencyVisits', data=visits_by_Category, palette='coolwarm', ax=ax1)\n",
    "\n",
    "    # Set axis labels and increase font size\n",
    "    ax1.set_ylabel('Emergency Visits Percentage', fontsize=fsize)\n",
    "    ax1.set_xlabel('')\n",
    "    ax1.tick_params(axis='both', which='major', labelsize=fsize)\n",
    "    ax1.set_xticklabels(ax1.get_xticklabels(), rotation=45, horizontalalignment='right')\n",
    "\n",
    "    # Add percentage labels on top of the bars\n",
    "    for p in ax1.patches:\n",
    "        ax1.annotate(f'{p.get_height():.1f}%', \n",
    "                     (p.get_x() + p.get_width() / 2., p.get_height()), \n",
    "                     ha='center', va='center', fontsize=fsize, color='black', \n",
    "                     xytext=(0, 5), textcoords='offset points')\n",
    "\n",
    "    # Create a secondary axis for the Disparity Index\n",
    "    ax2 = ax1.twinx()\n",
    "    ax2.set_ylabel('Disparity Index', fontsize=fsize, color='blue')\n",
    "    ax2.set_ylim(0, maximum_disparity + 1)  # Set the y-axis limit to maximum_disparity + 2\n",
    "    ax2.tick_params(axis='y', labelsize=fsize)  # Change y-ticks font size for the primary axis\n",
    "\n",
    "\n",
    "    # Plot Disparity Index as points\n",
    "    ax2.scatter(visits_by_Category[Category], visits_by_Category['DisparityIndex'], color='blue', s=6, zorder=5, label='Disparity Index')\n",
    "\n",
    "    # Add labels to each point for Disparity Index\n",
    "    for i, (x, y) in enumerate(zip(visits_by_Category[Category], visits_by_Category['DisparityIndex'])):\n",
    "        ax2.annotate(f'{y:.2f}', (i, y), textcoords=\"offset points\", xytext=(10, 0),  fontsize=fsize, ha='left', color='blue')\n",
    "\n",
    "    # Adjust layout and show the plot\n",
    "    plt.grid(False)  # Completely turn off the grid\n",
    "    plt.tight_layout()\n",
    "    plt.legend(loc=\"upper right\", fontsize=fsize)  # Add legend for Disparity Index points\n",
    "    plt.savefig('temp.png', bbox_inches='tight')\n",
    "\n",
    "    document.add_picture('temp.png', width=Inches(width))\n",
    "    paragraph=document.add_paragraph(\"Figure XX: Percentage of  Emergency Visits by \")\n",
    "    paragraph.add_run(Category)    \n",
    "    plt.show()\n",
    "\n",
    "\n",
    "        # Plotting\n",
    "    fig, ax1 = plt.subplots(figsize=(width,height))\n",
    "\n",
    "    # Plot the bar chart for Percentage of Emergency Visits\n",
    "    sns.barplot(x=Category, y='DisparityIndex', data=visits_by_Category, palette='coolwarm', ax=ax1)\n",
    "\n",
    "    # Set axis labels and increase font size\n",
    "    ax1.set_ylabel('Disparity Index', fontsize=fsize)\n",
    "    ax1.set_xlabel('')\n",
    "    ax1.tick_params(axis='both', which='major', labelsize=fsize)\n",
    "    ax1.set_xticklabels(ax1.get_xticklabels(), rotation=45, horizontalalignment='right')\n",
    "\n",
    "    # Add percentage labels on top of the bars\n",
    "    for p in ax1.patches:\n",
    "        ax1.annotate(f'{p.get_height():.1f}', \n",
    "                     (p.get_x() + p.get_width() / 2., p.get_height()), \n",
    "                     ha='center', va='center', fontsize=fsize, color='black', \n",
    "                     xytext=(0, 5), textcoords='offset points')\n",
    "\n",
    "    # Adjust layout and show the plot\n",
    "    plt.grid(False)  # Completely turn off the grid\n",
    "    plt.tight_layout()\n",
    "    plt.savefig('temp.png', bbox_inches='tight')\n",
    "\n",
    "    document.add_picture('temp.png', width=Inches(width))\n",
    "    paragraph=document.add_paragraph(\"Figure XX: Percentage of  Emergency Visits by \")\n",
    "    paragraph.add_run(Category)    \n",
    "    plt.show()\n",
    "\n",
    "    \n",
    "    \n",
    "\n",
    "    # Step 4: Calculate Gini Coefficient\n",
    "    def gini_coefficient(x, y):\n",
    "        n = len(x)\n",
    "        area_below_curve = np.trapz(y, x)\n",
    "        area_perfect_equality = 0.5  # Area under the diagonal line\n",
    "        gini = (area_perfect_equality - area_below_curve) / area_perfect_equality\n",
    "        return gini\n",
    "\n",
    "    gini = gini_coefficient(visits_by_Category['CumulativeEDVisits'], visits_by_Category['CumulativePopulation'], )\n",
    "    paragraph=document.add_paragraph('Gini Coefficient :')\n",
    "    paragraph.add_run(str(gini))\n",
    "    print('Gini Coefficient :',gini)\n",
    "\n",
    "    return(visits_by_Category)\n",
    "\n",
    "visits_by_race = EmergencyVisitsPerCategory('RACE')\n",
    "visits_by_race = visits_by_race.set_index('RACE')\n",
    "visits_by_race = visits_by_race.drop(['CumulativePopulation', 'CumulativeEDVisits'], axis=1)\n",
    "doctable(visits_by_race,\"Emergency Visit By Race\",['RACE', 'TotalVisits', 'EDVisits', 'NonEDVisits', 'Odds','PopulationProportion', 'EDVisitsProportion', 'DisparityIndex','PercentageEmergencyVisits','AbsoluteDifference'])\n",
    "\n",
    "visit_by_HHSREGION = EmergencyVisitsPerCategory('HHSREGION')\n",
    "visit_by_HHSREGION =visit_by_HHSREGION .set_index('HHSREGION')\n",
    "visit_by_HHSREGION = visit_by_HHSREGION.drop(['CumulativePopulation', 'CumulativeEDVisits'], axis=1)\n",
    "\n",
    "doctable(visit_by_HHSREGION,\"Emergency Visits By REGION\",['HHSREGION', 'TotalVisits', 'EDVisits', 'NonEDVisits', 'Odds','PopulationProportion', 'EDVisitsProportion', 'DisparityIndex','PercentageEmergencyVisits','AbsoluteDifference'])\n",
    "\n",
    "\n",
    "visit_by_FINANCIALCLASS = EmergencyVisitsPerCategory('FINANCIALCLASS')\n",
    "visit_by_FINANCIALCLASS = visit_by_FINANCIALCLASS.set_index('FINANCIALCLASS')\n",
    "visit_by_FINANCIALCLASS = visit_by_FINANCIALCLASS.drop(['CumulativePopulation', 'CumulativeEDVisits'], axis=1)\n",
    "\n",
    "doctable(visit_by_FINANCIALCLASS,\"Emergency Visits By Financial Clas\",['FINANCIALCLASS', 'TotalVisits', 'EDVisits', 'NonEDVisits', 'Odds','PopulationProportion', 'EDVisitsProportion', 'DisparityIndex','PercentageEmergencyVisits','AbsoluteDifference'])\n",
    "\n",
    "visit_by_INCOME_CATEGORY = EmergencyVisitsPerCategory('INCOME_CATEGORY')\n",
    "visit_by_INCOME_CATEGORY=visit_by_INCOME_CATEGORY.set_index('INCOME_CATEGORY')\n",
    "visit_by_INCOME_CATEGORY = visit_by_INCOME_CATEGORY.drop(['CumulativePopulation', 'CumulativeEDVisits'], axis=1)\n",
    "\n",
    "doctable(visit_by_INCOME_CATEGORY,\"Emergency Visits By Income Category\",['INCOME_CATEGORY', 'TotalVisits', 'EDVisits', 'NonEDVisits', 'Odds','PopulationProportion', 'EDVisitsProportion', 'DisparityIndex','PercentageEmergencyVisits','AbsoluteDifference'])\n",
    "\n",
    "visit_by_AGE_RANGE = EmergencyVisitsPerCategory('AGE_RANGE')\n",
    "visit_by_AGE_RANGE = visit_by_AGE_RANGE.set_index('AGE_RANGE')\n",
    "visit_by_AGE_RANGE = visit_by_AGE_RANGE.drop(['CumulativePopulation', 'CumulativeEDVisits'], axis=1)\n",
    "\n",
    "doctable(visit_by_AGE_RANGE,\"Emergency Visits By Age Range\",['AGE_RANGE', 'TotalVisits', 'EDVisits', 'NonEDVisits', 'Odds','PopulationProportion', 'EDVisitsProportion', 'DisparityIndex','PercentageEmergencyVisits','AbsoluteDifference'])\n",
    "\n",
    "visit_by_ETHNICITY = EmergencyVisitsPerCategory('ETHNICITY')\n",
    "visit_by_ETHNICITY = visit_by_ETHNICITY.set_index('ETHNICITY')\n",
    "visit_by_ETHNICITY = visit_by_ETHNICITY.drop(['CumulativePopulation', 'CumulativeEDVisits'], axis=1)\n",
    "\n",
    "doctable(visit_by_ETHNICITY,\"Emergency Visits By ETHNICITY\",['ETHNICITY', 'TotalVisits', 'EDVisits', 'NonEDVisits', 'Odds','PopulationProportion', 'EDVisitsProportion', 'DisparityIndex','PercentageEmergencyVisits','AbsoluteDifference'])\n",
    "\n"
   ]
  },
  {
   "cell_type": "code",
   "execution_count": null,
   "metadata": {
    "tags": []
   },
   "outputs": [],
   "source": [
    "visit_by_ETHNICITY"
   ]
  },
  {
   "cell_type": "code",
   "execution_count": null,
   "metadata": {
    "tags": []
   },
   "outputs": [],
   "source": [
    "df_DIAGPROC_FINDEMOG_ENCFiltered.columns"
   ]
  },
  {
   "cell_type": "code",
   "execution_count": null,
   "metadata": {
    "tags": []
   },
   "outputs": [],
   "source": [
    "pivot_table = df_DIAGPROC_FINDEMOG_ENCFiltered.pivot_table(index='DEPTSPECIALTY', columns='TYPE', aggfunc='size', fill_value=0)\n",
    "\n",
    "# Plotting the heatmap\n",
    "plt.figure(figsize=(12, 8))  # Adjust the figure size as needed\n",
    "sns.heatmap(pivot_table, annot=True, fmt=\"d\", cmap=\"YlGnBu\", linewidths=.5)\n",
    "\n",
    "# Set labels and title\n",
    "plt.xlabel('TYPE')\n",
    "plt.ylabel('DEPTSPECIALTY')\n",
    "plt.title('Heatmap of TYPE against DEPTSPECIALTY')\n",
    "\n",
    "# Show the plot\n",
    "plt.tight_layout()\n",
    "plt.show()"
   ]
  },
  {
   "cell_type": "code",
   "execution_count": null,
   "metadata": {
    "tags": []
   },
   "outputs": [],
   "source": [
    "fsize = 14\n",
    "width = 7\n",
    "height = 5\n",
    "#Calucate Odds Radio and Disparity Index\n",
    "specialistList =['Allergy and Immunology','Pulmonology']\n",
    "visitType = ['Hospital Encounter']\n",
    "\n",
    "\n",
    "df_DIAGPROC_FINDEMOG_ENCFiltered['IsspecialistVisit'] = df_DIAGPROC_FINDEMOG_ENCFiltered['DEPTSPECIALTY'].isin(specialistList)\n",
    "df_DIAGPROC_FINDEMOG_ENCFiltered['TYPE'] = df_DIAGPROC_FINDEMOG_ENCFiltered['TYPE'].isin(visitType)\n",
    "\n",
    "def calculate_index_of_disparity(Category, df):\n",
    "\n",
    "    # Step 1: Filter the data for emergency visits\n",
    "    emergency_visits = df[df['IsspecialistVisit'] == 1]\n",
    "\n",
    "    # Step 2: Calculate the total number of emergency visits for each race\n",
    "    visits_by_race = emergency_visits.groupby(Category).agg(\n",
    "        SDVisits=pd.NamedAgg(column='IsspecialistVisit', aggfunc='sum')\n",
    "    ).reset_index()\n",
    "\n",
    "    # Step 3: Calculate the proportion of emergency visits for each race\n",
    "    total_ed_visits = visits_by_race['SDVisits'].sum()\n",
    "    visits_by_race['SDVisitProportion'] = visits_by_race['SDVisits'] / total_ed_visits\n",
    "\n",
    "    # Step 4: Calculate the overall average proportion of emergency visits\n",
    "    overall_average = visits_by_race['SDVisitProportion'].mean()\n",
    "\n",
    "    # Step 5: Calculate the absolute deviation from the average for each race\n",
    "    visits_by_race['AbsoluteDeviation'] = abs((visits_by_race['SDVisitProportion'] - overall_average) / overall_average)\n",
    "\n",
    "    # Step 6: Calculate the Index of Disparity\n",
    "    index_of_disparity = (visits_by_race['AbsoluteDeviation'].mean()) * 100\n",
    "\n",
    "    return index_of_disparity\n",
    "\n",
    "\n",
    "\n",
    "def specialistVisitsPerCategory(Category):\n",
    "    # Step 2: Calculate Total and specialist Visits by Ethnicity\n",
    "    visits_by_Category = df_DIAGPROC_FINDEMOG_ENCFiltered.groupby(Category).agg(\n",
    "        TotalVisits=pd.NamedAgg(column='IsspecialistVisit', aggfunc='count'),\n",
    "        SDVisit=pd.NamedAgg(column='IsspecialistVisit', aggfunc='sum')\n",
    "    ).reset_index()\n",
    "\n",
    "    # Step 3: Calculate Odds for Each Race\n",
    "    visits_by_Category['NonSDVisit'] = visits_by_Category['TotalVisits'] - visits_by_Category['SDVisit']\n",
    "    visits_by_Category['Odds'] = visits_by_Category['SDVisit'] / visits_by_Category['NonSDVisit']\n",
    "\n",
    "    # Step 4: Calculate Total Population and ED Visits Proportion for Disparity Index\n",
    "    total_population = visits_by_Category['TotalVisits'].sum()\n",
    "    total_sd_visits = visits_by_Category['SDVisit'].sum()\n",
    "\n",
    "    visits_by_Category['PopulationProportion'] = visits_by_Category['TotalVisits'] / total_population\n",
    "    visits_by_Category['SDVisitProportion'] = visits_by_Category['SDVisit'] / total_sd_visits\n",
    "\n",
    "    visits_by_Category['AbsoluteDifference'] = abs(visits_by_Category['SDVisitProportion'] - visits_by_Category['PopulationProportion'])\n",
    "        \n",
    "    # Step 4: Sum the absolute differences and divide by 2\n",
    "    index_of_dissimilarity = (visits_by_Category['AbsoluteDifference'].sum() / 2) * 100  # Convert to percentage\n",
    "      \n",
    "    \n",
    "    # Step 5: Calculate Disparity Index for Each Race\n",
    "    visits_by_Category['DisparityIndex'] = visits_by_Category['SDVisitProportion'] / visits_by_Category['PopulationProportion']\n",
    "    \n",
    "    \n",
    "    index_of_disparity = calculate_index_of_disparity(Category, df_DIAGPROC_FINDEMOG_ENCFiltered)\n",
    "    \n",
    "#     paragraph = document.add_paragraph('index of dissimilarity :')\n",
    "#     paragraph.add_run(f\"{index_of_dissimilarity:.4f}%\")\n",
    "#     paragraph = document.add_paragraph('index of disparity :')\n",
    "#     paragraph.add_run(f\"{index_of_disparity:.4f}%\")\n",
    "\n",
    "#     print('index of dissimilarity :',index_of_dissimilarity, '\\n index of disparity :',index_of_disparity, )\n",
    "\n",
    "\n",
    "    # Note: Calculating Odds Ratio (OR) for each race against all others directly is less straightforward\n",
    "    # because it involves comparing each race to the aggregation of all others.\n",
    "    # For simplicity, we calculate Odds and Disparity Index, which already provide significant insights.\n",
    "\n",
    "    # Display the final DataFrame\n",
    "    visits_by_Category[[Category, 'Odds', 'DisparityIndex']]\n",
    "    \n",
    "    print(visits_by_Category)\n",
    "    visits_by_Category = visits_by_Category.sort_values(by='PopulationProportion', ascending=True)\n",
    "    print(visits_by_Category)\n",
    "\n",
    "\n",
    "    # Step 2: Compute cumulative proportions\n",
    "    visits_by_Category['CumulativePopulation'] = visits_by_Category['PopulationProportion'].cumsum()\n",
    "    visits_by_Category['CumulativeSDVisit'] = visits_by_Category['SDVisitProportion'].cumsum()\n",
    "\n",
    "    concentration_curve_x = visits_by_Category['CumulativePopulation']\n",
    "    concentration_curve_y = visits_by_Category['CumulativeSDVisit']\n",
    "\n",
    "    print(visits_by_Category)\n",
    "\n",
    "    \n",
    "     # Step 4: Plot the Concentration Curve\n",
    "    plt.figure(figsize=(width, height))\n",
    "    plt.plot(concentration_curve_x, concentration_curve_y, label='Concentration Curve', marker='o', linestyle='-')\n",
    "    plt.plot([0, 1], [0, 1], color='k', linestyle='--', label='Line of Equality')  # Diagonal line representing perfect equality\n",
    "    #plt.xlabel('Cumulative Proportion of Population')\n",
    "    plt.xlabel('')\n",
    "\n",
    "    plt.ylabel('Specialist Consults Cumulative %',fontsize=12)\n",
    "    #plt.title('Concentration Curve for Emergency Visits by '+ Category)\n",
    "    plt.legend(fontsize=fsize)\n",
    "    plt.grid(True)\n",
    "    plt.xticks(fontsize=fsize)\n",
    "    plt.yticks(fontsize=fsize)\n",
    "    #plt.savefig('temp.png')\n",
    "    plt.savefig('temp.png', bbox_inches='tight')\n",
    "    document.add_picture('temp.png', width=Inches(width))\n",
    "    paragraph = document.add_paragraph(\"Figure XX:Concentration Curve for specialist Consults by \")\n",
    "    paragraph.add_run(Category)\n",
    "    plt.show()\n",
    "\n",
    "    visits_by_Category['PercentagespecialistVisits'] = (visits_by_Category['SDVisit'] / visits_by_Category['TotalVisits']) * 100\n",
    "\n",
    "    \n",
    "    \n",
    "     # Calculate the maximum Disparity Index\n",
    "    maximum_disparity = visits_by_Category['DisparityIndex'].max()\n",
    "\n",
    "    # Print the data to be plotted\n",
    "    print(\"Visit by category\")\n",
    "    print(visits_by_Category)\n",
    "\n",
    "    # Plotting\n",
    "    fig, ax1 = plt.subplots(figsize=(width, height))\n",
    "\n",
    "    # Plot the bar chart for Percentage of Emergency Visits\n",
    "    sns.barplot(x=Category, y='PercentagespecialistVisits', data=visits_by_Category, palette='coolwarm', ax=ax1)\n",
    "\n",
    "    # Set axis labels and increase font size\n",
    "    ax1.set_ylabel('Specialist Consults Percentage', fontsize=fsize)\n",
    "    ax1.set_xlabel('')\n",
    "    ax1.tick_params(axis='both', which='major', labelsize=fsize)\n",
    "    ax1.set_xticklabels(ax1.get_xticklabels(), rotation=45, horizontalalignment='right')\n",
    "\n",
    "    # Add percentage labels on top of the bars\n",
    "    for p in ax1.patches:\n",
    "        ax1.annotate(f'{p.get_height():.1f}%', \n",
    "                     (p.get_x() + p.get_width() / 2., p.get_height()), \n",
    "                     ha='center', va='center', fontsize=fsize, color='black', \n",
    "                     xytext=(0, 5), textcoords='offset points')\n",
    "\n",
    "    # Create a secondary axis for the Disparity Index\n",
    "    ax2 = ax1.twinx()\n",
    "    ax2.set_ylabel('Disparity Index', fontsize=fsize, color='blue')\n",
    "    ax2.set_ylim(0, maximum_disparity + 1)  # Set the y-axis limit to maximum_disparity + 2\n",
    "     # Create a secondary axis for the Disparity Index\n",
    "    ax2.tick_params(axis='y', labelsize=fsize)  # Change y-ticks font size for the primary axis\n",
    "\n",
    "\n",
    "    # Plot Disparity Index as points\n",
    "    ax2.scatter(visits_by_Category[Category], visits_by_Category['DisparityIndex'], color='blue', s=5, zorder=5, label='Disparity Index')\n",
    "\n",
    "    # Add labels to each point for Disparity Index\n",
    "    for i, (x, y) in enumerate(zip(visits_by_Category[Category], visits_by_Category['DisparityIndex'])):\n",
    "        ax2.annotate(f'{y:.2f}', (i, y), textcoords=\"offset points\", xytext=(10, 0),  fontsize=fsize, ha='left', color='blue')\n",
    "\n",
    "    # Adjust layout and show the plot\n",
    "    plt.tight_layout()\n",
    "    plt.legend(loc=\"upper left\", fontsize=fsize)  # Add legend for Disparity Index points\n",
    "    plt.savefig('temp.png', bbox_inches='tight')\n",
    "\n",
    "    document.add_picture('temp.png', width=Inches(width))\n",
    "    paragraph=document.add_paragraph(\"Figure XX: Percentage of  Specialist Consults by \")\n",
    "    paragraph.add_run(Category)    \n",
    "    plt.show()\n",
    "\n",
    "\n",
    "        # Plotting\n",
    "    fig, ax1 = plt.subplots(figsize=(width, height))\n",
    "\n",
    "    # Plot the bar chart for Percentage of Emergency Visits\n",
    "    sns.barplot(x=Category, y='DisparityIndex', data=visits_by_Category, palette='coolwarm', ax=ax1)\n",
    "\n",
    "    # Set axis labels and increase font size\n",
    "    ax1.set_ylabel('Disparity Index', fontsize=fsize)\n",
    "    ax1.set_xlabel('')\n",
    "    ax1.tick_params(axis='both', which='major', labelsize=fsize)\n",
    "    ax1.set_xticklabels(ax1.get_xticklabels(), rotation=45, horizontalalignment='right')\n",
    "\n",
    "    # Add percentage labels on top of the bars\n",
    "    for p in ax1.patches:\n",
    "        ax1.annotate(f'{p.get_height():.1f}', \n",
    "                     (p.get_x() + p.get_width() / 2., p.get_height()), \n",
    "                     ha='center', va='center', fontsize=fsize, color='black', \n",
    "                     xytext=(0, 5), textcoords='offset points')\n",
    "\n",
    "    # Adjust layout and show the plot\n",
    "    plt.tight_layout()\n",
    "    plt.savefig('temp.png', bbox_inches='tight')\n",
    "    document.add_picture('temp.png', width=Inches(width))    \n",
    "    paragraph = document.add_paragraph(\"Figure XX: Percentage of  specialist Visits by \")\n",
    "    paragraph.add_run(Category)\n",
    "    plt.show()\n",
    "\n",
    "\n",
    "\n",
    "    def gini_coefficient(x, y):\n",
    "        \"\"\"\n",
    "        Calculate the Gini coefficient based on the cumulative distributions \n",
    "        of specialist visits (y) and population (x).\n",
    "\n",
    "        Parameters:\n",
    "        - x: Cumulative distribution of the population\n",
    "        - y: Cumulative distribution of the visits\n",
    "\n",
    "        Returns:\n",
    "        - Gini coefficient as a value between 0 and 1\n",
    "        \"\"\"\n",
    "        n = len(x)\n",
    "        if n < 2:\n",
    "            return 0  # Gini coefficient is zero for datasets with fewer than two points\n",
    "\n",
    "        # Ensure the data is sorted by x (population proportion)\n",
    "        sorted_pairs = sorted(zip(x, y))\n",
    "        x_sorted, y_sorted = zip(*sorted_pairs)\n",
    "\n",
    "        # Calculate the Gini coefficient using the trapezoidal rule for numerical integration\n",
    "        area_below_curve = np.trapz(y_sorted, x_sorted)\n",
    "        area_perfect_equality = 0.5  # This represents the area under the line of equality (diagonal)\n",
    "\n",
    "        # Calculate Gini coefficient\n",
    "        gini = (area_perfect_equality - area_below_curve) / area_perfect_equality\n",
    "        return gini\n",
    "    \n",
    "    \n",
    "    gini = gini_coefficient(visits_by_Category['CumulativeSDVisit'],visits_by_Category['CumulativePopulation'])\n",
    "    \n",
    "    paragraph = document.add_paragraph(\"Gini Coefficient: \") \n",
    "    paragraph.add_run(f\"{gini:.4f}%\")\n",
    "    print('Gini coefficient :',gini)\n",
    "    \n",
    "    \n",
    "\n",
    "    paragraph = document.add_paragraph('index of dissimilarity :')\n",
    "    paragraph.add_run(f\"{index_of_dissimilarity:.4f}%\")\n",
    "    paragraph = document.add_paragraph('index of disparity :')\n",
    "    paragraph.add_run(f\"{index_of_disparity:.4f}%\")\n",
    "\n",
    "    print('index of dissimilarity :',index_of_dissimilarity, '\\n index of disparity :',index_of_disparity, )\n",
    "\n",
    "\n",
    "    return(visits_by_Category)\n",
    "\n",
    "\n",
    "visits_by_race = specialistVisitsPerCategory('RACE')\n",
    "visits_by_race = visits_by_race.drop(['CumulativePopulation', 'CumulativeSDVisit'], axis=1)\n",
    "visits_by_race = visits_by_race.set_index('RACE')\n",
    "doctable(visits_by_race,\"Specialist Visits By Race\",['RACE', 'TotalVisits', 'SDVisits', 'NonSDVisits', 'Odds','PopulationProportion', 'SDVisitsProportion', 'DisparityIndex','PercentageSpecialistVisits','AbsoluteDifference'])\n",
    "\n",
    "visit_by_HHSREGION = specialistVisitsPerCategory('HHSREGION')\n",
    "visit_by_HHSREGION = visit_by_HHSREGION.drop(['CumulativePopulation', 'CumulativeSDVisit'], axis=1)\n",
    "visit_by_HHSREGION =visit_by_HHSREGION .set_index('HHSREGION')\n",
    "doctable(visit_by_HHSREGION,\"Specialist Visits By Health Facility Region\",['HHSREGION', 'TotalVisits', 'SDVisits', 'NonSDVisits', 'Odds','PopulationProportion', 'SDVisitsProportion', 'DisparityIndex','PercentageSpecialistVisits','AbsoluteDifference'])\n",
    "\n",
    "\n",
    "visit_by_FINANCIALCLASS = specialistVisitsPerCategory('FINANCIALCLASS')\n",
    "visit_by_FINANCIALCLASS = visit_by_FINANCIALCLASS.drop(['CumulativePopulation', 'CumulativeSDVisit'], axis=1)\n",
    "visit_by_FINANCIALCLASS = visit_by_FINANCIALCLASS.set_index('FINANCIALCLASS')\n",
    "doctable(visit_by_FINANCIALCLASS,\"Specialist Visits By Finaincial Class\",['FINANCIALCLASS', 'TotalVisits', 'SDVisits', 'NonSDVisits', 'Odds','PopulationProportion', 'SDVisitsProportion', 'DisparityIndex','PercentageSpecialistVisits','AbsoluteDifference'])\n",
    "\n",
    "visit_by_INCOME_CATEGORY = specialistVisitsPerCategory('INCOME_CATEGORY')\n",
    "visit_by_INCOME_CATEGORY = visit_by_INCOME_CATEGORY.drop(['CumulativePopulation', 'CumulativeSDVisit'], axis=1)\n",
    "visit_by_INCOME_CATEGORY=visit_by_INCOME_CATEGORY.set_index('INCOME_CATEGORY')\n",
    "doctable(visit_by_INCOME_CATEGORY,\"Specialist Visits By Income Category\",['INCOME_CATEGORY', 'TotalVisits', 'SDVisits', 'NonSDVisits', 'Odds','PopulationProportion', 'SDVisitsProportion', 'DisparityIndex','PercentageSpecialistVisits','AbsoluteDifference'])\n",
    "\n",
    "visit_by_AGE_RANGE = specialistVisitsPerCategory('AGE_RANGE')\n",
    "visit_by_AGE_RANGE = visit_by_AGE_RANGE.drop(['CumulativePopulation', 'CumulativeSDVisit'], axis=1)\n",
    "visit_by_AGE_RANGE = visit_by_AGE_RANGE.set_index('AGE_RANGE')\n",
    "doctable(visit_by_AGE_RANGE,\"Specialist Visits By Age Range\",['AGE_RANGE', 'TotalVisits', 'SDVisits', 'NonSDVisits', 'Odds','PopulationProportion', 'SDVisitsProportion', 'DisparityIndex','PercentageSpecialistVisits','AbsoluteDifference'])\n",
    "\n",
    "visit_by_DEPTLOCATION = specialistVisitsPerCategory('DEPTLOCATION')\n",
    "visit_by_DEPTLOCATION = visit_by_DEPTLOCATION.drop(['CumulativePopulation', 'CumulativeSDVisit'], axis=1)\n",
    "visit_by_DEPTLOCATION = visit_by_DEPTLOCATION.set_index('DEPTLOCATION')\n",
    "doctable(visit_by_DEPTLOCATION,\"Specialist Visits By Health Department Location\",['DEPTLOCATION', 'TotalVisits', 'SDVisits', 'NonSDVisits', 'Odds','PopulationProportion', 'SDVisitsProportion', 'DisparityIndex','PercentageSpecialistVisits','AbsoluteDifference'])\n",
    "\n",
    "\n",
    "visit_by_ETHNICITY = specialistVisitsPerCategory('ETHNICITY')\n",
    "visit_by_ETHNICITY = visit_by_ETHNICITY.drop(['CumulativePopulation', 'CumulativeSDVisit'], axis=1)\n",
    "visit_by_ETHNICITY = visit_by_ETHNICITY.set_index('ETHNICITY')\n",
    "doctable(visit_by_DEPTLOCATION,\"Specialist Visits By Health Department Location\",['ETHNICITY', 'TotalVisits', 'SDVisits', 'NonSDVisits', 'Odds','PopulationProportion', 'SDVisitsProportion', 'DisparityIndex','PercentageSpecialistVisits','AbsoluteDifference'])\n",
    "\n"
   ]
  },
  {
   "cell_type": "code",
   "execution_count": null,
   "metadata": {
    "tags": []
   },
   "outputs": [],
   "source": [
    "#Calucate Odds Radio and Disparity Index\n",
    "specialistList =['Allergy and Immunology','Pulmonology']\n",
    "visitType = ['Hospital Encounter']\n",
    "\n",
    "\n",
    "df_DIAGPROC_FINDEMOG_ENCFiltered['IsspecialistVisit'] = df_DIAGPROC_FINDEMOG_ENCFiltered['DEPTSPECIALTY'].isin(specialistList)\n",
    "df_DIAGPROC_FINDEMOG_ENCFiltered['TYPE'] = df_DIAGPROC_FINDEMOG_ENCFiltered['TYPE'].isin(visitType)\n",
    "\n",
    "def calculate_index_of_disparity_nonspecialist(Category, df):\n",
    "    \"\"\"\n",
    "    Calculate the Index of Disparity for non-specialist visits (IsspecialistVisit == 0).\n",
    "    \"\"\"\n",
    "    # Step 1: Filter the data for non-specialist visits\n",
    "    nonspecialist_visits = df[df['IsspecialistVisit'] == 0]\n",
    "\n",
    "    # Step 2: Calculate the total number of non-specialist visits for each category\n",
    "    visits_by_category = nonspecialist_visits.groupby(Category).agg(\n",
    "        NonSDVisits=pd.NamedAgg(column='IsspecialistVisit', aggfunc='count')\n",
    "    ).reset_index()\n",
    "\n",
    "    # Step 3: Calculate the proportion of non-specialist visits for each category\n",
    "    total_nonsd_visits = visits_by_category['NonSDVisits'].sum()\n",
    "    visits_by_category['NonSDVisitProportion'] = visits_by_category['NonSDVisits'] / total_nonsd_visits\n",
    "\n",
    "    # Step 4: Calculate the overall average proportion of non-specialist visits\n",
    "    overall_average = visits_by_category['NonSDVisitProportion'].mean()\n",
    "\n",
    "    # Step 5: Calculate the absolute deviation from the average for each category\n",
    "    visits_by_category['AbsoluteDeviation'] = abs(\n",
    "        (visits_by_category['NonSDVisitProportion'] - overall_average) / overall_average\n",
    "    )\n",
    "\n",
    "    # Step 6: Calculate the Index of Disparity\n",
    "    index_of_disparity = (visits_by_category['AbsoluteDeviation'].mean()) * 100\n",
    "\n",
    "    return index_of_disparity\n",
    "\n",
    "\n",
    "def nonSpecialistVisitsPerCategory(Category):\n",
    "    # Step 1: Calculate Total and Non-specialist Visits by Category\n",
    "    visits_by_Category = df_DIAGPROC_FINDEMOG_ENCFiltered.groupby(Category).agg(\n",
    "        TotalVisits=pd.NamedAgg(column='IsspecialistVisit', aggfunc='count'),\n",
    "        NonSDVisit=pd.NamedAgg(column='IsspecialistVisit', aggfunc=lambda x: (x == 0).sum())\n",
    "    ).reset_index()\n",
    "\n",
    "    # Step 2: Calculate SDVisits (specialist visits)\n",
    "    visits_by_Category['SDVisit'] = visits_by_Category['TotalVisits'] - visits_by_Category['NonSDVisit']\n",
    "\n",
    "    # Step 3: Calculate Odds for Non-specialist Visits\n",
    "    visits_by_Category['Odds'] = visits_by_Category['NonSDVisit'] / visits_by_Category['SDVisit']\n",
    "\n",
    "    # Step 4: Calculate Total Population and Non-specialist Visit Proportion\n",
    "    total_population = visits_by_Category['TotalVisits'].sum()\n",
    "    total_non_sd_visits = visits_by_Category['NonSDVisit'].sum()\n",
    "\n",
    "    visits_by_Category['PopulationProportion'] = visits_by_Category['TotalVisits'] / total_population\n",
    "    visits_by_Category['NonSDVisitProportion'] = visits_by_Category['NonSDVisit'] / total_non_sd_visits\n",
    "\n",
    "    visits_by_Category['AbsoluteDifference'] = abs(visits_by_Category['NonSDVisitProportion'] - visits_by_Category['PopulationProportion'])\n",
    "    \n",
    "    # Step 5: Calculate Index of Dissimilarity\n",
    "    index_of_dissimilarity = (visits_by_Category['AbsoluteDifference'].sum() / 2) * 100  # Convert to percentage\n",
    "\n",
    "    index_of_disparity = calculate_index_of_disparity_nonspecialist(Category, df_DIAGPROC_FINDEMOG_ENCFiltered)\n",
    "    \n",
    "\n",
    "    # Step 6: Calculate Disparity Index\n",
    "    visits_by_Category['DisparityIndex'] = visits_by_Category['NonSDVisitProportion'] / visits_by_Category['PopulationProportion']\n",
    "\n",
    "    # Step 7: Compute cumulative proportions for the concentration curve\n",
    "    visits_by_Category = visits_by_Category.sort_values(by='PopulationProportion', ascending=True)\n",
    "    visits_by_Category['CumulativePopulation'] = visits_by_Category['PopulationProportion'].cumsum()\n",
    "    visits_by_Category['CumulativeNonSDVisit'] = visits_by_Category['NonSDVisitProportion'].cumsum()\n",
    "\n",
    "    # Display the DataFrame\n",
    "    print(visits_by_Category)\n",
    "\n",
    "    # Plot the Concentration Curve\n",
    "    plt.figure(figsize=(8, 6))\n",
    "    plt.plot(visits_by_Category['CumulativePopulation'], visits_by_Category['CumulativeNonSDVisit'], \n",
    "             label='Concentration Curve', marker='o', linestyle='-')\n",
    "    plt.plot([0, 1], [0, 1], color='k', linestyle='--', label='Line of Equality')\n",
    "    plt.xlabel('Cumulative Proportion of Population', fontsize=14)\n",
    "    plt.ylabel('Cumulative Proportion of Specialist Non-Visits', fontsize=14)\n",
    "    plt.legend(fontsize=12)\n",
    "    plt.grid(True)\n",
    "    plt.tight_layout()\n",
    "    plt.savefig('temp.png', bbox_inches='tight')\n",
    "    document.add_picture('temp.png', width=Inches(6))    \n",
    "    paragraph = document.add_paragraph(\"Figure XX: Specialist Non-Visit Concentration Curve \")\n",
    "    paragraph.add_run(Category)\n",
    "    plt.show()\n",
    "    \n",
    "    \n",
    "    \n",
    "    \n",
    "    \n",
    "    visits_by_Category['PercentagespecialistVisits'] = (visits_by_Category['NonSDVisit'] / visits_by_Category['TotalVisits']) * 100\n",
    "\n",
    "         # Calculate the maximum Disparity Index\n",
    "    maximum_disparity = visits_by_Category['DisparityIndex'].max()\n",
    "\n",
    "    # Print the data to be plotted\n",
    "    print(\"Visit by category\")\n",
    "    print(visits_by_Category)\n",
    "\n",
    "    # Plotting\n",
    "    fig, ax1 = plt.subplots(figsize=(10, 6))\n",
    "\n",
    "    # Plot the bar chart for Percentage of Emergency Visits\n",
    "    sns.barplot(x=Category, y='PercentagespecialistVisits', data=visits_by_Category, palette='coolwarm', ax=ax1)\n",
    "\n",
    "    # Set axis labels and increase font size\n",
    "    ax1.set_ylabel('Percentage of Specialist Non-Visits', fontsize=14)\n",
    "    ax1.set_xlabel('')\n",
    "    ax1.tick_params(axis='both', which='major', labelsize=12)\n",
    "    ax1.set_xticklabels(ax1.get_xticklabels(), rotation=45, horizontalalignment='right')\n",
    "\n",
    "    # Add percentage labels on top of the bars\n",
    "    for p in ax1.patches:\n",
    "        ax1.annotate(f'{p.get_height():.1f}%', \n",
    "                     (p.get_x() + p.get_width() / 2., p.get_height()), \n",
    "                     ha='center', va='center', fontsize=14, color='black', \n",
    "                     xytext=(0, 5), textcoords='offset points')\n",
    "\n",
    "    # Create a secondary axis for the Disparity Index\n",
    "    ax2 = ax1.twinx()\n",
    "    ax2.set_ylabel('Disparity Index', fontsize=14, color='blue')\n",
    "    ax2.set_ylim(0, maximum_disparity + 1)  # Set the y-axis limit to maximum_disparity + 2\n",
    "\n",
    "    # Plot Disparity Index as points\n",
    "    ax2.scatter(visits_by_Category[Category], visits_by_Category['DisparityIndex'], color='blue', s=100, zorder=5, label='Disparity Index')\n",
    "\n",
    "    # Add labels to each point for Disparity Index\n",
    "    for i, (x, y) in enumerate(zip(visits_by_Category[Category], visits_by_Category['DisparityIndex'])):\n",
    "        ax2.annotate(f'{y:.2f}', (i, y), textcoords=\"offset points\", xytext=(10, 0),  fontsize=14, ha='left', color='blue')\n",
    "\n",
    "    # Adjust layout and show the plot\n",
    "    plt.tight_layout()\n",
    "    plt.legend(loc=\"upper right\", fontsize=14)  # Add legend for Disparity Index points\n",
    "    plt.savefig('temp.png', bbox_inches='tight')\n",
    "\n",
    "    document.add_picture('temp.png', width=Inches(6))\n",
    "    paragraph=document.add_paragraph(\"Figure XX: Percentage of  Emergency Visits by \")\n",
    "    paragraph.add_run(Category)    \n",
    "    plt.show()\n",
    "\n",
    "\n",
    "        # Plotting\n",
    "    fig, ax1 = plt.subplots(figsize=(10, 6))\n",
    "\n",
    "    # Plot the bar chart for Percentage of Emergency Visits\n",
    "    sns.barplot(x=Category, y='DisparityIndex', data=visits_by_Category, palette='coolwarm', ax=ax1)\n",
    "\n",
    "    # Set axis labels and increase font size\n",
    "    ax1.set_ylabel('Disparity Index', fontsize=14)\n",
    "    ax1.set_xlabel('')\n",
    "    ax1.tick_params(axis='both', which='major', labelsize=12)\n",
    "    ax1.set_xticklabels(ax1.get_xticklabels(), rotation=45, horizontalalignment='right')\n",
    "\n",
    "    # Add percentage labels on top of the bars\n",
    "    for p in ax1.patches:\n",
    "        ax1.annotate(f'{p.get_height():.1f}', \n",
    "                     (p.get_x() + p.get_width() / 2., p.get_height()), \n",
    "                     ha='center', va='center', fontsize=14, color='black', \n",
    "                     xytext=(0, 5), textcoords='offset points')\n",
    "\n",
    "    # Adjust layout and show the plot\n",
    "    plt.tight_layout()\n",
    "    plt.savefig('temp.png', bbox_inches='tight')\n",
    "    document.add_picture('temp.png', width=Inches(6))    \n",
    "    paragraph = document.add_paragraph(\"Figure XX: Percentage of  specialist Visits by \")\n",
    "    paragraph.add_run(Category)\n",
    "    plt.show()\n",
    "\n",
    "\n",
    "    \n",
    "    def gini_coefficient(x, y):\n",
    "        \"\"\"\n",
    "        Calculate the Gini coefficient based on the cumulative distributions \n",
    "        of specialist visits (y) and population (x).\n",
    "\n",
    "        Parameters:\n",
    "        - x: Cumulative distribution of the population\n",
    "        - y: Cumulative distribution of the visits\n",
    "\n",
    "        Returns:\n",
    "        - Gini coefficient as a value between 0 and 1\n",
    "        \"\"\"\n",
    "        n = len(x)\n",
    "        if n < 2:\n",
    "            return 0  # Gini coefficient is zero for datasets with fewer than two points\n",
    "\n",
    "        # Ensure the data is sorted by x (population proportion)\n",
    "        sorted_pairs = sorted(zip(x, y))\n",
    "        x_sorted, y_sorted = zip(*sorted_pairs)\n",
    "\n",
    "        # Calculate the Gini coefficient using the trapezoidal rule for numerical integration\n",
    "        area_below_curve = np.trapz(y_sorted, x_sorted)\n",
    "        area_perfect_equality = 0.5  # This represents the area under the line of equality (diagonal)\n",
    "\n",
    "        # Calculate Gini coefficient\n",
    "        gini = (area_perfect_equality - area_below_curve) / area_perfect_equality\n",
    "        return gini\n",
    "\n",
    "\n",
    "    gini = gini_coefficient(visits_by_Category['CumulativeNonSDVisit'],visits_by_Category['CumulativePopulation'])\n",
    "\n",
    "    paragraph = document.add_paragraph(\"Gini Coefficient: \") \n",
    "    paragraph.add_run(f\"{gini:.4f}%\")\n",
    "    print('Gini coefficient :',gini)\n",
    "\n",
    "    \n",
    "    paragraph = document.add_paragraph('index of dissimilarity :')\n",
    "    paragraph.add_run(f\"{index_of_dissimilarity:.4f}%\")\n",
    "    paragraph = document.add_paragraph('index of disparity :')\n",
    "    paragraph.add_run(f\"{index_of_disparity:.4f}%\")\n",
    "\n",
    "    print('index of dissimilarity :',index_of_dissimilarity, '\\n index of disparity :',index_of_disparity, )\n",
    "\n",
    "\n",
    "    # Add percentages for non-specialist visits\n",
    "    visits_by_Category['PercentageNonSpecialistVisits'] = (visits_by_Category['NonSDVisit'] / visits_by_Category['TotalVisits']) * 100\n",
    "\n",
    "    # Return the final DataFrame\n",
    "    return visits_by_Category\n",
    "\n",
    "\n",
    "\n",
    "visits_by_race = nonSpecialistVisitsPerCategory('RACE')\n",
    "visits_by_race = visits_by_race.drop(['CumulativePopulation', 'CumulativeNonSDVisit'], axis=1)\n",
    "visits_by_race = visits_by_race.set_index('RACE')\n",
    "print(visits_by_race)\n",
    "doctable(visits_by_race,\"Specialist Visits By Race\",['RACE', 'TotalVisits', 'SDVisits', 'NonSDVisits', 'Odds','PopulationProportion', 'SDVisitsProportion', 'DisparityIndex','PercentageSpecialistVisits','NonSDVisitProportion','AbsoluteDifference','PercentageNonSpecialistVisits'])\n",
    "\n",
    "visit_by_HHSREGION = nonSpecialistVisitsPerCategory('HHSREGION')\n",
    "visit_by_HHSREGION = visit_by_HHSREGION.drop(['CumulativePopulation', 'CumulativeNonSDVisit'], axis=1)\n",
    "visit_by_HHSREGION =visit_by_HHSREGION .set_index('HHSREGION')\n",
    "doctable(visit_by_HHSREGION,\"Specialist Visits By Health Facility Region\",['HHSREGION','TotalVisits', 'SDVisits', 'NonSDVisits', 'Odds','PopulationProportion', 'SDVisitsProportion', 'DisparityIndex','PercentageSpecialistVisits','NonSDVisitProportion','AbsoluteDifference','PercentageNonSpecialistVisits'])\n",
    "\n",
    "\n",
    "visit_by_FINANCIALCLASS = nonSpecialistVisitsPerCategory('FINANCIALCLASS')\n",
    "visit_by_FINANCIALCLASS = visit_by_FINANCIALCLASS.drop(['CumulativePopulation', 'CumulativeNonSDVisit'], axis=1)\n",
    "visit_by_FINANCIALCLASS = visit_by_FINANCIALCLASS.set_index('FINANCIALCLASS')\n",
    "doctable(visit_by_FINANCIALCLASS,\"Specialist Visits By Finaincial Class\",['FINANCIALCLASS', 'TotalVisits', 'SDVisits', 'NonSDVisits', 'Odds','PopulationProportion', 'SDVisitsProportion', 'DisparityIndex','PercentageSpecialistVisits','NonSDVisitProportion','AbsoluteDifference','PercentageNonSpecialistVisits'])\n",
    "\n",
    "visit_by_INCOME_CATEGORY = nonSpecialistVisitsPerCategory('INCOME_CATEGORY')\n",
    "visit_by_INCOME_CATEGORY = visit_by_INCOME_CATEGORY.drop(['CumulativePopulation', 'CumulativeNonSDVisit'], axis=1)\n",
    "visit_by_INCOME_CATEGORY=visit_by_INCOME_CATEGORY.set_index('INCOME_CATEGORY')\n",
    "doctable(visit_by_INCOME_CATEGORY,\"Specialist Visits By Income Category\",['INCOME_CATEGORY', 'TotalVisits', 'SDVisits', 'NonSDVisits', 'Odds','PopulationProportion', 'SDVisitsProportion', 'DisparityIndex','PercentageSpecialistVisits','NonSDVisitProportion','AbsoluteDifference','PercentageNonSpecialistVisits'])\n",
    "\n",
    "visit_by_AGE_RANGE = nonSpecialistVisitsPerCategory('AGE_RANGE')\n",
    "visit_by_AGE_RANGE = visit_by_AGE_RANGE.drop(['CumulativePopulation', 'CumulativeNonSDVisit'], axis=1)\n",
    "visit_by_AGE_RANGE = visit_by_AGE_RANGE.set_index('AGE_RANGE')\n",
    "doctable(visit_by_AGE_RANGE,\"Specialist Visits By Age Range\",['AGE_RANGE', 'TotalVisits', 'SDVisits', 'NonSDVisits', 'Odds','PopulationProportion', 'SDVisitsProportion', 'DisparityIndex','PercentageSpecialistVisits','NonSDVisitProportion','AbsoluteDifference','PercentageNonSpecialistVisits'])\n",
    "\n",
    "visit_by_DEPTLOCATION = nonSpecialistVisitsPerCategory('DEPTLOCATION')\n",
    "visit_by_DEPTLOCATION = visit_by_DEPTLOCATION.drop(['CumulativePopulation', 'CumulativeNonSDVisit'], axis=1)\n",
    "visit_by_DEPTLOCATION = visit_by_DEPTLOCATION.set_index('DEPTLOCATION')\n",
    "doctable(visit_by_DEPTLOCATION,\"Specialist Visits By Health Department Location\",['DEPTLOCATION', 'TotalVisits', 'SDVisits', 'NonSDVisits', 'Odds','PopulationProportion', 'SDVisitsProportion', 'DisparityIndex','PercentageSpecialistVisits','NonSDVisitProportion','AbsoluteDifference','PercentageNonSpecialistVisits'])\n",
    "\n",
    "\n",
    "visit_by_ETHNICITY = nonSpecialistVisitsPerCategory('ETHNICITY')\n",
    "visit_by_ETHNICITY = visit_by_ETHNICITY.drop(['CumulativePopulation', 'CumulativeNonSDVisit'], axis=1)\n",
    "visit_by_ETHNICITY = visit_by_ETHNICITY.set_index('ETHNICITY')\n",
    "doctable(visit_by_DEPTLOCATION,\"Specialist Visits By Health Department Location\",['ETHNICITY', 'TotalVisits', 'SDVisits', 'NonSDVisits', 'Odds','PopulationProportion', 'SDVisitsProportion', 'DisparityIndex','PercentageSpecialistVisits','NonSDVisitProportion','AbsoluteDifference','PercentageNonSpecialistVisits'])\n"
   ]
  },
  {
   "cell_type": "code",
   "execution_count": null,
   "metadata": {
    "tags": []
   },
   "outputs": [],
   "source": [
    "visit_by_ETHNICITY\n"
   ]
  },
  {
   "cell_type": "code",
   "execution_count": null,
   "metadata": {
    "tags": []
   },
   "outputs": [],
   "source": []
  },
  {
   "cell_type": "code",
   "execution_count": null,
   "metadata": {
    "tags": []
   },
   "outputs": [],
   "source": [
    "emergency_visits_df = df_DIAGPROC_FINDEMOG_ENCFiltered[df_DIAGPROC_FINDEMOG_ENCFiltered['DEPTSPECIALTY'] == 'Emergency Medicine']\n",
    "\n",
    "# Step 2 and 3: Group by Ethnicity and Race, and count visits\n",
    "visits_count = emergency_visits_df.groupby(['DEPTLOCATION']).size().reset_index(name='Visits')\n",
    "\n",
    "# Step 4: Calculate total emergency department visits\n",
    "total_emergency_visits = visits_count['Visits'].sum()\n",
    "\n",
    "# Step 5: Calculate percentages\n",
    "visits_count['Percentage'] = (visits_count['Visits'] / total_emergency_visits) * 100"
   ]
  },
  {
   "cell_type": "code",
   "execution_count": null,
   "metadata": {
    "tags": []
   },
   "outputs": [],
   "source": [
    "visits_count=visits_count.set_index(['DEPTLOCATION'])\n",
    "doctable(visits_count,\"Hospital used for Emergency Visits (%) \",['DEPTLOCATION','Visits','Percentage'])\n",
    "                                                                 \n"
   ]
  },
  {
   "cell_type": "code",
   "execution_count": null,
   "metadata": {
    "tags": []
   },
   "outputs": [],
   "source": [
    "emergency_visits_df = df_DIAGPROC_FINDEMOG_ENCFiltered[df_DIAGPROC_FINDEMOG_ENCFiltered['DEPTSPECIALTY'] == 'Emergency Medicine']\n",
    "\n",
    "# Step 2 and 3: Group by Ethnicity and Race, and count visits\n",
    "visits_count = emergency_visits_df.groupby(['ICD10CODE']).size().reset_index(name='Visits')\n",
    "\n",
    "# Step 4: Calculate total emergency department visits\n",
    "total_emergency_visits = visits_count['Visits'].sum()\n",
    "\n",
    "# Step 5: Calculate percentages\n",
    "visits_count['Percentage'] = (visits_count['Visits'] / total_emergency_visits) * 100"
   ]
  },
  {
   "cell_type": "code",
   "execution_count": null,
   "metadata": {
    "tags": []
   },
   "outputs": [],
   "source": [
    "visits_count=visits_count.set_index(['ICD10CODE'])\n",
    "doctable(visits_count,\"Diagnosis Percentages for Patients Visiting Emergency Department (%) \",['ICD10CODE','Visits','Percentage'])\n"
   ]
  },
  {
   "cell_type": "code",
   "execution_count": null,
   "metadata": {
    "tags": []
   },
   "outputs": [],
   "source": [
    "emergency_visits_df = df_DIAGPROC_FINDEMOG_ENCFiltered[df_DIAGPROC_FINDEMOG_ENCFiltered['DEPTSPECIALTY'] == 'Emergency Medicine']\n",
    "\n",
    "# Step 2 and 3: Group by Ethnicity and Race, and count visits\n",
    "visits_count = emergency_visits_df.groupby(['SEX']).size().reset_index(name='Visits')\n",
    "\n",
    "# Step 4: Calculate total emergency department visits\n",
    "total_emergency_visits = visits_count['Visits'].sum()\n",
    "\n",
    "# Step 5: Calculate percentages\n",
    "visits_count['Percentage'] = (visits_count['Visits'] / total_emergency_visits) * 100"
   ]
  },
  {
   "cell_type": "code",
   "execution_count": null,
   "metadata": {
    "tags": []
   },
   "outputs": [],
   "source": [
    "visits_count=visits_count.set_index(['SEX'])\n",
    "\n",
    "doctable(visits_count,\"Gender of  Patients Visiting Emergency Department (%) \",['SEX','Visits','Percentage'])\n"
   ]
  },
  {
   "cell_type": "code",
   "execution_count": null,
   "metadata": {
    "tags": []
   },
   "outputs": [],
   "source": [
    "emergency_visits_df = df_DIAGPROC_FINDEMOG_ENCFiltered[df_DIAGPROC_FINDEMOG_ENCFiltered['DEPTSPECIALTY'] == 'Emergency Medicine']\n",
    "\n",
    "# Step 2 and 3: Group by Ethnicity and Race, and count visits\n",
    "visits_count = emergency_visits_df.groupby(['AGE_RANGE']).size().reset_index(name='Visits')\n",
    "\n",
    "# Step 4: Calculate total emergency department visits\n",
    "total_emergency_visits = visits_count['Visits'].sum()\n",
    "\n",
    "# Step 5: Calculate percentages\n",
    "visits_count['Percentage'] = (visits_count['Visits'] / total_emergency_visits) * 100"
   ]
  },
  {
   "cell_type": "code",
   "execution_count": null,
   "metadata": {
    "tags": []
   },
   "outputs": [],
   "source": [
    "df_DIAGPROC_FINDEMOG_ENCFiltered"
   ]
  },
  {
   "cell_type": "code",
   "execution_count": null,
   "metadata": {
    "tags": []
   },
   "outputs": [],
   "source": [
    "visits_count=visits_count.set_index(['AGE_RANGE'])\n",
    "\n",
    "doctable(visits_count,\"Age Group of  Patients Visiting Emergency Department (%) \",['AGE_RANGE','Visits','Percentage'])\n"
   ]
  },
  {
   "cell_type": "code",
   "execution_count": null,
   "metadata": {
    "tags": []
   },
   "outputs": [],
   "source": [
    "#patient_visits_department_filtered = patient_visits_department[patient_visits_department['Visit_Count'] > 1]"
   ]
  },
  {
   "cell_type": "code",
   "execution_count": null,
   "metadata": {
    "tags": []
   },
   "outputs": [],
   "source": [
    "Counter(patient_visits['Visit_Count'])"
   ]
  },
  {
   "cell_type": "code",
   "execution_count": null,
   "metadata": {
    "tags": []
   },
   "outputs": [],
   "source": [
    "#let us get all procedure codes \n",
    "# Flatten the list of lists into a single list\n",
    "all_procedure_codes = [code for sublist in df_DIAGPROC_FINDEMOG_ENCFiltered['ProcedureList'] for code in sublist]\n",
    "\n",
    "# Get unique procedure codes\n",
    "unique_procedure_codes = list(set(all_procedure_codes))"
   ]
  },
  {
   "cell_type": "code",
   "execution_count": null,
   "metadata": {
    "tags": []
   },
   "outputs": [],
   "source": [
    "# import csv\n",
    "\n",
    "# # Open a file in write mode\n",
    "# with open('cptcodesused.csv', 'w', newline='') as file:\n",
    "#     writer = csv.writer(file)\n",
    "\n",
    "#     # Writing the data\n",
    "#     for item in unique_procedure_codes:\n",
    "#         writer.writerow([item])"
   ]
  },
  {
   "cell_type": "code",
   "execution_count": null,
   "metadata": {
    "tags": []
   },
   "outputs": [],
   "source": [
    "flat_codes = [code for sublist in df_DIAGPROC_FINDEMOG_ENCFiltered['ProcedureList'] for code in sublist]\n",
    "flat_names = [name for sublist in df_DIAGPROC_FINDEMOG_ENCFiltered['ProcedureNames'] for name in sublist]\n",
    "\n",
    "# Step 2: Create a dictionary that maps codes to names\n",
    "code_name_dict = dict(zip(flat_codes, flat_names))\n",
    "\n",
    "# Step 3: Get unique codes and corresponding names\n",
    "unique_codes = list(set(flat_codes))\n",
    "unique_code_name_pairs = {code: code_name_dict[code] for code in unique_codes}\n",
    "\n",
    "# Convert to a list of tuples if needed (code, name)\n",
    "unique_code_name_list = list(unique_code_name_pairs.items())\n",
    "\n",
    "# Now you have a unique list of (code, name) pairs\n",
    "print(unique_code_name_list)\n",
    "\n",
    "CPTCodes = pd.DataFrame.from_dict(unique_code_name_list)\n"
   ]
  },
  {
   "cell_type": "code",
   "execution_count": null,
   "metadata": {},
   "outputs": [],
   "source": []
  },
  {
   "cell_type": "code",
   "execution_count": null,
   "metadata": {
    "tags": []
   },
   "outputs": [],
   "source": [
    "#CPTCodes.to_csv('cptcodesused.csv')"
   ]
  },
  {
   "cell_type": "code",
   "execution_count": null,
   "metadata": {
    "tags": []
   },
   "outputs": [],
   "source": [
    "#cptCodeCostDictionary = dict(zip(cptCodeData['CPTCode'], cptCodeData['Cost']))\n"
   ]
  },
  {
   "cell_type": "code",
   "execution_count": null,
   "metadata": {
    "tags": []
   },
   "outputs": [],
   "source": [
    "cptCodeData = pd.read_excel('CostTables/CPTCodesAsthma.xlsx')\n",
    "cptCodeData['CPTCode'] = cptCodeData['CPTCode'].astype(str)\n",
    "cptCodeCostDictionary = dict(zip(cptCodeData['CPTCode'], cptCodeData['Cost']))\n",
    "\n",
    "\n",
    "# Define the list of procedure codes you are interested in\n",
    "target_procedure_codes = cptCodeData['CPTCode'].tolist()\n",
    "\n",
    "# Function to check if any of the target codes are in the procedure list\n",
    "def contains_any_target_code(procedure_list):\n",
    "    return any(code in procedure_list for code in target_procedure_codes)\n",
    "\n",
    "# Filter the DataFrame\n",
    "df_DIAGPROC_FINDEMOG_ENCFiltered = df_DIAGPROC_FINDEMOG_ENCFiltered[df_DIAGPROC_FINDEMOG_ENCFiltered['ProcedureList'].apply(contains_any_target_code)]"
   ]
  },
  {
   "cell_type": "code",
   "execution_count": null,
   "metadata": {
    "tags": []
   },
   "outputs": [],
   "source": [
    "# Function to calculate cost for each encounter\n",
    "def calculate_cost(procedures):\n",
    "    return sum(cptCodeCostDictionary[proc] for proc in procedures if proc in cptCodeCostDictionary)\n",
    "\n",
    "# Apply the function to each row and create a new column\n",
    "df_DIAGPROC_FINDEMOG_ENCFiltered['Cost'] = df_DIAGPROC_FINDEMOG_ENCFiltered['ProcedureList'].apply(calculate_cost)\n",
    "\n",
    "# Display the updated dataframe\n",
    "print(df_DIAGPROC_FINDEMOG_ENCFiltered)"
   ]
  },
  {
   "cell_type": "code",
   "execution_count": null,
   "metadata": {
    "tags": []
   },
   "outputs": [],
   "source": [
    "Counter(df_DIAGPROC_FINDEMOG_ENCFiltered['DEPTSPECIALTY'])"
   ]
  },
  {
   "cell_type": "code",
   "execution_count": null,
   "metadata": {},
   "outputs": [],
   "source": [
    "df_DIAGPROC_FINDEMOG_ENCFiltered.columns"
   ]
  },
  {
   "cell_type": "code",
   "execution_count": null,
   "metadata": {},
   "outputs": [],
   "source": []
  },
  {
   "cell_type": "code",
   "execution_count": null,
   "metadata": {
    "tags": []
   },
   "outputs": [],
   "source": [
    "# deptLocations = df_DIAGPROC_FINDEMOG_ENCFiltered['DEPTLOCATION'].unique()\n",
    "# # Open a file in write mode\n",
    "# with open('departmentLocations.csv', 'w', newline='') as file:\n",
    "#     writer = csv.writer(file)\n",
    "\n",
    "#     # Writing the data\n",
    "#     for item in deptLocations:\n",
    "#         writer.writerow([item])"
   ]
  },
  {
   "cell_type": "code",
   "execution_count": null,
   "metadata": {
    "tags": []
   },
   "outputs": [],
   "source": [
    "# Generate a list of column names that start with 'unknown'\n",
    "columns_to_drop = [col for col in df_DIAGPROC_FINDEMOG_ENCFiltered.columns if col.startswith('Unnamed')]\n",
    "# Drop these columns from the DataFrame\n",
    "df_DIAGPROC_FINDEMOG_ENCFiltered = df_DIAGPROC_FINDEMOG_ENCFiltered.drop(columns=columns_to_drop,errors='ignore')\n",
    "\n",
    "df_DIAGPROC_FINDEMOG_ENCFiltered.rename(columns={'PATIENTHASHMRN_x': 'PATIENTHASHMRN'}, inplace=True, errors='ignore')\n",
    "df_DIAGPROC_FINDEMOG_ENCFiltered.rename(columns={'DATE_DIF_x': 'DATE_DIF'}, inplace=True, errors='ignore')\n",
    "\n",
    "df_DIAGPROC_FINDEMOG_ENCFiltered.drop(columns=['PATIENTHASHMRN_y','DATE_DIF_y','ADMITDEPTSPECIALTY'], inplace=True, errors='ignore')\n",
    "\n"
   ]
  },
  {
   "cell_type": "code",
   "execution_count": null,
   "metadata": {
    "tags": []
   },
   "outputs": [],
   "source": [
    "#BIOLOGICALS = list(BIOLOGICALS)\n",
    "#glucocorticoid_medications = df_DIAGMED[df_DIAGMED['PHARMACEUTICALCLASS'] == 'GLUCOCORTICOIDS']\n"
   ]
  },
  {
   "cell_type": "code",
   "execution_count": null,
   "metadata": {
    "tags": []
   },
   "outputs": [],
   "source": [
    "#Counter(df_DIAGMED.PHARMACEUTICALCLASS)"
   ]
  },
  {
   "cell_type": "code",
   "execution_count": null,
   "metadata": {},
   "outputs": [],
   "source": [
    "#glucocorticoid_medications"
   ]
  },
  {
   "cell_type": "code",
   "execution_count": null,
   "metadata": {
    "tags": []
   },
   "outputs": [],
   "source": [
    "from scipy import stats\n",
    "from scikit_posthocs import posthoc_dunn\n",
    "\n",
    "# Group by ethnicity and aggregate procedure counts\n",
    "grouped_data = df_DIAGPROC_FINDEMOG_ENCFiltered.groupby('DEPTSPECIALTY')['Cost'].agg(['mean', 'median', 'sum', 'count', 'std'])\n",
    "\n",
    "plt.figure(figsize=(10, 6))\n",
    "\n",
    "df_DIAGPROC_FINDEMOG_ENCFiltered['LogCost'] = np.log1p(df_DIAGPROC_FINDEMOG_ENCFiltered['Cost'])  # Use log1p to avoid log(0) issues\n",
    "#sns.boxplot(x='DEPTSPECIALTY', y='LogCost', data=df_DIAGPROC_FINDEMOG_ENCFiltered)\n",
    "sns.violinplot(x='DEPTSPECIALTY', y='LogCost', data=df_DIAGPROC_FINDEMOG_ENCFiltered, palette='Blues')\n",
    "\n",
    "#plt.title('Department Speciality versus Cost of Treatment')\n",
    "plt.xticks(rotation=45, ha='right')\n",
    "plt.savefig('temp.png', bbox_inches='tight')\n",
    "\n",
    "document.add_picture('temp.png', width=Inches(6))\n",
    "paragraph = document.add_paragraph(\"Figure XX:Department Speciality versus Estimated Cost of Treatment \")\n",
    "plt.show()\n",
    "\n",
    "\n",
    "# Statistical Test: ANOVA or Kruskal-Wallis\n",
    "# Adjust the test based on your data distribution\n",
    "anova_result = stats.f_oneway(*[group['Cost'].values for name, group in df_DIAGPROC_FINDEMOG_ENCFiltered.groupby('DEPTSPECIALTY')])\n",
    "# Print ANOVA results\n",
    "\n",
    "p1 = document.add_paragraph(\"ANOVA test result:\")\n",
    "p1.add_run(str(anova_result))\n",
    "print(anova_result)\n",
    "\n",
    "kruskal_result = stats.kruskal(*[group['Cost'].values for name, group in df_DIAGPROC_FINDEMOG_ENCFiltered.groupby('DEPTSPECIALTY')])\n",
    "p1 = document.add_paragraph(\"Kruskal-Wallis test result:\")\n",
    "p1.add_run(str(kruskal_result))\n",
    "print(kruskal_result)\n",
    "\n",
    "\n",
    "# pairwise mann whitney test with p value adjustment \n",
    "# False discovery rate \n",
    "\n",
    "\n",
    "# Perform Dunn's post-hoc test with Bonferroni correction\n",
    "posthoc_result = posthoc_dunn(\n",
    "    df_DIAGPROC_FINDEMOG_ENCFiltered, \n",
    "    val_col='Cost', \n",
    "    group_col='DEPTSPECIALTY', \n",
    "    p_adjust='bonferroni'\n",
    ")\n",
    "\n",
    "print(posthoc_result)"
   ]
  },
  {
   "cell_type": "code",
   "execution_count": null,
   "metadata": {},
   "outputs": [],
   "source": []
  },
  {
   "cell_type": "code",
   "execution_count": null,
   "metadata": {},
   "outputs": [],
   "source": []
  },
  {
   "cell_type": "code",
   "execution_count": null,
   "metadata": {
    "tags": []
   },
   "outputs": [],
   "source": [
    "# Create a violin plot\n",
    "plt.figure(figsize=(10, 6))\n",
    "sns.violinplot(x='DEPTSPECIALTY', y='Cost', data=df_DIAGPROC_FINDEMOG_ENCFiltered, inner=None, palette='muted')\n",
    "\n",
    "# Calculate and plot percentiles for each category\n",
    "categories = df_DIAGPROC_FINDEMOG_ENCFiltered['DEPTSPECIALTY'].unique()\n",
    "for category in categories:\n",
    "    # Filter the data for the current category\n",
    "    data = df_DIAGPROC_FINDEMOG_ENCFiltered.loc[df_DIAGPROC_FINDEMOG_ENCFiltered['DEPTSPECIALTY'] == category, 'Cost']\n",
    "    # Calculate the percentiles\n",
    "    p25, median, p75 = np.percentile(data, [25, 50, 75])\n",
    "    # Plot the percentiles on the violin plot\n",
    "    category_index = np.where(categories == category)[0][0]\n",
    "    plt.scatter([category_index] * 3, [p25, median, p75], color='black', s=50, marker='o', label='Percentiles' if category_index == 0 else \"\")\n",
    "\n",
    "# Add labels and legend\n",
    "plt.title('Violin Plot with Percentile Indicators')\n",
    "plt.xlabel('Category')\n",
    "plt.ylabel('Value')\n",
    "plt.legend(['25th, 50th, 75th Percentiles'])\n",
    "\n",
    "plt.savefig('temp.png', bbox_inches='tight')\n",
    "\n",
    "document.add_picture('temp.png', width=Inches(6))\n",
    "paragraph = document.add_paragraph(\"Figure XX:  Department Speciality versus Estimated Cost of Treatment \")\n",
    "plt.show()\n",
    "\n",
    "plt.show()"
   ]
  },
  {
   "cell_type": "code",
   "execution_count": null,
   "metadata": {
    "tags": []
   },
   "outputs": [],
   "source": [
    "import matplotlib.pyplot as plt\n",
    "import seaborn as sns\n",
    "import numpy as np\n",
    "from docx import Document\n",
    "from docx.shared import Inches\n",
    "\n",
    "# Create the violin plot\n",
    "plt.figure(figsize=(10, 6))\n",
    "sns.violinplot(x='DEPTSPECIALTY', y='Cost', data=df_DIAGPROC_FINDEMOG_ENCFiltered, inner=None, palette='muted')\n",
    "\n",
    "# Set a symlog scale for the y-axis\n",
    "plt.yscale('symlog', linthresh=3000)  # linthresh defines the threshold for the linear scale\n",
    "\n",
    "# Calculate and plot percentiles\n",
    "categories = df_DIAGPROC_FINDEMOG_ENCFiltered['DEPTSPECIALTY'].unique()\n",
    "for category in categories:\n",
    "    # Filter data\n",
    "    data = df_DIAGPROC_FINDEMOG_ENCFiltered.loc[df_DIAGPROC_FINDEMOG_ENCFiltered['DEPTSPECIALTY'] == category, 'Cost']\n",
    "    # Percentiles\n",
    "    p25, median, p75 = np.percentile(data, [25, 50, 75])\n",
    "    # Plot percentiles\n",
    "    category_index = np.where(categories == category)[0][0]\n",
    "    plt.scatter([category_index + 0.1] * 3, [p25, median, p75], color='black', s=50, marker='o')\n",
    "\n",
    "# Add labels and legend\n",
    "plt.title('Violin Plot with Percentile Indicators (SymLog Scale)')\n",
    "plt.xlabel('Department Specialty')\n",
    "plt.ylabel('Cost (Logarithmic for Large Values)')\n",
    "plt.xticks(rotation=45)\n",
    "plt.legend(['25th, 50th, 75th Percentiles'])\n",
    "\n",
    "# Save plot as image\n",
    "plt.savefig('temp.png', bbox_inches='tight')\n",
    "\n",
    "# Add plot to Word document\n",
    "document.add_heading('Analysis of Costs by Department Specialty', level=1)\n",
    "document.add_picture('temp.png', width=Inches(6))\n",
    "document.add_paragraph(\"Figure XX: Department Specialty versus Estimated Cost of Treatment\")\n",
    "\n",
    "\n",
    "plt.show()"
   ]
  },
  {
   "cell_type": "code",
   "execution_count": null,
   "metadata": {
    "tags": []
   },
   "outputs": [],
   "source": [
    "import matplotlib.pyplot as plt\n",
    "import seaborn as sns\n",
    "import numpy as np\n",
    "from docx import Document\n",
    "from docx.shared import Inches\n",
    "\n",
    "# Calculate the threshold dynamically based on the data\n",
    "all_costs = df_DIAGPROC_FINDEMOG_ENCFiltered['Cost']\n",
    "linthresh = np.percentile(all_costs, 90)  # Use the 90th percentile as the threshold\n",
    "\n",
    "# Create the violin plot\n",
    "plt.figure(figsize=(10, 6))\n",
    "sns.violinplot(x='DEPTSPECIALTY', y='Cost', data=df_DIAGPROC_FINDEMOG_ENCFiltered, inner=None, palette='muted')\n",
    "\n",
    "# Set a symlog scale with the dynamically determined threshold\n",
    "plt.yscale('symlog', linthresh=linthresh)\n",
    "\n",
    "# Calculate and plot percentiles for each category\n",
    "categories = df_DIAGPROC_FINDEMOG_ENCFiltered['DEPTSPECIALTY'].unique()\n",
    "for category in categories:\n",
    "    # Filter data\n",
    "    data = df_DIAGPROC_FINDEMOG_ENCFiltered.loc[df_DIAGPROC_FINDEMOG_ENCFiltered['DEPTSPECIALTY'] == category, 'Cost']\n",
    "    # Percentiles\n",
    "    p25, median, p75 = np.percentile(data, [25, 50, 75])\n",
    "    # Plot percentiles\n",
    "    category_index = np.where(categories == category)[0][0]\n",
    "    plt.scatter([category_index + 0.1] * 3, [p25, median, p75], color='black', s=50, marker='o')\n",
    "\n",
    "# Add labels and legend\n",
    "plt.title('Violin Plot with Percentile Indicators (Auto-SymLog Scale)')\n",
    "plt.xlabel('Department Specialty')\n",
    "plt.ylabel('Cost (Logarithmic for Large Values)')\n",
    "plt.xticks(rotation=45)\n",
    "plt.legend(['25th, 50th, 75th Percentiles'])\n",
    "\n",
    "# Save plot as image\n",
    "plt.savefig('temp.png', bbox_inches='tight')\n",
    "\n",
    "# Add plot to Word document\n",
    "document.add_heading('Analysis of Costs by Department Specialty', level=1)\n",
    "document.add_picture('temp.png', width=Inches(6))\n",
    "document.add_paragraph(f\"Figure XX: Department Specialty versus Estimated Cost of Treatment. Linear scale threshold is dynamically set at the {linthresh:.2f} value.\")\n",
    "\n",
    "# Save document\n",
    "#document.save('Analysis_Report.docx')\n",
    "\n",
    "plt.show()"
   ]
  },
  {
   "cell_type": "code",
   "execution_count": null,
   "metadata": {
    "tags": []
   },
   "outputs": [],
   "source": [
    "# Create a violin plot\n",
    "plt.figure(figsize=(10, 6))\n",
    "sns.violinplot(x='DEPTSPECIALTY', y='LogCost', data=df_DIAGPROC_FINDEMOG_ENCFiltered, inner=None, palette='muted')\n",
    "\n",
    "# Calculate and plot percentiles for each category\n",
    "categories = df_DIAGPROC_FINDEMOG_ENCFiltered['DEPTSPECIALTY'].unique()\n",
    "for category in categories:\n",
    "    # Filter the data for the current category\n",
    "    data = df_DIAGPROC_FINDEMOG_ENCFiltered.loc[df_DIAGPROC_FINDEMOG_ENCFiltered['DEPTSPECIALTY'] == category, 'LogCost']\n",
    "    # Calculate the percentiles\n",
    "    p25, median, p75 = np.percentile(data, [25, 50, 75])\n",
    "    # Plot the percentiles on the violin plot\n",
    "    category_index = np.where(categories == category)[0][0]\n",
    "    plt.scatter([category_index] * 3, [p25, median, p75], color='black', s=50, marker='o', label='Percentiles' if category_index == 0 else \"\")\n",
    "\n",
    "# Add labels and legend\n",
    "plt.title('Violin Plot with Percentile Indicators')\n",
    "plt.xlabel('Department Speciality')\n",
    "plt.ylabel('Log Cost')\n",
    "plt.legend(['25th, 50th, 75th Percentiles'])\n",
    "\n",
    "plt.savefig('temp.png', bbox_inches='tight')\n",
    "\n",
    "document.add_picture('temp.png', width=Inches(6))\n",
    "paragraph = document.add_paragraph(\"Figure XX:  Department Speciality versus Estimated Cost of Treatment \")\n",
    "plt.show()\n",
    "\n",
    "plt.show()"
   ]
  },
  {
   "cell_type": "code",
   "execution_count": null,
   "metadata": {
    "tags": []
   },
   "outputs": [],
   "source": [
    "Counter(df_DIAGPROC_FINDEMOG_ENCFiltered.DEPTSPECIALTY)"
   ]
  },
  {
   "cell_type": "code",
   "execution_count": null,
   "metadata": {
    "tags": []
   },
   "outputs": [],
   "source": [
    "import matplotlib.pyplot as plt\n",
    "import seaborn as sns\n",
    "import numpy as np\n",
    "\n",
    "plt.figure(figsize=(12, 7))\n",
    "\n",
    "if df_DIAGPROC_FINDEMOG_ENCFiltered['DEPTSPECIALTY'].isnull().any():\n",
    "    print(\"Missing data detected for some departments!\")\n",
    "    \n",
    "# Plot the boxplot\n",
    "ax = sns.boxplot(\n",
    "    x='DEPTSPECIALTY',\n",
    "    y='Cost',\n",
    "    data=df_DIAGPROC_FINDEMOG_ENCFiltered,\n",
    "    palette='muted',\n",
    "    showfliers=False  # Removes the outlier points\n",
    ")\n",
    "\n",
    "\n",
    "# Set symlog scale for the y-axis\n",
    "all_costs = df_DIAGPROC_FINDEMOG_ENCFiltered['Cost']\n",
    "linthresh = np.percentile(all_costs, 90)  # Automatically determine the linthresh\n",
    "plt.yscale('symlog', linthresh=linthresh)\n",
    "\n",
    "# Extract the medians for each category from the boxplot\n",
    "medians = [line.get_ydata()[0] for line in ax.lines[4::6]]  # Median is every 6th line starting at 4th\n",
    "print(medians)\n",
    "# Calculate relative costs compared to the minimum median\n",
    "min_median = min(medians)  # Minimum median\n",
    "relative_costs = [median / min_median for median in medians]  # Relative to min median\n",
    "\n",
    "# Annotate each box with the relative cost\n",
    "for i, (median, relative_cost) in enumerate(zip(medians, relative_costs)):\n",
    "    ax.text(\n",
    "        i,  # X-position (category index)\n",
    "        median,  # Y-position (median value)\n",
    "        f'{relative_cost:.2f}x Min',  # Annotation text\n",
    "        ha='center', va='center', fontsize=10, color='black', rotation=90  # Rotate text vertically\n",
    "    )\n",
    "\n",
    "# Customize the plot\n",
    "plt.title('Boxplot of Cost by Department Specialty (Relative to Min Median)', fontsize=16)\n",
    "plt.xlabel('Department Specialty', fontsize=14)\n",
    "plt.ylabel('Cost (SymLog Scale)', fontsize=14)\n",
    "plt.xticks(rotation=45, fontsize=12)\n",
    "plt.tick_params(axis='y', which='both', labelsize=12)\n",
    "\n",
    "# Add horizontal gridlines\n",
    "plt.grid(axis='y', linestyle='--', alpha=0.7)\n",
    "\n",
    "# Save the plot (optional)\n",
    "plt.tight_layout()\n",
    "plt.savefig('boxplot_relative_to_min_median.png', dpi=300, bbox_inches='tight')\n",
    "\n",
    "plt.show()"
   ]
  },
  {
   "cell_type": "code",
   "execution_count": null,
   "metadata": {
    "tags": []
   },
   "outputs": [],
   "source": [
    "import matplotlib.pyplot as plt\n",
    "import numpy as np\n",
    "\n",
    "# Prepare the data for Matplotlib\n",
    "categories = df_DIAGPROC_FINDEMOG_ENCFiltered['DEPTSPECIALTY'].unique()\n",
    "data = [df_DIAGPROC_FINDEMOG_ENCFiltered[df_DIAGPROC_FINDEMOG_ENCFiltered['DEPTSPECIALTY'] == category]['Cost'].values for category in categories]\n",
    "\n",
    "# Create the boxplot\n",
    "fig, ax = plt.subplots(figsize=(12, 7))\n",
    "box = ax.boxplot(\n",
    "    data,\n",
    "    labels=categories,\n",
    "    patch_artist=True,  # Use filled boxes\n",
    "    showfliers=False,   # Exclude outliers\n",
    "    boxprops=dict(facecolor='lightblue', color='black'),  # Customize box color\n",
    "    medianprops=dict(color='red', linewidth=2)  # Customize median line\n",
    ")\n",
    "\n",
    "# Set symlog scale for the y-axis\n",
    "all_costs = df_DIAGPROC_FINDEMOG_ENCFiltered['Cost']\n",
    "linthresh = np.percentile(all_costs, 90)\n",
    "ax.set_yscale('symlog', linthresh=linthresh)\n",
    "\n",
    "# Add annotations for medians and relative costs\n",
    "medians = [np.median(d) for d in data]\n",
    "min_median = max(min(medians), 1e-3)  # Avoid zero median\n",
    "relative_costs = [median / min_median for median in medians]\n",
    "\n",
    "for i, (median, relative_cost) in enumerate(zip(medians, relative_costs)):\n",
    "    ax.text(\n",
    "        i + 1, median,  # X-position (1-indexed for Matplotlib's boxplot)\n",
    "        f'{relative_cost:.2f}x Min',\n",
    "        ha='center', va='center', fontsize=10, color='black', rotation=90\n",
    "    )\n",
    "\n",
    "# Customize the plot\n",
    "ax.set_title('Boxplot of Cost by Department Specialty (Relative to Min Median)', fontsize=16)\n",
    "ax.set_xlabel('Department Specialty', fontsize=14)\n",
    "ax.set_ylabel('Cost (SymLog Scale)', fontsize=14)\n",
    "plt.xticks(rotation=45, fontsize=12)\n",
    "plt.grid(axis='y', linestyle='--', alpha=0.7)\n",
    "\n",
    "plt.tight_layout()\n",
    "plt.savefig('boxplot_matplotlib.png', dpi=300, bbox_inches='tight')\n",
    "plt.show()"
   ]
  },
  {
   "cell_type": "code",
   "execution_count": null,
   "metadata": {
    "tags": []
   },
   "outputs": [],
   "source": [
    "ddd = df_DIAGPROC_FINDEMOG_ENCFiltered[df_DIAGPROC_FINDEMOG_ENCFiltered['DEPTSPECIALTY'] == 'Emergency Medicine']"
   ]
  },
  {
   "cell_type": "code",
   "execution_count": null,
   "metadata": {
    "tags": []
   },
   "outputs": [],
   "source": [
    "import matplotlib.pyplot as plt\n",
    "import seaborn as sns\n",
    "import numpy as np\n",
    "\n",
    "plt.figure(figsize=(12, 7))\n",
    "\n",
    "# Check for missing data\n",
    "if df_DIAGPROC_FINDEMOG_ENCFiltered['DEPTSPECIALTY'].isnull().any():\n",
    "    print(\"Missing data detected for some departments!\")\n",
    "\n",
    "# Plot the boxplot\n",
    "ax = sns.boxplot(\n",
    "    x='DEPTSPECIALTY',\n",
    "    y='Cost',\n",
    "    data=df_DIAGPROC_FINDEMOG_ENCFiltered,\n",
    "    palette='muted',\n",
    "    showfliers=False  # Removes the outlier points\n",
    ")\n",
    "\n",
    "# Set symlog scale for the y-axis\n",
    "all_costs = df_DIAGPROC_FINDEMOG_ENCFiltered['Cost']\n",
    "linthresh = np.percentile(all_costs, 90)  # Automatically determine the linthresh\n",
    "plt.yscale('symlog', linthresh=linthresh)\n",
    "\n",
    "# Extract medians and 75th percentiles (Q3) for each category\n",
    "categories = df_DIAGPROC_FINDEMOG_ENCFiltered['DEPTSPECIALTY'].unique()\n",
    "medians = df_DIAGPROC_FINDEMOG_ENCFiltered.groupby('DEPTSPECIALTY')['Cost'].median().reindex(categories).values\n",
    "q3_values = df_DIAGPROC_FINDEMOG_ENCFiltered.groupby('DEPTSPECIALTY')['Cost'].quantile(0.75).reindex(categories).values\n",
    "\n",
    "print(\"Extracted Medians (50th Percentile):\", medians)\n",
    "print(\"Extracted 75th Percentiles:\", q3_values)\n",
    "\n",
    "# Calculate relative costs compared to the minimum median\n",
    "min_median = max(min(medians), 1e-3)  # Avoid division by zero\n",
    "relative_costs_median = [median / min_median for median in medians]\n",
    "relative_costs_q3 = [q3 / min_median for q3 in q3_values]\n",
    "\n",
    "print(\"Relative Costs (50th Percentile):\", relative_costs_median)\n",
    "print(\"Relative Costs (75th Percentile):\", relative_costs_q3)\n",
    "\n",
    "# Annotate each box with the relative costs of the 50th and 75th percentiles\n",
    "for i, (median, relative_cost_median, q3, relative_cost_q3) in enumerate(zip(medians, relative_costs_median, q3_values, relative_costs_q3)):\n",
    "    # Annotate the median (50th percentile)\n",
    "    ax.text(\n",
    "        i, median,  # X-position and Y-position\n",
    "        f'50%: {relative_cost_median:.2f}x Min',  # Annotation text\n",
    "        ha='center', va='bottom', fontsize=12, color='black'\n",
    "    )\n",
    "    # Annotate the 75th percentile (Q3)\n",
    "    ax.text(\n",
    "        i, q3,  # X-position and Y-position\n",
    "        f'75%: {relative_cost_q3:.2f}x Min',  # Annotation text\n",
    "        ha='center', va='bottom', fontsize=12, color='blue'\n",
    "    )\n",
    "\n",
    "# Customize the plot\n",
    "#plt.title('Boxplot of Cost by Department Specialty (Relative Cost of 50% and 75%)', fontsize=16)\n",
    "plt.xlabel('')\n",
    "plt.ylabel('Cost (SymLog Scale)', fontsize=14)\n",
    "plt.xticks(rotation=45, fontsize=12)\n",
    "plt.tick_params(axis='y', which='both', labelsize=12)\n",
    "\n",
    "# Add horizontal gridlines\n",
    "plt.grid(axis='y', linestyle='--', alpha=0.7)\n",
    "\n",
    "# Save the plot (optional)\n",
    "plt.tight_layout()\n",
    "plt.savefig('boxplot_relative_cost_50_75_percentiles.png', dpi=300, bbox_inches='tight')\n",
    "\n",
    "plt.show()"
   ]
  },
  {
   "cell_type": "code",
   "execution_count": null,
   "metadata": {
    "tags": []
   },
   "outputs": [],
   "source": [
    "ddd.Cost.median()"
   ]
  },
  {
   "cell_type": "code",
   "execution_count": null,
   "metadata": {
    "tags": []
   },
   "outputs": [],
   "source": [
    "from statsmodels.stats.multicomp import pairwise_tukeyhsd\n",
    "\n",
    "df_DIAGPROC_FINDEMOG_ENCFiltered['Cost'] = pd.to_numeric(df_DIAGPROC_FINDEMOG_ENCFiltered['Cost'], errors='coerce')\n",
    "df_DIAGPROC_FINDEMOG_ENCFiltered.dropna(subset=['Cost'], inplace=True)\n",
    "df_DIAGPROC_FINDEMOG_ENCFiltered.dropna(subset=['DEPTSPECIALTY'], inplace=True)\n",
    "\n",
    "\n",
    "tukey_results = pairwise_tukeyhsd(endog=df_DIAGPROC_FINDEMOG_ENCFiltered['Cost'], groups=df_DIAGPROC_FINDEMOG_ENCFiltered['DEPTSPECIALTY'], alpha=0.05)\n",
    "print(tukey_results)\n",
    "# or convert to a DataFrame\n",
    "tukey_df = pd.DataFrame(data=tukey_results._results_table.data[1:], columns=tukey_results._results_table.data[0])\n",
    "tukey_df.to_excel(\"tukey.xlsx\")"
   ]
  },
  {
   "cell_type": "code",
   "execution_count": null,
   "metadata": {
    "tags": []
   },
   "outputs": [],
   "source": [
    "\n",
    "#df_DIAGPROC_sorted = df_DIAGPROC.sort_values(by='ProcedureCount', ascending=True)  # or False for descending order\n"
   ]
  },
  {
   "cell_type": "code",
   "execution_count": null,
   "metadata": {
    "tags": []
   },
   "outputs": [],
   "source": [
    "# Only patients with Asthma diagnoses in  during the data collection period are considered\n",
    "patientMRNforAsthmaPatients = df_FINDEMOG.PATIENTHASHMRN.unique()\n",
    "df_MEDICATIONS = df_MEDICATIONS[df_MEDICATIONS['PATIENTHASHMRN'].isin(patientMRNforAsthmaPatients)]"
   ]
  },
  {
   "cell_type": "code",
   "execution_count": null,
   "metadata": {
    "tags": []
   },
   "outputs": [],
   "source": [
    "# Medication's classes assigned as Severity \n",
    "Severe_Med_list=['GLUCOCORTICOIDS', #3\n",
    "                 'INTERLEUKIN-5 (IL-5) ANTAGONISTS, MAB', # 3 GSk\n",
    "                 'INTERLEUKIN-5(IL-5) RECEPTOR ALPHA ANTAGONIST, MAB', #3\n",
    "                 'MONOCLONAL ANTIBODIES TO IMMUNOGLOBULIN E (IGE)',#3\n",
    "                 'INTERLEUKIN-4(IL-4) RECEPTOR ALPHA ANTAGONIST, MAB',#3\n",
    "                 'THYMIC STROMAL LYMPHOPOIETIN (TSLP) INHIBITORS' #3\n",
    "                ]\n",
    "\n",
    "Moderate_Med_list=[\n",
    "                'BETA-ADRENERGIC AND ANTICHOLINERGIC COMBO, INHALED',# 2 Moderate\n",
    "                'BETA-ADRENERGIC AND GLUCOCORTICOID COMBO, INHALED', # 2 Moderate\n",
    "                'BETA-ADRENERGIC-ANTICHOLINERGIC-GLUCOCORT, INHALED' # 2 Moderate\n",
    "                ]\n",
    "\n",
    "Mild_Med_list=[ 'GLUCOCORTICOIDS, ORALLY INHALED', # 1\n",
    "                'GENERAL BRONCHODILATOR AGENTS',  #1 \n",
    "                'BETA-ADRENERGIC AGENTS', #1\n",
    "                'BETA-ADRENERGIC AGENTS, INHALED, SHORT ACTING',#1\n",
    "                'ANTICHOLINERGICS, ORALLY INHALED SHORT ACTING',#1\n",
    "                'BETA-ADRENERGIC AGENTS, INHALED, ULTRA-LONG ACTING', #1 \n",
    "                'BETA-ADRENERGIC AGENTS, ORALLY INHALED,LONG ACTING', #1 \n",
    "                'ANTICHOLINERGICS, ORALLY INHALED LONG ACTING',#  1 \n",
    "                ]\n",
    "\n",
    "Soft_Med_list=[\n",
    "                '5-LIPOXYGENASE INHIBITORS',# X Mild  0.5 \n",
    "                'LEUKOTRIENE RECEPTOR ANTAGONISTS', # X mild 0.5 \n",
    "                'MAST CELL STABILIZERS, ORALLY INHALED', #0.25 \n",
    "                'PHOSPHODIESTERASE-4 (PDE4) INHIBITORS' # 0.5\n",
    "                ]      \n",
    "\n",
    "def Medic_Severe(cell):\n",
    "    if any(val in str(cell) for val in Severe_Med_list) == True:\n",
    "        return 3.0\n",
    "    elif any(val in str(cell) for val in Moderate_Med_list) == True:\n",
    "        return 2.0\n",
    "    elif any(val in str(cell) for val in Mild_Med_list) == True:\n",
    "        return 1.0\n",
    "    elif any(val in str(cell) for val in Soft_Med_list) == True:\n",
    "        return 0.5\n",
    "    else:\n",
    "        return 0.0 \n",
    "    \n",
    "# Create Severity columns and note severity level of medicines\n",
    "df_MEDICATIONS['MedicationSeverity']=df_MEDICATIONS['PHARMACEUTICALCLASS'].apply(Medic_Severe)\n",
    "\n",
    "paragraph = document.add_paragraph('The patient data reported in this section is the patients that has been prescribed oral stereoids or biological medications')\n",
    "paragraph.add_run(' two new variables addes to the data, medication severity is an indicator of the patients use  medications classified as class 3 which includes oral stereoid and biological medictions')\n",
    "paragraph.add_run(' the second variable named as patientseverity indicates whether the patient has been prescribed two or more doses of oral stereoids within a window if  6 months')\n",
    "\n"
   ]
  },
  {
   "cell_type": "code",
   "execution_count": null,
   "metadata": {
    "tags": []
   },
   "outputs": [],
   "source": [
    "#Filter out all medications  and remove medications with severity 0,  these are medications that are not relevant to Asthma treatment\n",
    "df_MEDICATIONS = df_MEDICATIONS[df_MEDICATIONS.MedicationSeverity != 0]\n",
    "# the medication database now contains only medications prescribed for Asthma"
   ]
  },
  {
   "cell_type": "code",
   "execution_count": null,
   "metadata": {
    "tags": []
   },
   "outputs": [],
   "source": [
    "#Determine the patient list who has been prescribed an orally inhaled corticosteroid -- \n",
    "#Severe asthma will be determined based on the medications precribed\n",
    "OrallyInhaledCorticoSteroid = ['BETA-ADRENERGIC AND GLUCOCORTICOID COMBO, INHALED','GLUCOCORTICOIDS, ORALLY INHALED']\n",
    "df_MEDICATIONSOrallyInhaled = df_MEDICATIONS[df_MEDICATIONS['PHARMACEUTICALCLASS'].isin(OrallyInhaledCorticoSteroid)]\n",
    "PatientsOralInhal = df_MEDICATIONSOrallyInhaled.PATIENTHASHMRN.unique()\n",
    "#Patient list who has been prescribed an orally inhaled corticosteroid has been determined\n",
    "\n",
    "# Assign the Severe medications to dataframe \n",
    "# Patients that were prescribed Orally Inhaled Corticosteroids  \n",
    "#df_Severe_med = df_MEDICATIONS[df_MEDICATIONS['PATIENTHASHMRN'].isin(PatientsOralInhal)]\n",
    "\n",
    "#df_Severe_med=df_Severe_med[df_Severe_med['PHARMACEUTICALCLASS'].isin(Severe_Med_list)]\n",
    "\n",
    "#df_Severe_med now contains only the patient data that has been prescribed an orally inhaled cortiocosteroid and \n",
    "# an oral corticosteroid or biological medication \n",
    "\n",
    "\n",
    "# df_Severe_med['PatientSeverity']=0.0\n",
    "\n",
    "\n",
    "# df_Severe_med.sort_values(by=['PATIENTHASHMRN', 'DATE_DIF'], inplace=True)\n",
    "\n",
    "# p1 = document.add_paragraph(\" Patient severity is decided based on the  number of oral steroid prescritions within 6 months.  if the patient received two or more oral stereoid prescriptons during a 6 month\")\n",
    "# p1.add_run(\"period and at least 10 days apart between steroid prescriptions, the patient is classified as severe, otherwise the patient is classified as not severe based on oral steroid episodes\")\n",
    "\n",
    "# p2 = document.add_paragraph(\"Medication Severity is decided based on the type of the medications.  All oral and injectable stereoids and biologicals are classified as severe medications\")\n",
    "\n",
    "\n",
    "# # Function to determine if a patient is a SeverePatient\n",
    "# def check_severity(severity_1_dates):\n",
    "#     retVal = 0\n",
    "#     lastoccurance = {}\n",
    "#     eventin180Days = False\n",
    "\n",
    "#     for i in range(len(severity_1_dates) - 1):\n",
    "#         datedifference = severity_1_dates.iloc[i + 1]- severity_1_dates.iloc[i]\n",
    "#         if 0<datedifference<=180 :\n",
    "#             if 'OCS' in lastoccurance:\n",
    "#                 last_date_diff = lastoccurance['OCS']\n",
    "#                 time_diff = severity_1_dates.iloc[i + 1] - last_date_diff\n",
    "#                 if time_diff < 180 :\n",
    "#                     lastoccurance['OCS'] = severity_1_dates.iloc[i + 1]\n",
    "#                     eventin180Days = True\n",
    "#                     retVal = retVal +1\n",
    "#             else:\n",
    "#                 lastoccurance['OCS'] = severity_1_dates.iloc[i + 1]\n",
    "\n",
    "#         #else:\n",
    "#             #lastoccurance = {}\n",
    "#             #eventin180Days = False\n",
    "\n",
    "\n",
    "#     if eventin180Days:\n",
    "#         #print(\"Event A occurs more than once within 180 days\", retVal)\n",
    "#         #retVal = 4.0\n",
    "#         return retVal\n",
    "#     else:\n",
    "#         #print(\"Event A does not occur more than once within 180 days\")\n",
    "#         retVal = 0\n",
    "\n",
    "#     return retVal\n",
    "\n",
    "# for mrn in df_Severe_med['PATIENTHASHMRN'].unique():\n",
    "#     # Extract the relevant rows for this MRN\n",
    "#     group = df_Severe_med[df_Severe_med['PATIENTHASHMRN'] == mrn]\n",
    "\n",
    "#     # Filter for severity 3 medications and sort\n",
    "#     #severity_1_dates = group[group['MedicationSeverity'] == 3.0]['DATE_DIF'].sort_values()\n",
    "#     severity_1_dates = group['DATE_DIF'].sort_values()\n",
    "\n",
    "\n",
    "#     # Check for severity and update the DataFrame\n",
    "#     severity_status = check_severity(severity_1_dates)\n",
    "\n",
    "#     #print(severity_status)\n",
    "#     df_Severe_med.loc[df_Severe_med['PATIENTHASHMRN'] == mrn, 'PatientSeverity'] = severity_status\n",
    "\n",
    "#     # Set patient Severity to a binary value of 0 or 1 \n",
    "\n",
    "# df_Severe_med.loc[df_Severe_med['PatientSeverity'] == 1.0, 'PatientSeverity'] = 0.0\n",
    "# #df_Severe_med.loc[df_Severe_med['PatientSeverity'] == 4.0, 'PatientSeverity'] = 1.0\n",
    "# df_Severe_med['PatientSeverity'] = df_Severe_med['PatientSeverity'].fillna(0)"
   ]
  },
  {
   "cell_type": "code",
   "execution_count": null,
   "metadata": {
    "tags": []
   },
   "outputs": [],
   "source": [
    "df_Severe_med.PATIENTHASHMRN.nunique()"
   ]
  },
  {
   "cell_type": "code",
   "execution_count": null,
   "metadata": {
    "tags": []
   },
   "outputs": [],
   "source": [
    "df_MEDICATIONS.PATIENTHASHMRN.nunique()"
   ]
  },
  {
   "cell_type": "code",
   "execution_count": null,
   "metadata": {
    "tags": []
   },
   "outputs": [],
   "source": [
    "df_MEDICATIONSOrallyInhaled.PATIENTHASHMRN.nunique()"
   ]
  },
  {
   "cell_type": "code",
   "execution_count": null,
   "metadata": {
    "tags": []
   },
   "outputs": [],
   "source": [
    "Counter(df_Severe_med['PatientSeverity'])"
   ]
  },
  {
   "cell_type": "code",
   "execution_count": null,
   "metadata": {
    "tags": []
   },
   "outputs": [],
   "source": [
    "severeCandidatePatients = df_Severe_med[df_Severe_med['PatientSeverity'] >= 0 ].PATIENTHASHMRN.unique()\n",
    "severePatientList  = df_Severe_med[df_Severe_med['PatientSeverity'] >= 1 ].PATIENTHASHMRN.unique()\n",
    "\n",
    "# Specify the CSV file name\n",
    "file_name = 'uncontrolled.csv'\n",
    "\n",
    "# Open the file in write mode ('w') and create a csv.writer object\n",
    "with open(file_name, mode='w', newline='') as file:\n",
    "    writer = csv.writer(file)\n",
    "\n",
    "    # Write each item in the list as a separate row\n",
    "    for item in severePatientList:\n",
    "        writer.writerow([item])  # Note the item is wrapped in a list\n",
    "        \n",
    "        \n",
    "\n",
    "# Open the file in write mode ('w') and create a csv.writer object\n",
    "with open('severeCandidate.csv', mode='w', newline='') as file:\n",
    "    writer = csv.writer(file)\n",
    "\n",
    "    # Write each item in the list as a separate row\n",
    "    for item in severeCandidatePatients:\n",
    "        writer.writerow([item])  # Note the item is wrapped in a list\n"
   ]
  },
  {
   "cell_type": "code",
   "execution_count": null,
   "metadata": {
    "tags": []
   },
   "outputs": [],
   "source": [
    "#add a new veriable to separate glucocortisoids from biological medications \n",
    "paragraph = document.add_paragraph(\" We  added a new variable named as medication class to separate glucocortisoids from biological medications\")\n",
    "                                   \n",
    "df_Severe_med['medicationClass']='GLUCOCORTICOIDS'\n",
    "df_Severe_med.loc[df_Severe_med['PHARMACEUTICALCLASS'] != 'GLUCOCORTICOIDS', 'medicationClass'] = 'Biological'\n"
   ]
  },
  {
   "cell_type": "code",
   "execution_count": null,
   "metadata": {
    "tags": []
   },
   "outputs": [],
   "source": [
    "#drop the same medication to teh same patient on the same day\n",
    "df_Severe_med = df_Severe_med.drop_duplicates(subset=['PATIENTHASHMRN', 'DATE_DIF','MEDNAME'])\n",
    "\n",
    "#some patients have the same biological medication ordered multiple times. \n",
    "\n",
    "# Filter for rows where medicationClass is 'biological'\n",
    "biological_df = df_Severe_med[df_Severe_med['medicationClass'] == 'Biological']\n",
    "df_without_biological = df_Severe_med[df_Severe_med['medicationClass'] != 'Biological']\n",
    "\n",
    "#Drop multiple records of glucocortisoid medications\n",
    "df_without_biological = df_without_biological.drop_duplicates(subset=['PATIENTHASHMRN'])\n",
    "\n",
    "\n",
    "# Drop duplicates based on PATIENTHASHMRN and MEDNAME of the biological medication\n",
    "# keep='first' will keep the first occurrence of the duplicate records\n",
    "\n",
    "# Sort the DataFrame\n",
    "sorted_biological_df = biological_df.sort_values(by=['PATIENTHASHMRN', 'MEDNAME', 'DATE_DIF'], ascending=True)\n",
    "\n",
    "# Drop duplicates based on PATIENTHASHMRN and MEDNAME, keeping the first occurrence\n",
    "unique_sorted_biological_df = sorted_biological_df.drop_duplicates(subset=['PATIENTHASHMRN', 'MEDNAME'], keep='first')\n",
    "\n",
    "#combine the two dataframes contaning \n",
    "df_Severe_med = pd.concat([unique_sorted_biological_df,df_without_biological])\n",
    "df_Severe_med = df_Severe_med.sort_values(by=['PATIENTHASHMRN', 'DATE_DIF'], ascending=True)\n",
    "\n",
    "# unique_sorted_biological_df now contains unique records for patients with a medicationClass of 'biological'\n",
    "# based on PATIENTHASHMRN and MEDNAME"
   ]
  },
  {
   "cell_type": "code",
   "execution_count": null,
   "metadata": {
    "tags": []
   },
   "outputs": [],
   "source": [
    "df_MEDICATIONS.columns"
   ]
  },
  {
   "cell_type": "code",
   "execution_count": null,
   "metadata": {
    "tags": []
   },
   "outputs": [],
   "source": [
    "Counter(df_Severe_med['medicationClass'])"
   ]
  },
  {
   "cell_type": "code",
   "execution_count": null,
   "metadata": {},
   "outputs": [],
   "source": [
    "# Merge Severe Medications and Demographics\n",
    "df_med_demo_finan=pd.merge(df_MEDICATIONS,df_FINDEMOG,on=\"PATIENTHASHMRN\",how='left')\n",
    "df_Severemed_demo_finan=pd.merge(df_Severe_med,df_FINDEMOG,on=\"PATIENTHASHMRN\",how='left')\n"
   ]
  },
  {
   "cell_type": "code",
   "execution_count": null,
   "metadata": {
    "tags": []
   },
   "outputs": [],
   "source": [
    "#df_Severemed_demo_finan['SevereMedicationClass'] = df_Severemed_demo_finan['PHARMACEUTICALCLASS'].apply(lambda x: 'GLUCOCORTICOIDS' if x == 'GLUCOCORTICOIDS' else 'Biological')\n",
    "df_Severemed_demo_finan['SevereMedicationClass'] = df_Severemed_demo_finan['PHARMACEUTICALCLASS'].apply(lambda x: 0 if x == 'GLUCOCORTICOIDS' else 1)\n",
    "\n",
    "# Generate a list of column names that start with 'unknown'\n",
    "columns_to_drop = [col for col in df_Severemed_demo_finan.columns if col.startswith('Unnamed')]\n",
    "# Drop these columns from the DataFrame\n",
    "df_Severemed_demo_finan = df_Severemed_demo_finan.drop(columns=columns_to_drop,errors='ignore')\n",
    "df_med_demo_finan = df_med_demo_finan.drop(columns=columns_to_drop,errors='ignore')\n",
    "\n",
    "df_SevereMedDemoFinanEncounter = pd.merge(df_Severemed_demo_finan, df_ENCOUNTERS,on=['PATIENTHASHMRN','DATE_DIF'])\n",
    "df_MedDemoFinanEncounter = pd.merge(df_med_demo_finan, df_ENCOUNTERS,on=['PATIENTHASHMRN','DATE_DIF'])\n"
   ]
  },
  {
   "cell_type": "code",
   "execution_count": null,
   "metadata": {
    "tags": []
   },
   "outputs": [],
   "source": [
    "Counter(df_SevereMedDemoFinanEncounter['PatientSeverity'])"
   ]
  },
  {
   "cell_type": "code",
   "execution_count": null,
   "metadata": {
    "tags": []
   },
   "outputs": [],
   "source": [
    "df_SevereMedDemoFinanEncounter.columns"
   ]
  },
  {
   "cell_type": "code",
   "execution_count": null,
   "metadata": {
    "tags": []
   },
   "outputs": [],
   "source": [
    "df_Severemed_demo_finan = df_Severemed_demo_finan.drop_duplicates(subset=['PATIENTHASHMRN', 'DATE_DIF','MEDNAME'])\n",
    "\n",
    "Counter(df_Severemed_demo_finan['RACE'])"
   ]
  },
  {
   "cell_type": "code",
   "execution_count": null,
   "metadata": {
    "tags": []
   },
   "outputs": [],
   "source": [
    "nan_df = df_SevereMedDemoFinanEncounter[df_SevereMedDemoFinanEncounter['ETHNICITY'].isna()]\n",
    "nan_df=nan_df.drop_duplicates('PATIENTHASHMRN')\n"
   ]
  },
  {
   "cell_type": "code",
   "execution_count": null,
   "metadata": {
    "tags": []
   },
   "outputs": [],
   "source": []
  },
  {
   "cell_type": "code",
   "execution_count": null,
   "metadata": {
    "tags": []
   },
   "outputs": [],
   "source": [
    "demoList = df_DEMOGRAPHICS.PATIENTHASHMRN\n",
    "demoList"
   ]
  },
  {
   "cell_type": "code",
   "execution_count": null,
   "metadata": {
    "tags": []
   },
   "outputs": [],
   "source": [
    "df_severeBiological =df_Severemed_demo_finan[df_Severemed_demo_finan['SevereMedicationClass'] ==1]\n",
    "df_severeGlucocirtisoids =df_Severemed_demo_finan[df_Severemed_demo_finan['SevereMedicationClass'] ==0]\n",
    "\n",
    "df_severeBiological = df_severeBiological.drop_duplicates(subset=['PATIENTHASHMRN','MEDNAME'])\n",
    "df_severeBiologicalUnique = df_severeBiological.drop_duplicates(subset=['PATIENTHASHMRN']) # This is for demographics purposes\n",
    "severeBiologicalPatientMRN = df_severeBiological['PATIENTHASHMRN'].unique()\n",
    "# Some Patients are given more than one Biological Medication \n"
   ]
  },
  {
   "cell_type": "code",
   "execution_count": null,
   "metadata": {
    "tags": []
   },
   "outputs": [],
   "source": []
  },
  {
   "cell_type": "code",
   "execution_count": null,
   "metadata": {
    "tags": []
   },
   "outputs": [],
   "source": [
    "print('Glucocortisoids :',Counter(df_severeGlucocirtisoids['PatientSeverity']))\n",
    "#df_severeBiological = df_severeBiological.drop_duplicates(subset=['PATIENTHASHMRN'])\n",
    "print('Biologicals :', Counter(df_severeBiological['PatientSeverity']))\n"
   ]
  },
  {
   "cell_type": "code",
   "execution_count": null,
   "metadata": {
    "tags": []
   },
   "outputs": [],
   "source": [
    "visits_count = df_severeBiological.groupby(['PATIENTHASHMRN','GENERICNAME']).size().reset_index(name='Visits')\n",
    "pivot_df = visits_count.pivot(index='PATIENTHASHMRN', columns='GENERICNAME', values='Visits')\n",
    "\n",
    "pivot_df = pivot_df.fillna(0)\n"
   ]
  },
  {
   "cell_type": "code",
   "execution_count": null,
   "metadata": {
    "tags": []
   },
   "outputs": [],
   "source": [
    "hasta =df_MEDICATIONS[df_MEDICATIONS['PATIENTHASHMRN'].str.contains('028e0f500cd727359d6e758a75d3f84bc3ef663ebfe34f')]"
   ]
  },
  {
   "cell_type": "code",
   "execution_count": null,
   "metadata": {
    "tags": []
   },
   "outputs": [],
   "source": [
    "pivot_df.to_csv('biologicalsused.csv')"
   ]
  },
  {
   "cell_type": "code",
   "execution_count": null,
   "metadata": {
    "tags": []
   },
   "outputs": [],
   "source": [
    " "
   ]
  },
  {
   "cell_type": "code",
   "execution_count": null,
   "metadata": {
    "tags": []
   },
   "outputs": [],
   "source": [
    "# Identifying patients with both medication severity using both glucocortisoids and biological medications\n",
    "patients_with_both_severities = df_SevereMedDemoFinanEncounter.groupby('PATIENTHASHMRN')['SevereMedicationClass'].nunique()\n",
    "\n",
    "patients_with_both_severities = patients_with_both_severities[patients_with_both_severities == 2].index\n",
    "\n",
    "# Filtering out rows where severity is 0 -- removing patients with glucocortisoids and biologicals \n",
    "\n",
    "df_SevereMedDemoFinanEncounter#[~((df_SevereMedDemoFinanEncounter['PATIENTHASHMRN'].isin(patients_with_both_severities)) & (df_SevereMedDemoFinanEncounter['SevereMedicationClass'] == 0))]\n",
    "\n",
    "\n",
    "#Severe medications for patients with Asthma \n",
    "df_medicationsWithAsthmaDiagnoses = pd.merge(df_SevereMedDemoFinanEncounter, df_DIAGASTHMA, on=['PATIENTHASHMRN','DATE_DIF'], how='left')\n",
    "#Mediations with asthma \n",
    "df_MedDemoFinanEncounterDiag = pd.merge(df_MedDemoFinanEncounter, df_DIAGASTHMA, on=['PATIENTHASHMRN','DATE_DIF'], how='left')\n",
    "# Drop duplicates to reduce class imbalance the filtered DataFrame \n",
    "#df_filtered = df_filtered.drop_duplicates(subset='PATIENTHASHMRN', keep='first')\n"
   ]
  },
  {
   "cell_type": "code",
   "execution_count": null,
   "metadata": {
    "tags": []
   },
   "outputs": [],
   "source": [
    "len(df_medicationsWithAsthmaDiagnoses)"
   ]
  },
  {
   "cell_type": "code",
   "execution_count": null,
   "metadata": {
    "tags": []
   },
   "outputs": [],
   "source": [
    "df_medicationsWithAsthmaDiagnoses\n"
   ]
  },
  {
   "cell_type": "code",
   "execution_count": null,
   "metadata": {
    "tags": []
   },
   "outputs": [],
   "source": [
    "PediatricPatients = df_SevereMedDemoFinanEncounter[df_SevereMedDemoFinanEncounter.DEPTSPECIALTY == 'Pediatrics']"
   ]
  },
  {
   "cell_type": "code",
   "execution_count": null,
   "metadata": {
    "tags": []
   },
   "outputs": [],
   "source": [
    "PediatricPatients"
   ]
  },
  {
   "cell_type": "code",
   "execution_count": null,
   "metadata": {
    "tags": []
   },
   "outputs": [],
   "source": [
    "DepartmentRelevant = [\n",
    "    'Family Medicine',\n",
    "    'Internal Medicine',\n",
    "    #'Pediatrics',\n",
    "    'Allergy and Immunology',\n",
    "    'Pulmonology',\n",
    "    'Urgent Care',\n",
    "    'Emergency Medicine',\n",
    "    #'Sleep Medicine',\n",
    "    'Urgent Care']\n",
    "\n",
    "Departments_Exluded = [\n",
    "    '*Not Applicable','Radiology','Orthopaedic Surgery', '*Unspecified',\n",
    "    'Admitting/Central Scheduling', 'Urogynecology',\n",
    "    'Rheumatology','Physical Therapy', 'General Surgery', \n",
    "    'Obstetrics','Executive Health', 'Interventional Radiology',\n",
    "    'Occupational Medicine', 'Pre-Admission Testing','Bariatrics', \n",
    "    'Vascular Surgery', 'Urology',\n",
    "    'Perinatology', 'SHPS', 'Radiation Oncology', 'Nephrology',\n",
    "    'Genetics', 'Pharmacy', 'Optometry', 'Gynecologic Oncology',\n",
    "    'Audiology', 'Transplant', 'Home Health Services',\n",
    "    'Home Based Care', 'Palliative Medicine',\n",
    "    'Wound Care', 'Intensive Care', 'Endocrinology',\n",
    "    'Dermatology',\n",
    "    'Pediatrics',\n",
    "    'Sleep Medicine'\n",
    "]\n",
    "\n",
    "#UNCOMMENT to REDUCE DEPTSPECIALITY\n",
    "df_SevereMedDemoFinanEncounterAll = df_SevereMedDemoFinanEncounter\n",
    "df_SevereMedDemoFinanEncounter = df_SevereMedDemoFinanEncounter[~df_SevereMedDemoFinanEncounter['DEPTSPECIALTY'].isin(Departments_Exluded)]\n",
    "\n",
    "#df_medicationsWithAsthmaDiagnoses = df_medicationsWithAsthmaDiagnoses[~df_medicationsWithAsthmaDiagnoses['DEPTSPECIALTY'].isin(ç)]\n",
    "df_SevereMedDemoFinanEncounter.loc[~df_SevereMedDemoFinanEncounter['DEPTSPECIALTY'].isin(DepartmentRelevant), 'DEPTSPECIALTY'] = \"Other\"\n",
    "\n",
    "#df_medicationsWithAsthmaDiagnoses = df_medicationsWithAsthmaDiagnoses.drop_duplicates(subset=['PATIENTHASHMRN', 'DATE_DIF','MEDNAME'])\n",
    "#df_SevereMedDemoFinanEncounter = df_SevereMedDemoFinanEncounter[df_SevereMedDemoFinanEncounter['DEPTSPECIALTY'].isin(DepartmentRelevant)]\n",
    "\n",
    "#Drop medications on the same day \n",
    "df_SevereMedDemoFinanEncounter = df_SevereMedDemoFinanEncounter.drop_duplicates(subset=['PATIENTHASHMRN', 'DATE_DIF','MEDNAME'])\n",
    "duplicates = df_SevereMedDemoFinanEncounter.duplicated(subset=['PATIENTHASHMRN', 'DATE_DIF', 'MEDNAME'], keep=False)\n",
    "df_duplicates = df_SevereMedDemoFinanEncounter[duplicates]\n",
    "df_duplicates.sort_values(by=['PATIENTHASHMRN','DATE_DIF', 'MEDNAME'], inplace=True)\n",
    "\n"
   ]
  },
  {
   "cell_type": "code",
   "execution_count": null,
   "metadata": {},
   "outputs": [],
   "source": [
    "df_MedDemoFinanEncounter = df_MedDemoFinanEncounter[~df_MedDemoFinanEncounter['DEPTSPECIALTY'].isin(Departments_Exluded)]\n",
    "df_MedDemoFinanEncounter.loc[~df_MedDemoFinanEncounter['DEPTSPECIALTY'].isin(DepartmentRelevant), 'DEPTSPECIALTY'] = \"Other\"\n",
    "df_MedDemoFinanEncounter = df_MedDemoFinanEncounter.drop_duplicates(subset=['PATIENTHASHMRN', 'DATE_DIF','MEDNAME'])\n",
    "\n",
    "\n"
   ]
  },
  {
   "cell_type": "code",
   "execution_count": null,
   "metadata": {
    "tags": []
   },
   "outputs": [],
   "source": [
    "#YUSUF\n",
    "Counter(df_MedDemoFinanEncounter.PHARMACEUTICALCLASS)"
   ]
  },
  {
   "cell_type": "code",
   "execution_count": null,
   "metadata": {
    "tags": []
   },
   "outputs": [],
   "source": [
    "Counter(df_MedDemoFinanEncounter['DEPTSPECIALTY'])"
   ]
  },
  {
   "cell_type": "code",
   "execution_count": null,
   "metadata": {
    "tags": []
   },
   "outputs": [],
   "source": [
    "df_SevereMedDemoFinanEncounter.to_csv('medicationswithSevereAsthmaDiag.csv')\n"
   ]
  },
  {
   "cell_type": "code",
   "execution_count": null,
   "metadata": {
    "tags": []
   },
   "outputs": [],
   "source": [
    "df_duplicates.to_csv(\"duplicateSevereMedications.csv\")"
   ]
  },
  {
   "cell_type": "code",
   "execution_count": null,
   "metadata": {
    "tags": []
   },
   "outputs": [],
   "source": [
    "Biological_counts = df_severeBiologicalUnique.groupby(['RACE']).size().reset_index(name='Counts')\n",
    "\n",
    "# Step 4: Calculate total emergency department visits\n",
    "total_biological_counts = Biological_counts['Counts'].sum()\n",
    "\n",
    "# Step 5: Calculate percentages\n",
    "Biological_counts['Percentage'] = (Biological_counts['Counts'] / total_biological_counts) * 100\n",
    "\n",
    "\n",
    "df_Severemed_demo_finanUnique = df_Severemed_demo_finan.drop_duplicates(subset=['PATIENTHASHMRN'])\n",
    "\n",
    "# Step 1 and 2: Group by Race and count entries\n",
    "visit_counts = df_Severemed_demo_finanUnique.groupby('RACE').size().reset_index(name='Count')\n",
    "\n",
    "# Step 3: Calculate total entries in the dataset\n",
    "total_entries = visit_counts['Count'].sum()\n",
    "\n",
    "# Step 4: Calculate percentages\n",
    "visit_counts['Percentage'] = (visit_counts['Count'] / total_entries) * 100\n",
    "\n",
    "doctable(Biological_counts, \"Ethnicity stats of patients who has been prescribed Biological Medications\",['index','Ethnicity','Count','Percentage'])\n",
    "doctable(visit_counts, \"Ethnicity stats of Patients classified as Severe patients\",['index','Ethnicity','Count','Percentage'])\n",
    "\n",
    "\n",
    "print(Biological_counts)\n",
    "print(visit_counts)"
   ]
  },
  {
   "cell_type": "code",
   "execution_count": null,
   "metadata": {
    "tags": []
   },
   "outputs": [],
   "source": [
    "Biological_counts = df_severeBiologicalUnique.groupby(['RACE']).size().reset_index(name='Counts')\n",
    "\n",
    "# Step 4: Calculate total emergency department visits\n",
    "total_biological_counts = Biological_counts['Counts'].sum()\n",
    "\n",
    "# Step 5: Calculate percentages\n",
    "Biological_counts['Percentage'] = (Biological_counts['Counts'] / total_biological_counts) * 100\n",
    "\n",
    "\n",
    "df_Severemed_demo_finanUnique = df_Severemed_demo_finan.drop_duplicates(subset=['PATIENTHASHMRN'])\n",
    "\n",
    "# Step 1 and 2: Group by Race and count entries\n",
    "visit_counts = df_Severemed_demo_finanUnique.groupby('RACE').size().reset_index(name='Count')\n",
    "\n",
    "# Step 3: Calculate total entries in the dataset\n",
    "total_entries = visit_counts['Count'].sum()\n",
    "\n",
    "# Step 4: Calculate percentages\n",
    "visit_counts['Percentage'] = (visit_counts['Count'] / total_entries) * 100\n",
    "\n",
    "doctable(Biological_counts, \"Race stats of patients who has been prescribed Biological Medications\",['index','Race','Count','Percentage'])\n",
    "doctable(visit_counts, \"Race stats of Patients classified as Severe patients\",['index','Race','Count','Percentage'])\n",
    "\n",
    "\n",
    "print(Biological_counts)\n",
    "print(visit_counts)"
   ]
  },
  {
   "cell_type": "code",
   "execution_count": null,
   "metadata": {
    "tags": []
   },
   "outputs": [],
   "source": [
    "Biological_counts = df_severeBiologicalUnique.groupby(['INCOME_CATEGORY']).size().reset_index(name='Counts')\n",
    "\n",
    "# Step 4: Calculate total emergency department visits\n",
    "total_biological_counts = Biological_counts['Counts'].sum()\n",
    "\n",
    "# Step 5: Calculate percentages\n",
    "Biological_counts['Percentage'] = (Biological_counts['Counts'] / total_biological_counts) * 100\n",
    "\n",
    "\n",
    "df_Severemed_demo_finanUnique = df_Severemed_demo_finan.drop_duplicates(subset=['PATIENTHASHMRN'])\n",
    "\n",
    "# Step 1 and 2: Group by Race and count entries\n",
    "visit_counts = df_Severemed_demo_finanUnique.groupby('INCOME_CATEGORY').size().reset_index(name='Count')\n",
    "\n",
    "# Step 3: Calculate total entries in the dataset\n",
    "total_entries = visit_counts['Count'].sum()\n",
    "\n",
    "# Step 4: Calculate percentages\n",
    "visit_counts['Percentage'] = (visit_counts['Count'] / total_entries) * 100\n",
    "\n",
    "doctable(Biological_counts, \"Race stats of patients who has been prescribed Biological Medications\",['index','Income Category','Count','Percentage'])\n",
    "doctable(visit_counts, \"Race stats of Patients classified as Severe patients\",['index','Income Category','Count','Percentage'])\n",
    "\n",
    "\n",
    "print(Biological_counts)\n",
    "print(visit_counts)"
   ]
  },
  {
   "cell_type": "code",
   "execution_count": null,
   "metadata": {
    "tags": []
   },
   "outputs": [],
   "source": [
    "df_severeBiologicalUnique"
   ]
  },
  {
   "cell_type": "code",
   "execution_count": null,
   "metadata": {
    "tags": []
   },
   "outputs": [],
   "source": [
    "Counter(df_SevereMedDemoFinanEncounter['SevereMedicationClass'])"
   ]
  },
  {
   "cell_type": "code",
   "execution_count": null,
   "metadata": {},
   "outputs": [],
   "source": []
  },
  {
   "cell_type": "code",
   "execution_count": null,
   "metadata": {
    "tags": []
   },
   "outputs": [],
   "source": [
    "#test if medicationClass and RACE has a relationship\n",
    "from scipy.stats import chi2_contingency\n",
    "\n",
    "# Assuming df is your DataFrame containing the data\n",
    "contingency_table = pd.crosstab(df_SevereMedDemoFinanEncounter['PatientSeverity'], df_SevereMedDemoFinanEncounter['medicationClass'])\n",
    "print(contingency_table)\n",
    "contingency_table_df = contingency_table.reset_index()\n",
    "contingency_table_df.columns.name = None\n",
    "\n",
    "# Performing chi-square test\n",
    "chi2, p_value, dof, expected = chi2_contingency(contingency_table_df)\n",
    "\n",
    "# Printing the results\n",
    "\n",
    "paragraph = document.add_paragraph('Test if Patient severity and medication class  has a relationship ')\n",
    "paragraph.add_run('\\n')\n",
    "paragraph.add_run('We run chi  square test  ')\n",
    "doctable(contingency_table, \"Contingency Table_df\",['PatientSeverity','Biological','GLUCOCORTICOIDS'])\n",
    "print(contingency_table)\n",
    "paragraph.add_run(\"Chi-square statistic:\")\n",
    "paragraph.add_run(str(chi2))\n",
    "paragraph.add_run(\"P-value:\")\n",
    "paragraph.add_run(str(p_value))\n"
   ]
  },
  {
   "cell_type": "code",
   "execution_count": null,
   "metadata": {
    "tags": []
   },
   "outputs": [],
   "source": [
    "# Calculate total count\n",
    "total_count = np.sum(contingency_table)\n",
    "\n",
    "# Calculate percentage for each cell\n",
    "cell_percentages = (contingency_table / total_count) * 100\n",
    "\n",
    "\n",
    "print(\"Cell Percentages:\\n\", cell_percentages)\n"
   ]
  },
  {
   "cell_type": "code",
   "execution_count": null,
   "metadata": {
    "tags": []
   },
   "outputs": [],
   "source": [
    "# Create a contingency table\n",
    "contingency_table = pd.crosstab(df_SevereMedDemoFinanEncounter['PatientSeverity'], df_SevereMedDemoFinanEncounter['SevereMedicationClass'])\n",
    "\n",
    "# Perform the Chi-Squared Test\n",
    "chi2_statistic, p_value, dof, expected = stats.chi2_contingency(contingency_table)\n",
    "contingency_table_df = contingency_table.reset_index()\n",
    "contingency_table_df.columns.name = None\n",
    "\n",
    "\n",
    "\n",
    "paragraph = document.add_paragraph('Test if Patient severity and Severe medication class  has a relationship ')\n",
    "paragraph.add_run('\\n')\n",
    "paragraph.add_run('We run chi  square test  ')\n",
    "doctable(contingency_table, \"Contingency Table_df\",['PatientSeverity','Non-Severe Medication','Severe Medication'])\n",
    "paragraph.add_run(\"Chi-square statistic:\")\n",
    "paragraph.add_run(str(chi2))\n",
    "paragraph.add_run(\"P-value:\")\n",
    "paragraph.add_run(str(p_value))\n",
    "\n",
    "# Interpret the results\n",
    "if p_value < 0.05:\n",
    "    paragraph.add_run(\"\\nSignificant association between patient severity and Severe Medication Class.\")\n",
    "else:\n",
    "    paragraph.add_run(\"\\nNo significant association between patient severity and Severe Medication Class.\")"
   ]
  },
  {
   "cell_type": "code",
   "execution_count": null,
   "metadata": {
    "tags": []
   },
   "outputs": [],
   "source": [
    "# Create a contingency table\n",
    "contingency_table = pd.crosstab(df_SevereMedDemoFinanEncounter['PatientSeverity'], df_SevereMedDemoFinanEncounter['RACE'])\n",
    "\n",
    "# Perform the Chi-Squared Test\n",
    "chi2_statistic, p_value, dof, expected = stats.chi2_contingency(contingency_table)\n",
    "\n",
    "contingency_table_df = contingency_table.reset_index()\n",
    "contingency_table_df.columns.name = None\n",
    "\n",
    "\n",
    "paragraph = document.add_paragraph('Test if Patient severity and Ethnicity   has a relationship ')\n",
    "paragraph.add_run('\\n')\n",
    "paragraph.add_run('We run chi  square test  ')\n",
    "doctable(contingency_table_df, \"Contingency Table_df\",['index','PatientSeverity','*Unspecified', 'Decline to Answer','Hispanic or Latino or Spanish Origin','Not Hispanic, Latino/a, or Spanish origin', 'Unknown'])\n",
    "paragraph.add_run(\"Chi-square statistic:\")\n",
    "paragraph.add_run(str(chi2))\n",
    "paragraph.add_run(\"P-value:\")\n",
    "paragraph.add_run(str(p_value))\n",
    "paragraph.add_run(\"DOF:\")\n",
    "paragraph.add_run(str(dof))\n",
    "\n",
    "# Interpret the results\n",
    "if p_value < 0.05:\n",
    "    paragraph.add_run(\"\\nSignificant association between patient severity and Ethnicity\")\n",
    "else:\n",
    "    paragraph.add_run(\"\\nNo significant association between patient severity and Ethnicity\")"
   ]
  },
  {
   "cell_type": "code",
   "execution_count": null,
   "metadata": {
    "tags": []
   },
   "outputs": [],
   "source": [
    "# Calculate total count\n",
    "total_count = np.sum(contingency_table)\n",
    "\n",
    "# Calculate percentage for each cell\n",
    "cell_percentages = (contingency_table / total_count) * 100\n",
    "\n",
    "print(\"Cell Percentages:\\n\", cell_percentages)\n"
   ]
  },
  {
   "cell_type": "code",
   "execution_count": null,
   "metadata": {
    "tags": []
   },
   "outputs": [],
   "source": [
    "contingency_table_df.columns"
   ]
  },
  {
   "cell_type": "code",
   "execution_count": null,
   "metadata": {
    "tags": []
   },
   "outputs": [],
   "source": [
    "# Create a contingency table\n",
    "contingency_table = pd.crosstab(df_SevereMedDemoFinanEncounter['PatientSeverity'], df_SevereMedDemoFinanEncounter['INCOME_CATEGORY'])\n",
    "\n",
    "# Perform the Chi-Squared Test\n",
    "chi2_statistic, p_value, dof, expected = stats.chi2_contingency(contingency_table)\n",
    "\n",
    "contingency_table_df = contingency_table.reset_index()\n",
    "contingency_table_df.columns.name = None\n",
    "\n",
    "\n",
    "paragraph = document.add_paragraph('Test if Patient severity and Income category   has a relationship ')\n",
    "paragraph.add_run('\\n')\n",
    "paragraph.add_run('We run chi  square test  ')\n",
    "doctable(contingency_table_df, \"Contingency Table_df\",['index','PatientSeverity','Very low','High', 'Low', 'Median', 'Unknown','Very High'])\n",
    "paragraph.add_run(\"Chi-square statistic:\")\n",
    "paragraph.add_run(str(chi2))\n",
    "paragraph.add_run(\"P-value:\")\n",
    "paragraph.add_run(str(p_value))\n",
    "paragraph.add_run(\"DOF:\")\n",
    "paragraph.add_run(str(dof))\n",
    "\n",
    "# Interpret the results\n",
    "if p_value < 0.05:\n",
    "    paragraph.add_run(\"\\nSignificant association between patient severity and Income Category\")\n",
    "else:\n",
    "    paragraph.add_run(\"\\nNo significant association between patient severity and Income Category\")"
   ]
  },
  {
   "cell_type": "code",
   "execution_count": null,
   "metadata": {
    "tags": []
   },
   "outputs": [],
   "source": [
    "# Create a contingency table\n",
    "contingency_table = pd.crosstab(df_SevereMedDemoFinanEncounter['medicationClass'], df_SevereMedDemoFinanEncounter['INCOME_CATEGORY'])\n",
    "\n",
    "# Perform the Chi-Squared Test\n",
    "chi2_statistic, p_value, dof, expected = stats.chi2_contingency(contingency_table)\n",
    "contingency_table_df = contingency_table.reset_index()\n",
    "contingency_table_df.columns.name = None\n",
    "\n",
    "\n",
    "paragraph = document.add_paragraph('Test if Medication Class and Income category   has a relationship ')\n",
    "paragraph.add_run('\\n')\n",
    "paragraph.add_run('We run chi  square test  ')\n",
    "doctable(contingency_table_df, \"Contingency Table_df\",['index','Medication Class', ' Very Low', 'High', 'Low', 'Median', 'Unknown',\n",
    "       'Very High'])\n",
    "paragraph.add_run(\"\\nChi-square statistic:\")\n",
    "paragraph.add_run(str(chi2))\n",
    "paragraph.add_run(\"\\nP-value:\")\n",
    "paragraph.add_run(str(p_value))\n",
    "paragraph.add_run(\"\\nDegrees of Freedom:\")\n",
    "paragraph.add_run(str(dof))\n",
    "\n",
    "\n",
    "# Interpret the results\n",
    "if p_value < 0.05:\n",
    "    paragraph.add_run(\"\\nSignificant association between Medication Class and Income Category\")\n",
    "else:\n",
    "    paragraph.add_run(\"\\nNo significant association between Medication Class and Income Category\")"
   ]
  },
  {
   "cell_type": "code",
   "execution_count": null,
   "metadata": {
    "tags": []
   },
   "outputs": [],
   "source": [
    "contingency_table.columns"
   ]
  },
  {
   "cell_type": "code",
   "execution_count": null,
   "metadata": {
    "tags": []
   },
   "outputs": [],
   "source": [
    "# Calculate total count\n",
    "total_count = np.sum(contingency_table)\n",
    "\n",
    "# Calculate percentage for each cell\n",
    "cell_percentages = (contingency_table / total_count) * 100\n",
    "\n",
    "print(\"Cell Percentages:\\n\", cell_percentages)\n"
   ]
  },
  {
   "cell_type": "code",
   "execution_count": null,
   "metadata": {
    "tags": []
   },
   "outputs": [],
   "source": [
    "# Create a contingency table\n",
    "contingency_table = pd.crosstab(df_SevereMedDemoFinanEncounter['medicationClass'], df_SevereMedDemoFinanEncounter['HHSREGION'])\n",
    "\n",
    "# Perform the Chi-Squared Test\n",
    "chi2_statistic, p_value, dof, expected = stats.chi2_contingency(contingency_table)\n",
    "\n",
    "contingency_table_df = contingency_table.reset_index()\n",
    "contingency_table_df.columns.name = None\n",
    "\n",
    "\n",
    "paragraph = document.add_paragraph('Test if Medication Class and HHSREGION has a relationship ')\n",
    "paragraph.add_run('\\n')\n",
    "paragraph.add_run('We run chi  square test  ')\n",
    "doctable(contingency_table_df, \"Contingency Table_df\",['index','medicationClass','CENTRAL', 'EAST', 'NORTH CENTRAL', 'NORTH COASTAL', 'NORTH INLAND','SOUTH','UNKNOWN'])\n",
    "paragraph.add_run(\"\\nChi-square statistic:\")\n",
    "paragraph.add_run(str(chi2))\n",
    "paragraph.add_run(\"\\nP-value:\")\n",
    "paragraph.add_run(str(p_value))\n",
    "paragraph.add_run(\"\\nDegrees of Freedom:\")\n",
    "paragraph.add_run(str(dof))\n",
    "\n",
    "\n",
    "# Interpret the results\n",
    "if p_value < 0.05:\n",
    "    paragraph.add_run(\"\\nSignificant association between Medication Class and HHSREGION\")\n",
    "else:\n",
    "    paragraph.add_run(\"\\nNo significant association between Medication Class and HHSREGION\")"
   ]
  },
  {
   "cell_type": "code",
   "execution_count": null,
   "metadata": {
    "tags": []
   },
   "outputs": [],
   "source": [
    "# Create a contingency table\n",
    "contingency_table = pd.crosstab(df_SevereMedDemoFinanEncounter['medicationClass'], df_SevereMedDemoFinanEncounter['DEPTSPECIALTY'])\n",
    "\n",
    "# Perform the Chi-Squared Test\n",
    "chi2_statistic, p_value, dof, expected = stats.chi2_contingency(contingency_table)\n",
    "\n",
    "contingency_table_df = contingency_table.reset_index()\n",
    "contingency_table_df.columns.name = None\n",
    "\n",
    "\n",
    "paragraph = document.add_paragraph('Test if Medication Class and DEPTSPECIALTY has a relationship ')\n",
    "paragraph.add_run('\\n')\n",
    "paragraph.add_run('We run chi  square test  ')\n",
    "doctable(contingency_table_df, \"Contingency Table_df\",['index','medicationClass','Allergy and Immunology','Dermatology','Emergency Medicine','Family Medicine','Internal Medicine','Other','Pediatrics','Pulmonology','Sleep Medicine','Urgent Care'])\n",
    "paragraph.add_run(\"\\nChi-square statistic:\")\n",
    "paragraph.add_run(str(chi2))\n",
    "paragraph.add_run(\"\\nP-value:\")\n",
    "paragraph.add_run(str(p_value))\n",
    "paragraph.add_run(\"\\nDegrees of Freedom:\")\n",
    "paragraph.add_run(str(dof))\n",
    "\n",
    "\n",
    "# Interpret the results\n",
    "if p_value < 0.05:\n",
    "    paragraph.add_run(\"\\nSignificant association between Medication Class and DEPTSPECIALTY\")\n",
    "else:\n",
    "    paragraph.add_run(\"\\nNo significant association between Medication Class and DEPTSPECIALTY\")"
   ]
  },
  {
   "cell_type": "code",
   "execution_count": null,
   "metadata": {
    "tags": []
   },
   "outputs": [],
   "source": [
    "contingency_table_df"
   ]
  },
  {
   "cell_type": "code",
   "execution_count": null,
   "metadata": {
    "tags": []
   },
   "outputs": [],
   "source": [
    "# Group by 'PATIENTHASHMRN', 'DATE_DIF', and 'ICD10CODE'\n",
    "# We would like to group the procedures related to an individual diagnosis on a particular day\n",
    "#grouped = df_SevereMedDemoFinanEncounter.groupby(['PATIENTHASHMRN', 'DATE_DIF'])\n",
    "grouped = df_MedDemoFinanEncounter.groupby(['PATIENTHASHMRN', 'DATE_DIF'])\n",
    "\n",
    "# Aggregate procedure codes into a list for each diagnoses \n",
    "aggregated = grouped.agg(\n",
    "                         MedList =('MEDNAME',  lambda x: list(x)),\n",
    "                         MedCount=('MEDNAME', 'count')).reset_index()\n",
    "\n",
    "aggregated.columns = ['PATIENTHASHMRN', 'DATE_DIF', 'MedList', 'MedCount']\n",
    "\n",
    "#df_DIAGMED = pd.merge(df_SevereMedDemoFinanEncounter, aggregated, on=['PATIENTHASHMRN', 'DATE_DIF'], how='left')\n",
    "df_DIAGMED = pd.merge(df_MedDemoFinanEncounter, aggregated, on=['PATIENTHASHMRN', 'DATE_DIF'], how='left')\n",
    "\n",
    "# df_DIAGPROC now contains new columns with the list of procedure codes, Procedure names and Procedure types for each patient"
   ]
  },
  {
   "cell_type": "code",
   "execution_count": null,
   "metadata": {
    "tags": []
   },
   "outputs": [],
   "source": [
    "dd= df_MedDemoFinanEncounter[df_MedDemoFinanEncounter.DATE_DIF == 28007]\n"
   ]
  },
  {
   "cell_type": "code",
   "execution_count": null,
   "metadata": {
    "tags": []
   },
   "outputs": [],
   "source": [
    "dd.to_excel('review.xlsx')"
   ]
  },
  {
   "cell_type": "code",
   "execution_count": null,
   "metadata": {
    "tags": []
   },
   "outputs": [],
   "source": [
    "medCostData = pd.read_excel('CostTables/medicationCosts.xlsx')\n"
   ]
  },
  {
   "cell_type": "code",
   "execution_count": null,
   "metadata": {
    "tags": []
   },
   "outputs": [],
   "source": [
    "#medications = df_SevereMedDemoFinanEncounterFiltered.drop_duplicates(subset=['MEDNAME'])\n",
    "#medicationList = medications['MEDNAME']\n",
    "#medicationList.to_csv('medicationCosts.csv')"
   ]
  },
  {
   "cell_type": "code",
   "execution_count": null,
   "metadata": {
    "tags": []
   },
   "outputs": [],
   "source": [
    "medCostData['MEDNAME'] = medCostData['MEDNAME'].astype(str)\n",
    "MedCostDictionary = dict(zip(medCostData['MEDNAME'], medCostData['RetailCost']))\n"
   ]
  },
  {
   "cell_type": "code",
   "execution_count": null,
   "metadata": {
    "tags": []
   },
   "outputs": [],
   "source": [
    "df_DIAGMED.columns"
   ]
  },
  {
   "cell_type": "code",
   "execution_count": null,
   "metadata": {
    "tags": []
   },
   "outputs": [],
   "source": [
    "df_DIAGMED.columns"
   ]
  },
  {
   "cell_type": "code",
   "execution_count": null,
   "metadata": {
    "tags": []
   },
   "outputs": [],
   "source": [
    "import joypy \n",
    "\n",
    "# Function to calculate cost for each encounter\n",
    "def calculate_cost(medications):\n",
    "    return sum(MedCostDictionary[med] for med in medications if med in MedCostDictionary)\n",
    "\n",
    "# Apply the function to each row and create a new column\n",
    "df_DIAGMED['Cost'] = df_DIAGMED['MedList'].apply(calculate_cost)\n",
    "\n",
    "#Display the updated dataframe\n",
    "#print(df_DIAGMED)\n",
    "\n",
    "\n",
    "from scipy import stats\n",
    "# Group by ethnicity and aggregate procedure counts\n",
    "quartiles = df_DIAGMED.groupby('DEPTSPECIALTY')['Cost'].quantile([0.25, 0.5, 0.75]).unstack()\n",
    "mean = df_DIAGMED.groupby('DEPTSPECIALTY')['Cost'].mean()\n",
    "maximum = df_DIAGMED.groupby('DEPTSPECIALTY')['Cost'].max()\n",
    "\n",
    "count = df_DIAGMED['DEPTSPECIALTY'].value_counts()\n",
    "\n",
    "\n",
    "stats = pd.concat([quartiles, mean, maximum, count], axis=1)\n",
    "stats.columns = ['25th Quartile', 'Median', '75th Quartile', 'Mean', 'Maximum', 'Count']\n",
    "\n",
    "\n",
    "print(stats)\n",
    "\n",
    "doctable(stats,\"Medication Cost  Statistics for Each Speciality  in the Database\",['District','25th Quartile', 'Median', '75th Quartile', 'Mean', 'Maximum', 'Number of Patients'])\n",
    "\n",
    "\n",
    "grouped_data = df_DIAGMED.groupby('DEPTSPECIALTY')['Cost'].agg(['mean', 'median', 'sum', 'count', 'std'])\n",
    "\n",
    "# Visualization: Box Plot\n",
    "plt.figure(figsize=(10, 6))\n",
    "df_DIAGMED['LogCost'] = np.log1p(df_DIAGMED['Cost'])  # Use log1p to avoid log(0) issues\n",
    "sns.violinplot(x='DEPTSPECIALTY', y='LogCost', data = df_DIAGMED, palette='Blues')\n",
    "#sns.boxplot(x='DEPTSPECIALTY', y='LogCost', data=df_DIAGMED)\n",
    "#joypy.joyplot(df_DIAGMED, by='DEPTSPECIALTY', column='LogCost')\n",
    "\n",
    "#plt.title('Department Speciality versus Cost of Treatment')\n",
    "plt.xticks(rotation=45, ha='right')\n",
    "plt.savefig('temp.png', bbox_inches='tight')\n",
    "\n",
    "document.add_picture('temp.png', width=Inches(6))\n",
    "paragraph = document.add_paragraph(\"Figure XX:Department Speciality versus Estimated Cost of Treatment \")\n",
    "plt.show()\n",
    "\n",
    "print(grouped_data)\n",
    "\n"
   ]
  },
  {
   "cell_type": "code",
   "execution_count": null,
   "metadata": {
    "tags": []
   },
   "outputs": [],
   "source": []
  },
  {
   "cell_type": "code",
   "execution_count": null,
   "metadata": {
    "tags": []
   },
   "outputs": [],
   "source": [
    "# Create a violin plot\n",
    "plt.figure(figsize=(10, 6))\n",
    "sns.violinplot(x='DEPTSPECIALTY', y='LogCost', data=df_DIAGMED, inner=None, palette='muted')\n",
    "\n",
    "# Calculate and plot percentiles for each category\n",
    "categories = df_DIAGMED['DEPTSPECIALTY'].unique()\n",
    "for category in categories:\n",
    "    # Filter the data for the current category\n",
    "    data = df_DIAGMED.loc[df_DIAGMED['DEPTSPECIALTY'] == category, 'LogCost']\n",
    "    # Calculate the percentiles\n",
    "    p25, median, p75 = np.percentile(data, [25, 50, 75])\n",
    "    # Plot the percentiles on the violin plot\n",
    "    category_index = np.where(categories == category)[0][0]\n",
    "    plt.scatter([category_index] * 3, [p25, median, p75], color='black', s=50, marker='o', label='Percentiles' if category_index == 0 else \"\")\n",
    "\n",
    "# Add labels and legend\n",
    "#plt.title('Violin Plot with Percentile Indicators')\n",
    "plt.xlabel('Department Speciality')\n",
    "plt.ylabel('Log Cost')\n",
    "plt.legend(['25th, 50th, 75th Percentiles'])\n",
    "\n",
    "plt.savefig('temp.png', bbox_inches='tight')\n",
    "\n",
    "document.add_picture('temp.png', width=Inches(6))\n",
    "paragraph = document.add_paragraph(\"Figure XX:Medication Cost Department Speciality versus Estimated Cost of Treatment \")\n",
    "plt.show()\n"
   ]
  },
  {
   "cell_type": "code",
   "execution_count": null,
   "metadata": {
    "tags": []
   },
   "outputs": [],
   "source": [
    "import matplotlib.pyplot as plt\n",
    "import seaborn as sns\n",
    "import numpy as np\n",
    "from docx import Document\n",
    "from docx.shared import Inches\n",
    "from matplotlib.ticker import FuncFormatter\n",
    "\n",
    "\n",
    "# Initialize document\n",
    "document = Document()\n",
    "df_DIAGMED = df_DIAGMED[df_DIAGMED['Cost'] != 0]\n",
    "df_DIAGMED = df_DIAGMED[df_DIAGMED['DEPTSPECIALTY'] != 'Other']\n",
    "\n",
    "# Create a boxplot\n",
    "plt.figure(figsize=(7, 5))\n",
    "ax = sns.boxplot(\n",
    "    x='DEPTSPECIALTY',\n",
    "    y='Cost',\n",
    "    data=df_DIAGMED,\n",
    "    palette='muted',\n",
    "    showfliers=False  # Remove outlier points for clarity\n",
    ")\n",
    "\n",
    "# Set symlog scale for the y-axis\n",
    "all_costs = df_DIAGPROC_FINDEMOG_ENCFiltered['Cost']\n",
    "linthresh = np.percentile(all_costs, 90)  # Automatically determine the linthresh\n",
    "plt.yscale('symlog', linthresh=linthresh)\n",
    "\n",
    "# Force y-axis to start at zero\n",
    "plt.ylim(bottom=0)\n",
    "\n",
    "# Set y-axis ticks to integers\n",
    "ax.yaxis.set_major_formatter(FuncFormatter(lambda x, _: f'{int(x)}'))\n",
    "\n",
    "\n",
    "# Extract categories\n",
    "categories = df_DIAGMED['DEPTSPECIALTY'].unique()\n",
    "\n",
    "# Calculate medians (50th percentile) and Q3 (75th percentile) for each category\n",
    "medians = df_DIAGMED.groupby('DEPTSPECIALTY')['Cost'].median().reindex(categories).values\n",
    "q3_values = df_DIAGMED.groupby('DEPTSPECIALTY')['Cost'].quantile(0.75).reindex(categories).values\n",
    "\n",
    "# Debugging: Print medians and Q3\n",
    "print(\"Extracted Medians (50th Percentile):\", medians)\n",
    "print(\"Extracted Q3 (75th Percentiles):\", q3_values)\n",
    "\n",
    "# Calculate the relative costs based on the minimum median\n",
    "min_median = max(min(medians), 1e-3)  # Avoid division by zero\n",
    "relative_costs_median = [median / min_median for median in medians]\n",
    "relative_costs_q3 = [q3 / min_median for q3 in q3_values]\n",
    "\n",
    "# Debugging: Print relative costs\n",
    "print(\"Relative Costs (50th Percentile):\", relative_costs_median)\n",
    "print(\"Relative Costs (75th Percentile):\", relative_costs_q3)\n",
    "\n",
    "# Annotate each box with relative costs\n",
    "for i, (median, relative_cost_median, q3, relative_cost_q3) in enumerate(zip(medians, relative_costs_median, q3_values, relative_costs_q3)):\n",
    "    # Annotate the 50th percentile (median)\n",
    "    ax.text(\n",
    "        i, median,\n",
    "        f'50%: {relative_cost_median:.2f}x Min',\n",
    "        ha='center', va='bottom', fontsize=10, color='black'\n",
    "    )\n",
    "    # Annotate the 75th percentile (Q3)\n",
    "    ax.text(\n",
    "        i, q3,\n",
    "        f'75%: {relative_cost_q3:.2f}x Min',\n",
    "        ha='center', va='bottom', fontsize=10, color='blue'\n",
    "    )\n",
    "\n",
    "# Customize the plot\n",
    "#plt.title('Boxplot of LogCost by Department Specialty (Relative Cost of 50% and 75%)', fontsize=16)\n",
    "plt.xlabel('')\n",
    "plt.ylabel('Cost (SymLog Scale)', fontsize=12)\n",
    "plt.xticks(rotation=45, fontsize=12)\n",
    "plt.tick_params(axis='y', which='both', labelsize=12)\n",
    "#plt.yticks([])  # Removes the yticks\n",
    "\n",
    "# Add horizontal gridlines\n",
    "plt.grid(axis='y', linestyle='--', alpha=0.7)\n",
    "\n",
    "# Save the figure\n",
    "plt.tight_layout()\n",
    "plt.savefig('boxplot_relative_costs.png', dpi=300, bbox_inches='tight')\n",
    "\n",
    "# Add the plot to the Word document\n",
    "document.add_picture('boxplot_relative_costs.png', width=Inches(7))\n",
    "paragraph = document.add_paragraph(\"Figure XX: Boxplot of LogCost by Department Specialty with Relative Cost Annotations (50% and 75%).\")\n",
    "\n",
    "# Save the Word document\n",
    "document.save('Boxplot_Relative_Costs_Report.docx')\n",
    "\n",
    "plt.show()"
   ]
  },
  {
   "cell_type": "code",
   "execution_count": null,
   "metadata": {
    "tags": []
   },
   "outputs": [],
   "source": [
    "plt.figure(figsize=(10, 6))\n",
    "\n",
    "df_DIAGMED['Cost'] = df_DIAGMED['Cost'].clip(upper=df_DIAGMED['Cost'].quantile(0.95))  # Cap at the 95th percentile\n",
    "\n",
    "# Create the ridge plot\n",
    "joypy.joyplot(df_DIAGMED, by='DEPTSPECIALTY', column='Cost', figsize=(10, 6), colormap=plt.cm.Blues)\n",
    "\n",
    "# Limit the x-axis range to focus on a reasonable range of cost values\n",
    "# Customizing the plot\n",
    "plt.xticks(rotation=45, ha='right')\n",
    "plt.xlabel('Cost')\n",
    "plt.ylabel('Department Specialty')\n",
    "plt.title('Department Specialty versus Cost of Treatment')\n",
    "\n",
    "# Save and show\n",
    "plt.savefig('temp.png', bbox_inches='tight')\n",
    "plt.show()"
   ]
  },
  {
   "cell_type": "code",
   "execution_count": null,
   "metadata": {},
   "outputs": [],
   "source": [
    "document.save(\"Demographics.docx\")"
   ]
  },
  {
   "cell_type": "code",
   "execution_count": null,
   "metadata": {
    "tags": []
   },
   "outputs": [],
   "source": [
    "Counter(df_DIAGMED.PHARMACEUTICALCLASS)"
   ]
  },
  {
   "cell_type": "code",
   "execution_count": null,
   "metadata": {
    "tags": []
   },
   "outputs": [],
   "source": [
    "#CODE VERIFIED UP TO HERE"
   ]
  },
  {
   "cell_type": "code",
   "execution_count": null,
   "metadata": {
    "tags": []
   },
   "outputs": [],
   "source": [
    "df_DIAGMED.loc[df_DIAGMED['MEDNAME'].isin(BIOLOGICALS), 'PHARMACEUTICALCLASS'] = 'BIOLOGICAL'"
   ]
  },
  {
   "cell_type": "code",
   "execution_count": null,
   "metadata": {
    "tags": []
   },
   "outputs": [],
   "source": [
    "import matplotlib.pyplot as plt\n",
    "import seaborn as sns\n",
    "\n",
    "# Filter for PHARMACEUTICALCLASS values 'Biological' and 'Glucocorticoids'\n",
    "filtered_df = df_DIAGMED[df_DIAGMED['PHARMACEUTICALCLASS'].isin(['BIOLOGICAL', 'GLUCOCORTICOIDS'])]\n",
    "\n",
    "# Count the medications for each department specialty and pharmaceutical class\n",
    "counts = filtered_df.groupby(['DEPTSPECIALTY', 'PHARMACEUTICALCLASS']).size().reset_index(name='Count')\n",
    "\n",
    "# Calculate the total medications prescribed in each department specialty\n",
    "total_counts = counts.groupby('DEPTSPECIALTY')['Count'].transform('sum')\n",
    "\n",
    "# Calculate the percentage of medications prescribed for each class in each department specialty\n",
    "counts['Percentage'] = (counts['Count'] / total_counts) * 100\n",
    "\n",
    "# Pivot the table to make it easier for plotting\n",
    "pivot_counts = counts.pivot(index='DEPTSPECIALTY', columns='PHARMACEUTICALCLASS', values='Percentage').fillna(0)\n",
    "\n",
    "# Plot the data\n",
    "pivot_counts.plot(kind='bar', figsize=(12, 6), stacked=True, color=['#1f77b4', '#ff7f0e'])\n",
    "\n",
    "# Customize the plot\n",
    "plt.title('Percentage of Medications Prescribed by Pharmaceutical Class', fontsize=16)\n",
    "plt.xlabel('Department Specialty', fontsize=14)\n",
    "plt.ylabel('Percentage of Medications (%)', fontsize=14)\n",
    "plt.xticks(rotation=45, fontsize=12)\n",
    "plt.legend(title='Pharmaceutical Class', fontsize=12)\n",
    "plt.tight_layout()\n",
    "\n",
    "# Save and show the plot\n",
    "plt.savefig('percentage_medications_prescribed.png', dpi=300, bbox_inches='tight')\n",
    "plt.show()"
   ]
  },
  {
   "cell_type": "code",
   "execution_count": null,
   "metadata": {
    "tags": []
   },
   "outputs": [],
   "source": [
    "import matplotlib.pyplot as plt\n",
    "import seaborn as sns\n",
    "\n",
    "# Filter for PHARMACEUTICALCLASS values 'Biological' and 'Glucocorticoids'\n",
    "filtered_df = df_DIAGMED[df_DIAGMED['PHARMACEUTICALCLASS'].isin(['BIOLOGICAL', 'GLUCOCORTICOIDS'])]\n",
    "\n",
    "# Count the medications for each department specialty and pharmaceutical class\n",
    "counts = filtered_df.groupby(['DEPTSPECIALTY', 'PHARMACEUTICALCLASS']).size().reset_index(name='Count')\n",
    "\n",
    "# Calculate the total medications prescribed in each pharmaceutical class\n",
    "total_counts = counts.groupby('PHARMACEUTICALCLASS')['Count'].transform('sum')\n",
    "\n",
    "# Calculate the percentage of medications prescribed for each class in each department specialty\n",
    "counts['Percentage'] = (counts['Count'] / total_counts) * 100\n",
    "\n",
    "# Split the data for plotting and sort by percentage\n",
    "glucocorticoids_data = counts[counts['PHARMACEUTICALCLASS'] == 'GLUCOCORTICOIDS'].sort_values(by='Percentage', ascending=False)\n",
    "biologicals_data = counts[counts['PHARMACEUTICALCLASS'] == 'BIOLOGICAL'].sort_values(by='Percentage', ascending=False)\n",
    "\n",
    "# Plot percentage of Glucocorticoids prescribed\n",
    "plt.figure(figsize=(10, 6))\n",
    "ax = sns.barplot(x='DEPTSPECIALTY', y='Percentage', data=glucocorticoids_data, palette='Blues_d')\n",
    "\n",
    "# Add data labels\n",
    "for p in ax.patches:\n",
    "    ax.annotate(f'{p.get_height():.1f}%', \n",
    "                (p.get_x() + p.get_width() / 2., p.get_height()), \n",
    "                ha='center', va='bottom', fontsize=10)\n",
    "\n",
    "plt.title('Percentage of Glucocorticoids Prescribed by Department Specialty', fontsize=16)\n",
    "plt.xlabel('Department Specialty', fontsize=14)\n",
    "plt.ylabel('Percentage of Medications (%)', fontsize=14)\n",
    "plt.xticks(rotation=45, fontsize=12)\n",
    "plt.tight_layout()\n",
    "plt.savefig('glucocorticoids_percentage.png', dpi=300)\n",
    "plt.show()\n",
    "\n",
    "# Plot percentage of Biologicals prescribed\n",
    "plt.figure(figsize=(10, 6))\n",
    "ax = sns.barplot(x='DEPTSPECIALTY', y='Percentage', data=biologicals_data, palette='Oranges_d')\n",
    "\n",
    "# Add data labels\n",
    "for p in ax.patches:\n",
    "    ax.annotate(f'{p.get_height():.1f}%', \n",
    "                (p.get_x() + p.get_width() / 2., p.get_height()), \n",
    "                ha='center', va='bottom', fontsize=10)\n",
    "\n",
    "plt.title('Percentage of Biologicals Prescribed by Department Specialty', fontsize=16)\n",
    "plt.xlabel('Department Specialty', fontsize=14)\n",
    "plt.ylabel('Percentage of Medications (%)', fontsize=14)\n",
    "plt.xticks(rotation=45, fontsize=12)\n",
    "plt.tight_layout()\n",
    "plt.savefig('biologicals_percentage.png', dpi=300)\n",
    "plt.show()"
   ]
  },
  {
   "cell_type": "code",
   "execution_count": null,
   "metadata": {
    "tags": []
   },
   "outputs": [],
   "source": [
    "total_counts"
   ]
  },
  {
   "cell_type": "code",
   "execution_count": null,
   "metadata": {
    "tags": []
   },
   "outputs": [],
   "source": [
    "import matplotlib.pyplot as plt\n",
    "import numpy as np\n",
    "import pandas as pd\n",
    "\n",
    "# Filter for PHARMACEUTICALCLASS values 'Biological' and 'Glucocorticoids'\n",
    "filtered_df = df_DIAGMED[df_DIAGMED['PHARMACEUTICALCLASS'].isin(['BIOLOGICAL', 'GLUCOCORTICOIDS'])]\n",
    "\n",
    "# Count the medications for each department specialty and pharmaceutical class\n",
    "counts = filtered_df.groupby(['DEPTSPECIALTY', 'PHARMACEUTICALCLASS']).size().reset_index(name='Count')\n",
    "\n",
    "# Calculate the total medications prescribed in each pharmaceutical class\n",
    "total_counts = counts.groupby('PHARMACEUTICALCLASS')['Count'].transform('sum')\n",
    "\n",
    "# Calculate the percentage of medications prescribed for each class in each department specialty\n",
    "counts['Percentage'] = (counts['Count'] / total_counts) * 100\n",
    "\n",
    "# Pivot the data to align percentages for side-by-side plotting\n",
    "pivot_data = counts.pivot(index='DEPTSPECIALTY', columns='PHARMACEUTICALCLASS', values='Percentage').fillna(0)\n",
    "\n",
    "# Ensure categories are sorted consistently\n",
    "pivot_data = pivot_data.sort_index()\n",
    "\n",
    "# Create the plot\n",
    "categories = pivot_data.index\n",
    "x = np.arange(len(categories))  # X-axis positions for the bars\n",
    "width = 0.35  # Width of the bars\n",
    "\n",
    "fig, ax1 = plt.subplots(figsize=(14, 8))\n",
    "\n",
    "# Bars for Glucocorticoids on the first axis\n",
    "bars1 = ax1.bar(x - width/2, pivot_data['GLUCOCORTICOIDS'], width, label='Glucocorticoids', color='green', alpha=0.7)\n",
    "#ax1.set_xlabel('Department Specialty', fontsize=14)\n",
    "ax1.set_xlabel('')\n",
    "ax1.set_ylabel('Percentage of Glucocorticoids Prescriptions (%)', fontsize=14, color='green')\n",
    "ax1.tick_params(axis='y', labelcolor='green')\n",
    "ax1.set_xticks(x)\n",
    "ax1.set_xticklabels(categories, rotation=45, ha='right', fontsize=12)\n",
    "\n",
    "# Create the second axis\n",
    "ax2 = ax1.twinx()\n",
    "\n",
    "# Bars for Biologicals on the second axis\n",
    "bars2 = ax2.bar(x + width/2, pivot_data['BIOLOGICAL'], width, label='Biologicals', color='blue', alpha=0.7)\n",
    "ax2.set_ylabel('Percentage of Biological Prescriptions (%)', fontsize=14, color='blue')\n",
    "ax2.tick_params(axis='y', labelcolor='blue')\n",
    "\n",
    "# Add legends for both axes\n",
    "#ax1.legend(loc='upper left', fontsize=12)\n",
    "#ax2.legend(loc='upper right', fontsize=12)\n",
    "\n",
    "# Add data labels to Glucocorticoids bars\n",
    "for bar in bars1:\n",
    "    ax1.text(bar.get_x() + bar.get_width()/2, bar.get_height() + 0.5, \n",
    "             f'{bar.get_height():.1f}%', ha='center', va='bottom', fontsize=10, color='green')\n",
    "\n",
    "# Add data labels to Biologicals bars\n",
    "for bar in bars2:\n",
    "    ax2.text(bar.get_x() + bar.get_width()/2, bar.get_height() + 0.5, \n",
    "             f'{bar.get_height():.1f}%', ha='center', va='bottom', fontsize=10, color='blue')\n",
    "\n",
    "# Add title\n",
    "#plt.title('Percentage of Glucocorticoids and Biologicals Prescribed by Department Specialty', fontsize=16)\n",
    "\n",
    "# Adjust layout and save\n",
    "plt.tight_layout()\n",
    "plt.savefig('separate_axes_glucocorticoids_biologicals.png', dpi=300)\n",
    "plt.show()"
   ]
  },
  {
   "cell_type": "code",
   "execution_count": null,
   "metadata": {},
   "outputs": [],
   "source": []
  },
  {
   "cell_type": "code",
   "execution_count": null,
   "metadata": {},
   "outputs": [],
   "source": []
  }
 ],
 "metadata": {
  "kernelspec": {
   "display_name": "base",
   "language": "python",
   "name": "python3"
  },
  "language_info": {
   "codemirror_mode": {
    "name": "ipython",
    "version": 3
   },
   "file_extension": ".py",
   "mimetype": "text/x-python",
   "name": "python",
   "nbconvert_exporter": "python",
   "pygments_lexer": "ipython3",
   "version": "3.11.8"
  }
 },
 "nbformat": 4,
 "nbformat_minor": 4
}
