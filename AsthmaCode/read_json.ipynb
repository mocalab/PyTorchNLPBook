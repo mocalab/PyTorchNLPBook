{
 "cells": [
  {
   "cell_type": "code",
   "execution_count": 6,
   "metadata": {},
   "outputs": [],
   "source": [
    "import pandas as pd\n",
    "import json\n",
    "from collections import Counter\n"
   ]
  },
  {
   "cell_type": "code",
   "execution_count": 4,
   "metadata": {},
   "outputs": [
    {
     "data": {
      "text/plain": [
       "'----- Message from <DOCTOR>, MD sent at <DATE>  7:35 AM PDT -----  Let patient know x-ray showed just age related disc changes.,Continue with Lyrica .'"
      ]
     },
     "execution_count": 4,
     "metadata": {},
     "output_type": "execute_result"
    }
   ],
   "source": [
    "DataFolder=\"../\"\n",
    "File_Name='NOTETEXTDEID_CLEAN.json'\n",
    "\n",
    "location=DataFolder+File_Name\n",
    "\n",
    "with open(location, encoding='utf-8-sig') as f:\n",
    "    data = f.readlines()\n",
    "df_TEXT = pd.DataFrame([json.loads(line) for line in data])\n",
    "df_TEXT.iloc[0]['DEIDENTIFIED_TEXT']"
   ]
  },
  {
   "cell_type": "code",
   "execution_count": 9,
   "metadata": {},
   "outputs": [
    {
     "name": "stdout",
     "output_type": "stream",
     "text": [
      "Number of patient with EHR\n"
     ]
    },
    {
     "data": {
      "text/plain": [
       "25037"
      ]
     },
     "execution_count": 9,
     "metadata": {},
     "output_type": "execute_result"
    }
   ],
   "source": [
    "print('Number of patient with EHR')\n",
    "len(Counter(set(df_TEXT['PATIENTHASHMRN'])))"
   ]
  },
  {
   "cell_type": "code",
   "execution_count": 10,
   "metadata": {},
   "outputs": [
    {
     "data": {
      "text/plain": [
       "499715"
      ]
     },
     "execution_count": 10,
     "metadata": {},
     "output_type": "execute_result"
    }
   ],
   "source": [
    "print('Number of EHR')\n",
    "len(df_TEXT)\n"
   ]
  },
  {
   "cell_type": "code",
   "execution_count": 11,
   "metadata": {},
   "outputs": [
    {
     "data": {
      "text/html": [
       "<div>\n",
       "<style scoped>\n",
       "    .dataframe tbody tr th:only-of-type {\n",
       "        vertical-align: middle;\n",
       "    }\n",
       "\n",
       "    .dataframe tbody tr th {\n",
       "        vertical-align: top;\n",
       "    }\n",
       "\n",
       "    .dataframe thead th {\n",
       "        text-align: right;\n",
       "    }\n",
       "</style>\n",
       "<table border=\"1\" class=\"dataframe\">\n",
       "  <thead>\n",
       "    <tr style=\"text-align: right;\">\n",
       "      <th></th>\n",
       "      <th>PATIENTHASHMRN</th>\n",
       "      <th>ENCOUNTERHASHKEY</th>\n",
       "      <th>ENCDATEDIFFNO</th>\n",
       "      <th>NOTE_KEY</th>\n",
       "      <th>DEIDENTIFIED_TEXT</th>\n",
       "    </tr>\n",
       "  </thead>\n",
       "  <tbody>\n",
       "    <tr>\n",
       "      <th>219</th>\n",
       "      <td>86a8209f6dec4ae1e6b2e4daf6e28800f0a844b6793435...</td>\n",
       "      <td>09157b0d7bee72dfa8e0bd21ac87d54a73123274f3f2c3...</td>\n",
       "      <td>27539.0</td>\n",
       "      <td>28535493</td>\n",
       "      <td>This &lt;AGE&gt;-year-old girl was seen back in the ...</td>\n",
       "    </tr>\n",
       "    <tr>\n",
       "      <th>654</th>\n",
       "      <td>4689e4ee61b1c0216f04ab63940975a3fbea3090d8e7e1...</td>\n",
       "      <td>d5b61b5c17deca61e7ffe393f4b594c8a5778fdb0712af...</td>\n",
       "      <td>26942.0</td>\n",
       "      <td>12238007</td>\n",
       "      <td>DESCRIPTION: &lt;PATIENT&gt; - Progress note    SUBJ...</td>\n",
       "    </tr>\n",
       "    <tr>\n",
       "      <th>913</th>\n",
       "      <td>22bf8cde371603a6121b16ee936fa0a907e2b55f7003f7...</td>\n",
       "      <td>d4c4de3560ad1163f5595e6e7e57227eb4ac6470e28225...</td>\n",
       "      <td>27108.0</td>\n",
       "      <td>5310669</td>\n",
       "      <td>ALLERGY OFFICE VISIT (Sinus / Allergy / Asthma...</td>\n",
       "    </tr>\n",
       "    <tr>\n",
       "      <th>975</th>\n",
       "      <td>9cf4d8c3cb50d7254212da32300cfe53030cb4f2fdde7b...</td>\n",
       "      <td>b84396be506de780d936a477ae6f7353ce978dba2c5668...</td>\n",
       "      <td>27209.0</td>\n",
       "      <td>2435428</td>\n",
       "      <td>PULMONOLOGY FOLLOW-UP NOTE    This patient was...</td>\n",
       "    </tr>\n",
       "    <tr>\n",
       "      <th>1083</th>\n",
       "      <td>0c58577eda1a23f6b910d744b7e53fa5fb5bff5e3d618a...</td>\n",
       "      <td>e2c3a727ad98a82e6a0b6b4b7c62a923cab518ef7b2556...</td>\n",
       "      <td>27425.0</td>\n",
       "      <td>19581937</td>\n",
       "      <td>PULMONARY CONSULTATION - &lt;LOCATION&gt;    Request...</td>\n",
       "    </tr>\n",
       "    <tr>\n",
       "      <th>...</th>\n",
       "      <td>...</td>\n",
       "      <td>...</td>\n",
       "      <td>...</td>\n",
       "      <td>...</td>\n",
       "      <td>...</td>\n",
       "    </tr>\n",
       "    <tr>\n",
       "      <th>499244</th>\n",
       "      <td>3bcb422063627ebbf9ad85992356a193e2d7b2f0c66614...</td>\n",
       "      <td>6ff6e5ce38deb9bb1e732e24a09dcaf335f3d29675875d...</td>\n",
       "      <td>27340.0</td>\n",
       "      <td>25114835</td>\n",
       "      <td>Subjective     Chief Complaint(s)  Follow-up  ...</td>\n",
       "    </tr>\n",
       "    <tr>\n",
       "      <th>499261</th>\n",
       "      <td>4d7e8dd7a8caa9edf55ebeab67dcd3202bbf3e251ead57...</td>\n",
       "      <td>db7f52680c634fbcfad90e7bb49d2e690f2a9271df5c96...</td>\n",
       "      <td>27392.0</td>\n",
       "      <td>18828815</td>\n",
       "      <td>PULMONOLOGY FOLLOW-UP NOTE    This patient was...</td>\n",
       "    </tr>\n",
       "    <tr>\n",
       "      <th>499264</th>\n",
       "      <td>210a70320daef82f300a2fbff8c7d7f28cb2f1905c1304...</td>\n",
       "      <td>635a564d081629090ff86198c848781fb203a0c8ac0c6e...</td>\n",
       "      <td>27048.0</td>\n",
       "      <td>12208963</td>\n",
       "      <td>OUTPATIENT CARDIOLOGY PROGRESS NOTE       Subj...</td>\n",
       "    </tr>\n",
       "    <tr>\n",
       "      <th>499390</th>\n",
       "      <td>a711c78a182a7101108c456dea3efa33b91349786a7730...</td>\n",
       "      <td>2022505492577124d44ee6e677cdc816eb0d41de083f6c...</td>\n",
       "      <td>27074.0</td>\n",
       "      <td>7049706</td>\n",
       "      <td>Subjective     Reason for Visit  Advice Only  ...</td>\n",
       "    </tr>\n",
       "    <tr>\n",
       "      <th>499584</th>\n",
       "      <td>da02cfd3b5ec2fa6c31ec6d9435586385529665c4efeb6...</td>\n",
       "      <td>94918327720ca28e9f82158f4dac36599416d62eeb106d...</td>\n",
       "      <td>27300.0</td>\n",
       "      <td>27002127</td>\n",
       "      <td>&lt;DATE&gt; 4:26 PM  &lt;PATIENT&gt;   &lt;MEDICALRECORD&gt;   ...</td>\n",
       "    </tr>\n",
       "  </tbody>\n",
       "</table>\n",
       "<p>3936 rows × 5 columns</p>\n",
       "</div>"
      ],
      "text/plain": [
       "                                           PATIENTHASHMRN  \\\n",
       "219     86a8209f6dec4ae1e6b2e4daf6e28800f0a844b6793435...   \n",
       "654     4689e4ee61b1c0216f04ab63940975a3fbea3090d8e7e1...   \n",
       "913     22bf8cde371603a6121b16ee936fa0a907e2b55f7003f7...   \n",
       "975     9cf4d8c3cb50d7254212da32300cfe53030cb4f2fdde7b...   \n",
       "1083    0c58577eda1a23f6b910d744b7e53fa5fb5bff5e3d618a...   \n",
       "...                                                   ...   \n",
       "499244  3bcb422063627ebbf9ad85992356a193e2d7b2f0c66614...   \n",
       "499261  4d7e8dd7a8caa9edf55ebeab67dcd3202bbf3e251ead57...   \n",
       "499264  210a70320daef82f300a2fbff8c7d7f28cb2f1905c1304...   \n",
       "499390  a711c78a182a7101108c456dea3efa33b91349786a7730...   \n",
       "499584  da02cfd3b5ec2fa6c31ec6d9435586385529665c4efeb6...   \n",
       "\n",
       "                                         ENCOUNTERHASHKEY  ENCDATEDIFFNO  \\\n",
       "219     09157b0d7bee72dfa8e0bd21ac87d54a73123274f3f2c3...        27539.0   \n",
       "654     d5b61b5c17deca61e7ffe393f4b594c8a5778fdb0712af...        26942.0   \n",
       "913     d4c4de3560ad1163f5595e6e7e57227eb4ac6470e28225...        27108.0   \n",
       "975     b84396be506de780d936a477ae6f7353ce978dba2c5668...        27209.0   \n",
       "1083    e2c3a727ad98a82e6a0b6b4b7c62a923cab518ef7b2556...        27425.0   \n",
       "...                                                   ...            ...   \n",
       "499244  6ff6e5ce38deb9bb1e732e24a09dcaf335f3d29675875d...        27340.0   \n",
       "499261  db7f52680c634fbcfad90e7bb49d2e690f2a9271df5c96...        27392.0   \n",
       "499264  635a564d081629090ff86198c848781fb203a0c8ac0c6e...        27048.0   \n",
       "499390  2022505492577124d44ee6e677cdc816eb0d41de083f6c...        27074.0   \n",
       "499584  94918327720ca28e9f82158f4dac36599416d62eeb106d...        27300.0   \n",
       "\n",
       "        NOTE_KEY                                  DEIDENTIFIED_TEXT  \n",
       "219     28535493  This <AGE>-year-old girl was seen back in the ...  \n",
       "654     12238007  DESCRIPTION: <PATIENT> - Progress note    SUBJ...  \n",
       "913      5310669  ALLERGY OFFICE VISIT (Sinus / Allergy / Asthma...  \n",
       "975      2435428  PULMONOLOGY FOLLOW-UP NOTE    This patient was...  \n",
       "1083    19581937  PULMONARY CONSULTATION - <LOCATION>    Request...  \n",
       "...          ...                                                ...  \n",
       "499244  25114835  Subjective     Chief Complaint(s)  Follow-up  ...  \n",
       "499261  18828815  PULMONOLOGY FOLLOW-UP NOTE    This patient was...  \n",
       "499264  12208963  OUTPATIENT CARDIOLOGY PROGRESS NOTE       Subj...  \n",
       "499390   7049706  Subjective     Reason for Visit  Advice Only  ...  \n",
       "499584  27002127  <DATE> 4:26 PM  <PATIENT>   <MEDICALRECORD>   ...  \n",
       "\n",
       "[3936 rows x 5 columns]"
      ]
     },
     "execution_count": 11,
     "metadata": {},
     "output_type": "execute_result"
    }
   ],
   "source": [
    "df_TEXT[df_TEXT['DEIDENTIFIED_TEXT'].str.contains(\"FEV\")]"
   ]
  },
  {
   "cell_type": "code",
   "execution_count": 14,
   "metadata": {},
   "outputs": [
    {
     "data": {
      "text/plain": [
       "2306"
      ]
     },
     "execution_count": 14,
     "metadata": {},
     "output_type": "execute_result"
    }
   ],
   "source": [
    "len(Counter(set(df_TEXT[df_TEXT['DEIDENTIFIED_TEXT'].str.contains(\"FEV\")]['PATIENTHASHMRN'])))"
   ]
  },
  {
   "cell_type": "code",
   "execution_count": null,
   "metadata": {},
   "outputs": [],
   "source": [
    "print('From 2306 , 1588 of them already has the FEV values')"
   ]
  },
  {
   "cell_type": "code",
   "execution_count": 16,
   "metadata": {},
   "outputs": [],
   "source": [
    "df_TEXT['PATIENTHASHMRN'].drop_duplicates().to_csv('patient_fev_included.csv')"
   ]
  },
  {
   "cell_type": "code",
   "execution_count": 19,
   "metadata": {},
   "outputs": [
    {
     "data": {
      "text/plain": [
       "219           [99, 112 %, FEV1 2., 58, 104 %, FEV1/FVC 0.]\n",
       "654      [,TESTING:    FENO Results  Results for orders...\n",
       "913                                          [,FEV1 is 2.]\n",
       "975      [9 <DATE>    CL 103 <DATE>    BUN 11 <DATE>   ...\n",
       "1083                           [,FEV1 =2., ,FEV1/FVC = 0.]\n",
       "                               ...                        \n",
       "12338    [,FEV1 is 1., ,FEV1 is diminished from previou...\n",
       "12494             [,FEV1 is reduced as is FEV1/FVC ratio.]\n",
       "12648    [,Spirometry:,The FEV1/FVC ratio is 0., ,The F...\n",
       "12673    [92 112  FEV1 Liters 2., 93 107  FEV1/FVC % 79...\n",
       "12771    [(Pre-FEV1 82% predicted, post FEV1 97% predic...\n",
       "Name: DEIDENTIFIED_TEXT, Length: 100, dtype: object"
      ]
     },
     "execution_count": 19,
     "metadata": {},
     "output_type": "execute_result"
    }
   ],
   "source": [
    "def extract_fev_sentences(text):\n",
    "    # Split the text into sentences\n",
    "    sentences = text.split('.')\n",
    "    # Filter sentences that contain 'FEV'\n",
    "    return [sentence.strip() + '.' for sentence in sentences if 'FEV' in sentence]\n",
    "\n",
    "# Apply the function to each row in the DataFrame's 'text' column\n",
    "df_TEXT[df_TEXT['DEIDENTIFIED_TEXT'].str.contains(\"FEV\")]['DEIDENTIFIED_TEXT'].apply(extract_fev_sentences).head(100)"
   ]
  },
  {
   "cell_type": "code",
   "execution_count": null,
   "metadata": {},
   "outputs": [],
   "source": []
  }
 ],
 "metadata": {
  "kernelspec": {
   "display_name": "Python 3 (ipykernel)",
   "language": "python",
   "name": "python3"
  },
  "language_info": {
   "codemirror_mode": {
    "name": "ipython",
    "version": 3
   },
   "file_extension": ".py",
   "mimetype": "text/x-python",
   "name": "python",
   "nbconvert_exporter": "python",
   "pygments_lexer": "ipython3",
   "version": "3.11.8"
  }
 },
 "nbformat": 4,
 "nbformat_minor": 4
}
